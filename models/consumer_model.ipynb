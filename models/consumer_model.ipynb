{
 "cells": [
  {
   "cell_type": "code",
   "execution_count": 4,
   "metadata": {},
   "outputs": [],
   "source": [
    "from pyspark.sql import functions as F, SparkSession"
   ]
  },
  {
   "cell_type": "code",
   "execution_count": 5,
   "metadata": {},
   "outputs": [],
   "source": [
    "# Create a Spark Session\n",
    "spark = (\n",
    "    SparkSession.builder.appName(\"consumer model\")\n",
    "    .config(\"spark.sql.repl.eagerEval.enabled\", True)\n",
    "    .config(\"spark.sql.parquet.cacheMetadata\", \"true\")\n",
    "    .config(\"spark.sql.session.timeZone\", \"Etc/UTC\")\n",
    "    .config(\"spark.driver.memory\", \"4g\")\n",
    "    .config(\"spark.execturo.memory\", \"2g\")\n",
    "    .getOrCreate()\n",
    ")"
   ]
  },
  {
   "cell_type": "code",
   "execution_count": 6,
   "metadata": {},
   "outputs": [],
   "source": [
    "consumer_info = spark.read.parquet('../data/curated/consumer_info.parquet')\n",
    "transaction_records = spark.read.parquet('../data/curated/transaction_records.parquet')\n",
    "fraudulent_consumer_rate = spark.read.parquet('../data/curated/consumer_fraud_rate.parquet')"
   ]
  },
  {
   "cell_type": "code",
   "execution_count": 7,
   "metadata": {},
   "outputs": [],
   "source": [
    "consumer_transaction_records = transaction_records.join(consumer_info, on=\"consumer_id\", how=\"inner\")"
   ]
  },
  {
   "cell_type": "code",
   "execution_count": 20,
   "metadata": {},
   "outputs": [
    {
     "data": {
      "text/plain": [
       "34864"
      ]
     },
     "execution_count": 20,
     "metadata": {},
     "output_type": "execute_result"
    }
   ],
   "source": [
    "fraudulent_consumer_rate.count()"
   ]
  },
  {
   "cell_type": "code",
   "execution_count": 8,
   "metadata": {},
   "outputs": [
    {
     "name": "stderr",
     "output_type": "stream",
     "text": [
      "                                                                                \r"
     ]
    },
    {
     "data": {
      "text/plain": [
       "80560"
      ]
     },
     "execution_count": 8,
     "metadata": {},
     "output_type": "execute_result"
    }
   ],
   "source": [
    "consumer_transaction_records.join(fraudulent_consumer_rate, on=['consumer_id', 'order_datetime'], how='inner').count()"
   ]
  },
  {
   "cell_type": "code",
   "execution_count": 27,
   "metadata": {},
   "outputs": [
    {
     "data": {
      "text/html": [
       "<table border='1'>\n",
       "<tr><th>consumer_id</th><th>order_datetime</th><th>merchant_abn</th><th>dollar_value</th><th>order_id</th><th>name</th><th>gender</th><th>state</th><th>postcode</th><th>fraud_probability</th></tr>\n",
       "<tr><td>838663</td><td>2021-11-26</td><td>43725628716</td><td>2684.361417897887</td><td>52133cb6-4950-44c...</td><td>Adam Velazquez</td><td>Male</td><td>NSW</td><td>2403</td><td>9.241197906604826</td></tr>\n",
       "<tr><td>838663</td><td>2021-11-26</td><td>45629217853</td><td>0.19607762574988435</td><td>e5b1880d-fb88-4fd...</td><td>Adam Velazquez</td><td>Male</td><td>NSW</td><td>2403</td><td>9.241197906604826</td></tr>\n",
       "<tr><td>838663</td><td>2021-11-26</td><td>73499119023</td><td>9.260984119033456</td><td>a576a634-dcd0-445...</td><td>Adam Velazquez</td><td>Male</td><td>NSW</td><td>2403</td><td>9.241197906604826</td></tr>\n",
       "<tr><td>640907</td><td>2021-11-26</td><td>30623214058</td><td>111.91165017514544</td><td>362fc544-e9c0-449...</td><td>Terry Martin</td><td>Male</td><td>SA</td><td>5168</td><td>15.645332445256162</td></tr>\n",
       "<tr><td>640907</td><td>2021-11-26</td><td>79417999332</td><td>54.89560911946132</td><td>3c246238-a15f-429...</td><td>Terry Martin</td><td>Male</td><td>SA</td><td>5168</td><td>15.645332445256162</td></tr>\n",
       "<tr><td>640907</td><td>2021-11-26</td><td>18305506006</td><td>5.198633525613379</td><td>e4cb215d-26d8-4e4...</td><td>Terry Martin</td><td>Male</td><td>SA</td><td>5168</td><td>15.645332445256162</td></tr>\n",
       "<tr><td>640907</td><td>2021-11-26</td><td>96244711717</td><td>52.48791119040359</td><td>3a3c80b1-be38-447...</td><td>Terry Martin</td><td>Male</td><td>SA</td><td>5168</td><td>15.645332445256162</td></tr>\n",
       "<tr><td>640907</td><td>2021-11-26</td><td>34967436738</td><td>4298.699244530939</td><td>2630e79b-6148-4b3...</td><td>Terry Martin</td><td>Male</td><td>SA</td><td>5168</td><td>15.645332445256162</td></tr>\n",
       "<tr><td>640907</td><td>2021-11-26</td><td>16248082282</td><td>361.5545523024534</td><td>8f448a5a-fe7c-4fc...</td><td>Terry Martin</td><td>Male</td><td>SA</td><td>5168</td><td>15.645332445256162</td></tr>\n",
       "<tr><td>192322</td><td>2021-11-26</td><td>45629217853</td><td>26.34821606933028</td><td>99c767d9-811b-4cd...</td><td>Aaron Hall</td><td>Male</td><td>WA</td><td>6396</td><td>19.10895425125948</td></tr>\n",
       "<tr><td>192322</td><td>2021-11-26</td><td>38990495653</td><td>5960.306286114107</td><td>eff74b08-7f2f-41c...</td><td>Aaron Hall</td><td>Male</td><td>WA</td><td>6396</td><td>19.10895425125948</td></tr>\n",
       "<tr><td>214615</td><td>2021-11-26</td><td>11700214701</td><td>354.2264428514822</td><td>ced22d23-2f2b-42d...</td><td>Andrea Knox</td><td>Female</td><td>NSW</td><td>2515</td><td>9.309242301116614</td></tr>\n",
       "<tr><td>214615</td><td>2021-11-26</td><td>88547577701</td><td>32.76331477370289</td><td>e41be48f-9920-405...</td><td>Andrea Knox</td><td>Female</td><td>NSW</td><td>2515</td><td>9.309242301116614</td></tr>\n",
       "<tr><td>214615</td><td>2021-11-26</td><td>10323485998</td><td>101.25605126975574</td><td>f4e45d92-4357-445...</td><td>Andrea Knox</td><td>Female</td><td>NSW</td><td>2515</td><td>9.309242301116614</td></tr>\n",
       "<tr><td>214615</td><td>2021-11-26</td><td>85529538986</td><td>1719.4873064332699</td><td>b86e5a05-0a88-479...</td><td>Andrea Knox</td><td>Female</td><td>NSW</td><td>2515</td><td>9.309242301116614</td></tr>\n",
       "<tr><td>214615</td><td>2021-11-26</td><td>45629217853</td><td>0.8839469293275726</td><td>b0e69ae0-549b-444...</td><td>Andrea Knox</td><td>Female</td><td>NSW</td><td>2515</td><td>9.309242301116614</td></tr>\n",
       "<tr><td>1469998</td><td>2021-11-26</td><td>45362042297</td><td>127.55401710542766</td><td>57e20b2a-89ef-425...</td><td>Jamie Short</td><td>Male</td><td>WA</td><td>6067</td><td>11.315097596768855</td></tr>\n",
       "<tr><td>1469998</td><td>2021-11-26</td><td>37720067731</td><td>2018.7029598464032</td><td>d4310f49-d4c2-4ef...</td><td>Jamie Short</td><td>Male</td><td>WA</td><td>6067</td><td>11.315097596768855</td></tr>\n",
       "<tr><td>1469998</td><td>2021-11-26</td><td>17758483290</td><td>963.4256668981897</td><td>61728245-adbc-4b2...</td><td>Jamie Short</td><td>Male</td><td>WA</td><td>6067</td><td>11.315097596768855</td></tr>\n",
       "<tr><td>1469998</td><td>2021-11-26</td><td>86578477987</td><td>4.466850171007081</td><td>00a80091-7b30-4d4...</td><td>Jamie Short</td><td>Male</td><td>WA</td><td>6067</td><td>11.315097596768855</td></tr>\n",
       "</table>\n",
       "only showing top 20 rows\n"
      ],
      "text/plain": [
       "+-----------+--------------+------------+-------------------+--------------------+--------------+------+-----+--------+------------------+\n",
       "|consumer_id|order_datetime|merchant_abn|       dollar_value|            order_id|          name|gender|state|postcode| fraud_probability|\n",
       "+-----------+--------------+------------+-------------------+--------------------+--------------+------+-----+--------+------------------+\n",
       "|     838663|    2021-11-26| 43725628716|  2684.361417897887|52133cb6-4950-44c...|Adam Velazquez|  Male|  NSW|    2403| 9.241197906604826|\n",
       "|     838663|    2021-11-26| 45629217853|0.19607762574988435|e5b1880d-fb88-4fd...|Adam Velazquez|  Male|  NSW|    2403| 9.241197906604826|\n",
       "|     838663|    2021-11-26| 73499119023|  9.260984119033456|a576a634-dcd0-445...|Adam Velazquez|  Male|  NSW|    2403| 9.241197906604826|\n",
       "|     640907|    2021-11-26| 30623214058| 111.91165017514544|362fc544-e9c0-449...|  Terry Martin|  Male|   SA|    5168|15.645332445256162|\n",
       "|     640907|    2021-11-26| 79417999332|  54.89560911946132|3c246238-a15f-429...|  Terry Martin|  Male|   SA|    5168|15.645332445256162|\n",
       "|     640907|    2021-11-26| 18305506006|  5.198633525613379|e4cb215d-26d8-4e4...|  Terry Martin|  Male|   SA|    5168|15.645332445256162|\n",
       "|     640907|    2021-11-26| 96244711717|  52.48791119040359|3a3c80b1-be38-447...|  Terry Martin|  Male|   SA|    5168|15.645332445256162|\n",
       "|     640907|    2021-11-26| 34967436738|  4298.699244530939|2630e79b-6148-4b3...|  Terry Martin|  Male|   SA|    5168|15.645332445256162|\n",
       "|     640907|    2021-11-26| 16248082282|  361.5545523024534|8f448a5a-fe7c-4fc...|  Terry Martin|  Male|   SA|    5168|15.645332445256162|\n",
       "|     192322|    2021-11-26| 45629217853|  26.34821606933028|99c767d9-811b-4cd...|    Aaron Hall|  Male|   WA|    6396| 19.10895425125948|\n",
       "|     192322|    2021-11-26| 38990495653|  5960.306286114107|eff74b08-7f2f-41c...|    Aaron Hall|  Male|   WA|    6396| 19.10895425125948|\n",
       "|     214615|    2021-11-26| 11700214701|  354.2264428514822|ced22d23-2f2b-42d...|   Andrea Knox|Female|  NSW|    2515| 9.309242301116614|\n",
       "|     214615|    2021-11-26| 88547577701|  32.76331477370289|e41be48f-9920-405...|   Andrea Knox|Female|  NSW|    2515| 9.309242301116614|\n",
       "|     214615|    2021-11-26| 10323485998| 101.25605126975574|f4e45d92-4357-445...|   Andrea Knox|Female|  NSW|    2515| 9.309242301116614|\n",
       "|     214615|    2021-11-26| 85529538986| 1719.4873064332699|b86e5a05-0a88-479...|   Andrea Knox|Female|  NSW|    2515| 9.309242301116614|\n",
       "|     214615|    2021-11-26| 45629217853| 0.8839469293275726|b0e69ae0-549b-444...|   Andrea Knox|Female|  NSW|    2515| 9.309242301116614|\n",
       "|    1469998|    2021-11-26| 45362042297| 127.55401710542766|57e20b2a-89ef-425...|   Jamie Short|  Male|   WA|    6067|11.315097596768855|\n",
       "|    1469998|    2021-11-26| 37720067731| 2018.7029598464032|d4310f49-d4c2-4ef...|   Jamie Short|  Male|   WA|    6067|11.315097596768855|\n",
       "|    1469998|    2021-11-26| 17758483290|  963.4256668981897|61728245-adbc-4b2...|   Jamie Short|  Male|   WA|    6067|11.315097596768855|\n",
       "|    1469998|    2021-11-26| 86578477987|  4.466850171007081|00a80091-7b30-4d4...|   Jamie Short|  Male|   WA|    6067|11.315097596768855|\n",
       "+-----------+--------------+------------+-------------------+--------------------+--------------+------+-----+--------+------------------+\n",
       "only showing top 20 rows"
      ]
     },
     "execution_count": 27,
     "metadata": {},
     "output_type": "execute_result"
    }
   ],
   "source": [
    "consumer_transaction_records.join(fraudulent_consumer_rate, on=['consumer_id', 'order_datetime'], how='inner')"
   ]
  },
  {
   "cell_type": "code",
   "execution_count": 9,
   "metadata": {},
   "outputs": [
    {
     "data": {
      "text/plain": [
       "['consumer_id',\n",
       " 'merchant_abn',\n",
       " 'dollar_value',\n",
       " 'order_id',\n",
       " 'order_datetime',\n",
       " 'name',\n",
       " 'gender',\n",
       " 'state',\n",
       " 'postcode']"
      ]
     },
     "execution_count": 9,
     "metadata": {},
     "output_type": "execute_result"
    }
   ],
   "source": [
    "consumer_transaction_records.columns"
   ]
  },
  {
   "cell_type": "code",
   "execution_count": 10,
   "metadata": {},
   "outputs": [
    {
     "name": "stderr",
     "output_type": "stream",
     "text": [
      "                                                                                \r"
     ]
    },
    {
     "data": {
      "text/html": [
       "<table border='1'>\n",
       "<tr><th>summary</th><th>dollar_value</th></tr>\n",
       "<tr><td>count</td><td>14195505</td></tr>\n",
       "<tr><td>mean</td><td>166.22895390891753</td></tr>\n",
       "<tr><td>stddev</td><td>517.8505602612809</td></tr>\n",
       "<tr><td>min</td><td>9.756658099412162E-8</td></tr>\n",
       "<tr><td>25%</td><td>26.128899475514228</td></tr>\n",
       "<tr><td>50%</td><td>62.22903376686649</td></tr>\n",
       "<tr><td>75%</td><td>150.41282294992547</td></tr>\n",
       "<tr><td>max</td><td>105193.88578925544</td></tr>\n",
       "</table>\n"
      ],
      "text/plain": [
       "+-------+--------------------+\n",
       "|summary|        dollar_value|\n",
       "+-------+--------------------+\n",
       "|  count|            14195505|\n",
       "|   mean|  166.22895390891753|\n",
       "| stddev|   517.8505602612809|\n",
       "|    min|9.756658099412162E-8|\n",
       "|    25%|  26.128899475514228|\n",
       "|    50%|   62.22903376686649|\n",
       "|    75%|  150.41282294992547|\n",
       "|    max|  105193.88578925544|\n",
       "+-------+--------------------+"
      ]
     },
     "execution_count": 10,
     "metadata": {},
     "output_type": "execute_result"
    }
   ],
   "source": [
    "consumer_transaction_records.select(\"dollar_value\").summary()"
   ]
  }
 ],
 "metadata": {
  "kernelspec": {
   "display_name": "Python 3",
   "language": "python",
   "name": "python3"
  },
  "language_info": {
   "codemirror_mode": {
    "name": "ipython",
    "version": 3
   },
   "file_extension": ".py",
   "mimetype": "text/x-python",
   "name": "python",
   "nbconvert_exporter": "python",
   "pygments_lexer": "ipython3",
   "version": "3.11.6"
  }
 },
 "nbformat": 4,
 "nbformat_minor": 2
}

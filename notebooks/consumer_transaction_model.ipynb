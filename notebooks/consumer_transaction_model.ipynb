{
 "cells": [
  {
   "cell_type": "code",
   "execution_count": 21,
   "metadata": {},
   "outputs": [],
   "source": [
    "from pyspark.sql import functions as F, SparkSession\n",
    "from pyspark.sql.window import Window\n",
    "from pyspark.ml.feature import VectorAssembler\n",
    "from pyspark.ml.regression import DecisionTreeRegressor, RandomForestRegressor\n",
    "from pyspark.ml.evaluation import RegressionEvaluator\n",
    "from pyspark.ml.tuning import ParamGridBuilder, CrossValidator\n",
    "from pyspark.ml import Pipeline\n",
    "from pyspark.ml.regression import LinearRegression\n",
    "import pandas as pd\n",
    "\n",
    "# Loading library\n",
    "import os\n",
    "os.sys.path.append(\"../\")\n",
    "from scripts.consumer_transaction_model import *\n",
    "\n"
   ]
  },
  {
   "cell_type": "code",
   "execution_count": 2,
   "metadata": {},
   "outputs": [
    {
     "name": "stderr",
     "output_type": "stream",
     "text": [
      "24/09/17 12:30:52 WARN Utils: Your hostname, qinsitaodeMacBook-Air.local resolves to a loopback address: 127.0.0.1; using 100.92.15.134 instead (on interface en0)\n",
      "24/09/17 12:30:52 WARN Utils: Set SPARK_LOCAL_IP if you need to bind to another address\n",
      "Setting default log level to \"WARN\".\n",
      "To adjust logging level use sc.setLogLevel(newLevel). For SparkR, use setLogLevel(newLevel).\n",
      "24/09/17 12:30:54 WARN NativeCodeLoader: Unable to load native-hadoop library for your platform... using builtin-java classes where applicable\n",
      "24/09/17 12:30:56 WARN Utils: Service 'SparkUI' could not bind on port 4040. Attempting port 4041.\n"
     ]
    }
   ],
   "source": [
    "# Create a Spark Session\n",
    "spark = (\n",
    "    SparkSession.builder.appName(\"consumer transaction model\")\n",
    "    .config(\"spark.sql.repl.eagerEval.enabled\", True)\n",
    "    .config(\"spark.sql.parquet.cacheMetadata\", \"true\")\n",
    "    .config(\"spark.sql.session.timeZone\", \"Etc/UTC\")\n",
    "    .config(\"spark.driver.memory\", \"4g\")\n",
    "    .config(\"spark.execturo.memory\", \"2g\")\n",
    "    .getOrCreate()\n",
    ")"
   ]
  },
  {
   "cell_type": "markdown",
   "metadata": {},
   "source": [
    "# Load data"
   ]
  },
  {
   "cell_type": "code",
   "execution_count": 3,
   "metadata": {},
   "outputs": [
    {
     "name": "stderr",
     "output_type": "stream",
     "text": [
      "                                                                                \r"
     ]
    }
   ],
   "source": [
    "consumer_info = spark.read.parquet('../data/curated/consumer_info.parquet')\n",
    "transaction_records = spark.read.parquet('../data/curated/transactions.parquet')\n",
    "fraudulent_consumer_rate = spark.read.parquet('../data/curated/consumer_fraud_prob.parquet')\n",
    "personal_fraud = spark.read.csv('../data/curated/personal_fraud.csv', header=True, inferSchema=True)\n",
    "postcode_info = spark.read.csv('../data/curated/postcode_info.csv', header=True, inferSchema=True)\n",
    "\n",
    "personal_fraud = personal_fraud.drop(personal_fraud.columns[0])\n",
    "postcode_info = postcode_info.drop(postcode_info.columns[0])"
   ]
  },
  {
   "cell_type": "markdown",
   "metadata": {},
   "source": [
    "# Prepare data frame for modelling"
   ]
  },
  {
   "cell_type": "code",
   "execution_count": 4,
   "metadata": {},
   "outputs": [],
   "source": [
    "# Add consumer info to transaction records\n",
    "consumer_transaction_records = transaction_records.join(consumer_info, on=\"consumer_id\", how=\"inner\")"
   ]
  },
  {
   "cell_type": "code",
   "execution_count": 5,
   "metadata": {},
   "outputs": [],
   "source": [
    "# Merge transaction with consumer infomation\n",
    "transaction_fraudulent_consumer = transaction_records.join(fraudulent_consumer_rate, on=[\"order_datetime\", \"consumer_id\"], how=\"inner\")\n",
    "transaction_fraudulent_consumer_with_info = consumer_info.join(transaction_fraudulent_consumer, on=\"consumer_id\", how=\"inner\")"
   ]
  },
  {
   "cell_type": "code",
   "execution_count": 6,
   "metadata": {},
   "outputs": [
    {
     "name": "stderr",
     "output_type": "stream",
     "text": [
      "24/09/17 12:31:08 WARN GarbageCollectionMetrics: To enable non-built-in garbage collector(s) List(G1 Concurrent GC), users should configure it(them) to spark.eventLog.gcMetrics.youngGenerationGarbageCollectors or spark.eventLog.gcMetrics.oldGenerationGarbageCollectors\n",
      "                                                                                \r"
     ]
    },
    {
     "data": {
      "text/plain": [
       "20128"
      ]
     },
     "execution_count": 6,
     "metadata": {},
     "output_type": "execute_result"
    }
   ],
   "source": [
    "# number of unique available fraudulent consumer (does not lost any consumer after merging with transaction records)\n",
    "transaction_fraudulent_consumer_with_info.select(\"consumer_id\").distinct().count()"
   ]
  },
  {
   "cell_type": "code",
   "execution_count": 7,
   "metadata": {},
   "outputs": [],
   "source": [
    "# Average fraud probability in each postcode or state\n",
    "fraudulent_consumer_group_by_postcode = transaction_fraudulent_consumer_with_info.groupBy([\"postcode\"]).agg(F.avg(\"fraud_probability\").alias(\"average_fraud_prob_of_postcode\"))\n",
    "\n",
    "fraudulent_consumer_group_by_state = transaction_fraudulent_consumer_with_info.groupBy([\"state\"]).agg(F.avg(\"fraud_probability\").alias(\"average_fraud_prob_of_state\"))"
   ]
  },
  {
   "cell_type": "code",
   "execution_count": 8,
   "metadata": {},
   "outputs": [],
   "source": [
    "# analysis order value, consider the variance of order value and purchase frequency\n",
    "consumer_transaction_value_analysis =  consumer_transaction_records.groupBy(\"consumer_id\", \"state\", \"postcode\") \\\n",
    "                                        .agg(\n",
    "                                            F.avg(\"dollar_value\").alias(\"average_dollar_value\"),\n",
    "                                            F.min(\"dollar_value\").alias(\"min_dollar_value\"),\n",
    "                                            F.max(\"dollar_value\").alias(\"max_dollar_value\"),\n",
    "                                            F.count(\"dollar_value\").alias(\"transaction_count\"),\n",
    "                                            F.stddev(\"dollar_value\").alias(\"stddev_dollar_value\")\n",
    "                                        )"
   ]
  },
  {
   "cell_type": "code",
   "execution_count": 9,
   "metadata": {},
   "outputs": [],
   "source": [
    "transaction_fraudulent_consumer_summary = transaction_fraudulent_consumer_with_info \\\n",
    "    .join(consumer_transaction_value_analysis, on=\"consumer_id\", how=\"left\") \\\n",
    "    .join(fraudulent_consumer_group_by_postcode, on=\"postcode\", how=\"inner\") \\\n",
    "    .join(fraudulent_consumer_group_by_state, on=\"state\", how=\"inner\")"
   ]
  },
  {
   "cell_type": "markdown",
   "metadata": {},
   "source": [
    "### missing 2755 in postcode_info"
   ]
  },
  {
   "cell_type": "code",
   "execution_count": 10,
   "metadata": {},
   "outputs": [],
   "source": [
    "# Get infomation about personal fraud and income from external dataset\n",
    "postcode_info = postcode_info.drop(\"state\", \"long\", \"lat\", \"lgacode\")\n",
    "transaction_fraudulent_consumer_summary = transaction_fraudulent_consumer_summary.join(personal_fraud, on=\"state\", how=\"inner\")\n",
    "transaction_fraudulent_consumer_summary = transaction_fraudulent_consumer_summary.join(postcode_info, on=\"postcode\", how=\"inner\")"
   ]
  },
  {
   "cell_type": "code",
   "execution_count": 11,
   "metadata": {},
   "outputs": [],
   "source": [
    "# Get proportion of the money used to purchase item with respect to income\n",
    "# average income\n",
    "transaction_fraudulent_consumer_summary = transaction_fraudulent_consumer_summary.withColumn(\"Proportion_between_max_order_value_mean_income\", F.col(\"max_dollar_value\") / (F.col(\"mean_income\") * 1.5) )\n",
    "transaction_fraudulent_consumer_summary = transaction_fraudulent_consumer_summary.withColumn(\"Proportion_between_max_order_value_median_income\", F.col(\"max_dollar_value\") / (F.col(\"median_income\") * 1.5))\n",
    "\n",
    "# Total income\n",
    "transaction_fraudulent_consumer_summary = transaction_fraudulent_consumer_summary.withColumn(\"Proportion_between_total_order_value_mean_income\", F.col(\"average_dollar_value\") * F.col(\"transaction_count\") / (F.col(\"mean_income\") * 1.5))\n",
    "transaction_fraudulent_consumer_summary = transaction_fraudulent_consumer_summary.withColumn(\"Proportion_between_total_order_value_median_income\", F.col(\"average_dollar_value\") * F.col(\"transaction_count\") / (F.col(\"median_income\") * 1.5))\n"
   ]
  },
  {
   "cell_type": "code",
   "execution_count": 12,
   "metadata": {},
   "outputs": [
    {
     "name": "stderr",
     "output_type": "stream",
     "text": [
      "                                                                                \r"
     ]
    },
    {
     "data": {
      "text/plain": [
       "80537"
      ]
     },
     "execution_count": 12,
     "metadata": {},
     "output_type": "execute_result"
    }
   ],
   "source": [
    "transaction_fraudulent_consumer_summary.count()"
   ]
  },
  {
   "cell_type": "markdown",
   "metadata": {},
   "source": [
    "### Analysis datetime information"
   ]
  },
  {
   "cell_type": "code",
   "execution_count": 15,
   "metadata": {},
   "outputs": [],
   "source": [
    "# Convert 'order_datetime' from string to date format\n",
    "transaction_fraudulent_consumer_summary = transaction_fraudulent_consumer_summary.withColumn(\"order_datetime\", F.to_date(\"order_datetime\", \"yyyy-MM-dd\"))\n",
    "cutoff_date = \"2021-03-07\"\n",
    "transaction_fraudulent_consumer_summary = transaction_fraudulent_consumer_summary.filter(F.col(\"order_datetime\") >= F.lit(cutoff_date))\n",
    "\n",
    "# Add a new column 'transaction_count_last_3_days' that counts the transactions within 3 days before each transaction\n",
    "window_spec = Window.partitionBy(\"consumer_id\").orderBy(F.col(\"order_datetime\").cast(\"long\")) \\\n",
    "    .rangeBetween(-7 * 86400, 0)  # 7 days in seconds (86400 seconds = 1 day)\n",
    "\n",
    "transaction_fraudulent_consumer_summary = transaction_fraudulent_consumer_summary.withColumn(\"transaction_count_last_3_days\", F.count(\"order_datetime\").over(window_spec))\n",
    "\n"
   ]
  },
  {
   "cell_type": "code",
   "execution_count": 22,
   "metadata": {},
   "outputs": [],
   "source": [
    "is_special_date(transaction_fraudulent_consumer_summary)"
   ]
  },
  {
   "cell_type": "code",
   "execution_count": 23,
   "metadata": {},
   "outputs": [
    {
     "name": "stderr",
     "output_type": "stream",
     "text": [
      "                                                                                \r"
     ]
    },
    {
     "data": {
      "text/plain": [
       "80288"
      ]
     },
     "execution_count": 23,
     "metadata": {},
     "output_type": "execute_result"
    }
   ],
   "source": [
    "transaction_fraudulent_consumer_summary.count()"
   ]
  },
  {
   "cell_type": "code",
   "execution_count": 24,
   "metadata": {},
   "outputs": [
    {
     "name": "stdout",
     "output_type": "stream",
     "text": [
      "root\n",
      " |-- postcode: integer (nullable = true)\n",
      " |-- state: string (nullable = true)\n",
      " |-- consumer_id: long (nullable = true)\n",
      " |-- name: string (nullable = true)\n",
      " |-- gender: string (nullable = true)\n",
      " |-- order_datetime: date (nullable = true)\n",
      " |-- merchant_abn: long (nullable = true)\n",
      " |-- dollar_value: double (nullable = true)\n",
      " |-- order_id: string (nullable = true)\n",
      " |-- fraud_probability: double (nullable = true)\n",
      " |-- state: string (nullable = true)\n",
      " |-- postcode: integer (nullable = true)\n",
      " |-- average_dollar_value: double (nullable = true)\n",
      " |-- min_dollar_value: double (nullable = true)\n",
      " |-- max_dollar_value: double (nullable = true)\n",
      " |-- transaction_count: long (nullable = true)\n",
      " |-- stddev_dollar_value: double (nullable = true)\n",
      " |-- average_fraud_prob_of_postcode: double (nullable = true)\n",
      " |-- average_fraud_prob_of_state: double (nullable = true)\n",
      " |-- victimisation_rate: double (nullable = true)\n",
      " |-- rse_percent: double (nullable = true)\n",
      " |-- median_age: double (nullable = true)\n",
      " |-- median_income: double (nullable = true)\n",
      " |-- mean_income: double (nullable = true)\n",
      " |-- Proportion_between_max_order_value_mean_income: double (nullable = true)\n",
      " |-- Proportion_between_max_order_value_median_income: double (nullable = true)\n",
      " |-- Proportion_between_total_order_value_mean_income: double (nullable = true)\n",
      " |-- Proportion_between_total_order_value_median_income: double (nullable = true)\n",
      " |-- transaction_count_last_3_days: long (nullable = false)\n",
      "\n"
     ]
    }
   ],
   "source": [
    "transaction_fraudulent_consumer_summary.show(5)"
   ]
  },
  {
   "cell_type": "code",
   "execution_count": null,
   "metadata": {},
   "outputs": [],
   "source": [
    "window_spec_1 = Window.orderBy(F.col(\"fraud_probability\").desc())\n",
    "summary_rank_by_fraud_prob = transaction_fraudulent_consumer_summary.withColumn(\"rank\", F.rank().over(window_spec_1))\n",
    "top_20 = summary_rank_by_fraud_prob.filter(F.col(\"rank\") <= 20)\n",
    "top_20.show(20)"
   ]
  },
  {
   "cell_type": "markdown",
   "metadata": {},
   "source": [
    "# Idea\n",
    "1. Time Frequency feature: https://ieeexplore.ieee.org/document/9399421/"
   ]
  },
  {
   "cell_type": "markdown",
   "metadata": {},
   "source": [
    "# Modelling"
   ]
  },
  {
   "cell_type": "code",
   "execution_count": null,
   "metadata": {},
   "outputs": [],
   "source": []
  }
 ],
 "metadata": {
  "kernelspec": {
   "display_name": "Python 3",
   "language": "python",
   "name": "python3"
  },
  "language_info": {
   "codemirror_mode": {
    "name": "ipython",
    "version": 3
   },
   "file_extension": ".py",
   "mimetype": "text/x-python",
   "name": "python",
   "nbconvert_exporter": "python",
   "pygments_lexer": "ipython3",
   "version": "3.11.6"
  }
 },
 "nbformat": 4,
 "nbformat_minor": 2
}

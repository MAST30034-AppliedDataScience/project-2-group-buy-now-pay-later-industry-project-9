{
      "cells": [
            {
                  "cell_type": "code",
                  "execution_count": 1,
                  "metadata": {},
                  "outputs": [],
                  "source": [
                        "import os\n",
                        "os.sys.path.append(\"../\")\n",
                        "from scripts.preliminary_analysis import *\n"
                  ]
            },
            {
                  "cell_type": "code",
                  "execution_count": 2,
                  "metadata": {},
                  "outputs": [
                        {
                              "name": "stderr",
                              "output_type": "stream",
                              "text": [
                                    "your 131072x1 screen size is bogus. expect trouble\n",
                                    "24/09/28 16:03:09 WARN Utils: Your hostname, Skye-Ngu resolves to a loopback address: 127.0.1.1; using 172.17.250.30 instead (on interface eth0)\n",
                                    "24/09/28 16:03:09 WARN Utils: Set SPARK_LOCAL_IP if you need to bind to another address\n",
                                    "Setting default log level to \"WARN\".\n",
                                    "To adjust logging level use sc.setLogLevel(newLevel). For SparkR, use setLogLevel(newLevel).\n",
                                    "24/09/28 16:03:10 WARN NativeCodeLoader: Unable to load native-hadoop library for your platform... using builtin-java classes where applicable\n",
                                    "24/09/28 16:03:11 WARN Utils: Service 'SparkUI' could not bind on port 4040. Attempting port 4041.\n"
                              ]
                        }
                  ],
                  "source": [
                        "from pyspark.sql import SparkSession\n",
                        "#  Create a Spark Session\n",
                        "spark = (\n",
                        "    SparkSession.builder.appName(\"Preliminary Data Analysis\")\n",
                        "    .config(\"spark.sql.repl.eagerEval.enabled\", True)\n",
                        "    .config(\"spark.sql.parquet.cacheMetadata\", \"true\")\n",
                        "    .config(\"spark.sql.session.timeZone\", \"Etc/UTC\")\n",
                        "    .config(\"spark.driver.memory\", \"4g\")\n",
                        "    .config(\"spark.executor.memory\", \"2g\")\n",
                        "    .getOrCreate()\n",
                        ")"
                  ]
            },
            {
                  "cell_type": "code",
                  "execution_count": 3,
                  "metadata": {},
                  "outputs": [],
                  "source": [
                        "path = \"../data/curated\""
                  ]
            },
            {
                  "cell_type": "markdown",
                  "metadata": {},
                  "source": [
                        "# Preliminary Data Analysis\n",
                        "\n",
                        "In this notebook, we will conduct a preliminary data analysis on the data that we cleaned or are in the process of cleaning. The following statistics/visualisations will aid us in refining our cleaning pipeline, as well as help us to better understand our variables in preparation for analysis/modelling.\n",
                        "\n",
                        "## Merchants"
                  ]
            },
            {
                  "cell_type": "markdown",
                  "metadata": {},
                  "source": [
                        "Before we conduct any analysis, we would like to check in the merchant ABNs in the `merchant_fp` dataframe exist in the `merchant_info` dataframe. If such ABNs do not exist, we will remove entries in `merchant_fp` that contain those ABNs."
                  ]
            },
            {
                  "cell_type": "code",
                  "execution_count": 4,
                  "metadata": {},
                  "outputs": [
                        {
                              "name": "stderr",
                              "output_type": "stream",
                              "text": [
                                    "                                                                                \r"
                              ]
                        },
                        {
                              "name": "stdout",
                              "output_type": "stream",
                              "text": [
                                    "Number of entries before the merge: 114\n",
                                    "Number of entries after the merge: 95\n"
                              ]
                        }
                  ],
                  "source": [
                        "# Read merchant datasets in\n",
                        "merchant_info = spark.read.parquet(f\"{path}/merchant_info.parquet\")\n",
                        "merchant_fp = spark.read.parquet(f\"{path}/merchant_fp.parquet\")\n",
                        "\n",
                        "# Merge the dataset\n",
                        "print(f\"Number of entries before the merge: {merchant_fp.count()}\")\n",
                        "merchant_fp = merchant_fp.join(merchant_info, on = ['merchant_abn'], how = 'inner').select('merchant_abn', 'order_datetime', 'fraud_probability')\n",
                        "print(f'Number of entries after the merge: {merchant_fp.count()}')"
                  ]
            },
            {
                  "cell_type": "markdown",
                  "metadata": {},
                  "source": [
                        "We can see that approximately 16% of the entries in `merchant_fp` are invalid. Now that the invalid entries are taken care of, we can go ahead and check the summary statistics. "
                  ]
            },
            {
                  "cell_type": "code",
                  "execution_count": 5,
                  "metadata": {},
                  "outputs": [
                        {
                              "name": "stdout",
                              "output_type": "stream",
                              "text": [
                                    "+-------+-----------------+\n",
                                    "|summary|        take_rate|\n",
                                    "+-------+-----------------+\n",
                                    "|  count|             4026|\n",
                                    "|   mean|4.397575757575762|\n",
                                    "| stddev| 1.78259536794309|\n",
                                    "|    min|              0.1|\n",
                                    "|    max|              7.0|\n",
                                    "+-------+-----------------+\n",
                                    "\n",
                                    "+-------+------------------+\n",
                                    "|summary| fraud_probability|\n",
                                    "+-------+------------------+\n",
                                    "|  count|                95|\n",
                                    "|   mean|39.517386707313456|\n",
                                    "| stddev|16.617441988139742|\n",
                                    "|    min| 18.21089142894488|\n",
                                    "|    max| 91.09606847149965|\n",
                                    "+-------+------------------+\n",
                                    "\n",
                                    "Total number of merchants: 4026\n",
                                    "Number of merchant with fraud probability in transactions: 48\n"
                              ]
                        }
                  ],
                  "source": [
                        "# Summary Statistics\n",
                        "merchant_info.select(\"take_rate\").describe().show()\n",
                        "merchant_fp.select(\"fraud_probability\").describe().show()\n",
                        "\n",
                        "# Closer look at proportion of merchants with fraud prob data\n",
                        "print(f'Total number of merchants: {merchant_info.select(\"merchant_abn\").distinct().count()}')\n",
                        "print(f'Number of merchant with fraud probability in transactions: {merchant_fp.select(\"merchant_abn\").distinct().count()}')"
                  ]
            },
            {
                  "cell_type": "markdown",
                  "metadata": {},
                  "source": [
                        "From the summary stats of the two merchant datasets, the notable columns are `take_rate` and `fraud_probability`. The other columns are not interpretable in terms of summary stats.\n",
                        "\n",
                        "Looking at the mins/maxs of both these columns, they appear to fall within a reasonable defined range. More analysis will be required to have a closer look at their distributions. (Skewed or balanced).\n",
                        "\n",
                        "We can see that there are only *48* merchants with a fraud probability out of *4026* which is only about *1%*. This highlights the need to create a model to help us predict merchant fraud probability for imputation, which in turn will play a role in helping us determine which transactions are valid. "
                  ]
            },
            {
                  "cell_type": "code",
                  "execution_count": 6,
                  "metadata": {},
                  "outputs": [
                        {
                              "data": {
                                    "text/html": [
                                          "<table border='1'>\n",
                                          "<tr><th>merchant_abn</th><th>num_transaction_with_prob</th><th>avg_prob</th></tr>\n",
                                          "<tr><td>90568944804</td><td>3</td><td>30.72298492113958</td></tr>\n",
                                          "<tr><td>27093785141</td><td>3</td><td>28.88064813052203</td></tr>\n",
                                          "<tr><td>76968105359</td><td>1</td><td>68.27843632543912</td></tr>\n",
                                          "<tr><td>19492220327</td><td>8</td><td>31.958306675667544</td></tr>\n",
                                          "<tr><td>97884414539</td><td>1</td><td>89.79919971536573</td></tr>\n",
                                          "<tr><td>93292821052</td><td>1</td><td>66.58725735032715</td></tr>\n",
                                          "<tr><td>83199298021</td><td>6</td><td>31.934902970741046</td></tr>\n",
                                          "<tr><td>43083074133</td><td>1</td><td>48.66890735193894</td></tr>\n",
                                          "<tr><td>15157368385</td><td>1</td><td>64.2774131928303</td></tr>\n",
                                          "<tr><td>76767266140</td><td>1</td><td>29.539733207182703</td></tr>\n",
                                          "<tr><td>96680767841</td><td>1</td><td>29.555244690425017</td></tr>\n",
                                          "<tr><td>35909341340</td><td>1</td><td>29.13305311007307</td></tr>\n",
                                          "<tr><td>72058040180</td><td>1</td><td>33.71875978884334</td></tr>\n",
                                          "<tr><td>39649557865</td><td>1</td><td>28.690204286050616</td></tr>\n",
                                          "<tr><td>48534649627</td><td>3</td><td>28.56793296472796</td></tr>\n",
                                          "<tr><td>85482742429</td><td>1</td><td>70.88131110541714</td></tr>\n",
                                          "<tr><td>82368304209</td><td>2</td><td>31.472066721009654</td></tr>\n",
                                          "<tr><td>35575706403</td><td>1</td><td>91.09606847149965</td></tr>\n",
                                          "<tr><td>79827781481</td><td>2</td><td>29.735159306496</td></tr>\n",
                                          "<tr><td>32258116290</td><td>1</td><td>61.92380860960476</td></tr>\n",
                                          "</table>\n",
                                          "only showing top 20 rows\n"
                                    ],
                                    "text/plain": [
                                          "+------------+-------------------------+------------------+\n",
                                          "|merchant_abn|num_transaction_with_prob|          avg_prob|\n",
                                          "+------------+-------------------------+------------------+\n",
                                          "| 90568944804|                        3| 30.72298492113958|\n",
                                          "| 27093785141|                        3| 28.88064813052203|\n",
                                          "| 76968105359|                        1| 68.27843632543912|\n",
                                          "| 19492220327|                        8|31.958306675667544|\n",
                                          "| 97884414539|                        1| 89.79919971536573|\n",
                                          "| 93292821052|                        1| 66.58725735032715|\n",
                                          "| 83199298021|                        6|31.934902970741046|\n",
                                          "| 43083074133|                        1| 48.66890735193894|\n",
                                          "| 15157368385|                        1|  64.2774131928303|\n",
                                          "| 76767266140|                        1|29.539733207182703|\n",
                                          "| 96680767841|                        1|29.555244690425017|\n",
                                          "| 35909341340|                        1| 29.13305311007307|\n",
                                          "| 72058040180|                        1| 33.71875978884334|\n",
                                          "| 39649557865|                        1|28.690204286050616|\n",
                                          "| 48534649627|                        3| 28.56793296472796|\n",
                                          "| 85482742429|                        1| 70.88131110541714|\n",
                                          "| 82368304209|                        2|31.472066721009654|\n",
                                          "| 35575706403|                        1| 91.09606847149965|\n",
                                          "| 79827781481|                        2|   29.735159306496|\n",
                                          "| 32258116290|                        1| 61.92380860960476|\n",
                                          "+------------+-------------------------+------------------+\n",
                                          "only showing top 20 rows"
                                    ]
                              },
                              "execution_count": 6,
                              "metadata": {},
                              "output_type": "execute_result"
                        }
                  ],
                  "source": [
                        "# Examine the frequency of fraud_prob for merchants and the average fraud prob accordingly\n",
                        "agg_merchant_fp = merchant_fp.groupBy(\"merchant_abn\").agg(\n",
                        "    F.count(F.col(\"merchant_abn\")).alias(\"num_transaction_with_prob\"),\n",
                        "    F.avg(\"fraud_probability\").alias(\"avg_prob\")\n",
                        ")\n",
                        "agg_merchant_fp#.filter(F.col(\"num_transaction_with_prob\") > 1)"
                  ]
            },
            {
                  "cell_type": "markdown",
                  "metadata": {},
                  "source": [
                        "Though the table only displays the first 20 rows, it is clear that some merchants have more than one transaction with fraud probability.\n",
                        "On the surface, there does not seem to be a correlation between number of transactions with fraud and the average fraud prob, but this may be further explored later on. "
                  ]
            },
            {
                  "cell_type": "markdown",
                  "metadata": {},
                  "source": [
                        "## Consumer"
                  ]
            },
            {
                  "cell_type": "code",
                  "execution_count": 7,
                  "metadata": {},
                  "outputs": [
                        {
                              "name": "stdout",
                              "output_type": "stream",
                              "text": [
                                    "Number of entries before the merge: 34747\n",
                                    "Number of entries after the merge: 34747\n"
                              ]
                        }
                  ],
                  "source": [
                        "# Read cleaned consumer data in\n",
                        "consumer_fp = spark.read.parquet(f\"{path}/consumer_fp.parquet\")\n",
                        "consumer_info = spark.read.parquet(f\"{path}/consumer_info.parquet\")\n",
                        "\n",
                        "# Merge the dataset\n",
                        "print(f\"Number of entries before the merge: {consumer_fp.count()}\")\n",
                        "consumer_fp = consumer_fp.join(consumer_info, on = ['consumer_id'], how = 'inner').select('consumer_id', 'order_datetime', 'fraud_probability')\n",
                        "print(f'Number of entries after the merge: {consumer_fp.count()}')"
                  ]
            },
            {
                  "cell_type": "code",
                  "execution_count": 8,
                  "metadata": {},
                  "outputs": [
                        {
                              "name": "stdout",
                              "output_type": "stream",
                              "text": [
                                    "+-------+-----------------+\n",
                                    "|summary|fraud_probability|\n",
                                    "+-------+-----------------+\n",
                                    "|  count|            34747|\n",
                                    "|   mean| 14.9453602163003|\n",
                                    "| stddev|9.398099951853832|\n",
                                    "|    min|8.287143531552802|\n",
                                    "|    max|99.24738020302328|\n",
                                    "+-------+-----------------+\n",
                                    "\n"
                              ]
                        },
                        {
                              "data": {
                                    "text/html": [
                                          "<table border='1'>\n",
                                          "<tr><th>state</th><th>num_consumer</th></tr>\n",
                                          "<tr><td>NT</td><td>7764</td></tr>\n",
                                          "<tr><td>ACT</td><td>4664</td></tr>\n",
                                          "<tr><td>SA</td><td>54973</td></tr>\n",
                                          "<tr><td>TAS</td><td>18878</td></tr>\n",
                                          "<tr><td>WA</td><td>79146</td></tr>\n",
                                          "<tr><td>QLD</td><td>72861</td></tr>\n",
                                          "<tr><td>VIC</td><td>117525</td></tr>\n",
                                          "<tr><td>NSW</td><td>144188</td></tr>\n",
                                          "</table>\n"
                                    ],
                                    "text/plain": [
                                          "+-----+------------+\n",
                                          "|state|num_consumer|\n",
                                          "+-----+------------+\n",
                                          "|   NT|        7764|\n",
                                          "|  ACT|        4664|\n",
                                          "|   SA|       54973|\n",
                                          "|  TAS|       18878|\n",
                                          "|   WA|       79146|\n",
                                          "|  QLD|       72861|\n",
                                          "|  VIC|      117525|\n",
                                          "|  NSW|      144188|\n",
                                          "+-----+------------+"
                                    ]
                              },
                              "execution_count": 8,
                              "metadata": {},
                              "output_type": "execute_result"
                        }
                  ],
                  "source": [
                        "# Summary statistics\n",
                        "consumer_fp.select(\"fraud_probability\").describe().show()\n",
                        "consumer_info.groupBy(\"state\").agg(\n",
                        "    F.count(F.col(\"consumer_id\")).alias(\"num_consumer\")\n",
                        ")"
                  ]
            },
            {
                  "cell_type": "markdown",
                  "metadata": {},
                  "source": [
                        "From the summary statistics above, the only column interpretable is 'fraud_probability'. \n",
                        "\n",
                        "We can see that fraud_probability is within a reasonable defined range, with a minimum of 8.28 and a maximum of about 99.24. Further discussion may be required to determine whether or not it would be beneficial to conduct outlier removal.\n",
                        "\n",
                        "We can also see that most consumer are from Victoria and New South Wales. Nothern Territory seems to have the least amount of buyers"
                  ]
            },
            {
                  "cell_type": "markdown",
                  "metadata": {},
                  "source": [
                        "## Transactions"
                  ]
            },
            {
                  "cell_type": "markdown",
                  "metadata": {},
                  "source": [
                        "Summary statistic of consumers fraud probability."
                  ]
            },
            {
                  "cell_type": "code",
                  "execution_count": 9,
                  "metadata": {},
                  "outputs": [
                        {
                              "name": "stderr",
                              "output_type": "stream",
                              "text": [
                                    "[Stage 57:>                                                       (0 + 16) / 17]\r"
                              ]
                        },
                        {
                              "name": "stdout",
                              "output_type": "stream",
                              "text": [
                                    "+-------+--------------------+\n",
                                    "|summary|        dollar_value|\n",
                                    "+-------+--------------------+\n",
                                    "|  count|            12544270|\n",
                                    "|   mean|   166.3447218714536|\n",
                                    "| stddev|   520.4360138158222|\n",
                                    "|    min|9.756658099412162E-8|\n",
                                    "|    max|  105193.88578925544|\n",
                                    "+-------+--------------------+\n",
                                    "\n"
                              ]
                        },
                        {
                              "name": "stderr",
                              "output_type": "stream",
                              "text": [
                                    "                                                                                \r"
                              ]
                        }
                  ],
                  "source": [
                        "# Read in transactions dataset\n",
                        "transactions = spark.read.parquet(f\"{path}/transactions.parquet\")\n",
                        "\n",
                        "# Summary Statistics\n",
                        "transactions.select(F.col(\"dollar_value\")).describe().show()"
                  ]
            },
            {
                  "cell_type": "markdown",
                  "metadata": {},
                  "source": [
                        "From the summary statistics observed, we can see that dollar value has a minimum of $0.00000009.\n",
                        "\n",
                        "This is significantly lower than even 1 cent. Therefore, it would appear to be appropriate to consider such transaction is invalid. We decided to remove any transations with a dollar value that is less than $1.00 based on the assumption that in real life, the cheapest thing we've encounter is $1.39 (a bottle of fake coke in Aldi). However, we think it's reasonable to keep transactions with high dollar value as it might be a good indication of a fraud."
                  ]
            },
            {
                  "cell_type": "code",
                  "execution_count": 10,
                  "metadata": {},
                  "outputs": [
                        {
                              "name": "stdout",
                              "output_type": "stream",
                              "text": [
                                    "Number of rows before outlier removal: 12544270\n"
                              ]
                        },
                        {
                              "name": "stderr",
                              "output_type": "stream",
                              "text": [
                                    "[Stage 63:>                                                       (0 + 16) / 17]\r"
                              ]
                        },
                        {
                              "name": "stdout",
                              "output_type": "stream",
                              "text": [
                                    "Number of rows after outlier removal: 12444998\n",
                                    "Net change (%): 0.79\n"
                              ]
                        },
                        {
                              "name": "stderr",
                              "output_type": "stream",
                              "text": [
                                    "                                                                                \r"
                              ]
                        }
                  ],
                  "source": [
                        "initial_rows =  transactions.count()\n",
                        "print(f'Number of rows before outlier removal: {initial_rows}')\n",
                        "transactions = transactions.filter(F.col(\"dollar_value\") > 1)\n",
                        "\n",
                        "final_rows = transactions.count()\n",
                        "print(f'Number of rows after outlier removal: {final_rows}')\n",
                        "print(f\"Net change (%): {round( (initial_rows - final_rows)/initial_rows * 100, 2 )}\")"
                  ]
            },
            {
                  "cell_type": "code",
                  "execution_count": 11,
                  "metadata": {},
                  "outputs": [
                        {
                              "data": {
                                    "text/plain": [
                                          "'\\n\\navg_revenue_level = merchant_info.groupBy(\"revenue_level\").agg(\\n    F.count(F.col(\"commission_amount\")).alias(\"num_merchant\"),\\n    F.sum(F.col(\"total_orders\")).alias(\"total_orders\"),\\n    F.round(F.avg(F.col(\"commission_amount\")),2).alias(\"avg_commission_amount\"),\\n    F.round(F.sum(F.col(\"commission_amount\")),2).alias(\"total_commission_amount\"),\\n)\\n# avg_revenue_level = avg_revenue_level.withColumn(\"total_commission_amount\", F.format_number(\"total_commission_amount\", 2))\\navg_revenue_level.withColumns(\\n    {\"avg_commission_amount\": F.format_number(\"avg_commission_amount\",2),\\n    \"total_commission_amount\": F.format_number(\"total_commission_amount\",2),}\\n)\\n\\n'"
                                    ]
                              },
                              "execution_count": 11,
                              "metadata": {},
                              "output_type": "execute_result"
                        }
                  ],
                  "source": [
                        "\"\"\"\n",
                        "\n",
                        "avg_revenue_level = merchant_info.groupBy(\"revenue_level\").agg(\n",
                        "    F.count(F.col(\"commission_amount\")).alias(\"num_merchant\"),\n",
                        "    F.sum(F.col(\"total_orders\")).alias(\"total_orders\"),\n",
                        "    F.round(F.avg(F.col(\"commission_amount\")),2).alias(\"avg_commission_amount\"),\n",
                        "    F.round(F.sum(F.col(\"commission_amount\")),2).alias(\"total_commission_amount\"),\n",
                        ")\n",
                        "# avg_revenue_level = avg_revenue_level.withColumn(\"total_commission_amount\", F.format_number(\"total_commission_amount\", 2))\n",
                        "avg_revenue_level.withColumns(\n",
                        "    {\"avg_commission_amount\": F.format_number(\"avg_commission_amount\",2),\n",
                        "    \"total_commission_amount\": F.format_number(\"total_commission_amount\",2),}\n",
                        ")\n",
                        "\n",
                        "\"\"\""
                  ]
            },
            {
                  "cell_type": "markdown",
                  "metadata": {},
                  "source": [
                        "# Exploratory data analysis"
                  ]
            },
            {
                  "cell_type": "markdown",
                  "metadata": {},
                  "source": [
                        "# Merge Datasets"
                  ]
            },
            {
                  "cell_type": "markdown",
                  "metadata": {},
                  "source": [
                        "We can now merge the transaction with the customer and mechant fraud probabilty data."
                  ]
            },
            {
                  "cell_type": "code",
                  "execution_count": 12,
                  "metadata": {},
                  "outputs": [
                        {
                              "name": "stderr",
                              "output_type": "stream",
                              "text": [
                                    "                                                                                \r"
                              ]
                        },
                        {
                              "name": "stdout",
                              "output_type": "stream",
                              "text": [
                                    "Number of rows before the merge: 12444998\n"
                              ]
                        },
                        {
                              "name": "stderr",
                              "output_type": "stream",
                              "text": [
                                    "                                                                                \r"
                              ]
                        },
                        {
                              "name": "stdout",
                              "output_type": "stream",
                              "text": [
                                    "Number of rows after the merge with consumer fraud probability: 12444998\n"
                              ]
                        },
                        {
                              "name": "stderr",
                              "output_type": "stream",
                              "text": [
                                    "                                                                                \r"
                              ]
                        },
                        {
                              "name": "stdout",
                              "output_type": "stream",
                              "text": [
                                    "Number of rows after the merge with merchant fraud probability: 12444998\n"
                              ]
                        },
                        {
                              "name": "stderr",
                              "output_type": "stream",
                              "text": [
                                    "                                                                                \r"
                              ]
                        },
                        {
                              "name": "stdout",
                              "output_type": "stream",
                              "text": [
                                    "Number of rows after the merge with merchant information: 11933087\n"
                              ]
                        },
                        {
                              "name": "stderr",
                              "output_type": "stream",
                              "text": [
                                    "                                                                                \r"
                              ]
                        }
                  ],
                  "source": [
                        "print(f'Number of rows before the merge: {transactions.count()}')\n",
                        "\n",
                        "# join with consumer fraud prob and rename the col\n",
                        "transactions_df = transactions.join(consumer_fp, on = ['consumer_id', 'order_datetime'], how='left')\n",
                        "transactions_df = transactions_df.withColumnRenamed(\"fraud_probability\", \"consumer_fp\")\n",
                        "print(f'Number of rows after the merge with consumer fraud probability: {transactions_df.count()}')\n",
                        "\n",
                        "# Join with merchant fraud prob and rename the col\n",
                        "transactions_df = transactions_df.join(merchant_fp, on = ['merchant_abn', 'order_datetime'], how='left')\n",
                        "transactions_df = transactions_df.withColumnRenamed(\"fraud_probability\", \"merchant_fp\")\n",
                        "print(f'Number of rows after the merge with merchant fraud probability: {transactions_df.count()}')\n",
                        "\n",
                        "transactions_df = transactions_df.join(merchant_info, on = ['merchant_abn'], how='inner')\n",
                        "print(f'Number of rows after the merge with merchant information: {transactions_df.count()}')"
                  ]
            },
            {
                  "cell_type": "markdown",
                  "metadata": {},
                  "source": [
                        "We can see that after we merge the transactions data with the merchant information, there is a reduction in the number of entries. This means that some of the merchant ABN in the transactions are invalid."
                  ]
            },
            {
                  "cell_type": "code",
                  "execution_count": 13,
                  "metadata": {},
                  "outputs": [
                        {
                              "name": "stderr",
                              "output_type": "stream",
                              "text": [
                                    "[Stage 119:>                                                      (0 + 16) / 17]\r"
                              ]
                        },
                        {
                              "name": "stdout",
                              "output_type": "stream",
                              "text": [
                                    "+--------------------------+----------------------------+-------------------------+--------------------------+----------------------+-------------------------+-------------------------+------------------+----------------------+---------------------------+-----------------------+\n",
                                    "|merchant_abn_missing_count|order_datetime_missing_count|consumer_id_missing_count|dollar_value_missing_count|order_id_missing_count|consumer_fp_missing_count|merchant_fp_missing_count|name_missing_count|category_missing_count|revenue_level_missing_count|take_rate_missing_count|\n",
                                    "+--------------------------+----------------------------+-------------------------+--------------------------+----------------------+-------------------------+-------------------------+------------------+----------------------+---------------------------+-----------------------+\n",
                                    "|                         0|                           0|                        0|                         0|                     0|                 11861825|                 11929089|                 0|                     0|                          0|                      0|\n",
                                    "+--------------------------+----------------------------+-------------------------+--------------------------+----------------------+-------------------------+-------------------------+------------------+----------------------+---------------------------+-----------------------+\n",
                                    "\n"
                              ]
                        },
                        {
                              "name": "stderr",
                              "output_type": "stream",
                              "text": [
                                    "                                                                                \r"
                              ]
                        }
                  ],
                  "source": [
                        "calculate_missing_values(transactions_df)"
                  ]
            },
            {
                  "cell_type": "markdown",
                  "metadata": {},
                  "source": [
                        "Let's plot the distribution of dollar value of transactions, consumer and merchant fraud probability. We applied log transformation to all the variables as we suspect that the data is heaviliy skewed."
                  ]
            },
            {
                  "cell_type": "code",
                  "execution_count": 14,
                  "metadata": {},
                  "outputs": [
                        {
                              "name": "stderr",
                              "output_type": "stream",
                              "text": [
                                    "                                                                                \r"
                              ]
                        }
                  ],
                  "source": [
                        "# Convert columns to Pandas for plotting\n",
                        "df_pandas = transactions_df.select(\"dollar_value\", \"merchant_fp\", \"consumer_fp\").toPandas()"
                  ]
            },
            {
                  "cell_type": "code",
                  "execution_count": 15,
                  "metadata": {},
                  "outputs": [
                        {
                              "data": {
                                    "image/png": "[encoded data removed]",
                                    "text/plain": [
                                          "<Figure size 1000x600 with 1 Axes>"
                                    ]
                              },
                              "metadata": {},
                              "output_type": "display_data"
                        },
                        {
                              "data": {
                                    "image/png": "[encoded data removed]",
                                    "text/plain": [
                                          "<Figure size 1000x600 with 1 Axes>"
                                    ]
                              },
                              "metadata": {},
                              "output_type": "display_data"
                        },
                        {
                              "data": {
                                    "image/png": "[encoded data removed]",
                                    "text/plain": [
                                          "<Figure size 1000x600 with 1 Axes>"
                                    ]
                              },
                              "metadata": {},
                              "output_type": "display_data"
                        }
                  ],
                  "source": [
                        "import matplotlib.pyplot as plt\n",
                        "# Plot the distribution for dollar_value with better scaling\n",
                        "plt.figure(figsize=(10, 6))\n",
                        "plt.hist(df_pandas['dollar_value'], bins=50, color='blue', alpha=0.7, log=True)  # Apply log scale to y-axis\n",
                        "plt.title(\"Dollar Value Distribution (Before Removing Outliers)\")\n",
                        "plt.xlabel(\"Dollar Value\")\n",
                        "plt.ylabel(\"Frequency (log scale)\")\n",
                        "plt.xlim([0, 100000])  # Adjust x-axis limits\n",
                        "plt.show()\n",
                        "\n",
                        "# Plot the distribution for fraud_probability (merchant) with better scaling\n",
                        "plt.figure(figsize=(10, 6))\n",
                        "plt.hist(df_pandas['merchant_fp'], bins=50, color='green', alpha=0.7, log=True)  # Apply log scale to y-axis\n",
                        "plt.title(\"Merchant Fraud Probability Distribution (Before Removing Outliers)\")\n",
                        "plt.xlabel(\"Merchant Fraud Probability\")\n",
                        "plt.ylabel(\"Frequency (log scale)\")\n",
                        "plt.xlim([20, 70])  # Adjust x-axis limits\n",
                        "plt.show()\n",
                        "\n",
                        "# Plot the distribution for fraud_probability (consumer) with better scaling\n",
                        "plt.figure(figsize=(10, 6))\n",
                        "plt.hist(df_pandas['consumer_fp'], bins=50, color='red', alpha=0.7, log=True)  # Apply log scale to y-axis\n",
                        "plt.title(\"Consumer Fraud Probability Distribution (Before Removing Outliers)\")\n",
                        "plt.xlabel(\"Consumer Fraud Probability\")\n",
                        "plt.ylabel(\"Frequency (log scale)\")\n",
                        "plt.xlim([0, 100])  # Adjust x-axis limits\n",
                        "plt.show()"
                  ]
            },
            {
                  "cell_type": "markdown",
                  "metadata": {},
                  "source": [
                        "As we can see, the distribution of the 3 quantities are heavily skewed even after a log-transformation was applied. Though, this characteristic is desirable for flagging fraudulent transactions.\n",
                        "\n",
                        "Since our ultimate goal is to select 100 merchants to join the BNPL firm, it's worthwhile to see top merchants in term of sales."
                  ]
            },
            {
                  "cell_type": "code",
                  "execution_count": 16,
                  "metadata": {},
                  "outputs": [
                        {
                              "name": "stderr",
                              "output_type": "stream",
                              "text": [
                                    "[Stage 146:===================================================>   (16 + 1) / 17]\r"
                              ]
                        },
                        {
                              "name": "stdout",
                              "output_type": "stream",
                              "text": [
                                    "+------------+-----------------+-------------------+------------+\n",
                                    "|merchant_abn|    total_revenue|average_order_value|total_orders|\n",
                                    "+------------+-----------------+-------------------+------------+\n",
                                    "| 39649557865|8703257.424976716| 449.31633582739886|       19370|\n",
                                    "| 27093785141|8682017.660520375|  377.1510712650032|       23020|\n",
                                    "| 96680767841|8665512.552734645|  315.1095473721689|       27500|\n",
                                    "| 79827781481|8648065.346212227| 2036.2762764803924|        4247|\n",
                                    "| 31334588839| 8599022.69652039|  6350.829170251396|        1354|\n",
                                    "| 32709545238|8587654.707827266|  751.3258712009857|       11430|\n",
                                    "| 82368304209| 8549780.82544695| 1866.3568708681403|        4581|\n",
                                    "| 50315283629|8500974.359562635| 322.36071288774167|       26371|\n",
                                    "| 90568944804|8500425.640651297|  898.8501259015858|        9457|\n",
                                    "| 38700038932|8456523.178606164| 1337.2111288118538|        6324|\n",
                                    "+------------+-----------------+-------------------+------------+\n",
                                    "only showing top 10 rows\n",
                                    "\n"
                              ]
                        },
                        {
                              "name": "stderr",
                              "output_type": "stream",
                              "text": [
                                    "                                                                                \r"
                              ]
                        }
                  ],
                  "source": [
                        "# Revenue analysis\n",
                        "merchant_sales = transactions_df.groupBy(\"merchant_abn\").agg(\n",
                        "    F.sum(\"dollar_value\").alias(\"total_revenue\"),\n",
                        "    F.avg(\"dollar_value\").alias(\"average_order_value\"),\n",
                        "    F.count(\"dollar_value\").alias(\"total_orders\")\n",
                        ")\n",
                        "\n",
                        "# Rank merchants by total revenue in descending order\n",
                        "merchant_sales = merchant_sales.orderBy(F.col(\"total_revenue\").desc())\n",
                        "merchant_sales.show(10)"
                  ]
            },
            {
                  "cell_type": "code",
                  "execution_count": 17,
                  "metadata": {},
                  "outputs": [],
                  "source": [
                        "# Risk analysis\n",
                        "# merchant_performance_risk = transactions_fp.groupBy(\"merchant_abn\").agg(\n",
                        "#     F.avg(\"merchant_fp\").alias(\"merchant_avg_fp\"),\n",
                        "#     F.avg(\"consumer_fp\").alias(\"consumer_avg_fp\"),\n",
                        "#     F.sum(\"dollar_value\").alias(\"total_revenue\"),\n",
                        "#     F.avg(\"dollar_value\").alias(\"average_order_value\"),\n",
                        "#     F.count(\"dollar_value\").alias(\"total_orders\")\n",
                        "# )\n",
                        "\n",
                        "# # Rank merchants by fraud probability in descending order\n",
                        "# merchant_performance_risk = merchant_performance_risk.orderBy(F.col(\"merchant_avg_fp\").desc())\n",
                        "# merchant_performance_risk.show(10)"
                  ]
            },
            {
                  "cell_type": "markdown",
                  "metadata": {},
                  "source": [
                        "We also want to see how much the BNPL firm will make if they select the merchants. We will denote this value as `total_commission` and it is defined as:\n",
                        "$$\\text{Total commission} = \\text{Revenue level} \\times \\text{Merchant's total revenue} $$\n"
                  ]
            },
            {
                  "cell_type": "code",
                  "execution_count": 18,
                  "metadata": {},
                  "outputs": [
                        {
                              "name": "stderr",
                              "output_type": "stream",
                              "text": [
                                    "[Stage 161:===================================================>   (16 + 1) / 17]\r"
                              ]
                        },
                        {
                              "name": "stdout",
                              "output_type": "stream",
                              "text": [
                                    "+------------+------------------+-----------------+-------------------+------------+------------------+------------------+\n",
                                    "|merchant_abn|  total_commission|    total_revenue|average_order_value|total_orders|   merchant_avg_fp|   consumer_avg_fp|\n",
                                    "+------------+------------------+-----------------+-------------------+------------+------------------+------------------+\n",
                                    "| 79827781481| 589798.0566116741|8648065.346212227| 2036.2762764803924|        4247|29.694380203418124| 12.77383070226627|\n",
                                    "| 48534649627| 551195.6525381528|8301139.345454112|  142.7907344190954|       58135|28.576726038839904|14.923884163361897|\n",
                                    "| 32361057556|  550542.205262667|8328928.975229456| 109.93979560487145|       75759|              NULL|15.350992988663368|\n",
                                    "| 86578477987| 542066.8802185243|8430278.074938172|  35.03972731819085|      240592|              NULL| 14.76958039357884|\n",
                                    "| 38700038932| 533606.6125700489|8456523.178606164| 1337.2111288118538|        6324|              NULL|11.164228026866112|\n",
                                    "| 45629217853|518286.79693797545|7425312.277048356|  37.88057421499118|      196019|              NULL|15.028875450084216|\n",
                                    "| 96680767841| 512131.7918666177|8665512.552734645|  315.1095473721689|       27500| 29.55524469042502| 14.68158473092625|\n",
                                    "| 21439773999| 507995.8506295758|8327800.829993049|  78.16155303805914|      106546|  28.5044790481046|14.668721361865115|\n",
                                    "| 63123845164| 498439.6952062812|7563576.558517163|  751.6224345142763|       10063|              NULL|11.570886106200383|\n",
                                    "| 64403598239|494173.52987971954|7831593.183513774|  78.11985100910488|      100251|              NULL| 14.59520264877192|\n",
                                    "+------------+------------------+-----------------+-------------------+------------+------------------+------------------+\n",
                                    "only showing top 10 rows\n",
                                    "\n"
                              ]
                        },
                        {
                              "name": "stderr",
                              "output_type": "stream",
                              "text": [
                                    "                                                                                \r"
                              ]
                        }
                  ],
                  "source": [
                        "# Profitability analysis\n",
                        "# Calculate net revenue at the transaction level before aggregation\n",
                        "merchant_revenue = transactions_df.withColumn(\n",
                        "    \"commission_value\", F.col(\"dollar_value\") * F.col(\"take_rate\")/100\n",
                        ")\n",
                        "\n",
                        "# Aggregate net_revenue at the merchant level\n",
                        "merchant_profitability = merchant_revenue.groupBy(\"merchant_abn\").agg(\n",
                        "    F.sum(\"commission_value\").alias(\"total_commission\"),\n",
                        "    F.sum(\"dollar_value\").alias(\"total_revenue\"),\n",
                        "    F.avg(\"dollar_value\").alias(\"average_order_value\"),\n",
                        "    F.count(\"dollar_value\").alias(\"total_orders\"),\n",
                        "    F.avg(\"merchant_fp\").alias(\"merchant_avg_fp\"),\n",
                        "    F.avg(\"consumer_fp\").alias(\"consumer_avg_fp\")\n",
                        ")\n",
                        "\n",
                        "# Rank merchants by profitability in descending order\n",
                        "merchant_profitability.orderBy(F.col(\"total_commission\").desc()).show(10)"
                  ]
            },
            {
                  "cell_type": "markdown",
                  "metadata": {},
                  "source": [
                        "Taking a look at how much revenue does each revenue make in total as well as how many mechants are in each level."
                  ]
            },
            {
                  "cell_type": "code",
                  "execution_count": 19,
                  "metadata": {},
                  "outputs": [
                        {
                              "name": "stderr",
                              "output_type": "stream",
                              "text": [
                                    "                                                                                \r"
                              ]
                        },
                        {
                              "data": {
                                    "text/html": [
                                          "<table border='1'>\n",
                                          "<tr><th>revenue_level</th><th>total_revenue</th></tr>\n",
                                          "<tr><td>e</td><td>62249.061854586515</td></tr>\n",
                                          "<tr><td>d</td><td>329616.53593941446</td></tr>\n",
                                          "<tr><td>c</td><td>8966666.315755598</td></tr>\n",
                                          "<tr><td>b</td><td>2.8012155570699845E7</td></tr>\n",
                                          "<tr><td>a</td><td>4.782461194533647E7</td></tr>\n",
                                          "</table>\n"
                                    ],
                                    "text/plain": [
                                          "+-------------+--------------------+\n",
                                          "|revenue_level|       total_revenue|\n",
                                          "+-------------+--------------------+\n",
                                          "|            e|  62249.061854586515|\n",
                                          "|            d|  329616.53593941446|\n",
                                          "|            c|   8966666.315755598|\n",
                                          "|            b|2.8012155570699845E7|\n",
                                          "|            a| 4.782461194533647E7|\n",
                                          "+-------------+--------------------+"
                                    ]
                              },
                              "execution_count": 19,
                              "metadata": {},
                              "output_type": "execute_result"
                        }
                  ],
                  "source": [
                        "net_revenue_level = merchant_revenue.groupBy('revenue_level').agg(\n",
                        "    F.sum('commission_value').alias('total_revenue')) #sum up the net_revenue of BNPL firm for each level\n",
                        "net_revenue_level "
                  ]
            },
            {
                  "cell_type": "code",
                  "execution_count": 20,
                  "metadata": {},
                  "outputs": [
                        {
                              "name": "stderr",
                              "output_type": "stream",
                              "text": [
                                    "                                                                                \r"
                              ]
                        },
                        {
                              "data": {
                                    "text/html": [
                                          "<table border='1'>\n",
                                          "<tr><th>revenue_level</th><th>count</th></tr>\n",
                                          "<tr><td>e</td><td>105868</td></tr>\n",
                                          "<tr><td>d</td><td>120391</td></tr>\n",
                                          "<tr><td>c</td><td>2906492</td></tr>\n",
                                          "<tr><td>b</td><td>3443556</td></tr>\n",
                                          "<tr><td>a</td><td>5356780</td></tr>\n",
                                          "</table>\n"
                                    ],
                                    "text/plain": [
                                          "+-------------+-------+\n",
                                          "|revenue_level|  count|\n",
                                          "+-------------+-------+\n",
                                          "|            e| 105868|\n",
                                          "|            d| 120391|\n",
                                          "|            c|2906492|\n",
                                          "|            b|3443556|\n",
                                          "|            a|5356780|\n",
                                          "+-------------+-------+"
                                    ]
                              },
                              "execution_count": 20,
                              "metadata": {},
                              "output_type": "execute_result"
                        }
                  ],
                  "source": [
                        "# Count the occurrences of each revenue level\n",
                        "merchant_revenue.groupBy('revenue_level').count()"
                  ]
            },
            {
                  "cell_type": "markdown",
                  "metadata": {},
                  "source": [
                        "We can see that revenue level \"a\" has the highest revenue and number of merchants."
                  ]
            },
            {
                  "cell_type": "code",
                  "execution_count": 21,
                  "metadata": {},
                  "outputs": [
                        {
                              "name": "stderr",
                              "output_type": "stream",
                              "text": [
                                    "[Stage 236:>                                                      (0 + 16) / 17]\r"
                              ]
                        },
                        {
                              "name": "stdout",
                              "output_type": "stream",
                              "text": [
                                    "+-------------+------------------+\n",
                                    "|revenue_level|   merchant_avg_fp|\n",
                                    "+-------------+------------------+\n",
                                    "|            e| 69.09531723361212|\n",
                                    "|            d| 63.37734364737916|\n",
                                    "|            c|29.804989076887868|\n",
                                    "|            b| 31.61314790454024|\n",
                                    "|            a|29.487766109662502|\n",
                                    "+-------------+------------------+\n",
                                    "\n"
                              ]
                        },
                        {
                              "name": "stderr",
                              "output_type": "stream",
                              "text": [
                                    "                                                                                \r"
                              ]
                        }
                  ],
                  "source": [
                        "# # Compute the average fraud probability for each revenue level\n",
                        "average_fraud_by_revenue_level = merchant_revenue.groupBy(F.col(\"revenue_level\")).agg(\n",
                        "    F.avg(F.col(\"merchant_fp\")).alias(\"merchant_avg_fp\"))\n",
                        "\n",
                        "# Show the results\n",
                        "average_fraud_by_revenue_level.show()"
                  ]
            },
            {
                  "cell_type": "markdown",
                  "metadata": {},
                  "source": [
                        "We will save the `merchant_profitability` dataframe for future uses in visualisation."
                  ]
            },
            {
                  "cell_type": "code",
                  "execution_count": 22,
                  "metadata": {},
                  "outputs": [
                        {
                              "name": "stderr",
                              "output_type": "stream",
                              "text": [
                                    "                                                                                \r"
                              ]
                        }
                  ],
                  "source": [
                        "merchant_profitability.write.parquet(f\"../data/curated/merchant_profitability.parquet\", mode = 'overwrite')\n",
                        "transactions_df.write.parquet(f\"../data/curated/transactions.parquet\", mode = 'overwrite')"
                  ]
            }
      ],
      "metadata": {
            "kernelspec": {
                  "display_name": "Python 3",
                  "language": "python",
                  "name": "python3"
            },
            "language_info": {
                  "codemirror_mode": {
                        "name": "ipython",
                        "version": 3
                  },
                  "file_extension": ".py",
                  "mimetype": "text/x-python",
                  "name": "python",
                  "nbconvert_exporter": "python",
                  "pygments_lexer": "ipython3",
                  "version": "3.11.7"
            }
      },
      "nbformat": 4,
      "nbformat_minor": 2
}

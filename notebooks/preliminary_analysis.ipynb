{
 "cells": [
  {
   "cell_type": "code",
   "execution_count": 1,
   "metadata": {},
   "outputs": [],
   "source": [
    "import os\n",
    "os.sys.path.append(\"../\")\n",
    "from scripts.preliminary_analysis import *"
   ]
  },
  {
   "cell_type": "code",
   "execution_count": 2,
   "metadata": {},
   "outputs": [
    {
     "name": "stderr",
     "output_type": "stream",
     "text": [
      "24/09/09 12:39:56 WARN Utils: Your hostname, DESKTOP-H6V94HM resolves to a loopback address: 127.0.1.1; using 192.168.0.204 instead (on interface wifi0)\n",
      "24/09/09 12:39:56 WARN Utils: Set SPARK_LOCAL_IP if you need to bind to another address\n",
      "Setting default log level to \"WARN\".\n",
      "To adjust logging level use sc.setLogLevel(newLevel). For SparkR, use setLogLevel(newLevel).\n",
      "24/09/09 12:39:57 WARN NativeCodeLoader: Unable to load native-hadoop library for your platform... using builtin-java classes where applicable\n"
     ]
    }
   ],
   "source": [
    "spark = (\n",
    "    SparkSession.builder.appName(\"Preliminary Analysis\")\n",
    "    .config(\"spark.sql.repl.eagerEval.enabled\", True)\n",
    "    .config(\"spark.sql.parquet.cacheMetadata\", \"true\")\n",
    "    .config(\"spark.sql.session.timeZone\", \"Etc/UTC\")\n",
    "    .config(\"spark.driver.memory\", \"4g\")\n",
    "    .config(\"spark.executor.memory\", \"2g\")\n",
    "    .getOrCreate()\n",
    ")"
   ]
  },
  {
   "cell_type": "markdown",
   "metadata": {},
   "source": [
    "# Preliminary Analysis\n",
    "\n",
    "In this notebook, we will conduct a brief analysis on the data that we cleaned. First, let's check the number of merchants that were given a fraud probability (fp) on transactions.\n",
    "\n",
    "## Merchants"
   ]
  },
  {
   "cell_type": "code",
   "execution_count": 3,
   "metadata": {},
   "outputs": [],
   "source": [
    "path = \"../data/curated\""
   ]
  },
  {
   "cell_type": "code",
   "execution_count": 7,
   "metadata": {},
   "outputs": [],
   "source": [
    "merchant = spark.read.parquet(f\"{path}/merchant_info.parquet\")\n",
    "merchant_fp = spark.read.parquet(f\"{path}/merchant_fraud_prob.parquet\")"
   ]
  },
  {
   "cell_type": "code",
   "execution_count": 11,
   "metadata": {},
   "outputs": [
    {
     "name": "stdout",
     "output_type": "stream",
     "text": [
      "Total number of merchants: 4026\n",
      "Number of merchant with fraud probability in transactions: 61\n"
     ]
    }
   ],
   "source": [
    "print(f'Total number of merchants: {merchant.select(\"merchant_abn\").distinct().count()}')\n",
    "print(f'Number of merchant with fraud probability in transactions: {merchant_fp.select(\"merchant_abn\").distinct().count()}')"
   ]
  },
  {
   "cell_type": "markdown",
   "metadata": {},
   "source": [
    "From the numbers above, we can see that there are only 61 merchants with a fraud probability out of 4026 which is only about 1%. Thus, we need to create a sufficient model to give fraud probability for each merchant as that will help us determine which transaction is valid. \n",
    "\n",
    "For now, let's see if a merchant has a fraud probability in a transaction, how many transactions from them have a probability and what's the average if it's greater than 1."
   ]
  },
  {
   "cell_type": "code",
   "execution_count": 13,
   "metadata": {},
   "outputs": [
    {
     "data": {
      "text/html": [
       "<table border='1'>\n",
       "<tr><th>merchant_abn</th><th>num_transaction_with_prob</th><th>avg_prob</th></tr>\n",
       "<tr><td>99989036621</td><td>1</td><td>18.21089142894488</td></tr>\n",
       "<tr><td>90568944804</td><td>3</td><td>30.72298492113958</td></tr>\n",
       "<tr><td>29674997261</td><td>1</td><td>44.43787807900268</td></tr>\n",
       "<tr><td>27093785141</td><td>3</td><td>28.88064813052203</td></tr>\n",
       "<tr><td>19492220327</td><td>8</td><td>31.958306675667547</td></tr>\n",
       "<tr><td>76968105359</td><td>1</td><td>68.27843632543912</td></tr>\n",
       "<tr><td>97884414539</td><td>1</td><td>89.79919971536573</td></tr>\n",
       "<tr><td>82999039227</td><td>1</td><td>94.1347004808891</td></tr>\n",
       "<tr><td>83199298021</td><td>6</td><td>31.93490297074105</td></tr>\n",
       "<tr><td>93292821052</td><td>1</td><td>66.58725735032715</td></tr>\n",
       "<tr><td>43083074133</td><td>1</td><td>48.66890735193894</td></tr>\n",
       "<tr><td>15157368385</td><td>1</td><td>64.2774131928303</td></tr>\n",
       "<tr><td>76767266140</td><td>1</td><td>29.539733207182703</td></tr>\n",
       "<tr><td>96680767841</td><td>1</td><td>29.555244690425017</td></tr>\n",
       "<tr><td>35909341340</td><td>1</td><td>29.13305311007307</td></tr>\n",
       "<tr><td>72058040180</td><td>1</td><td>33.71875978884334</td></tr>\n",
       "<tr><td>19010030815</td><td>3</td><td>51.033927919712056</td></tr>\n",
       "<tr><td>39649557865</td><td>1</td><td>28.690204286050616</td></tr>\n",
       "<tr><td>48534649627</td><td>3</td><td>28.56793296472796</td></tr>\n",
       "<tr><td>85482742429</td><td>1</td><td>70.88131110541714</td></tr>\n",
       "</table>\n",
       "only showing top 20 rows\n"
      ],
      "text/plain": [
       "+------------+-------------------------+------------------+\n",
       "|merchant_abn|num_transaction_with_prob|          avg_prob|\n",
       "+------------+-------------------------+------------------+\n",
       "| 99989036621|                        1| 18.21089142894488|\n",
       "| 90568944804|                        3| 30.72298492113958|\n",
       "| 29674997261|                        1| 44.43787807900268|\n",
       "| 27093785141|                        3| 28.88064813052203|\n",
       "| 19492220327|                        8|31.958306675667547|\n",
       "| 76968105359|                        1| 68.27843632543912|\n",
       "| 97884414539|                        1| 89.79919971536573|\n",
       "| 82999039227|                        1|  94.1347004808891|\n",
       "| 83199298021|                        6| 31.93490297074105|\n",
       "| 93292821052|                        1| 66.58725735032715|\n",
       "| 43083074133|                        1| 48.66890735193894|\n",
       "| 15157368385|                        1|  64.2774131928303|\n",
       "| 76767266140|                        1|29.539733207182703|\n",
       "| 96680767841|                        1|29.555244690425017|\n",
       "| 35909341340|                        1| 29.13305311007307|\n",
       "| 72058040180|                        1| 33.71875978884334|\n",
       "| 19010030815|                        3|51.033927919712056|\n",
       "| 39649557865|                        1|28.690204286050616|\n",
       "| 48534649627|                        3| 28.56793296472796|\n",
       "| 85482742429|                        1| 70.88131110541714|\n",
       "+------------+-------------------------+------------------+\n",
       "only showing top 20 rows"
      ]
     },
     "execution_count": 13,
     "metadata": {},
     "output_type": "execute_result"
    }
   ],
   "source": [
    "merchant_fp.groupBy(\"merchant_abn\").agg(\n",
    "    F.count(F.col(\"merchant_abn\")).alias(\"num_transaction_with_prob\"),\n",
    "    F.avg(\"fraud_probability\").alias(\"avg_prob\")\n",
    ")"
   ]
  },
  {
   "cell_type": "markdown",
   "metadata": {},
   "source": [
    "Though the table is only showing 20 rows, we can see that there are merchants with more than one transaction with fraud probability. This mmight be helpful when it comes to deciding which merchant to be onboard.\n",
    "\n",
    "Below is the summary statistic of the merchant fraud probability."
   ]
  },
  {
   "cell_type": "code",
   "execution_count": 18,
   "metadata": {},
   "outputs": [
    {
     "data": {
      "text/html": [
       "<table border='1'>\n",
       "<tr><th>summary</th><th>fraud_probability</th></tr>\n",
       "<tr><td>count</td><td>114</td></tr>\n",
       "<tr><td>mean</td><td>40.419334695018094</td></tr>\n",
       "<tr><td>stddev</td><td>17.187744795432526</td></tr>\n",
       "<tr><td>min</td><td>18.21089142894488</td></tr>\n",
       "<tr><td>max</td><td>94.1347004808891</td></tr>\n",
       "</table>\n"
      ],
      "text/plain": [
       "+-------+------------------+\n",
       "|summary| fraud_probability|\n",
       "+-------+------------------+\n",
       "|  count|               114|\n",
       "|   mean|40.419334695018094|\n",
       "| stddev|17.187744795432526|\n",
       "|    min| 18.21089142894488|\n",
       "|    max|  94.1347004808891|\n",
       "+-------+------------------+"
      ]
     },
     "execution_count": 18,
     "metadata": {},
     "output_type": "execute_result"
    }
   ],
   "source": [
    "merchant_fp.select(F.col(\"fraud_probability\")).describe().limit(5)"
   ]
  },
  {
   "cell_type": "markdown",
   "metadata": {},
   "source": [
    "## Consumer"
   ]
  },
  {
   "cell_type": "code",
   "execution_count": 19,
   "metadata": {},
   "outputs": [],
   "source": [
    "consumer_pf = spark.read.parquet(f\"{path}/consumer_fraud_prob.parquet\")"
   ]
  },
  {
   "cell_type": "markdown",
   "metadata": {},
   "source": [
    "Summary statistic of consumers fraud probability."
   ]
  },
  {
   "cell_type": "code",
   "execution_count": 20,
   "metadata": {},
   "outputs": [
    {
     "data": {
      "text/html": [
       "<table border='1'>\n",
       "<tr><th>summary</th><th>fraud_probability</th></tr>\n",
       "<tr><td>count</td><td>34864</td></tr>\n",
       "<tr><td>mean</td><td>15.12009064415455</td></tr>\n",
       "<tr><td>stddev</td><td>9.94608484957805</td></tr>\n",
       "<tr><td>min</td><td>8.287143531552802</td></tr>\n",
       "<tr><td>max</td><td>99.24738020302328</td></tr>\n",
       "</table>\n"
      ],
      "text/plain": [
       "+-------+-----------------+\n",
       "|summary|fraud_probability|\n",
       "+-------+-----------------+\n",
       "|  count|            34864|\n",
       "|   mean|15.12009064415455|\n",
       "| stddev| 9.94608484957805|\n",
       "|    min|8.287143531552802|\n",
       "|    max|99.24738020302328|\n",
       "+-------+-----------------+"
      ]
     },
     "execution_count": 20,
     "metadata": {},
     "output_type": "execute_result"
    }
   ],
   "source": [
    "consumer_pf.select(F.col(\"fraud_probability\")).describe().limit(5)"
   ]
  },
  {
   "cell_type": "markdown",
   "metadata": {},
   "source": [
    "## Transactions"
   ]
  },
  {
   "cell_type": "markdown",
   "metadata": {},
   "source": [
    "Summary statistic of consumers fraud probability."
   ]
  },
  {
   "cell_type": "code",
   "execution_count": 21,
   "metadata": {},
   "outputs": [],
   "source": [
    "transactions = spark.read.parquet(f\"{path}/transactions.parquet\")"
   ]
  },
  {
   "cell_type": "code",
   "execution_count": 22,
   "metadata": {},
   "outputs": [
    {
     "data": {
      "text/html": [
       "<table border='1'>\n",
       "<tr><th>summary</th><th>dollar_value</th></tr>\n",
       "<tr><td>count</td><td>12561377</td></tr>\n",
       "<tr><td>mean</td><td>166.33982036554548</td></tr>\n",
       "<tr><td>stddev</td><td>520.3624254515674</td></tr>\n",
       "<tr><td>min</td><td>9.756658099412162E-8</td></tr>\n",
       "<tr><td>max</td><td>105193.88578925544</td></tr>\n",
       "</table>\n"
      ],
      "text/plain": [
       "+-------+--------------------+\n",
       "|summary|        dollar_value|\n",
       "+-------+--------------------+\n",
       "|  count|            12561377|\n",
       "|   mean|  166.33982036554548|\n",
       "| stddev|   520.3624254515674|\n",
       "|    min|9.756658099412162E-8|\n",
       "|    max|  105193.88578925544|\n",
       "+-------+--------------------+"
      ]
     },
     "execution_count": 22,
     "metadata": {},
     "output_type": "execute_result"
    }
   ],
   "source": [
    "transactions.select(F.col(\"dollar_value\")).describe().limit(5)"
   ]
  },
  {
   "cell_type": "markdown",
   "metadata": {},
   "source": [
    "We can see that the minimum dollar value is $0.00000009 which is way less than 1 cents. It may be appropriate to consider these value as valid since it's an unreasonable amount. However, this does not necessarily mean we will remove them at this might be an indicator of a fraud transactions. We will find out later on once join the transactions with consumer and merchant fraud probability\n",
    "\n",
    "For now, let's see how much each merchant makes in total, the average value of an order, and the total number of order. We will also calculate the commission amount (take rates $\\times$ total revenue) that the BNPL firm will get if they collaborate with the merchant"
   ]
  },
  {
   "cell_type": "code",
   "execution_count": 38,
   "metadata": {},
   "outputs": [
    {
     "name": "stderr",
     "output_type": "stream",
     "text": [
      "                                                                                \r"
     ]
    },
    {
     "data": {
      "text/html": [
       "<table border='1'>\n",
       "<tr><th>merchant_abn</th><th>total_revenue</th><th>average_order_value</th><th>total_orders</th><th>name</th><th>category</th><th>revenue_level</th><th>take_rate</th><th>commission_amount</th></tr>\n",
       "<tr><td>79827781481</td><td>8657277.096810075</td><td>2036.5271928511113</td><td>4251</td><td>Amet Risus Inc.</td><td>furniture, home f...</td><td>a</td><td>6.82</td><td>590426.3</td></tr>\n",
       "<tr><td>48534649627</td><td>8316735.67184678</td><td>141.7182529069912</td><td>58685</td><td>Dignissim Maecena...</td><td>opticians, optica...</td><td>a</td><td>6.64</td><td>552231.25</td></tr>\n",
       "<tr><td>32361057556</td><td>8339994.520798449</td><td>109.94943536575283</td><td>75853</td><td>Orci In Consequat...</td><td>gift, card, novel...</td><td>a</td><td>6.61</td><td>551273.64</td></tr>\n",
       "<tr><td>86578477987</td><td>8443178.696731722</td><td>34.9851605095457</td><td>241336</td><td>Leo In Consulting</td><td>watch, clock, and...</td><td>a</td><td>6.43</td><td>542896.39</td></tr>\n",
       "<tr><td>38700038932</td><td>8482176.65570551</td><td>1337.6717640286247</td><td>6341</td><td>Etiam Bibendum In...</td><td>tent and awning s...</td><td>a</td><td>6.31</td><td>535225.35</td></tr>\n",
       "<tr><td>45629217853</td><td>7436925.452881987</td><td>36.84747288748941</td><td>201830</td><td>Lacus Consulting</td><td>gift, card, novel...</td><td>a</td><td>6.98</td><td>519097.4</td></tr>\n",
       "<tr><td>96680767841</td><td>8679874.166938096</td><td>315.1619101317344</td><td>27541</td><td>Ornare Limited</td><td>motor vehicle sup...</td><td>a</td><td>5.91</td><td>512980.56</td></tr>\n",
       "<tr><td>21439773999</td><td>8337853.955271486</td><td>78.1253884343867</td><td>106724</td><td>Mauris Non Institute</td><td>cable, satellite,...</td><td>a</td><td>6.1</td><td>508609.09</td></tr>\n",
       "<tr><td>63123845164</td><td>7570160.924957567</td><td>751.380736968493</td><td>10075</td><td>Odio Phasellus In...</td><td>artist supply and...</td><td>a</td><td>6.59</td><td>498873.6</td></tr>\n",
       "<tr><td>64403598239</td><td>7842635.605858917</td><td>78.11856889713447</td><td>100394</td><td>Lobortis Ultrices...</td><td>music shops - mus...</td><td>a</td><td>6.31</td><td>494870.31</td></tr>\n",
       "</table>\n"
      ],
      "text/plain": [
       "+------------+-----------------+-------------------+------------+--------------------+--------------------+-------------+---------+-----------------+\n",
       "|merchant_abn|    total_revenue|average_order_value|total_orders|                name|            category|revenue_level|take_rate|commission_amount|\n",
       "+------------+-----------------+-------------------+------------+--------------------+--------------------+-------------+---------+-----------------+\n",
       "| 79827781481|8657277.096810075| 2036.5271928511113|        4251|     Amet Risus Inc.|furniture, home f...|            a|     6.82|         590426.3|\n",
       "| 48534649627| 8316735.67184678|  141.7182529069912|       58685|Dignissim Maecena...|opticians, optica...|            a|     6.64|        552231.25|\n",
       "| 32361057556|8339994.520798449| 109.94943536575283|       75853|Orci In Consequat...|gift, card, novel...|            a|     6.61|        551273.64|\n",
       "| 86578477987|8443178.696731722|   34.9851605095457|      241336|   Leo In Consulting|watch, clock, and...|            a|     6.43|        542896.39|\n",
       "| 38700038932| 8482176.65570551| 1337.6717640286247|        6341|Etiam Bibendum In...|tent and awning s...|            a|     6.31|        535225.35|\n",
       "| 45629217853|7436925.452881987|  36.84747288748941|      201830|    Lacus Consulting|gift, card, novel...|            a|     6.98|         519097.4|\n",
       "| 96680767841|8679874.166938096|  315.1619101317344|       27541|      Ornare Limited|motor vehicle sup...|            a|     5.91|        512980.56|\n",
       "| 21439773999|8337853.955271486|   78.1253884343867|      106724|Mauris Non Institute|cable, satellite,...|            a|      6.1|        508609.09|\n",
       "| 63123845164|7570160.924957567|   751.380736968493|       10075|Odio Phasellus In...|artist supply and...|            a|     6.59|         498873.6|\n",
       "| 64403598239|7842635.605858917|  78.11856889713447|      100394|Lobortis Ultrices...|music shops - mus...|            a|     6.31|        494870.31|\n",
       "+------------+-----------------+-------------------+------------+--------------------+--------------------+-------------+---------+-----------------+"
      ]
     },
     "execution_count": 38,
     "metadata": {},
     "output_type": "execute_result"
    }
   ],
   "source": [
    "merchant_info = spark.read.parquet(f\"{path}/merchant_info.parquet\")\n",
    "\n",
    "merchant_sales_info = transactions.groupBy(\"merchant_abn\").agg(\n",
    "    F.sum(\"dollar_value\").alias(\"total_revenue\"),\n",
    "    F.avg(\"dollar_value\").alias(\"average_order_value\"),\n",
    "    F.count(\"dollar_value\").alias(\"total_orders\")\n",
    ")\n",
    "\n",
    "merchant_sales_info = merchant_sales_info.join(merchant_info, on=\"merchant_abn\", how = \"inner\")\n",
    "merchant_sales_info = merchant_sales_info.withColumn(\"commission_amount\", \n",
    "                                                     F.round(F.col('take_rate')/100 * F.col('total_revenue'),2))\n",
    "merchant_sales_info.orderBy(F.col(\"commission_amount\"), ascending= False ).limit(10)"
   ]
  },
  {
   "cell_type": "markdown",
   "metadata": {},
   "source": [
    "It's also worth to look at how much commission does each revenue level brings on average."
   ]
  },
  {
   "cell_type": "code",
   "execution_count": 51,
   "metadata": {},
   "outputs": [
    {
     "name": "stderr",
     "output_type": "stream",
     "text": [
      "                                                                                \r"
     ]
    },
    {
     "data": {
      "text/html": [
       "<table border='1'>\n",
       "<tr><th>revenue_level</th><th>num_merchant</th><th>total_orders</th><th>avg_commission_amount</th><th>total_commission_amount</th></tr>\n",
       "<tr><td>e</td><td>53</td><td>106218</td><td>1,175.96</td><td>62,325.93</td></tr>\n",
       "<tr><td>d</td><td>98</td><td>121037</td><td>3,368.06</td><td>330,069.51</td></tr>\n",
       "<tr><td>c</td><td>922</td><td>2941588</td><td>9,738.67</td><td>8,979,050.00</td></tr>\n",
       "<tr><td>b</td><td>1351</td><td>3470381</td><td>20,762.98</td><td>28,050,783.41</td></tr>\n",
       "<tr><td>a</td><td>1602</td><td>5408093</td><td>29,894.01</td><td>47,890,212.00</td></tr>\n",
       "</table>\n"
      ],
      "text/plain": [
       "+-------------+------------+------------+---------------------+-----------------------+\n",
       "|revenue_level|num_merchant|total_orders|avg_commission_amount|total_commission_amount|\n",
       "+-------------+------------+------------+---------------------+-----------------------+\n",
       "|            e|          53|      106218|             1,175.96|              62,325.93|\n",
       "|            d|          98|      121037|             3,368.06|             330,069.51|\n",
       "|            c|         922|     2941588|             9,738.67|           8,979,050.00|\n",
       "|            b|        1351|     3470381|            20,762.98|          28,050,783.41|\n",
       "|            a|        1602|     5408093|            29,894.01|          47,890,212.00|\n",
       "+-------------+------------+------------+---------------------+-----------------------+"
      ]
     },
     "execution_count": 51,
     "metadata": {},
     "output_type": "execute_result"
    }
   ],
   "source": [
    "avg_revenue_level = merchant_sales_info.groupBy(\"revenue_level\").agg(\n",
    "    F.count(F.col(\"commission_amount\")).alias(\"num_merchant\"),\n",
    "    F.sum(F.col(\"total_orders\")).alias(\"total_orders\"),\n",
    "    F.round(F.avg(F.col(\"commission_amount\")),2).alias(\"avg_commission_amount\"),\n",
    "    F.round(F.sum(F.col(\"commission_amount\")),2).alias(\"total_commission_amount\"),\n",
    ")\n",
    "# avg_revenue_level = avg_revenue_level.withColumn(\"total_commission_amount\", F.format_number(\"total_commission_amount\", 2))\n",
    "avg_revenue_level.withColumns(\n",
    "    {\"avg_commission_amount\": F.format_number(\"avg_commission_amount\",2),\n",
    "    \"total_commission_amount\": F.format_number(\"total_commission_amount\",2),}\n",
    ")"
   ]
  }
 ],
 "metadata": {
  "kernelspec": {
   "display_name": "Python 3",
   "language": "python",
   "name": "python3"
  },
  "language_info": {
   "codemirror_mode": {
    "name": "ipython",
    "version": 3
   },
   "file_extension": ".py",
   "mimetype": "text/x-python",
   "name": "python",
   "nbconvert_exporter": "python",
   "pygments_lexer": "ipython3",
   "version": "3.8.10"
  }
 },
 "nbformat": 4,
 "nbformat_minor": 2
}

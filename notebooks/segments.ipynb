{
 "cells": [
  {
   "cell_type": "code",
   "execution_count": 1,
   "metadata": {},
   "outputs": [],
   "source": [
    "from pyspark.sql import functions as F, SparkSession\n",
    "\n",
    "import os\n",
    "os.sys.path.append(\"../\")\n",
    "from scripts.consumer_model import *\n",
    "\n",
    "from pyspark.sql import functions as F\n",
    "from pyspark.ml.feature import RegexTokenizer, StopWordsRemover\n",
    "\n",
    "\n"
   ]
  },
  {
   "cell_type": "code",
   "execution_count": 2,
   "metadata": {},
   "outputs": [
    {
     "name": "stderr",
     "output_type": "stream",
     "text": [
      "24/09/29 20:51:10 WARN Utils: Your hostname, qinsitaodeMacBook-Air.local resolves to a loopback address: 127.0.0.1; using 192.168.4.51 instead (on interface en0)\n",
      "24/09/29 20:51:10 WARN Utils: Set SPARK_LOCAL_IP if you need to bind to another address\n",
      "Setting default log level to \"WARN\".\n",
      "To adjust logging level use sc.setLogLevel(newLevel). For SparkR, use setLogLevel(newLevel).\n",
      "24/09/29 20:51:10 WARN NativeCodeLoader: Unable to load native-hadoop library for your platform... using builtin-java classes where applicable\n"
     ]
    }
   ],
   "source": [
    "# Create a Spark Session\n",
    "spark = (\n",
    "    SparkSession.builder.appName(\"segments\")\n",
    "    .config(\"spark.sql.repl.eagerEval.enabled\", True)\n",
    "    .config(\"spark.sql.parquet.cacheMetadata\", \"true\")\n",
    "    .config(\"spark.sql.session.timeZone\", \"Etc/UTC\")\n",
    "    .config(\"spark.driver.memory\", \"4g\")\n",
    "    .config(\"spark.executor.memory\", \"2g\")\n",
    "    .getOrCreate()\n",
    ")"
   ]
  },
  {
   "cell_type": "code",
   "execution_count": 3,
   "metadata": {},
   "outputs": [
    {
     "name": "stderr",
     "output_type": "stream",
     "text": [
      "                                                                                \r"
     ]
    }
   ],
   "source": [
    "merchants_info = spark.read.parquet('../data/curated/merchant_info.parquet')"
   ]
  },
  {
   "cell_type": "code",
   "execution_count": 4,
   "metadata": {},
   "outputs": [
    {
     "name": "stdout",
     "output_type": "stream",
     "text": [
      "root\n",
      " |-- name: string (nullable = true)\n",
      " |-- merchant_abn: long (nullable = true)\n",
      " |-- category: string (nullable = true)\n",
      " |-- revenue_level: string (nullable = true)\n",
      " |-- take_rate: double (nullable = true)\n",
      "\n"
     ]
    }
   ],
   "source": [
    "merchants_info.printSchema()"
   ]
  },
  {
   "cell_type": "code",
   "execution_count": 5,
   "metadata": {},
   "outputs": [],
   "source": [
    "distinct_category = merchants_info.groupBy(\"category\").count()"
   ]
  },
  {
   "cell_type": "code",
   "execution_count": 6,
   "metadata": {},
   "outputs": [
    {
     "name": "stderr",
     "output_type": "stream",
     "text": [
      "                                                                                \r"
     ]
    },
    {
     "name": "stdout",
     "output_type": "stream",
     "text": [
      "+---------------------------------------------------------------------------------------+-----+\n",
      "|category                                                                               |count|\n",
      "+---------------------------------------------------------------------------------------+-----+\n",
      "|stationery, office  supplies and printing and writing paper                            |2    |\n",
      "|health  and beauty spas                                                                |1    |\n",
      "|opticians, optical goods, and eyeglasses                                               |145  |\n",
      "|books, periodicals, and  newspapers                                                    |5    |\n",
      "|watch, clock, and jewelry repair shops                                                 |159  |\n",
      "|computer programming , data processing, and integrated systems design services         |182  |\n",
      "|jewelry, watch, clock, and  silverware shops                                           |2    |\n",
      "|tent and  awning shops                                                                 |1    |\n",
      "|opticians, optical  goods, and eyeglasses                                              |1    |\n",
      "|books, periodicals,  and newspapers                                                    |5    |\n",
      "|lawn and garden  supply outlets, including nurseries                                   |2    |\n",
      "|furniture, home furnishings and  equipment shops,  and manufacturers, except appliances|1    |\n",
      "|watch,  clock, and jewelry repair shops                                                |2    |\n",
      "|computer programming , data processing,  and integrated systems design services        |1    |\n",
      "|hobby, toy and  game shops                                                             |1    |\n",
      "|digital goods: books, movies, music                                                    |190  |\n",
      "|computer programming ,  data processing, and integrated systems design services        |1    |\n",
      "|watch, clock, and  jewelry repair shops                                                |4    |\n",
      "|stationery, office supplies and  printing and writing paper                            |1    |\n",
      "|artist supply  and craft shops                                                         |3    |\n",
      "|music shops - musical instruments,  pianos, and sheet music                            |4    |\n",
      "|digital goods: books,  movies, music                                                   |1    |\n",
      "|books, periodicals, and newspapers                                                     |151  |\n",
      "|equipment, tool, furniture, and appliance  rent al and leasing                         |1    |\n",
      "|equipment, tool, furniture, and appliance rent al  and leasing                         |1    |\n",
      "|music shops - musical instruments, pianos, and sheet  music                            |1    |\n",
      "|furniture, home furnishings and equipment  shops, and manufacturers, except appliances |2    |\n",
      "|computers, computer  peripheral equipment, and software                                |3    |\n",
      "|cable, satellite, and other  pay television and radio services                         |4    |\n",
      "|motor vehicle supplies  and new parts                                                  |1    |\n",
      "|hobby, toy and game  shops                                                             |1    |\n",
      "|florists supplies, nursery stock, and flowers                                          |171  |\n",
      "|art dealers and galleries                                                              |111  |\n",
      "|equipment,  tool, furniture, and appliance rent al and leasing                         |1    |\n",
      "|music shops  - musical instruments, pianos, and sheet music                            |1    |\n",
      "|cable, satellite, and other pay  television and radio services                         |1    |\n",
      "|furniture, home furnishings and equipment shops, and manufacturers,  except appliances |2    |\n",
      "|motor vehicle supplies and  new parts                                                  |2    |\n",
      "|music shops - musical instruments, pianos,  and sheet music                            |2    |\n",
      "|equipment, tool, furniture, and appliance rent  al and leasing                         |3    |\n",
      "|antique shops - sales, repairs, and restoration services                               |124  |\n",
      "|florists supplies, nursery  stock, and flowers                                         |1    |\n",
      "|digital  goods: books, movies, music                                                   |2    |\n",
      "|cable, satellite, and other pay television and  radio services                         |1    |\n",
      "|computers, computer peripheral equipment,  and software                                |3    |\n",
      "|lawn and garden supply outlets, including  nurseries                                   |1    |\n",
      "|computers,  computer peripheral equipment, and  software                               |1    |\n",
      "|computer programming , data processing, and integrated  systems design services        |1    |\n",
      "|artist supply and  craft shops                                                         |2    |\n",
      "|florists supplies,  nursery stock, and flowers                                         |1    |\n",
      "|cable, satellite, and other pay television and radio  services                         |1    |\n",
      "|gift, card, novelty, and  souvenir shops                                               |1    |\n",
      "|jewelry, watch,  clock, and silverware shops                                           |1    |\n",
      "|watch, clock, and jewelry repair  shops                                                |2    |\n",
      "|hobby, toy  and game shops                                                             |4    |\n",
      "|furniture,  home furnishings and equipment shops, and manufacturers, except appliances |1    |\n",
      "|lawn and  garden supply outlets, including nurseries                                   |3    |\n",
      "|computer programming , data processing, and integrated systems design  services        |1    |\n",
      "|music  shops - musical instruments, pianos, and sheet music                            |5    |\n",
      "|motor vehicle  supplies and new parts                                                  |1    |\n",
      "|bicycle shops - sales and  service                                                     |1    |\n",
      "|furniture, home furnishings and equipment shops,  and manufacturers, except appliances |3    |\n",
      "|hobby,  toy  and game shops                                                            |1    |\n",
      "|furniture, home furnishings  and equipment shops, and manufacturers, except appliances |2    |\n",
      "|gift, card, novelty, and souvenir shops                                                |178  |\n",
      "|equipment, tool, furniture, and appliance rent al and leasing                          |125  |\n",
      "|books,  periodicals, and newspapers                                                    |3    |\n",
      "|lawn and garden supply outlets,  including nurseries                                   |1    |\n",
      "|shoe  shops                                                                            |3    |\n",
      "|stationery, office supplies  and printing and writing paper                            |2    |\n",
      "|florists  supplies, nursery stock, and flowers                                         |2    |\n",
      "|tent and awning  shops                                                                 |2    |\n",
      "|watch, clock,  and jewelry repair shops                                                |2    |\n",
      "|digital goods:  books, movies, music                                                   |2    |\n",
      "|furniture, home furnishings and equipment shops, and manufacturers, except  appliances |2    |\n",
      "|bicycle shops -  sales and service                                                     |2    |\n",
      "|music shops -  musical instruments, pianos, and sheet music                            |4    |\n",
      "|cable, satellite, and other pay television and radio services                          |163  |\n",
      "|tent and awning shops                                                                  |171  |\n",
      "|artist supply and craft shops                                                          |187  |\n",
      "|equipment, tool, furniture, and appliance rent al and  leasing                         |2    |\n",
      "|computers, computer peripheral equipment, and  software                                |1    |\n",
      "|cable,  satellite, and other pay television and radio services                         |3    |\n",
      "|furniture, home furnishings and  equipment shops, and manufacturers, except appliances |1    |\n",
      "|watch, clock, and jewelry  repair shops                                                |1    |\n",
      "|opticians, optical goods, and  eyeglasses                                              |2    |\n",
      "|stationery, office supplies and printing  and writing paper                            |2    |\n",
      "|florists supplies, nursery stock,  and flowers                                         |3    |\n",
      "|bicycle  shops - sales and service                                                     |1    |\n",
      "|stationery, office supplies and printing and writing paper                             |148  |\n",
      "|furniture, home furnishings and equipment shops, and manufacturers, except appliances  |166  |\n",
      "|computers, computer peripheral  equipment, and software                                |2    |\n",
      "|lawn and garden supply  outlets, including nurseries                                   |1    |\n",
      "|lawn and  garden supply  outlets, including nurseries                                  |1    |\n",
      "|telecom                                                                                |125  |\n",
      "|florists supplies, nursery stock, and  flowers                                         |2    |\n",
      "|jewelry, watch, clock, and silverware shops                                            |88   |\n",
      "|shoe shops                                                                             |182  |\n",
      "|hobby, toy and game shops                                                              |134  |\n",
      "|computers, computer peripheral equipment, and software                                 |169  |\n",
      "+---------------------------------------------------------------------------------------+-----+\n",
      "only showing top 100 rows\n",
      "\n"
     ]
    }
   ],
   "source": [
    "distinct_category.show(100, truncate=False)"
   ]
  },
  {
   "cell_type": "markdown",
   "metadata": {},
   "source": [
    "# Data preprocessing"
   ]
  },
  {
   "cell_type": "code",
   "execution_count": 7,
   "metadata": {},
   "outputs": [
    {
     "name": "stderr",
     "output_type": "stream",
     "text": [
      "24/09/29 20:51:21 WARN StopWordsRemover: Default locale set was [en_CN]; however, it was not found in available locales in JVM, falling back to en_US locale. Set param `locale` in order to respect another locale.\n"
     ]
    }
   ],
   "source": [
    "\n",
    "# Lowercase all text\n",
    "merchants_info = merchants_info.withColumn(\"category_clean\", F.lower(F.col(\"category\")))\n",
    "\n",
    "# Tokenize the descriptions (split text into words)\n",
    "tokenizer = RegexTokenizer(inputCol=\"category_clean\", outputCol=\"tokens\", pattern=\"\\\\W\")\n",
    "merchants_info = tokenizer.transform(merchants_info)\n",
    "\n",
    "# Remove stop words\n",
    "stopwords_remover = StopWordsRemover(inputCol=\"tokens\", outputCol=\"filtered_tokens\")\n",
    "merchants_info = stopwords_remover.transform(merchants_info)\n"
   ]
  },
  {
   "cell_type": "code",
   "execution_count": 8,
   "metadata": {},
   "outputs": [
    {
     "name": "stdout",
     "output_type": "stream",
     "text": [
      "+-----------------------------------------------------------------------------------+-----+\n",
      "|filtered_tokens                                                                    |count|\n",
      "+-----------------------------------------------------------------------------------+-----+\n",
      "|[lawn, garden, supply, outlets, including, nurseries]                              |153  |\n",
      "|[tent, awning, shops]                                                              |178  |\n",
      "|[hobby, toy, game, shops]                                                          |142  |\n",
      "|[equipment, tool, furniture, appliance, rent, al, leasing]                         |134  |\n",
      "|[shoe, shops]                                                                      |185  |\n",
      "|[furniture, home, furnishings, equipment, shops, manufacturers, except, appliances]|182  |\n",
      "|[watch, clock, jewelry, repair, shops]                                             |170  |\n",
      "|[artist, supply, craft, shops]                                                     |193  |\n",
      "|[opticians, optical, goods, eyeglasses]                                            |151  |\n",
      "|[motor, vehicle, supplies, new, parts]                                             |151  |\n",
      "|[books, periodicals, newspapers]                                                   |164  |\n",
      "|[antique, shops, sales, repairs, restoration, services]                            |129  |\n",
      "|[computers, computer, peripheral, equipment, software]                             |181  |\n",
      "|[stationery, office, supplies, printing, writing, paper]                           |161  |\n",
      "|[health, beauty, spas]                                                             |164  |\n",
      "|[bicycle, shops, sales, service]                                                   |170  |\n",
      "|[computer, programming, data, processing, integrated, systems, design, services]   |191  |\n",
      "|[digital, goods, books, movies, music]                                             |195  |\n",
      "|[telecom]                                                                          |125  |\n",
      "|[cable, satellite, pay, television, radio, services]                               |175  |\n",
      "|[music, shops, musical, instruments, pianos, sheet, music]                         |167  |\n",
      "|[florists, supplies, nursery, stock, flowers]                                      |180  |\n",
      "|[art, dealers, galleries]                                                          |112  |\n",
      "|[gift, card, novelty, souvenir, shops]                                             |182  |\n",
      "|[jewelry, watch, clock, silverware, shops]                                         |91   |\n",
      "+-----------------------------------------------------------------------------------+-----+\n",
      "\n"
     ]
    }
   ],
   "source": [
    "preprocessing_distinct_category = merchants_info.groupBy(\"filtered_tokens\").count()\n",
    "preprocessing_distinct_category.show(50,truncate=False)"
   ]
  },
  {
   "cell_type": "markdown",
   "metadata": {},
   "source": [
    "# Text classification"
   ]
  },
  {
   "cell_type": "code",
   "execution_count": 10,
   "metadata": {},
   "outputs": [
    {
     "name": "stderr",
     "output_type": "stream",
     "text": [
      "24/09/29 20:51:22 WARN GarbageCollectionMetrics: To enable non-built-in garbage collector(s) List(G1 Concurrent GC), users should configure it(them) to spark.eventLog.gcMetrics.youngGenerationGarbageCollectors or spark.eventLog.gcMetrics.oldGenerationGarbageCollectors\n"
     ]
    }
   ],
   "source": [
    "# Manually classify all description into 5 classes\n",
    "segments_dict = {\n",
    "    \"Electronics and Technology\": [\n",
    "        ['computers', 'computer', 'peripheral', 'equipment', 'software'],\n",
    "        ['computer', 'programming', 'data', 'processing', 'integrated', 'systems', 'design', 'services'],\n",
    "        ['telecom'],\n",
    "        ['cable', 'satellite', 'pay', 'television', 'radio', 'services']\n",
    "    ],\n",
    "    \"Health and Beauty\": [\n",
    "        ['opticians', 'optical', 'goods', 'eyeglasses'],\n",
    "        ['health', 'beauty', 'spas'],\n",
    "        ['florists', 'supplies', 'nursery', 'stock', 'flowers']\n",
    "    ],\n",
    "    \"Home and Garden Supplies\": [\n",
    "        ['lawn', 'garden', 'supply', 'outlets', 'including', 'nurseries'],\n",
    "        ['tent', 'awning', 'shops'],\n",
    "        ['equipment', 'tool', 'furniture', 'appliance', 'rent', 'al', 'leasing'],\n",
    "        ['furniture', 'home', 'furnishings', 'equipment', 'shops', 'manufacturers', 'except', 'appliances'],\n",
    "        ['books', 'periodicals', 'newspapers']\n",
    "    ],\n",
    "    \"Retail and Gifts\": [\n",
    "        ['hobby', 'toy', 'game', 'shops'],\n",
    "        ['artist', 'supply', 'craft', 'shops'],\n",
    "        ['stationery', 'office', 'supplies', 'printing', 'writing', 'paper'],\n",
    "        ['digital', 'goods', 'books', 'movies', 'music'],\n",
    "        ['books', 'periodicals', 'newspapers'],\n",
    "        ['music', 'shops', 'musical', 'instruments', 'pianos', 'sheet', 'music'],\n",
    "        ['art', 'dealers', 'galleries'],\n",
    "        ['gift', 'card', 'novelty', 'souvenir', 'shops'],\n",
    "        [\"shoe\", \"shops\"] \n",
    "    ],\n",
    "    \"Automotive and Repair Services\": [\n",
    "        ['watch', 'clock', 'jewelry', 'repair', 'shops'],\n",
    "        ['motor', 'vehicle', 'supplies', 'new', 'parts'],\n",
    "        ['antique', 'shops', 'sales', 'repairs', 'restoration', 'services'],\n",
    "        ['bicycle', 'shops', 'sales', 'service'],\n",
    "        ['jewelry', 'watch', 'clock', 'silverware', 'shops']\n",
    "    ]\n",
    "}\n",
    "\n",
    "segment_conditions = [\n",
    "    (F.col(\"filtered_tokens\").cast(\"string\") == F.array([F.lit(item) for item in value]).cast(\"string\"), F.lit(key))\n",
    "    for key, values in segments_dict.items() for value in values\n",
    "]"
   ]
  },
  {
   "cell_type": "code",
   "execution_count": 11,
   "metadata": {},
   "outputs": [],
   "source": [
    "# Add the 'segments' column based on the dictionary\n",
    "segments_column = F.lit(None)\n",
    "for condition, segment in segment_conditions:\n",
    "    segments_column = F.when(condition, segment).otherwise(segments_column)\n",
    "merchants_info = merchants_info.withColumn(\"segments\", segments_column)\n"
   ]
  },
  {
   "cell_type": "code",
   "execution_count": 12,
   "metadata": {},
   "outputs": [
    {
     "name": "stdout",
     "output_type": "stream",
     "text": [
      "+------------------------+------------+-------------------------------------------------------------------------------------+-------------+---------+-------------------------------------------------------------------------------------+---------------------------------------------------------------------------------------------+-----------------------------------------------------------------------------------+------------------------------+\n",
      "|name                    |merchant_abn|category                                                                             |revenue_level|take_rate|category_clean                                                                       |tokens                                                                                       |filtered_tokens                                                                    |segments                      |\n",
      "+------------------------+------------+-------------------------------------------------------------------------------------+-------------+---------+-------------------------------------------------------------------------------------+---------------------------------------------------------------------------------------------+-----------------------------------------------------------------------------------+------------------------------+\n",
      "|Felis Limited           |10023283211 |furniture, home furnishings and equipment shops, and manufacturers, except appliances|e            |0.18     |furniture, home furnishings and equipment shops, and manufacturers, except appliances|[furniture, home, furnishings, and, equipment, shops, and, manufacturers, except, appliances]|[furniture, home, furnishings, equipment, shops, manufacturers, except, appliances]|Home and Garden Supplies      |\n",
      "|Arcu Ac Orci Corporation|10142254217 |cable, satellite, and other pay television and radio services                        |b            |4.22     |cable, satellite, and other pay television and radio services                        |[cable, satellite, and, other, pay, television, and, radio, services]                        |[cable, satellite, pay, television, radio, services]                               |Electronics and Technology    |\n",
      "|Nunc Sed Company        |10165489824 |jewelry, watch, clock, and silverware shops                                          |b            |4.4      |jewelry, watch, clock, and silverware shops                                          |[jewelry, watch, clock, and, silverware, shops]                                              |[jewelry, watch, clock, silverware, shops]                                         |Automotive and Repair Services|\n",
      "+------------------------+------------+-------------------------------------------------------------------------------------+-------------+---------+-------------------------------------------------------------------------------------+---------------------------------------------------------------------------------------------+-----------------------------------------------------------------------------------+------------------------------+\n",
      "only showing top 3 rows\n",
      "\n"
     ]
    }
   ],
   "source": [
    "merchants_info.show(3, truncate=False)"
   ]
  },
  {
   "cell_type": "code",
   "execution_count": 13,
   "metadata": {},
   "outputs": [
    {
     "name": "stdout",
     "output_type": "stream",
     "text": [
      "+------------------------------+-----+\n",
      "|segments                      |count|\n",
      "+------------------------------+-----+\n",
      "|Retail and Gifts              |1501 |\n",
      "|Home and Garden Supplies      |647  |\n",
      "|Health and Beauty             |495  |\n",
      "|Automotive and Repair Services|711  |\n",
      "|Electronics and Technology    |672  |\n",
      "+------------------------------+-----+\n",
      "\n"
     ]
    }
   ],
   "source": [
    "# Number of merchants for each classes\n",
    "num_merchants = merchants_info.groupBy(\"segments\").count()\n",
    "num_merchants.show(500, truncate=False)"
   ]
  },
  {
   "cell_type": "markdown",
   "metadata": {},
   "source": [
    "# Save merchants with their segments"
   ]
  },
  {
   "cell_type": "code",
   "execution_count": 15,
   "metadata": {},
   "outputs": [
    {
     "data": {
      "text/plain": [
       "4026"
      ]
     },
     "execution_count": 15,
     "metadata": {},
     "output_type": "execute_result"
    }
   ],
   "source": [
    "merchants_info"
   ]
  }
 ],
 "metadata": {
  "kernelspec": {
   "display_name": "Python 3",
   "language": "python",
   "name": "python3"
  },
  "language_info": {
   "codemirror_mode": {
    "name": "ipython",
    "version": 3
   },
   "file_extension": ".py",
   "mimetype": "text/x-python",
   "name": "python",
   "nbconvert_exporter": "python",
   "pygments_lexer": "ipython3",
   "version": "3.11.6"
  }
 },
 "nbformat": 4,
 "nbformat_minor": 2
}

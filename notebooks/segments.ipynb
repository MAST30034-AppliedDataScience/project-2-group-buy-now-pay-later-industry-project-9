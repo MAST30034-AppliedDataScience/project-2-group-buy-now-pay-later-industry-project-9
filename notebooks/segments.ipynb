{
 "cells": [
  {
   "cell_type": "code",
   "execution_count": 1,
   "metadata": {},
   "outputs": [],
   "source": [
    "from pyspark.sql import functions as F, SparkSession\n",
    "\n",
    "import os\n",
    "os.sys.path.append(\"../\")\n",
    "from scripts.consumer_model import *\n",
    "\n",
    "from pyspark.sql import functions as F\n",
    "from pyspark.ml.feature import RegexTokenizer, StopWordsRemover"
   ]
  },
  {
   "cell_type": "code",
   "execution_count": 2,
   "metadata": {},
   "outputs": [
    {
     "name": "stderr",
     "output_type": "stream",
     "text": [
      "24/10/01 12:05:53 WARN Utils: Your hostname, DESKTOP-H6V94HM resolves to a loopback address: 127.0.1.1; using 192.168.0.236 instead (on interface wifi0)\n",
      "24/10/01 12:05:53 WARN Utils: Set SPARK_LOCAL_IP if you need to bind to another address\n",
      "Setting default log level to \"WARN\".\n",
      "To adjust logging level use sc.setLogLevel(newLevel). For SparkR, use setLogLevel(newLevel).\n",
      "24/10/01 12:05:54 WARN NativeCodeLoader: Unable to load native-hadoop library for your platform... using builtin-java classes where applicable\n"
     ]
    }
   ],
   "source": [
    "# Create a Spark Session\n",
    "spark = (\n",
    "    SparkSession.builder.appName(\"segments\")\n",
    "    .config(\"spark.sql.repl.eagerEval.enabled\", True)\n",
    "    .config(\"spark.sql.parquet.cacheMetadata\", \"true\")\n",
    "    .config(\"spark.sql.session.timeZone\", \"Etc/UTC\")\n",
    "    .config(\"spark.driver.memory\", \"4g\")\n",
    "    .config(\"spark.executor.memory\", \"2g\")\n",
    "    .getOrCreate()\n",
    ")"
   ]
  },
  {
   "cell_type": "code",
   "execution_count": 3,
   "metadata": {},
   "outputs": [
    {
     "name": "stderr",
     "output_type": "stream",
     "text": [
      "                                                                                \r"
     ]
    }
   ],
   "source": [
    "merchants_info = spark.read.parquet('../data/curated/merchant_info.parquet')"
   ]
  },
  {
   "cell_type": "code",
   "execution_count": 4,
   "metadata": {},
   "outputs": [
    {
     "name": "stdout",
     "output_type": "stream",
     "text": [
      "root\n",
      " |-- name: string (nullable = true)\n",
      " |-- merchant_abn: long (nullable = true)\n",
      " |-- category: string (nullable = true)\n",
      " |-- revenue_level: string (nullable = true)\n",
      " |-- take_rate: double (nullable = true)\n",
      "\n"
     ]
    }
   ],
   "source": [
    "merchants_info.printSchema()"
   ]
  },
  {
   "cell_type": "markdown",
   "metadata": {},
   "source": [
    "Before we do any tokenization, let's see if there are any merchants with the same category description. This would help use categorise their industry easier and faster."
   ]
  },
  {
   "cell_type": "code",
   "execution_count": 5,
   "metadata": {},
   "outputs": [],
   "source": [
    "distinct_category = merchants_info.groupBy(\"category\").count()"
   ]
  },
  {
   "cell_type": "code",
   "execution_count": null,
   "metadata": {},
   "outputs": [],
   "source": [
    "distinct_category.show(100, truncate=False)"
   ]
  },
  {
   "cell_type": "markdown",
   "metadata": {},
   "source": [
    "# Data preprocessing"
   ]
  },
  {
   "cell_type": "code",
   "execution_count": 7,
   "metadata": {},
   "outputs": [],
   "source": [
    "# Lowercase all text\n",
    "merchants_info = merchants_info.withColumn(\"category_clean\", F.lower(F.col(\"category\")))\n",
    "\n",
    "# Tokenize the descriptions (split text into words)\n",
    "tokenizer = RegexTokenizer(inputCol=\"category_clean\", outputCol=\"tokens\", pattern=\"\\\\W\")\n",
    "merchants_info = tokenizer.transform(merchants_info)\n",
    "\n",
    "# Remove stop words\n",
    "stopwords_remover = StopWordsRemover(inputCol=\"tokens\", outputCol=\"filtered_tokens\")\n",
    "merchants_info = stopwords_remover.transform(merchants_info)"
   ]
  },
  {
   "cell_type": "code",
   "execution_count": 9,
   "metadata": {},
   "outputs": [
    {
     "name": "stdout",
     "output_type": "stream",
     "text": [
      "+-----------------------------------------------------------------------------------+-----+\n",
      "|filtered_tokens                                                                    |count|\n",
      "+-----------------------------------------------------------------------------------+-----+\n",
      "|[lawn, garden, supply, outlets, including, nurseries]                              |153  |\n",
      "|[tent, awning, shops]                                                              |178  |\n",
      "|[hobby, toy, game, shops]                                                          |142  |\n",
      "|[equipment, tool, furniture, appliance, rent, al, leasing]                         |134  |\n",
      "|[shoe, shops]                                                                      |185  |\n",
      "|[furniture, home, furnishings, equipment, shops, manufacturers, except, appliances]|182  |\n",
      "|[watch, clock, jewelry, repair, shops]                                             |170  |\n",
      "|[artist, supply, craft, shops]                                                     |193  |\n",
      "|[opticians, optical, goods, eyeglasses]                                            |151  |\n",
      "|[motor, vehicle, supplies, new, parts]                                             |151  |\n",
      "|[books, periodicals, newspapers]                                                   |164  |\n",
      "|[antique, shops, sales, repairs, restoration, services]                            |129  |\n",
      "|[computers, computer, peripheral, equipment, software]                             |181  |\n",
      "|[stationery, office, supplies, printing, writing, paper]                           |161  |\n",
      "|[health, beauty, spas]                                                             |164  |\n",
      "|[bicycle, shops, sales, service]                                                   |170  |\n",
      "|[computer, programming, data, processing, integrated, systems, design, services]   |191  |\n",
      "|[digital, goods, books, movies, music]                                             |195  |\n",
      "|[telecom]                                                                          |125  |\n",
      "|[cable, satellite, pay, television, radio, services]                               |175  |\n",
      "|[music, shops, musical, instruments, pianos, sheet, music]                         |167  |\n",
      "|[florists, supplies, nursery, stock, flowers]                                      |180  |\n",
      "|[art, dealers, galleries]                                                          |112  |\n",
      "|[gift, card, novelty, souvenir, shops]                                             |182  |\n",
      "|[jewelry, watch, clock, silverware, shops]                                         |91   |\n",
      "+-----------------------------------------------------------------------------------+-----+\n",
      "\n"
     ]
    }
   ],
   "source": [
    "preprocessing_distinct_category = merchants_info.groupBy(\"filtered_tokens\").count()\n",
    "preprocessing_distinct_category.show(50,truncate=False)"
   ]
  },
  {
   "cell_type": "markdown",
   "metadata": {},
   "source": [
    "# Text classification"
   ]
  },
  {
   "cell_type": "code",
   "execution_count": 10,
   "metadata": {},
   "outputs": [],
   "source": [
    "# Manually classify all description into 5 classes\n",
    "segments_dict = {\n",
    "    \"Electronics and Technology\": [\n",
    "        ['computers', 'computer', 'peripheral', 'equipment', 'software'],\n",
    "        ['computer', 'programming', 'data', 'processing', 'integrated', 'systems', 'design', 'services'],\n",
    "        ['telecom'],\n",
    "        ['cable', 'satellite', 'pay', 'television', 'radio', 'services']\n",
    "    ],\n",
    "    \"Health and Beauty\": [\n",
    "        ['opticians', 'optical', 'goods', 'eyeglasses'],\n",
    "        ['health', 'beauty', 'spas'],\n",
    "        ['florists', 'supplies', 'nursery', 'stock', 'flowers']\n",
    "    ],\n",
    "    \"Home and Garden Supplies\": [\n",
    "        ['lawn', 'garden', 'supply', 'outlets', 'including', 'nurseries'],\n",
    "        ['tent', 'awning', 'shops'],\n",
    "        ['equipment', 'tool', 'furniture', 'appliance', 'rent', 'al', 'leasing'],\n",
    "        ['furniture', 'home', 'furnishings', 'equipment', 'shops', 'manufacturers', 'except', 'appliances'],\n",
    "        ['books', 'periodicals', 'newspapers']\n",
    "    ],\n",
    "    \"Retail and Gifts\": [\n",
    "        ['hobby', 'toy', 'game', 'shops'],\n",
    "        ['artist', 'supply', 'craft', 'shops'],\n",
    "        ['stationery', 'office', 'supplies', 'printing', 'writing', 'paper'],\n",
    "        ['digital', 'goods', 'books', 'movies', 'music'],\n",
    "        ['books', 'periodicals', 'newspapers'],\n",
    "        ['music', 'shops', 'musical', 'instruments', 'pianos', 'sheet', 'music'],\n",
    "        ['art', 'dealers', 'galleries'],\n",
    "        ['gift', 'card', 'novelty', 'souvenir', 'shops'],\n",
    "        [\"shoe\", \"shops\"] \n",
    "    ],\n",
    "    \"Automotive and Repair Services\": [\n",
    "        ['watch', 'clock', 'jewelry', 'repair', 'shops'],\n",
    "        ['motor', 'vehicle', 'supplies', 'new', 'parts'],\n",
    "        ['antique', 'shops', 'sales', 'repairs', 'restoration', 'services'],\n",
    "        ['bicycle', 'shops', 'sales', 'service'],\n",
    "        ['jewelry', 'watch', 'clock', 'silverware', 'shops']\n",
    "    ]\n",
    "}\n",
    "\n",
    "segment_conditions = [\n",
    "    (F.col(\"filtered_tokens\").cast(\"string\") == F.array([F.lit(item) for item in value]).cast(\"string\"), F.lit(key))\n",
    "    for key, values in segments_dict.items() for value in values\n",
    "]"
   ]
  },
  {
   "cell_type": "code",
   "execution_count": 11,
   "metadata": {},
   "outputs": [],
   "source": [
    "# Add the 'segments' column based on the dictionary\n",
    "segments_column = F.lit(None)\n",
    "for condition, segment in segment_conditions:\n",
    "    segments_column = F.when(condition, segment).otherwise(segments_column)\n",
    "merchants_info = merchants_info.withColumn(\"segments\", segments_column)\n"
   ]
  },
  {
   "cell_type": "code",
   "execution_count": 12,
   "metadata": {},
   "outputs": [
    {
     "name": "stdout",
     "output_type": "stream",
     "text": [
      "+------------------------+------------+------------------------------------------------------+-------------+---------+------------------------------------------------------+-----------------------------------------------------------+------------------------------------------------------+--------------------------+\n",
      "|name                    |merchant_abn|category                                              |revenue_level|take_rate|category_clean                                        |tokens                                                     |filtered_tokens                                       |segments                  |\n",
      "+------------------------+------------+------------------------------------------------------+-------------+---------+------------------------------------------------------+-----------------------------------------------------------+------------------------------------------------------+--------------------------+\n",
      "|Non Feugiat Incorporated|10995883576 |gift, card, novelty, and souvenir shops               |a            |6.22     |gift, card, novelty, and souvenir shops               |[gift, card, novelty, and, souvenir, shops]                |[gift, card, novelty, souvenir, shops]                |Retail and Gifts          |\n",
      "|Dictum Proin PC         |14626521979 |art dealers and galleries                             |c            |2.81     |art dealers and galleries                             |[art, dealers, and, galleries]                             |[art, dealers, galleries]                             |Retail and Gifts          |\n",
      "|Et Ltd                  |17009186054 |computers, computer peripheral equipment, and software|a            |6.09     |computers, computer peripheral equipment, and software|[computers, computer, peripheral, equipment, and, software]|[computers, computer, peripheral, equipment, software]|Electronics and Technology|\n",
      "+------------------------+------------+------------------------------------------------------+-------------+---------+------------------------------------------------------+-----------------------------------------------------------+------------------------------------------------------+--------------------------+\n",
      "only showing top 3 rows\n",
      "\n"
     ]
    }
   ],
   "source": [
    "merchants_info.show(3, truncate=False)"
   ]
  },
  {
   "cell_type": "code",
   "execution_count": 13,
   "metadata": {},
   "outputs": [
    {
     "name": "stdout",
     "output_type": "stream",
     "text": [
      "+------------------------------+-----+\n",
      "|segments                      |count|\n",
      "+------------------------------+-----+\n",
      "|Retail and Gifts              |1501 |\n",
      "|Home and Garden Supplies      |647  |\n",
      "|Health and Beauty             |495  |\n",
      "|Automotive and Repair Services|711  |\n",
      "|Electronics and Technology    |672  |\n",
      "+------------------------------+-----+\n",
      "\n"
     ]
    }
   ],
   "source": [
    "# Number of merchants for each classes\n",
    "num_merchants = merchants_info.groupBy(\"segments\").count()\n",
    "num_merchants.show(500, truncate=False)"
   ]
  },
  {
   "cell_type": "markdown",
   "metadata": {},
   "source": [
    "# Save merchants with their segments"
   ]
  },
  {
   "cell_type": "code",
   "execution_count": 14,
   "metadata": {},
   "outputs": [],
   "source": [
    "merchants_info = merchants_info.select([\"name\", \"merchant_abn\", \"category\", \"revenue_level\", \"take_rate\",\"segments\"])"
   ]
  },
  {
   "cell_type": "code",
   "execution_count": 15,
   "metadata": {},
   "outputs": [],
   "source": [
    "merchants_info.write.parquet(\"../data/curated/segmented_merchants_info.parquet\", mode = 'overwrite')"
   ]
  }
 ],
 "metadata": {
  "kernelspec": {
   "display_name": "Python 3",
   "language": "python",
   "name": "python3"
  },
  "language_info": {
   "codemirror_mode": {
    "name": "ipython",
    "version": 3
   },
   "file_extension": ".py",
   "mimetype": "text/x-python",
   "name": "python",
   "nbconvert_exporter": "python",
   "pygments_lexer": "ipython3",
   "version": "3.8.10"
  }
 },
 "nbformat": 4,
 "nbformat_minor": 2
}

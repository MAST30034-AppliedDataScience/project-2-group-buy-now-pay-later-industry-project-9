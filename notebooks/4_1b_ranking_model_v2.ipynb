{
 "cells": [
  {
   "cell_type": "code",
   "execution_count": 1,
   "metadata": {},
   "outputs": [
    {
     "name": "stderr",
     "output_type": "stream",
     "text": [
      "2024-10-04 00:11:00.512414: I tensorflow/tsl/cuda/cudart_stub.cc:28] Could not find cuda drivers on your machine, GPU will not be used.\n",
      "2024-10-04 00:11:00.564078: I tensorflow/tsl/cuda/cudart_stub.cc:28] Could not find cuda drivers on your machine, GPU will not be used.\n",
      "2024-10-04 00:11:00.564941: I tensorflow/core/platform/cpu_feature_guard.cc:182] This TensorFlow binary is optimized to use available CPU instructions in performance-critical operations.\n",
      "To enable the following instructions: AVX2 FMA, in other operations, rebuild TensorFlow with the appropriate compiler flags.\n",
      "2024-10-04 00:11:01.538302: W tensorflow/compiler/tf2tensorrt/utils/py_utils.cc:38] TF-TRT Warning: Could not find TensorRT\n",
      "/usr/lib/python3/dist-packages/requests/__init__.py:89: RequestsDependencyWarning: urllib3 (2.2.2) or chardet (3.0.4) doesn't match a supported version!\n",
      "  warnings.warn(\"urllib3 ({}) or chardet ({}) doesn't match a supported \"\n"
     ]
    }
   ],
   "source": [
    "import os\n",
    "os.sys.path.append(\"../\")\n",
    "from scripts.ranking_model_v2 import *"
   ]
  },
  {
   "cell_type": "code",
   "execution_count": 2,
   "metadata": {},
   "outputs": [
    {
     "name": "stderr",
     "output_type": "stream",
     "text": [
      "24/10/04 00:11:04 WARN Utils: Your hostname, DESKTOP-H6V94HM resolves to a loopback address: 127.0.1.1; using 192.168.0.220 instead (on interface eth0)\n",
      "24/10/04 00:11:04 WARN Utils: Set SPARK_LOCAL_IP if you need to bind to another address\n",
      "Setting default log level to \"WARN\".\n",
      "To adjust logging level use sc.setLogLevel(newLevel). For SparkR, use setLogLevel(newLevel).\n",
      "24/10/04 00:11:04 WARN NativeCodeLoader: Unable to load native-hadoop library for your platform... using builtin-java classes where applicable\n"
     ]
    }
   ],
   "source": [
    "#  Create a Spark Session\n",
    "spark = (\n",
    "    SparkSession.builder.appName(\"Ranking Model\")\n",
    "    .config(\"spark.sql.repl.eagerEval.enabled\", True)\n",
    "    .config(\"spark.sql.parquet.cacheMetadata\", \"true\")\n",
    "    .config(\"spark.sql.session.timeZone\", \"Etc/UTC\")\n",
    "    .config(\"spark.driver.memory\", \"4g\")\n",
    "    .config(\"spark.executor.memory\", \"4g\")\n",
    "    .getOrCreate()\n",
    ")\n",
    "\n",
    "sc = SparkContext.getOrCreate()\n",
    "sc.setLogLevel(\"ERROR\")"
   ]
  },
  {
   "cell_type": "markdown",
   "metadata": {},
   "source": [
    "# Ranking System"
   ]
  },
  {
   "cell_type": "code",
   "execution_count": 3,
   "metadata": {},
   "outputs": [
    {
     "name": "stderr",
     "output_type": "stream",
     "text": [
      "                                                                                \r"
     ]
    }
   ],
   "source": [
    "# Reading transactions\n",
    "transactions = spark.read.parquet(f\"../data/curated/transactions.parquet\")\n",
    "transactions = transactions.withColumns(\n",
    "    {\"period\": F.date_format(F.col(\"order_datetime\"), \"yyyy-MM\")})\n",
    "transactions = transactions.drop(\"merchant_fp\", \"consumer_fp\")"
   ]
  },
  {
   "cell_type": "code",
   "execution_count": 4,
   "metadata": {},
   "outputs": [],
   "source": [
    "# Reading predicted fraud probabilities\n",
    "merchant_fp = spark.read.parquet(f\"../data/curated/predicted_merchant_fp.parquet\")\n",
    "consumer_fp = spark.read.parquet(f\"../data/curated/predicted_consumer_fp.parquet\")\n",
    "\n",
    "# Join with transaction data\n",
    "transactions_full = transactions.join(consumer_fp, on = ['consumer_id', 'order_datetime', 'order_id'], how = 'inner')\n",
    "transactions_full = transactions_full.join(merchant_fp, on = ['merchant_abn', 'order_datetime', 'order_id'], how = 'inner')\n",
    "# transactions_full.limit(5)"
   ]
  },
  {
   "cell_type": "markdown",
   "metadata": {},
   "source": [
    "As there are many ways in ranking the top 100 merchants toi join the BNPL firm, we decided adopted the approach of an investor, consider each merchant as a \"projects\" and evaluating their value. To evluate the merchant's value, we will be using a modified version of **Discounted Cash Flow (DCF)** model where we substitute *cash flow* with *revenue*. The orignal DCF model has the below formula\n",
    "\n",
    "$$ \\text{DCF} = \\sum^{n}_{t=1}\\frac{CF_t}{(1+r)^t}$$\n",
    "\n",
    "where $t$ is the time period of cash flow and $r$ is the discount rate.\n",
    "\n",
    "The DCF model we based on is the one that use **Free Cash Flows (FCF)** from **Earning Before Interest and Tax (EBIT)**. EBIT are usually a percentage of sales revenue and in Corporate Financial Decision Making (FNCE20003), the formula for FCF is defined as\n",
    "\n",
    "$$ \\text{FCF} = \\text{EBIT}(1-t) + \\text{Depreciation} - \\text{Capital Expenditure} - \\Delta\\text{Working Capital}$$\n",
    "\n",
    "Since the BNPL charges merchant per transaction, this means that the firm is charging for a percentage of the sales revenue. Thus, the merchant doesn't pay the BNPL firm through EBIT or their FCF. This allows us to safely consider the percentage of revenue of the merchant as cash flows for the BNPL firm.\n",
    "\n",
    "We will calculate of the project's  DCF using revenues from September 2022, October 2022, and November 2022. The value of the DCF is then multipled by the take rate, which we will called **Expected Project Value (EPV)**. After that, we will assign weights or penalties to the DCF and pick the merchants with the highest DCF."
   ]
  },
  {
   "cell_type": "code",
   "execution_count": 5,
   "metadata": {},
   "outputs": [],
   "source": [
    "# Aggregate the data into desried format\n",
    "agg_transactions = transactions_full.groupBy(\"merchant_abn\", \"period\", \"take_rate\").agg(\n",
    "    F.count(F.col(\"order_id\")).alias(\"num_orders\"),\n",
    "    F.round(F.sum(\"dollar_value\"),2).alias('revenue'),\n",
    "    F.round(F.mean(F.col(\"dollar_value\")), 2).alias(\"revenue_per_order\"),\n",
    "    F.round(F.mean(F.col(\"merchant_fp\")), 2).alias(\"avg_merchant_fp\"),\n",
    "    F.round(F.mean(F.col(\"consumer_fp\")), 2).alias(\"avg_consumer_fp\")\n",
    ")\n",
    "\n",
    "agg_transactions = agg_transactions.orderBy([\"merchant_abn\", \"period\"], ascending = [False, True])\n",
    "\n",
    "# Partition the data based on merchant ABN and comput lag variables for each specific partition\n",
    "merchant_partition = Window.partitionBy(\"merchant_abn\").orderBy(\"period\")\n",
    "agg_transactions = agg_transactions.withColumns({\n",
    "    \"revenue_lag_1\": F.lag(\"revenue\", 1, None).over(merchant_partition),\n",
    "    \"revenue_lag_2\": F.lag(\"revenue\", 2, None).over(merchant_partition),\n",
    "    \"revenue_lag_3\": F.lag(\"revenue\", 3, None).over(merchant_partition),\n",
    "    \"num_order_lag_1\": F.lag(\"num_orders\", 1, None).over(merchant_partition),\n",
    "    \"num_order_lag_2\": F.lag(\"num_orders\", 2, None).over(merchant_partition),\n",
    "    \"expected_profit\": F.round(F.col(\"revenue\") * F.col(\"take_rate\")/100,2)\n",
    "    })\n",
    "agg_transactions = agg_transactions.withColumns({\n",
    "    \"revenue_growth\":\n",
    "        F.when(F.col(\"revenue_lag_1\").isNotNull(), F.round((F.col(\"revenue\") - F.col(\"revenue_lag_1\"))/F.col(\"revenue_lag_1\"), 2)).otherwise(None),\n",
    "    \"revenue_growth_lag_1\": F.when(F.col(\"revenue_lag_2\").isNotNull(), \n",
    "        F.round((F.col(\"revenue_lag_1\") - F.col(\"revenue_lag_2\"))/F.col(\"revenue_lag_2\"), 2)).otherwise(None),\n",
    "    \"revenue_growth_lag_2\": F.when(F.col(\"revenue_lag_3\").isNotNull(), \n",
    "        F.round((F.col(\"revenue_lag_2\") - F.col(\"revenue_lag_3\"))/F.col(\"revenue_lag_3\"), 2)).otherwise(None)})"
   ]
  },
  {
   "cell_type": "markdown",
   "metadata": {},
   "source": [
    "Comparing different merchants' values using the DCF model is only reliable when all merchants have revenue in the timeline of interest i.e from May 2021 to August 2022, all merchants must have sales in each month. We noticed that there are some merchants with no revenue in some particular month. Thus, we decide to asume that the missing revenue in some moths of some merchants are totally due to the merchant's inability to make any sales and not because of data entry errors. We adopted the perspective that we want merchants that have consistent sales. We will only consider merchants with 15 months of revenue records, prior to the date of the last transaction entry."
   ]
  },
  {
   "cell_type": "code",
   "execution_count": 6,
   "metadata": {},
   "outputs": [
    {
     "name": "stderr",
     "output_type": "stream",
     "text": [
      "[Stage 7:=====================================================>   (15 + 1) / 16]\r"
     ]
    },
    {
     "name": "stdout",
     "output_type": "stream",
     "text": [
      "Number of merchants with complete sales records: 3212\n"
     ]
    },
    {
     "name": "stderr",
     "output_type": "stream",
     "text": [
      "                                                                                \r"
     ]
    }
   ],
   "source": [
    "# Create a dataframe that store the valid date range of the data\n",
    "months = pd.date_range(start=\"2021-06-01\", end=\"2022-08-31\", freq='MS').strftime('%Y-%m').tolist()\n",
    "months_df = spark.createDataFrame([(month,) for month in months], [\"period\"])\n",
    "\n",
    "# Join with the transactions dataframe\n",
    "transactions_correct_months = transactions.join(months_df, on= ['period'], how = 'right')\n",
    "\n",
    "# Get the list of merchants with complete sales records\n",
    "complete_merchants = transactions_correct_months.groupBy(\"merchant_abn\").agg(F.countDistinct(\"period\")\\\n",
    "                                                                             .alias(\"month_count\")).filter(F.col(\"month_count\") == len(months)).select(\"merchant_abn\")\n",
    "print(f\"Number of merchants with complete sales records: {complete_merchants.count()}\")"
   ]
  },
  {
   "cell_type": "code",
   "execution_count": 7,
   "metadata": {},
   "outputs": [],
   "source": [
    "# # Select the merchants with complete sales records from the aggregated sales \n",
    "# print(f\"Number of entries before removing merchants with missing sales records: {agg_transactions.count()}\")\n",
    "# agg_transactions = agg_transactions.join(complete_merchants, on='merchant_abn', how='inner')\n",
    "# agg_transactions = agg_transactions.filter(\"2021-06\" <= F.col(\"period\")).orderBy(['merchant_abn', 'period'],\n",
    "#                                                                                       ascending = [True, True])\n",
    "# print(f\"Number of entries after removing merchants with missing sales records: {agg_transactions.count()}\")\n",
    "\n",
    "# # Export the aggregated transactions to reduce the need to run this block again\n",
    "# agg_transactions.write.parquet(f\"../data/curated/agg_transactions.parquet\", mode = 'overwrite')"
   ]
  },
  {
   "cell_type": "code",
   "execution_count": 8,
   "metadata": {},
   "outputs": [],
   "source": [
    "agg_transactions = spark.read.parquet(f\"../data/curated/agg_transactions.parquet\")"
   ]
  },
  {
   "cell_type": "code",
   "execution_count": 9,
   "metadata": {},
   "outputs": [],
   "source": [
    "agg_transactions_sub = agg_transactions.select(*['merchant_abn', 'period', 'revenue', 'revenue_lag_1', 'revenue_lag_2', 'revenue_lag_3',\n",
    "'revenue_growth_lag_1', 'revenue_growth_lag_2'])"
   ]
  },
  {
   "cell_type": "markdown",
   "metadata": {},
   "source": [
    "\n",
    "Since the last month of sales record is August 2022, this means that we have to forecast the revenues of the next 3 months. We will try 2 different approaches for forecasting revenue of 3 periods into the future. The first approach is to use a simple LSTM to predict the revenue. Contrast to the machine learning nature of approach 1, the second approach will be simply to compute the average monthly revenue growth rate of the 15 months period and then assume that revenues after August 2022 will grow by the same amount."
   ]
  },
  {
   "cell_type": "code",
   "execution_count": 10,
   "metadata": {},
   "outputs": [
    {
     "name": "stderr",
     "output_type": "stream",
     "text": [
      "                                                                                \r"
     ]
    },
    {
     "name": "stdout",
     "output_type": "stream",
     "text": [
      "Initial input values: [[[ 6.81565700e+04]\n",
      "  [ 8.45487200e+04]\n",
      "  [ 7.96017700e+04]\n",
      "  [-1.93878157e-01]\n",
      "  [ 6.00000000e-02]]]\n",
      "1/1 [==============================] - 0s 335ms/step\n",
      "1/1 [==============================] - 0s 14ms/step\n",
      "1/1 [==============================] - 0s 13ms/step\n",
      "[70386.86, 64892.07, 60938.344]\n"
     ]
    }
   ],
   "source": [
    "for merchant in complete_merchants.rdd.flatMap(lambda x:x).collect():\n",
    "    # Predict sales revenue 3 period for all valid merchants\n",
    "    partition = agg_transactions_sub.filter(F.col(\"merchant_abn\") == merchant)\n",
    "    \n",
    "    forecasted_revenue = forecast_revenue(partition)\n",
    "\n",
    "    print(forecasted_revenue)\n",
    "    break"
   ]
  },
  {
   "cell_type": "markdown",
   "metadata": {},
   "source": [
    "If we run the above code multiple times, we will see that the forecasted revenues will change with each rerun. This is because the weights between the units are randomly intialise each time and Stochastic Gradient Descent isn't guaranteed to always find the local maximum and minimum. Thus, in order to train a neural network that minimise the mean squared error, we would have to fine-tune our model. The process would be feasible if we're doing for 8-10 merchants. However, our data contains more than 3000 merchants which would be computationally expensive. Thus, we will stick with the second approach that was mentioned previously.\n",
    "\n",
    "Let's aggregate our data and find the monthly average growth for each merchant. From there, we can compute the DCF for each of them"
   ]
  },
  {
   "cell_type": "code",
   "execution_count": 11,
   "metadata": {},
   "outputs": [
    {
     "data": {
      "text/html": [
       "<table border='1'>\n",
       "<tr><th>merchant_abn</th><th>period</th><th>take_rate</th><th>num_orders</th><th>revenue</th><th>revenue_per_order</th><th>avg_merchant_fp</th><th>avg_consumer_fp</th><th>revenue_lag_1</th><th>revenue_lag_2</th><th>revenue_lag_3</th><th>num_order_lag_1</th><th>num_order_lag_2</th><th>expected_profit</th><th>revenue_growth</th><th>revenue_growth_lag_1</th><th>revenue_growth_lag_2</th></tr>\n",
       "<tr><td>63937753588</td><td>2021-10</td><td>4.17</td><td>14</td><td>42480.29</td><td>3034.31</td><td>41.25</td><td>16.06</td><td>20691.97</td><td>41997.37</td><td>36180.46</td><td>8</td><td>12</td><td>1771.43</td><td>1.05</td><td>-0.51</td><td>0.16</td></tr>\n",
       "</table>\n"
      ],
      "text/plain": [
       "+------------+-------+---------+----------+--------+-----------------+---------------+---------------+-------------+-------------+-------------+---------------+---------------+---------------+--------------+--------------------+--------------------+\n",
       "|merchant_abn| period|take_rate|num_orders| revenue|revenue_per_order|avg_merchant_fp|avg_consumer_fp|revenue_lag_1|revenue_lag_2|revenue_lag_3|num_order_lag_1|num_order_lag_2|expected_profit|revenue_growth|revenue_growth_lag_1|revenue_growth_lag_2|\n",
       "+------------+-------+---------+----------+--------+-----------------+---------------+---------------+-------------+-------------+-------------+---------------+---------------+---------------+--------------+--------------------+--------------------+\n",
       "| 63937753588|2021-10|     4.17|        14|42480.29|          3034.31|          41.25|          16.06|     20691.97|     41997.37|     36180.46|              8|             12|        1771.43|          1.05|               -0.51|                0.16|\n",
       "+------------+-------+---------+----------+--------+-----------------+---------------+---------------+-------------+-------------+-------------+---------------+---------------+---------------+--------------+--------------------+--------------------+"
      ]
     },
     "execution_count": 11,
     "metadata": {},
     "output_type": "execute_result"
    }
   ],
   "source": [
    "agg_transactions.limit(1)"
   ]
  },
  {
   "cell_type": "code",
   "execution_count": 12,
   "metadata": {},
   "outputs": [],
   "source": [
    "merchant_avg_growth = agg_transactions.groupBy(\"merchant_abn\", ).agg(\n",
    "    F.mean(F.col('revenue_growth')).alias('avg_monthly_revenue_growth'),\n",
    "    F.mean(F.col(\"num_orders\")).alias(\"avg_num_orders\"),\n",
    "    F.mean(F.col(\"revenue_per_order\")).alias('avg_revenue_per_order'),\n",
    "    (F.stddev(F.col('revenue'))/F.mean(F.col('revenue'))).alias(\"coef_of_variation\"),\n",
    "    F.stddev(F.col('revenue_growth')).alias(\"std_reveune_growth\")\n",
    ")\n",
    "merchant_latest_revenue = agg_transactions.filter(F.col(\"period\") == '2022-08').select(\"merchant_abn\", \"revenue\", \"take_rate\")\n",
    "merchant_latest_revenue = merchant_latest_revenue.join(merchant_avg_growth, on ='merchant_abn', how = 'inner')\n",
    "merchant_latest_revenue = merchant_latest_revenue.withColumns({\n",
    "    \"forecasted_revenue_1\": F.col(\"revenue\") * (1 + F.col(\"avg_monthly_revenue_growth\")),\n",
    "    \"forecasted_revenue_2\": F.col(\"revenue\") * (1 + F.col(\"avg_monthly_revenue_growth\"))**2,\n",
    "    \"forecasted_revenue_3\": F.col(\"revenue\") * (1 + F.col(\"avg_monthly_revenue_growth\"))**3,\n",
    "})"
   ]
  },
  {
   "cell_type": "markdown",
   "metadata": {},
   "source": [
    "According to the Victoria State Government [website](https://djsir.vic.gov.au/about-us/overview/the-economic-assessment-information-portal/i-am-looking-for-guidance-on-particular-economic-assessment-processes,-methods-and-variables#:~:text=Department%20of%20Treasury%20and%20Finance,on%20the%20category%20of%20investment.), there is no single discount rate. As a general guideline, the discount rate is between 4% and 7%. We acknowledge that each merchant may have their own discount rates but it's quite extensive to give each and everyone of them an individual discount rate. Thus, we will use the mid point of the recommended range and apply it to all merchants."
   ]
  },
  {
   "cell_type": "code",
   "execution_count": 13,
   "metadata": {},
   "outputs": [
    {
     "data": {
      "text/html": [
       "<table border='1'>\n",
       "<tr><th>merchant_abn</th><th>avg_monthly_revenue_growth</th><th>avg_num_orders</th><th>avg_revenue_per_order</th><th>coef_of_variation</th><th>std_reveune_growth</th><th>discounted_revenue_flow</th><th>expected_project_value</th></tr>\n",
       "<tr><td>70344541271</td><td>51.08466666666667</td><td>4.866666666666666</td><td>1081.5886666666665</td><td>0.5737462225685777</td><td>195.37035923989032</td><td>7.229664594670486E8</td><td>4.128138483556847E7</td></tr>\n",
       "</table>\n"
      ],
      "text/plain": [
       "+------------+--------------------------+-----------------+---------------------+------------------+------------------+-----------------------+----------------------+\n",
       "|merchant_abn|avg_monthly_revenue_growth|   avg_num_orders|avg_revenue_per_order| coef_of_variation|std_reveune_growth|discounted_revenue_flow|expected_project_value|\n",
       "+------------+--------------------------+-----------------+---------------------+------------------+------------------+-----------------------+----------------------+\n",
       "| 70344541271|         51.08466666666667|4.866666666666666|   1081.5886666666665|0.5737462225685777|195.37035923989032|    7.229664594670486E8|   4.128138483556847E7|\n",
       "+------------+--------------------------+-----------------+---------------------+------------------+------------------+-----------------------+----------------------+"
      ]
     },
     "execution_count": 13,
     "metadata": {},
     "output_type": "execute_result"
    }
   ],
   "source": [
    "discount_rate = 1.055\n",
    "\n",
    "merchant_latest_revenue = merchant_latest_revenue.withColumns(\n",
    "    {\"discounted_revenue_flow\": F.col(\"forecasted_revenue_1\")/discount_rate + F.col(\"forecasted_revenue_2\")/discount_rate**2 + F.col(\"forecasted_revenue_3\")/discount_rate**3,\n",
    "     \"expected_project_value\": F.col(\"discounted_revenue_flow\") * F.col('take_rate')/100}\n",
    "    )\n",
    "merchant_latest_revenue = merchant_latest_revenue.drop(\"forecasted_revenue_1\", \"forecasted_revenue_2\", \"forecasted_revenue_3\", \"revenue\", \"take_rate\")\n",
    "merchant_latest_revenue.filter(F.col(\"merchant_abn\") == 70344541271)"
   ]
  },
  {
   "cell_type": "markdown",
   "metadata": {},
   "source": [
    "We will also be using the predicted fraud probability for both merchants and consumer as part of our ranking system. We will assign our weights of choice, $\\alpha$ and $\\beta$ to the merchants and consumers' fraud probability, respectively, and sum them. We think that the merchant's fraud probability is more important to the BNPL firm as a merchant with a higher fraud probability with likely to commit scams, thus damaging the BNPL firm's reputation and customer will not shop from the firm anymore. Whereas for customer, it's easier to assess the risk of a customer not paying for the items. Thus, we decided the weight is going to be $\\alpha = 0.65$ and $\\beta = 0.35$. The formula for the combined fraud probability is:\n",
    "\n",
    "$$\\text{Combined Fraud Probability (CBF)} = \\alpha \\times \\text{Merchant's FP} + \\beta\\times\\text{Consumer's FP}$$\n",
    "\n",
    "We will use the combined fraud probability to get the fraud-adjusted DCF\n",
    "\n",
    "$$ \\text{Fraud-adjusted EPV} = (1 - \\text{CBF}) \\times \\text{EPV}"
   ]
  },
  {
   "cell_type": "code",
   "execution_count": 14,
   "metadata": {},
   "outputs": [],
   "source": [
    "avg_fp = agg_transactions.withColumns({\n",
    "    \"total_merchant_fp\": F.col(\"avg_merchant_fp\") * F.col(\"num_orders\"),\n",
    "    \"total_consumer_fp\": F.col(\"avg_consumer_fp\") * F.col(\"num_orders\"),\n",
    "}).select(\"merchant_abn\", \"period\", \"num_orders\", \"total_merchant_fp\", \"total_consumer_fp\")\n",
    "\n",
    "avg_fp = avg_fp.groupBy(\"merchant_abn\").agg(\n",
    "    (F.sum(F.col(\"total_merchant_fp\"))/F.sum(F.col(\"num_orders\"))).alias(\"avg_merchant_fp\"),\n",
    "    (F.sum(F.col(\"total_consumer_fp\"))/F.sum(F.col(\"num_orders\"))).alias(\"avg_consumer_fp\")\n",
    ")"
   ]
  },
  {
   "cell_type": "code",
   "execution_count": 15,
   "metadata": {},
   "outputs": [],
   "source": [
    "alpha = 0.65\n",
    "beta = 0.35\n",
    "\n",
    "avg_fp = avg_fp.withColumn(\"combined_fp\", alpha * F.col(\"avg_merchant_fp\") + beta * F.col('avg_consumer_fp'))\n",
    "merchant_ranking_metrics = merchant_latest_revenue.join(avg_fp, on='merchant_abn', how='inner')\n",
    "merchant_ranking_metrics = merchant_ranking_metrics.drop(\"avg_merchant_fp\",\"avg_consumer_fp\")"
   ]
  },
  {
   "cell_type": "code",
   "execution_count": 16,
   "metadata": {},
   "outputs": [],
   "source": [
    "merchant_ranking_metrics = merchant_ranking_metrics.withColumn(\n",
    "    \"risk_adjusted_epv\",\n",
    "    F.col(\"expected_project_value\") * (1 - F.col(\"combined_fp\")/100)\n",
    ")"
   ]
  },
  {
   "cell_type": "code",
   "execution_count": 17,
   "metadata": {},
   "outputs": [
    {
     "name": "stderr",
     "output_type": "stream",
     "text": [
      "                                                                                \r"
     ]
    },
    {
     "data": {
      "text/html": [
       "<table border='1'>\n",
       "<tr><th>merchant_abn</th><th>avg_monthly_revenue_growth</th><th>avg_num_orders</th><th>avg_revenue_per_order</th><th>coef_of_variation</th><th>std_reveune_growth</th><th>discounted_revenue_flow</th><th>expected_project_value</th><th>combined_fp</th><th>risk_adjusted_epv</th></tr>\n",
       "<tr><td>70344541271</td><td>51.08466666666667</td><td>4.866666666666666</td><td>1081.5886666666665</td><td>0.5737462225685777</td><td>195.37035923989032</td><td>7.229664594670486E8</td><td>4.128138483556847E7</td><td>42.42405479452055</td><td>2.3768147512990005E7</td></tr>\n",
       "<tr><td>71616292306</td><td>27.928666666666665</td><td>2.6666666666666665</td><td>210.442</td><td>0.730322688378949</td><td>106.90505098762485</td><td>5417787.616379169</td><td>177161.6550555988</td><td>39.5622125</td><td>107072.58461398579</td></tr>\n",
       "<tr><td>95276443363</td><td>15.658666666666665</td><td>3.6</td><td>296.6186666666666</td><td>0.6820969976318357</td><td>51.655349033856346</td><td>6601250.027970397</td><td>251507.6260656721</td><td>39.01125925925927</td><td>153391.33400438444</td></tr>\n",
       "<tr><td>75547072158</td><td>12.812666666666667</td><td>3.8666666666666667</td><td>284.17533333333336</td><td>0.7476836101265073</td><td>48.9629811281174</td><td>253224.4641329908</td><td>11445.745778811182</td><td>39.041500000000006</td><td>6977.154940576614</td></tr>\n",
       "<tr><td>12171241826</td><td>10.885333333333334</td><td>8.2</td><td>228.37266666666665</td><td>0.568344026863831</td><td>40.80740511697543</td><td>5073911.329712124</td><td>209552.5379171107</td><td>38.0224756097561</td><td>129875.47529795238</td></tr>\n",
       "<tr><td>33223110337</td><td>10.853333333333333</td><td>2.8</td><td>214.40200000000002</td><td>0.9092808051054941</td><td>38.67401336199554</td><td>463179.7602395222</td><td>21908.402659329404</td><td>38.604011904761904</td><td>13450.880288578708</td></tr>\n",
       "<tr><td>70783350473</td><td>10.031333333333333</td><td>3.066666666666667</td><td>576.6173333333334</td><td>0.5781118668358438</td><td>36.41120272401783</td><td>2314209.098268511</td><td>42812.86831796745</td><td>38.95503260869566</td><td>26135.101503985294</td></tr>\n",
       "<tr><td>52129470223</td><td>9.220000000000002</td><td>4.866666666666666</td><td>309.45399999999995</td><td>0.6017263523053834</td><td>33.47001707285407</td><td>3312653.5794925285</td><td>109317.56812325344</td><td>39.02289726027398</td><td>66658.68582708623</td></tr>\n",
       "<tr><td>33790986203</td><td>7.944</td><td>5.2</td><td>327.7420000000001</td><td>0.6609718021645656</td><td>27.62230615178351</td><td>2327647.7691004816</td><td>140589.9252536691</td><td>41.86257051282051</td><td>81735.3686604302</td></tr>\n",
       "<tr><td>51420872378</td><td>8.786666666666665</td><td>2.8</td><td>258.158</td><td>0.9624601796783046</td><td>23.669936829738464</td><td>30096.247715517915</td><td>990.1665498405393</td><td>38.90971428571428</td><td>604.8955743448707</td></tr>\n",
       "</table>\n"
      ],
      "text/plain": [
       "+------------+--------------------------+------------------+---------------------+------------------+------------------+-----------------------+----------------------+------------------+--------------------+\n",
       "|merchant_abn|avg_monthly_revenue_growth|    avg_num_orders|avg_revenue_per_order| coef_of_variation|std_reveune_growth|discounted_revenue_flow|expected_project_value|       combined_fp|   risk_adjusted_epv|\n",
       "+------------+--------------------------+------------------+---------------------+------------------+------------------+-----------------------+----------------------+------------------+--------------------+\n",
       "| 70344541271|         51.08466666666667| 4.866666666666666|   1081.5886666666665|0.5737462225685777|195.37035923989032|    7.229664594670486E8|   4.128138483556847E7| 42.42405479452055|2.3768147512990005E7|\n",
       "| 71616292306|        27.928666666666665|2.6666666666666665|              210.442| 0.730322688378949|106.90505098762485|      5417787.616379169|     177161.6550555988|        39.5622125|  107072.58461398579|\n",
       "| 95276443363|        15.658666666666665|               3.6|    296.6186666666666|0.6820969976318357|51.655349033856346|      6601250.027970397|     251507.6260656721| 39.01125925925927|  153391.33400438444|\n",
       "| 75547072158|        12.812666666666667|3.8666666666666667|   284.17533333333336|0.7476836101265073|  48.9629811281174|      253224.4641329908|    11445.745778811182|39.041500000000006|   6977.154940576614|\n",
       "| 12171241826|        10.885333333333334|               8.2|   228.37266666666665| 0.568344026863831| 40.80740511697543|      5073911.329712124|     209552.5379171107|  38.0224756097561|  129875.47529795238|\n",
       "| 33223110337|        10.853333333333333|               2.8|   214.40200000000002|0.9092808051054941| 38.67401336199554|      463179.7602395222|    21908.402659329404|38.604011904761904|  13450.880288578708|\n",
       "| 70783350473|        10.031333333333333| 3.066666666666667|    576.6173333333334|0.5781118668358438| 36.41120272401783|      2314209.098268511|     42812.86831796745| 38.95503260869566|  26135.101503985294|\n",
       "| 52129470223|         9.220000000000002| 4.866666666666666|   309.45399999999995|0.6017263523053834| 33.47001707285407|     3312653.5794925285|    109317.56812325344| 39.02289726027398|   66658.68582708623|\n",
       "| 33790986203|                     7.944|               5.2|    327.7420000000001|0.6609718021645656| 27.62230615178351|     2327647.7691004816|     140589.9252536691| 41.86257051282051|    81735.3686604302|\n",
       "| 51420872378|         8.786666666666665|               2.8|              258.158|0.9624601796783046|23.669936829738464|     30096.247715517915|     990.1665498405393| 38.90971428571428|   604.8955743448707|\n",
       "+------------+--------------------------+------------------+---------------------+------------------+------------------+-----------------------+----------------------+------------------+--------------------+"
      ]
     },
     "execution_count": 17,
     "metadata": {},
     "output_type": "execute_result"
    }
   ],
   "source": [
    "merchant_ranking_metrics.orderBy(\"std_reveune_growth\", ascending = False).limit(10)"
   ]
  },
  {
   "cell_type": "markdown",
   "metadata": {},
   "source": [
    "From the table above, we can see that the merchant 1 has a risk-adjusted EPV of approximately $23 millions. This is due to their average monthly revenue growth rate is 5108% which is a massive growth. This is due to fact that this merchant has highly fluctuating monthly revenue growth rate which may affect the average monthly growth rate. Thus, it's important that we penalised merchant with high revenue growth standard deviation. We will use a modified Winsorizor method to remove any standard deviation of revenue growth that are outliers."
   ]
  },
  {
   "cell_type": "markdown",
   "metadata": {},
   "source": [
    "This is the intial approach for removing  merchant with unstable revenue growth rate. Double click the cell to view\n",
    "<!-- The formula for calculating the weight is\n",
    "\n",
    "$$W_{\\text{Revenue growth}} = \\frac{1}{\\log (1+s^{\\text{r.g}}_i)} - \\frac{1}{2}$$\n",
    "\n",
    "where $s^{\\text{rev growth}}_i$ is the standard deviation of the merchant's revenue growth rate accross the 15 months period. -->"
   ]
  },
  {
   "cell_type": "code",
   "execution_count": 18,
   "metadata": {},
   "outputs": [
    {
     "name": "stderr",
     "output_type": "stream",
     "text": [
      "                                                                                \r"
     ]
    }
   ],
   "source": [
    "lower_bound = merchant_ranking_metrics.select(F.percentile(F.col(\"std_reveune_growth\"), 0.01)).first()[0]\n",
    "upper_bound = merchant_ranking_metrics.select(F.percentile(F.col(\"std_reveune_growth\"), 0.99)).first()[0]\n",
    "\n",
    "merchant_ranking_metrics = merchant_ranking_metrics.filter((lower_bound <= F.col(\"std_reveune_growth\")) & (F.col(\"std_reveune_growth\") <= upper_bound))"
   ]
  },
  {
   "cell_type": "code",
   "execution_count": 19,
   "metadata": {},
   "outputs": [
    {
     "name": "stderr",
     "output_type": "stream",
     "text": [
      "                                                                                \r"
     ]
    },
    {
     "data": {
      "text/html": [
       "<table border='1'>\n",
       "<tr><th>merchant_abn</th><th>avg_monthly_revenue_growth</th><th>avg_num_orders</th><th>avg_revenue_per_order</th><th>coef_of_variation</th><th>std_reveune_growth</th><th>discounted_revenue_flow</th><th>expected_project_value</th><th>combined_fp</th><th>risk_adjusted_epv</th></tr>\n",
       "<tr><td>97884414539</td><td>1.6406666666666667</td><td>3.0</td><td>9981.536666666665</td><td>0.7347099651497621</td><td>4.043104300033871</td><td>1895396.73499406</td><td>129266.05732659489</td><td>44.049511111111116</td><td>72324.99104162121</td></tr>\n",
       "<tr><td>48534649627</td><td>0.025333333333333336</td><td>3335.4666666666667</td><td>143.09733333333332</td><td>0.17851904439502903</td><td>0.1612392484418581</td><td>1400750.4061942906</td><td>93009.82697130089</td><td>30.673439088983052</td><td>64480.51434849038</td></tr>\n",
       "<tr><td>86578477987</td><td>0.026000000000000002</td><td>13805.266666666666</td><td>35.028</td><td>0.17180320536602955</td><td>0.1635236985883086</td><td>1426866.798267028</td><td>91747.5351285699</td><td>30.291424461195973</td><td>63955.89983008991</td></tr>\n",
       "<tr><td>32361057556</td><td>0.025333333333333333</td><td>4341.933333333333</td><td>109.82733333333334</td><td>0.1775619949607971</td><td>0.17058163804494092</td><td>1380419.1374607098</td><td>91245.70498615292</td><td>30.4234067389335</td><td>63485.65302640829</td></tr>\n",
       "<tr><td>45629217853</td><td>0.027333333333333334</td><td>11255.333333333334</td><td>37.83866666666667</td><td>0.18717135892602974</td><td>0.17826411651842677</td><td>1265784.8255556792</td><td>88351.78082378641</td><td>30.81994237694723</td><td>61121.81288488873</td></tr>\n",
       "<tr><td>79827781481</td><td>0.028666666666666667</td><td>241.2</td><td>2036.1873333333338</td><td>0.1758887478875903</td><td>0.18814381530652352</td><td>1417110.0615200887</td><td>96646.90619567005</td><td>38.2490462962963</td><td>59680.386300950144</td></tr>\n",
       "<tr><td>21439773999</td><td>0.024666666666666667</td><td>6118.266666666666</td><td>78.28</td><td>0.17513345558089158</td><td>0.16422400497346243</td><td>1387461.9684095625</td><td>84635.1800729833</td><td>30.246255208446836</td><td>59036.20751198023</td></tr>\n",
       "<tr><td>96680767841</td><td>0.029333333333333333</td><td>1582.3333333333333</td><td>315.58133333333336</td><td>0.1762583893366516</td><td>0.18997994881666053</td><td>1468326.4819790302</td><td>86778.09508496069</td><td>32.35259734569201</td><td>58703.12739786161</td></tr>\n",
       "<tr><td>38700038932</td><td>0.02266666666666666</td><td>365.26666666666665</td><td>1337.1320000000003</td><td>0.17855375493793263</td><td>0.17878425412717286</td><td>1418536.365320908</td><td>89509.64465174929</td><td>34.81062803431283</td><td>58350.77519719366</td></tr>\n",
       "<tr><td>64403598239</td><td>0.025333333333333333</td><td>5752.2</td><td>78.12666666666668</td><td>0.17188020953378486</td><td>0.1548209411207793</td><td>1323501.879621348</td><td>83512.96860410707</td><td>30.271728173568377</td><td>58232.14975859427</td></tr>\n",
       "</table>\n"
      ],
      "text/plain": [
       "+------------+--------------------------+------------------+---------------------+-------------------+-------------------+-----------------------+----------------------+------------------+------------------+\n",
       "|merchant_abn|avg_monthly_revenue_growth|    avg_num_orders|avg_revenue_per_order|  coef_of_variation| std_reveune_growth|discounted_revenue_flow|expected_project_value|       combined_fp| risk_adjusted_epv|\n",
       "+------------+--------------------------+------------------+---------------------+-------------------+-------------------+-----------------------+----------------------+------------------+------------------+\n",
       "| 97884414539|        1.6406666666666667|               3.0|    9981.536666666665| 0.7347099651497621|  4.043104300033871|       1895396.73499406|    129266.05732659489|44.049511111111116| 72324.99104162121|\n",
       "| 48534649627|      0.025333333333333336|3335.4666666666667|   143.09733333333332|0.17851904439502903| 0.1612392484418581|     1400750.4061942906|     93009.82697130089|30.673439088983052| 64480.51434849038|\n",
       "| 86578477987|      0.026000000000000002|13805.266666666666|               35.028|0.17180320536602955| 0.1635236985883086|      1426866.798267028|      91747.5351285699|30.291424461195973| 63955.89983008991|\n",
       "| 32361057556|      0.025333333333333333| 4341.933333333333|   109.82733333333334| 0.1775619949607971|0.17058163804494092|     1380419.1374607098|     91245.70498615292|  30.4234067389335| 63485.65302640829|\n",
       "| 45629217853|      0.027333333333333334|11255.333333333334|    37.83866666666667|0.18717135892602974|0.17826411651842677|     1265784.8255556792|     88351.78082378641| 30.81994237694723| 61121.81288488873|\n",
       "| 79827781481|      0.028666666666666667|             241.2|   2036.1873333333338| 0.1758887478875903|0.18814381530652352|     1417110.0615200887|     96646.90619567005|  38.2490462962963|59680.386300950144|\n",
       "| 21439773999|      0.024666666666666667| 6118.266666666666|                78.28|0.17513345558089158|0.16422400497346243|     1387461.9684095625|      84635.1800729833|30.246255208446836| 59036.20751198023|\n",
       "| 96680767841|      0.029333333333333333|1582.3333333333333|   315.58133333333336| 0.1762583893366516|0.18997994881666053|     1468326.4819790302|     86778.09508496069| 32.35259734569201| 58703.12739786161|\n",
       "| 38700038932|       0.02266666666666666|365.26666666666665|   1337.1320000000003|0.17855375493793263|0.17878425412717286|      1418536.365320908|     89509.64465174929| 34.81062803431283| 58350.77519719366|\n",
       "| 64403598239|      0.025333333333333333|            5752.2|    78.12666666666668|0.17188020953378486| 0.1548209411207793|      1323501.879621348|     83512.96860410707|30.271728173568377| 58232.14975859427|\n",
       "+------------+--------------------------+------------------+---------------------+-------------------+-------------------+-----------------------+----------------------+------------------+------------------+"
      ]
     },
     "execution_count": 19,
     "metadata": {},
     "output_type": "execute_result"
    }
   ],
   "source": [
    "merchant_ranking_metrics.orderBy(\"risk_adjusted_epv\", ascending = False).limit(10)"
   ]
  },
  {
   "cell_type": "markdown",
   "metadata": {},
   "source": [
    "There are also some merchant with a very few amount of orders per month. From the BNPL perspective, we would want merchants with a decent amount of order volume per month as more volume would likely result in more revenue for BNPL firm. We also found that a low average monthly order volume also lead to unstable growth rate, thus, led to unrealistic forecasted revenues. Thus, we need to create a weight that penalises merchant with low order volume. The weight is compute using a Sigmoid function\n",
    "\n",
    "$$ W_{\\text{num orders}} = \\frac{1}{1 + e^{-(\\bar{x_i} - \\bar{x_{.}})}}$$\n",
    "\n",
    "where $\\bar{x_i}$ is the average number of order of merchant $i$ and $\\bar{x_.}$ is the average number of order of all merchants."
   ]
  },
  {
   "cell_type": "code",
   "execution_count": 20,
   "metadata": {},
   "outputs": [
    {
     "data": {
      "text/plain": [
       "212.6747613117476"
      ]
     },
     "execution_count": 20,
     "metadata": {},
     "output_type": "execute_result"
    }
   ],
   "source": [
    "# Compute average monthly order volume of all merchants\n",
    "mean_num_orders = agg_transactions.agg(F.mean(\"num_orders\")).collect()[0][0]\n",
    "mean_num_orders"
   ]
  },
  {
   "cell_type": "code",
   "execution_count": 21,
   "metadata": {},
   "outputs": [
    {
     "name": "stderr",
     "output_type": "stream",
     "text": [
      "                                                                                \r"
     ]
    },
    {
     "data": {
      "text/html": [
       "<table border='1'>\n",
       "<tr><th>merchant_abn</th><th>avg_monthly_revenue_growth</th><th>avg_num_orders</th><th>avg_revenue_per_order</th><th>coef_of_variation</th><th>std_reveune_growth</th><th>discounted_revenue_flow</th><th>expected_project_value</th><th>combined_fp</th><th>risk_adjusted_epv</th></tr>\n",
       "<tr><td>48534649627</td><td>0.025333333333333336</td><td>3335.4666666666667</td><td>143.09733333333332</td><td>0.17851904439502903</td><td>0.1612392484418581</td><td>1400750.4061942906</td><td>93009.82697130089</td><td>30.673439088983052</td><td>64480.51434849038</td></tr>\n",
       "<tr><td>86578477987</td><td>0.026000000000000002</td><td>13805.266666666666</td><td>35.028</td><td>0.17180320536602955</td><td>0.1635236985883086</td><td>1426866.798267028</td><td>91747.5351285699</td><td>30.291424461195973</td><td>63955.89983008991</td></tr>\n",
       "<tr><td>32361057556</td><td>0.025333333333333333</td><td>4341.933333333333</td><td>109.82733333333334</td><td>0.1775619949607971</td><td>0.17058163804494092</td><td>1380419.1374607098</td><td>91245.70498615292</td><td>30.4234067389335</td><td>63485.65302640829</td></tr>\n",
       "<tr><td>45629217853</td><td>0.027333333333333334</td><td>11255.333333333334</td><td>37.83866666666667</td><td>0.18717135892602974</td><td>0.17826411651842677</td><td>1265784.8255556792</td><td>88351.78082378641</td><td>30.81994237694723</td><td>61121.81288488873</td></tr>\n",
       "<tr><td>79827781481</td><td>0.028666666666666667</td><td>241.2</td><td>2036.1873333333338</td><td>0.1758887478875903</td><td>0.18814381530652352</td><td>1417110.0615200887</td><td>96646.90619567005</td><td>38.2490462962963</td><td>59680.38630092573</td></tr>\n",
       "<tr><td>21439773999</td><td>0.024666666666666667</td><td>6118.266666666666</td><td>78.28</td><td>0.17513345558089158</td><td>0.16422400497346243</td><td>1387461.9684095625</td><td>84635.1800729833</td><td>30.246255208446836</td><td>59036.20751198023</td></tr>\n",
       "<tr><td>96680767841</td><td>0.029333333333333333</td><td>1582.3333333333333</td><td>315.58133333333336</td><td>0.1762583893366516</td><td>0.18997994881666053</td><td>1468326.4819790302</td><td>86778.09508496069</td><td>32.35259734569201</td><td>58703.12739786161</td></tr>\n",
       "<tr><td>38700038932</td><td>0.02266666666666666</td><td>365.26666666666665</td><td>1337.1320000000003</td><td>0.17855375493793263</td><td>0.17878425412717286</td><td>1418536.365320908</td><td>89509.64465174929</td><td>34.81062803431283</td><td>58350.77519719366</td></tr>\n",
       "<tr><td>64403598239</td><td>0.025333333333333333</td><td>5752.2</td><td>78.12666666666668</td><td>0.17188020953378486</td><td>0.1548209411207793</td><td>1323501.879621348</td><td>83512.96860410707</td><td>30.271728173568377</td><td>58232.14975859427</td></tr>\n",
       "<tr><td>89726005175</td><td>0.026</td><td>10937.533333333333</td><td>41.28066666666666</td><td>0.17785400363988527</td><td>0.1696551123392901</td><td>1346359.9274887978</td><td>80916.23164207675</td><td>30.303525237256423</td><td>56395.76096538315</td></tr>\n",
       "</table>\n"
      ],
      "text/plain": [
       "+------------+--------------------------+------------------+---------------------+-------------------+-------------------+-----------------------+----------------------+------------------+-----------------+\n",
       "|merchant_abn|avg_monthly_revenue_growth|    avg_num_orders|avg_revenue_per_order|  coef_of_variation| std_reveune_growth|discounted_revenue_flow|expected_project_value|       combined_fp|risk_adjusted_epv|\n",
       "+------------+--------------------------+------------------+---------------------+-------------------+-------------------+-----------------------+----------------------+------------------+-----------------+\n",
       "| 48534649627|      0.025333333333333336|3335.4666666666667|   143.09733333333332|0.17851904439502903| 0.1612392484418581|     1400750.4061942906|     93009.82697130089|30.673439088983052|64480.51434849038|\n",
       "| 86578477987|      0.026000000000000002|13805.266666666666|               35.028|0.17180320536602955| 0.1635236985883086|      1426866.798267028|      91747.5351285699|30.291424461195973|63955.89983008991|\n",
       "| 32361057556|      0.025333333333333333| 4341.933333333333|   109.82733333333334| 0.1775619949607971|0.17058163804494092|     1380419.1374607098|     91245.70498615292|  30.4234067389335|63485.65302640829|\n",
       "| 45629217853|      0.027333333333333334|11255.333333333334|    37.83866666666667|0.18717135892602974|0.17826411651842677|     1265784.8255556792|     88351.78082378641| 30.81994237694723|61121.81288488873|\n",
       "| 79827781481|      0.028666666666666667|             241.2|   2036.1873333333338| 0.1758887478875903|0.18814381530652352|     1417110.0615200887|     96646.90619567005|  38.2490462962963|59680.38630092573|\n",
       "| 21439773999|      0.024666666666666667| 6118.266666666666|                78.28|0.17513345558089158|0.16422400497346243|     1387461.9684095625|      84635.1800729833|30.246255208446836|59036.20751198023|\n",
       "| 96680767841|      0.029333333333333333|1582.3333333333333|   315.58133333333336| 0.1762583893366516|0.18997994881666053|     1468326.4819790302|     86778.09508496069| 32.35259734569201|58703.12739786161|\n",
       "| 38700038932|       0.02266666666666666|365.26666666666665|   1337.1320000000003|0.17855375493793263|0.17878425412717286|      1418536.365320908|     89509.64465174929| 34.81062803431283|58350.77519719366|\n",
       "| 64403598239|      0.025333333333333333|            5752.2|    78.12666666666668|0.17188020953378486| 0.1548209411207793|      1323501.879621348|     83512.96860410707|30.271728173568377|58232.14975859427|\n",
       "| 89726005175|                     0.026|10937.533333333333|    41.28066666666666|0.17785400363988527| 0.1696551123392901|     1346359.9274887978|     80916.23164207675|30.303525237256423|56395.76096538315|\n",
       "+------------+--------------------------+------------------+---------------------+-------------------+-------------------+-----------------------+----------------------+------------------+-----------------+"
      ]
     },
     "execution_count": 21,
     "metadata": {},
     "output_type": "execute_result"
    }
   ],
   "source": [
    "merchant_ranking_metrics = merchant_ranking_metrics.withColumn(\"risk_adjusted_epv\", F.col(\"risk_adjusted_epv\") * (1/(1 + F.exp(-F.col(\"avg_num_orders\"))*np.exp(mean_num_orders))))\n",
    "merchant_ranking_metrics.orderBy(\"risk_adjusted_epv\", ascending = False).limit(10)"
   ]
  },
  {
   "cell_type": "markdown",
   "metadata": {},
   "source": [
    "The **coefficient of variation** is a ratio between the standard deviation and the mean, measuring the relative stability which help us compare merchants with different average revenue. Thus, we will create a weight that favors merchant with higher stability. The weight is calculate as\n",
    "\n",
    "$$W_{\\text{CV}} = \\frac{1}{1 + CV}$$"
   ]
  },
  {
   "cell_type": "code",
   "execution_count": 28,
   "metadata": {},
   "outputs": [
    {
     "name": "stderr",
     "output_type": "stream",
     "text": [
      "                                                                                \r"
     ]
    },
    {
     "data": {
      "text/html": [
       "<table border='1'>\n",
       "<tr><th>merchant_abn</th><th>risk_adjusted_epv</th></tr>\n",
       "<tr><td>86578477987</td><td>46576.97189271249</td></tr>\n",
       "<tr><td>48534649627</td><td>46425.3603313313</td></tr>\n",
       "<tr><td>32361057556</td><td>45783.39878360842</td></tr>\n",
       "<tr><td>45629217853</td><td>43368.00117279411</td></tr>\n",
       "<tr><td>79827781481</td><td>43161.76107724143</td></tr>\n",
       "<tr><td>21439773999</td><td>42750.78259761917</td></tr>\n",
       "<tr><td>96680767841</td><td>42428.313675071</td></tr>\n",
       "<tr><td>64403598239</td><td>42402.98040334261</td></tr>\n",
       "<tr><td>38700038932</td><td>42009.531508133165</td></tr>\n",
       "<tr><td>89726005175</td><td>40650.279509506676</td></tr>\n",
       "</table>\n"
      ],
      "text/plain": [
       "+------------+------------------+\n",
       "|merchant_abn| risk_adjusted_epv|\n",
       "+------------+------------------+\n",
       "| 86578477987| 46576.97189271249|\n",
       "| 48534649627|  46425.3603313313|\n",
       "| 32361057556| 45783.39878360842|\n",
       "| 45629217853| 43368.00117279411|\n",
       "| 79827781481| 43161.76107724143|\n",
       "| 21439773999| 42750.78259761917|\n",
       "| 96680767841|   42428.313675071|\n",
       "| 64403598239| 42402.98040334261|\n",
       "| 38700038932|42009.531508133165|\n",
       "| 89726005175|40650.279509506676|\n",
       "+------------+------------------+"
      ]
     },
     "execution_count": 28,
     "metadata": {},
     "output_type": "execute_result"
    }
   ],
   "source": [
    "merchant_ranking_metrics = merchant_ranking_metrics.withColumn(\"risk_adjusted_epv\", F.col(\"risk_adjusted_epv\") * (1/(1 + F.col(\"coef_of_variation\") )))\n",
    "merchant_ranking_metrics.orderBy(\"risk_adjusted_epv\", ascending = False).limit(10)"
   ]
  },
  {
   "cell_type": "markdown",
   "metadata": {},
   "source": [
    "Now that we have found the adjusted EPV that accounts for different factor, we can now merge the merchants to their respective segments and will select top 20 merchants from each segnment."
   ]
  },
  {
   "cell_type": "code",
   "execution_count": 29,
   "metadata": {},
   "outputs": [
    {
     "name": "stderr",
     "output_type": "stream",
     "text": [
      "                                                                                \r"
     ]
    },
    {
     "data": {
      "text/html": [
       "<table border='1'>\n",
       "<tr><th>merchant_abn</th><th>risk_adjusted_epv</th><th>name</th><th>segments</th></tr>\n",
       "<tr><td>73256306726</td><td>4253.383465153581</td><td>Id LLP</td><td>Fashion, Personal...</td></tr>\n",
       "<tr><td>73841664453</td><td>3.971641122407166...</td><td>Lacinia At LLP</td><td>Books, Media, Art...</td></tr>\n",
       "<tr><td>83412691377</td><td>1207.9882262976503</td><td>Suspendisse Sagit...</td><td>Fashion, Personal...</td></tr>\n",
       "<tr><td>92202115241</td><td>9.960598276188678...</td><td>Fames Ac Turpis L...</td><td>Books, Media, Art...</td></tr>\n",
       "<tr><td>96946925998</td><td>6.694706058513072...</td><td>Nisi Cum Corporation</td><td>Books, Media, Art...</td></tr>\n",
       "<tr><td>64185141673</td><td>1.463940815494221...</td><td>Maecenas Corp.</td><td>Books, Media, Art...</td></tr>\n",
       "<tr><td>66610548417</td><td>1.926901616965567...</td><td>Nulla Inc.</td><td> Vehicles, Repair...</td></tr>\n",
       "<tr><td>71002398501</td><td>2.333617783831284...</td><td>Ipsum Phasellus C...</td><td>Fashion, Personal...</td></tr>\n",
       "<tr><td>72762528640</td><td>1.260831198080646...</td><td>Sit Amet Risus As...</td><td> Vehicles, Repair...</td></tr>\n",
       "<tr><td>87211363921</td><td>7.773066636813608...</td><td>Mauris Non PC</td><td>Books, Media, Art...</td></tr>\n",
       "<tr><td>68874243493</td><td>5.18921270778804E-84</td><td>Nullam Suscipit C...</td><td>Computers, Electr...</td></tr>\n",
       "<tr><td>80421506936</td><td>2.777435040213914...</td><td>Scelerisque Molli...</td><td>Books, Media, Art...</td></tr>\n",
       "<tr><td>81583941068</td><td>9.88145476552643E-7</td><td>Aliquam Vulputate...</td><td>Computers, Electr...</td></tr>\n",
       "<tr><td>86662713230</td><td>5282.751191725494</td><td>Vestibulum Accums...</td><td>Fashion, Personal...</td></tr>\n",
       "<tr><td>90568944804</td><td>30239.136235740254</td><td>Diam Eu Dolor LLC</td><td> Vehicles, Repair...</td></tr>\n",
       "<tr><td>98545158925</td><td>291.88081997544475</td><td>Dictum Eleifend I...</td><td>Computers, Electr...</td></tr>\n",
       "<tr><td>63937753588</td><td>1.546223808960239...</td><td>Ac Metus Vitae Co...</td><td>Home, Garden, and...</td></tr>\n",
       "<tr><td>71305424518</td><td>8.240257343646105...</td><td>Vivamus Molestie ...</td><td>Books, Media, Art...</td></tr>\n",
       "<tr><td>71649111610</td><td>4.377720895642165...</td><td>At LLP</td><td>Computers, Electr...</td></tr>\n",
       "<tr><td>87919999302</td><td>1.929044626278195...</td><td>Consectetuer Rhon...</td><td>Computers, Electr...</td></tr>\n",
       "</table>\n",
       "only showing top 20 rows\n"
      ],
      "text/plain": [
       "+------------+--------------------+--------------------+--------------------+\n",
       "|merchant_abn|   risk_adjusted_epv|                name|            segments|\n",
       "+------------+--------------------+--------------------+--------------------+\n",
       "| 73256306726|   4253.383465153581|              Id LLP|Fashion, Personal...|\n",
       "| 73841664453|3.971641122407166...|      Lacinia At LLP|Books, Media, Art...|\n",
       "| 83412691377|  1207.9882262976503|Suspendisse Sagit...|Fashion, Personal...|\n",
       "| 92202115241|9.960598276188678...|Fames Ac Turpis L...|Books, Media, Art...|\n",
       "| 96946925998|6.694706058513072...|Nisi Cum Corporation|Books, Media, Art...|\n",
       "| 64185141673|1.463940815494221...|      Maecenas Corp.|Books, Media, Art...|\n",
       "| 66610548417|1.926901616965567...|          Nulla Inc.| Vehicles, Repair...|\n",
       "| 71002398501|2.333617783831284...|Ipsum Phasellus C...|Fashion, Personal...|\n",
       "| 72762528640|1.260831198080646...|Sit Amet Risus As...| Vehicles, Repair...|\n",
       "| 87211363921|7.773066636813608...|       Mauris Non PC|Books, Media, Art...|\n",
       "| 68874243493|5.18921270778804E-84|Nullam Suscipit C...|Computers, Electr...|\n",
       "| 80421506936|2.777435040213914...|Scelerisque Molli...|Books, Media, Art...|\n",
       "| 81583941068| 9.88145476552643E-7|Aliquam Vulputate...|Computers, Electr...|\n",
       "| 86662713230|   5282.751191725494|Vestibulum Accums...|Fashion, Personal...|\n",
       "| 90568944804|  30239.136235740254|   Diam Eu Dolor LLC| Vehicles, Repair...|\n",
       "| 98545158925|  291.88081997544475|Dictum Eleifend I...|Computers, Electr...|\n",
       "| 63937753588|1.546223808960239...|Ac Metus Vitae Co...|Home, Garden, and...|\n",
       "| 71305424518|8.240257343646105...|Vivamus Molestie ...|Books, Media, Art...|\n",
       "| 71649111610|4.377720895642165...|              At LLP|Computers, Electr...|\n",
       "| 87919999302|1.929044626278195...|Consectetuer Rhon...|Computers, Electr...|\n",
       "+------------+--------------------+--------------------+--------------------+\n",
       "only showing top 20 rows"
      ]
     },
     "execution_count": 29,
     "metadata": {},
     "output_type": "execute_result"
    }
   ],
   "source": [
    "# Reading in the segmented merchants\n",
    "segments = spark.read.parquet(f\"../data/curated/segmented_merchants_info.parquet/\")\n",
    "segments = segments.select(\"name\", \"merchant_abn\", \"segments\")\n",
    "\n",
    "complete_ranking = merchant_ranking_metrics.select(\"merchant_abn\", \"risk_adjusted_epv\")\n",
    "\n",
    "# Merge ranking with segments\n",
    "complete_ranking = complete_ranking.join(segments, on = 'merchant_abn', how='inner')\n",
    "complete_ranking"
   ]
  },
  {
   "cell_type": "code",
   "execution_count": 30,
   "metadata": {},
   "outputs": [],
   "source": [
    "segments = [\"Computers, Electronics, and Office Supplies\", \"Home, Garden, and Furnishings\", \"Books, Media, Arts, Crafts, and Hobbies\", \"Fashion, Personal Accessories, Health, and Beauty\"\n",
    "            , \" Vehicles, Repairs, and Miscellaneous Services\"]"
   ]
  },
  {
   "cell_type": "code",
   "execution_count": 40,
   "metadata": {},
   "outputs": [
    {
     "name": "stderr",
     "output_type": "stream",
     "text": [
      "                                                                                \r"
     ]
    },
    {
     "data": {
      "text/html": [
       "<table border='1'>\n",
       "<tr><th>merchant_abn</th><th>risk_adjusted_epv</th><th>name</th><th>segments</th></tr>\n",
       "<tr><td>21439773999</td><td>42750.78259761917</td><td>Mauris Non Institute</td><td>Computers, Electr...</td></tr>\n",
       "<tr><td>82368304209</td><td>40328.12623910149</td><td>Nec Incorporated</td><td>Computers, Electr...</td></tr>\n",
       "<tr><td>35909341340</td><td>34528.05883045934</td><td>Arcu Sed Eu Incor...</td><td>Computers, Electr...</td></tr>\n",
       "<tr><td>45433476494</td><td>30376.551287739952</td><td>Adipiscing Elit F...</td><td>Computers, Electr...</td></tr>\n",
       "<tr><td>58454491168</td><td>29997.410374360927</td><td>Diam At Foundation</td><td>Computers, Electr...</td></tr>\n",
       "<tr><td>94690988633</td><td>29332.853997916067</td><td>Eu Placerat LLC</td><td>Computers, Electr...</td></tr>\n",
       "<tr><td>67400260923</td><td>24354.513114602974</td><td>Eleifend PC</td><td>Computers, Electr...</td></tr>\n",
       "<tr><td>80518954462</td><td>23902.54171838429</td><td>Neque Sed Dictum ...</td><td>Computers, Electr...</td></tr>\n",
       "<tr><td>34096466752</td><td>22582.129769355102</td><td>Nullam Enim Ltd</td><td>Computers, Electr...</td></tr>\n",
       "<tr><td>57757792876</td><td>22232.71177159719</td><td>Pretium Et LLC</td><td>Computers, Electr...</td></tr>\n",
       "<tr><td>32709545238</td><td>21068.038933318512</td><td>Tempor Est Founda...</td><td>Computers, Electr...</td></tr>\n",
       "<tr><td>27093785141</td><td>19967.787868170322</td><td>Placerat Orci Ins...</td><td>Computers, Electr...</td></tr>\n",
       "<tr><td>77590625261</td><td>18194.669107830417</td><td>Sed Diam Foundation</td><td>Computers, Electr...</td></tr>\n",
       "<tr><td>77338620996</td><td>17592.36270310202</td><td>Fames Ac Turpis LLC</td><td>Computers, Electr...</td></tr>\n",
       "<tr><td>68216911708</td><td>16395.851606405467</td><td>Placerat Eget Ven...</td><td>Computers, Electr...</td></tr>\n",
       "<tr><td>94455880010</td><td>12455.71104933179</td><td>Nunc Sit LLC</td><td>Computers, Electr...</td></tr>\n",
       "<tr><td>41271931352</td><td>9952.52079915646</td><td>Ac Sem Ut Company</td><td>Computers, Electr...</td></tr>\n",
       "<tr><td>84703983173</td><td>8004.180148474358</td><td>Amet Consulting</td><td>Computers, Electr...</td></tr>\n",
       "<tr><td>14058755389</td><td>7700.140015850607</td><td>Vel Mauris Intege...</td><td>Computers, Electr...</td></tr>\n",
       "<tr><td>45244796758</td><td>7601.960692190249</td><td>Vitae Dolor LLP</td><td>Computers, Electr...</td></tr>\n",
       "</table>\n"
      ],
      "text/plain": [
       "+------------+------------------+--------------------+--------------------+\n",
       "|merchant_abn| risk_adjusted_epv|                name|            segments|\n",
       "+------------+------------------+--------------------+--------------------+\n",
       "| 21439773999| 42750.78259761917|Mauris Non Institute|Computers, Electr...|\n",
       "| 82368304209| 40328.12623910149|    Nec Incorporated|Computers, Electr...|\n",
       "| 35909341340| 34528.05883045934|Arcu Sed Eu Incor...|Computers, Electr...|\n",
       "| 45433476494|30376.551287739952|Adipiscing Elit F...|Computers, Electr...|\n",
       "| 58454491168|29997.410374360927|  Diam At Foundation|Computers, Electr...|\n",
       "| 94690988633|29332.853997916067|     Eu Placerat LLC|Computers, Electr...|\n",
       "| 67400260923|24354.513114602974|         Eleifend PC|Computers, Electr...|\n",
       "| 80518954462| 23902.54171838429|Neque Sed Dictum ...|Computers, Electr...|\n",
       "| 34096466752|22582.129769355102|     Nullam Enim Ltd|Computers, Electr...|\n",
       "| 57757792876| 22232.71177159719|      Pretium Et LLC|Computers, Electr...|\n",
       "| 32709545238|21068.038933318512|Tempor Est Founda...|Computers, Electr...|\n",
       "| 27093785141|19967.787868170322|Placerat Orci Ins...|Computers, Electr...|\n",
       "| 77590625261|18194.669107830417| Sed Diam Foundation|Computers, Electr...|\n",
       "| 77338620996| 17592.36270310202| Fames Ac Turpis LLC|Computers, Electr...|\n",
       "| 68216911708|16395.851606405467|Placerat Eget Ven...|Computers, Electr...|\n",
       "| 94455880010| 12455.71104933179|        Nunc Sit LLC|Computers, Electr...|\n",
       "| 41271931352|  9952.52079915646|   Ac Sem Ut Company|Computers, Electr...|\n",
       "| 84703983173| 8004.180148474358|     Amet Consulting|Computers, Electr...|\n",
       "| 14058755389| 7700.140015850607|Vel Mauris Intege...|Computers, Electr...|\n",
       "| 45244796758| 7601.960692190249|     Vitae Dolor LLP|Computers, Electr...|\n",
       "+------------+------------------+--------------------+--------------------+"
      ]
     },
     "execution_count": 40,
     "metadata": {},
     "output_type": "execute_result"
    }
   ],
   "source": [
    "seg1_ranking = complete_ranking.filter(F.col('segments') == segments[0])\n",
    "seg1_ranking = seg1_ranking.orderBy(\"risk_adjusted_epv\", ascending=False)\n",
    "seg1_ranking.write.parquet(f\"../data/curated/seg1_ranking.parquet\", mode='overwrite')\n",
    "seg1_ranking.limit(20)"
   ]
  },
  {
   "cell_type": "code",
   "execution_count": 41,
   "metadata": {},
   "outputs": [
    {
     "name": "stderr",
     "output_type": "stream",
     "text": [
      "                                                                                \r"
     ]
    },
    {
     "data": {
      "text/html": [
       "<table border='1'>\n",
       "<tr><th>merchant_abn</th><th>risk_adjusted_epv</th><th>name</th><th>segments</th></tr>\n",
       "<tr><td>79827781481</td><td>43161.76107724143</td><td>Amet Risus Inc.</td><td>Home, Garden, and...</td></tr>\n",
       "<tr><td>76767266140</td><td>33825.78192692432</td><td>Phasellus At Limited</td><td>Home, Garden, and...</td></tr>\n",
       "<tr><td>43186523025</td><td>31371.03747319446</td><td>Lorem Ipsum Sodal...</td><td>Home, Garden, and...</td></tr>\n",
       "<tr><td>49212265466</td><td>27448.785192182746</td><td>Auctor Company</td><td>Home, Garden, and...</td></tr>\n",
       "<tr><td>21772962346</td><td>24870.696995250284</td><td>Purus Gravida Sag...</td><td>Home, Garden, and...</td></tr>\n",
       "<tr><td>38090089066</td><td>23022.567284653698</td><td>Interdum Feugiat ...</td><td>Home, Garden, and...</td></tr>\n",
       "<tr><td>42355028515</td><td>22642.576703767234</td><td>Eu Inc.</td><td>Home, Garden, and...</td></tr>\n",
       "<tr><td>76314317957</td><td>22194.568063323582</td><td>Semper Corp.</td><td>Home, Garden, and...</td></tr>\n",
       "<tr><td>24852446429</td><td>19697.71110190194</td><td>Erat Vitae LLP</td><td>Home, Garden, and...</td></tr>\n",
       "<tr><td>90543168331</td><td>17474.217277567357</td><td>Phasellus Dapibus...</td><td>Home, Garden, and...</td></tr>\n",
       "<tr><td>38212167834</td><td>13567.36405380694</td><td>Magna Suspendisse...</td><td>Home, Garden, and...</td></tr>\n",
       "<tr><td>50315283629</td><td>12238.689769656952</td><td>Iaculis Aliquet D...</td><td>Home, Garden, and...</td></tr>\n",
       "<tr><td>90173050473</td><td>11381.15391281571</td><td>Lobortis Class In...</td><td>Home, Garden, and...</td></tr>\n",
       "<tr><td>98269572896</td><td>10880.577706398568</td><td>Eget Laoreet Posu...</td><td>Home, Garden, and...</td></tr>\n",
       "<tr><td>70009327857</td><td>10840.922264105835</td><td>Torquent Per Inc.</td><td>Home, Garden, and...</td></tr>\n",
       "<tr><td>52959528548</td><td>10592.393775062792</td><td>Libero Et Limited</td><td>Home, Garden, and...</td></tr>\n",
       "<tr><td>53126107676</td><td>8895.68697902994</td><td>Sed Neque Corpora...</td><td>Home, Garden, and...</td></tr>\n",
       "<tr><td>38012560280</td><td>8036.460034400583</td><td>In Tempus Associates</td><td>Home, Garden, and...</td></tr>\n",
       "<tr><td>37379915451</td><td>6886.070013632603</td><td>Tempor Est Ac Cor...</td><td>Home, Garden, and...</td></tr>\n",
       "<tr><td>74063123996</td><td>6796.936048909777</td><td>Nec Eleifend Non Ltd</td><td>Home, Garden, and...</td></tr>\n",
       "</table>\n"
      ],
      "text/plain": [
       "+------------+------------------+--------------------+--------------------+\n",
       "|merchant_abn| risk_adjusted_epv|                name|            segments|\n",
       "+------------+------------------+--------------------+--------------------+\n",
       "| 79827781481| 43161.76107724143|     Amet Risus Inc.|Home, Garden, and...|\n",
       "| 76767266140| 33825.78192692432|Phasellus At Limited|Home, Garden, and...|\n",
       "| 43186523025| 31371.03747319446|Lorem Ipsum Sodal...|Home, Garden, and...|\n",
       "| 49212265466|27448.785192182746|      Auctor Company|Home, Garden, and...|\n",
       "| 21772962346|24870.696995250284|Purus Gravida Sag...|Home, Garden, and...|\n",
       "| 38090089066|23022.567284653698|Interdum Feugiat ...|Home, Garden, and...|\n",
       "| 42355028515|22642.576703767234|             Eu Inc.|Home, Garden, and...|\n",
       "| 76314317957|22194.568063323582|        Semper Corp.|Home, Garden, and...|\n",
       "| 24852446429| 19697.71110190194|      Erat Vitae LLP|Home, Garden, and...|\n",
       "| 90543168331|17474.217277567357|Phasellus Dapibus...|Home, Garden, and...|\n",
       "| 38212167834| 13567.36405380694|Magna Suspendisse...|Home, Garden, and...|\n",
       "| 50315283629|12238.689769656952|Iaculis Aliquet D...|Home, Garden, and...|\n",
       "| 90173050473| 11381.15391281571|Lobortis Class In...|Home, Garden, and...|\n",
       "| 98269572896|10880.577706398568|Eget Laoreet Posu...|Home, Garden, and...|\n",
       "| 70009327857|10840.922264105835|   Torquent Per Inc.|Home, Garden, and...|\n",
       "| 52959528548|10592.393775062792|   Libero Et Limited|Home, Garden, and...|\n",
       "| 53126107676|  8895.68697902994|Sed Neque Corpora...|Home, Garden, and...|\n",
       "| 38012560280| 8036.460034400583|In Tempus Associates|Home, Garden, and...|\n",
       "| 37379915451| 6886.070013632603|Tempor Est Ac Cor...|Home, Garden, and...|\n",
       "| 74063123996| 6796.936048909777|Nec Eleifend Non Ltd|Home, Garden, and...|\n",
       "+------------+------------------+--------------------+--------------------+"
      ]
     },
     "execution_count": 41,
     "metadata": {},
     "output_type": "execute_result"
    }
   ],
   "source": [
    "seg2_ranking = complete_ranking.filter(F.col('segments') == segments[1])\n",
    "seg2_ranking = seg2_ranking.orderBy(\"risk_adjusted_epv\", ascending=False)\n",
    "seg2_ranking.write.parquet(f\"../data/curated/seg2_ranking.parquet\", mode='overwrite')\n",
    "seg2_ranking.limit(20)"
   ]
  },
  {
   "cell_type": "code",
   "execution_count": 42,
   "metadata": {},
   "outputs": [
    {
     "name": "stderr",
     "output_type": "stream",
     "text": [
      "                                                                                \r"
     ]
    },
    {
     "data": {
      "text/html": [
       "<table border='1'>\n",
       "<tr><th>merchant_abn</th><th>risk_adjusted_epv</th><th>name</th><th>segments</th></tr>\n",
       "<tr><td>32361057556</td><td>45783.39878360842</td><td>Orci In Consequat...</td><td>Books, Media, Art...</td></tr>\n",
       "<tr><td>45629217853</td><td>43368.00117279411</td><td>Lacus Consulting</td><td>Books, Media, Art...</td></tr>\n",
       "<tr><td>64403598239</td><td>42402.98040334261</td><td>Lobortis Ultrices...</td><td>Books, Media, Art...</td></tr>\n",
       "<tr><td>94493496784</td><td>38198.296626718475</td><td>Dictum Phasellus ...</td><td>Books, Media, Art...</td></tr>\n",
       "<tr><td>63123845164</td><td>38078.78242188081</td><td>Odio Phasellus In...</td><td>Books, Media, Art...</td></tr>\n",
       "<tr><td>72472909171</td><td>34449.29025506108</td><td>Nullam Consulting</td><td>Books, Media, Art...</td></tr>\n",
       "<tr><td>40515428545</td><td>34194.52231224272</td><td>Elit Sed Consequa...</td><td>Books, Media, Art...</td></tr>\n",
       "<tr><td>79417999332</td><td>34145.09500900829</td><td>Phasellus At Company</td><td>Books, Media, Art...</td></tr>\n",
       "<tr><td>27326652377</td><td>33018.039561383506</td><td>Tellus Aenean Cor...</td><td>Books, Media, Art...</td></tr>\n",
       "<tr><td>98973094975</td><td>30865.917471886332</td><td>Ornare Fusce Inc.</td><td>Books, Media, Art...</td></tr>\n",
       "<tr><td>67978471888</td><td>30589.098948392326</td><td>Magna Malesuada C...</td><td>Books, Media, Art...</td></tr>\n",
       "<tr><td>60956456424</td><td>28997.712750164537</td><td>Ultricies Digniss...</td><td>Books, Media, Art...</td></tr>\n",
       "<tr><td>49505931725</td><td>26492.093887214414</td><td>Suspendisse Ac As...</td><td>Books, Media, Art...</td></tr>\n",
       "<tr><td>34179569263</td><td>24849.057957488676</td><td>Sodales At LLC</td><td>Books, Media, Art...</td></tr>\n",
       "<tr><td>81219314324</td><td>22268.067851665477</td><td>Faucibus Leo Ltd</td><td>Books, Media, Art...</td></tr>\n",
       "<tr><td>63290521567</td><td>21526.40950275668</td><td>Vehicula Pellente...</td><td>Books, Media, Art...</td></tr>\n",
       "<tr><td>71759376949</td><td>21296.63465377393</td><td>Pharetra Corp.</td><td>Books, Media, Art...</td></tr>\n",
       "<tr><td>99291944648</td><td>19503.56639942257</td><td>Rutrum Magna Cras...</td><td>Books, Media, Art...</td></tr>\n",
       "<tr><td>89022158521</td><td>18487.063224451984</td><td>Sollicitudin Adip...</td><td>Books, Media, Art...</td></tr>\n",
       "<tr><td>98072939449</td><td>17778.71868983323</td><td>Mattis Velit Just...</td><td>Books, Media, Art...</td></tr>\n",
       "</table>\n"
      ],
      "text/plain": [
       "+------------+------------------+--------------------+--------------------+\n",
       "|merchant_abn| risk_adjusted_epv|                name|            segments|\n",
       "+------------+------------------+--------------------+--------------------+\n",
       "| 32361057556| 45783.39878360842|Orci In Consequat...|Books, Media, Art...|\n",
       "| 45629217853| 43368.00117279411|    Lacus Consulting|Books, Media, Art...|\n",
       "| 64403598239| 42402.98040334261|Lobortis Ultrices...|Books, Media, Art...|\n",
       "| 94493496784|38198.296626718475|Dictum Phasellus ...|Books, Media, Art...|\n",
       "| 63123845164| 38078.78242188081|Odio Phasellus In...|Books, Media, Art...|\n",
       "| 72472909171| 34449.29025506108|   Nullam Consulting|Books, Media, Art...|\n",
       "| 40515428545| 34194.52231224272|Elit Sed Consequa...|Books, Media, Art...|\n",
       "| 79417999332| 34145.09500900829|Phasellus At Company|Books, Media, Art...|\n",
       "| 27326652377|33018.039561383506|Tellus Aenean Cor...|Books, Media, Art...|\n",
       "| 98973094975|30865.917471886332|   Ornare Fusce Inc.|Books, Media, Art...|\n",
       "| 67978471888|30589.098948392326|Magna Malesuada C...|Books, Media, Art...|\n",
       "| 60956456424|28997.712750164537|Ultricies Digniss...|Books, Media, Art...|\n",
       "| 49505931725|26492.093887214414|Suspendisse Ac As...|Books, Media, Art...|\n",
       "| 34179569263|24849.057957488676|      Sodales At LLC|Books, Media, Art...|\n",
       "| 81219314324|22268.067851665477|    Faucibus Leo Ltd|Books, Media, Art...|\n",
       "| 63290521567| 21526.40950275668|Vehicula Pellente...|Books, Media, Art...|\n",
       "| 71759376949| 21296.63465377393|      Pharetra Corp.|Books, Media, Art...|\n",
       "| 99291944648| 19503.56639942257|Rutrum Magna Cras...|Books, Media, Art...|\n",
       "| 89022158521|18487.063224451984|Sollicitudin Adip...|Books, Media, Art...|\n",
       "| 98072939449| 17778.71868983323|Mattis Velit Just...|Books, Media, Art...|\n",
       "+------------+------------------+--------------------+--------------------+"
      ]
     },
     "execution_count": 42,
     "metadata": {},
     "output_type": "execute_result"
    }
   ],
   "source": [
    "seg3_ranking = complete_ranking.filter(F.col('segments') == segments[2])\n",
    "seg3_ranking = seg3_ranking.orderBy(\"risk_adjusted_epv\", ascending=False)\n",
    "seg3_ranking.write.parquet(f\"../data/curated/seg3_ranking.parquet\", mode='overwrite')\n",
    "seg3_ranking.limit(20)"
   ]
  },
  {
   "cell_type": "code",
   "execution_count": 43,
   "metadata": {},
   "outputs": [
    {
     "name": "stderr",
     "output_type": "stream",
     "text": [
      "                                                                                \r"
     ]
    },
    {
     "data": {
      "text/html": [
       "<table border='1'>\n",
       "<tr><th>merchant_abn</th><th>risk_adjusted_epv</th><th>name</th><th>segments</th></tr>\n",
       "<tr><td>86578477987</td><td>46576.97189271249</td><td>Leo In Consulting</td><td>Fashion, Personal...</td></tr>\n",
       "<tr><td>48534649627</td><td>46425.3603313313</td><td>Dignissim Maecena...</td><td>Fashion, Personal...</td></tr>\n",
       "<tr><td>49322182190</td><td>38283.06229337885</td><td>Gravida Mauris In...</td><td>Fashion, Personal...</td></tr>\n",
       "<tr><td>93558142492</td><td>23960.488332339733</td><td>Dolor Quisque Inc.</td><td>Fashion, Personal...</td></tr>\n",
       "<tr><td>11439466003</td><td>20536.185189376087</td><td>Blandit At LLC</td><td>Fashion, Personal...</td></tr>\n",
       "<tr><td>95574756848</td><td>18355.45043030973</td><td>At Pede Inc.</td><td>Fashion, Personal...</td></tr>\n",
       "<tr><td>99976658299</td><td>16365.648665088898</td><td>Sociosqu Corp.</td><td>Fashion, Personal...</td></tr>\n",
       "<tr><td>62224020443</td><td>16145.616793403386</td><td>Hendrerit A Corpo...</td><td>Fashion, Personal...</td></tr>\n",
       "<tr><td>46804135891</td><td>16081.874104360708</td><td>Suspendisse Dui C...</td><td>Fashion, Personal...</td></tr>\n",
       "<tr><td>81761494572</td><td>15028.519980407316</td><td>Nulla Facilisis I...</td><td>Fashion, Personal...</td></tr>\n",
       "<tr><td>23338656015</td><td>14011.792114030943</td><td>Iaculis LLC</td><td>Fashion, Personal...</td></tr>\n",
       "<tr><td>18158387243</td><td>13541.79316357437</td><td>Nec Tellus Ltd</td><td>Fashion, Personal...</td></tr>\n",
       "<tr><td>88699453206</td><td>12991.136965461548</td><td>Sed Nec Inc.</td><td>Fashion, Personal...</td></tr>\n",
       "<tr><td>88358066529</td><td>10607.730277357945</td><td>Pede Cras Vulputa...</td><td>Fashion, Personal...</td></tr>\n",
       "<tr><td>29616684420</td><td>10172.405955011483</td><td>Tellus Id LLC</td><td>Fashion, Personal...</td></tr>\n",
       "<tr><td>71528203369</td><td>9268.680500263355</td><td>Ipsum Primis Asso...</td><td>Fashion, Personal...</td></tr>\n",
       "<tr><td>91720867026</td><td>7179.635470422907</td><td>Eget Mollis LLC</td><td>Fashion, Personal...</td></tr>\n",
       "<tr><td>11237511112</td><td>7174.841578925809</td><td>Magna Institute</td><td>Fashion, Personal...</td></tr>\n",
       "<tr><td>20240471832</td><td>5932.378451711285</td><td>Eu Metus In LLP</td><td>Fashion, Personal...</td></tr>\n",
       "<tr><td>58476363584</td><td>5887.4832091123035</td><td>Mauris Blandit Fo...</td><td>Fashion, Personal...</td></tr>\n",
       "</table>\n"
      ],
      "text/plain": [
       "+------------+------------------+--------------------+--------------------+\n",
       "|merchant_abn| risk_adjusted_epv|                name|            segments|\n",
       "+------------+------------------+--------------------+--------------------+\n",
       "| 86578477987| 46576.97189271249|   Leo In Consulting|Fashion, Personal...|\n",
       "| 48534649627|  46425.3603313313|Dignissim Maecena...|Fashion, Personal...|\n",
       "| 49322182190| 38283.06229337885|Gravida Mauris In...|Fashion, Personal...|\n",
       "| 93558142492|23960.488332339733|  Dolor Quisque Inc.|Fashion, Personal...|\n",
       "| 11439466003|20536.185189376087|      Blandit At LLC|Fashion, Personal...|\n",
       "| 95574756848| 18355.45043030973|        At Pede Inc.|Fashion, Personal...|\n",
       "| 99976658299|16365.648665088898|      Sociosqu Corp.|Fashion, Personal...|\n",
       "| 62224020443|16145.616793403386|Hendrerit A Corpo...|Fashion, Personal...|\n",
       "| 46804135891|16081.874104360708|Suspendisse Dui C...|Fashion, Personal...|\n",
       "| 81761494572|15028.519980407316|Nulla Facilisis I...|Fashion, Personal...|\n",
       "| 23338656015|14011.792114030943|         Iaculis LLC|Fashion, Personal...|\n",
       "| 18158387243| 13541.79316357437|      Nec Tellus Ltd|Fashion, Personal...|\n",
       "| 88699453206|12991.136965461548|        Sed Nec Inc.|Fashion, Personal...|\n",
       "| 88358066529|10607.730277357945|Pede Cras Vulputa...|Fashion, Personal...|\n",
       "| 29616684420|10172.405955011483|       Tellus Id LLC|Fashion, Personal...|\n",
       "| 71528203369| 9268.680500263355|Ipsum Primis Asso...|Fashion, Personal...|\n",
       "| 91720867026| 7179.635470422907|     Eget Mollis LLC|Fashion, Personal...|\n",
       "| 11237511112| 7174.841578925809|     Magna Institute|Fashion, Personal...|\n",
       "| 20240471832| 5932.378451711285|     Eu Metus In LLP|Fashion, Personal...|\n",
       "| 58476363584|5887.4832091123035|Mauris Blandit Fo...|Fashion, Personal...|\n",
       "+------------+------------------+--------------------+--------------------+"
      ]
     },
     "execution_count": 43,
     "metadata": {},
     "output_type": "execute_result"
    }
   ],
   "source": [
    "seg4_ranking = complete_ranking.filter(F.col('segments') == segments[3])\n",
    "seg4_ranking = seg4_ranking.orderBy(\"risk_adjusted_epv\", ascending=False)\n",
    "seg4_ranking.write.parquet(f\"../data/curated/seg4_ranking.parquet\", mode='overwrite')\n",
    "seg4_ranking.limit(20)"
   ]
  },
  {
   "cell_type": "code",
   "execution_count": 44,
   "metadata": {},
   "outputs": [
    {
     "name": "stderr",
     "output_type": "stream",
     "text": [
      "                                                                                \r"
     ]
    },
    {
     "data": {
      "text/html": [
       "<table border='1'>\n",
       "<tr><th>merchant_abn</th><th>risk_adjusted_epv</th><th>name</th><th>segments</th></tr>\n",
       "<tr><td>96680767841</td><td>42428.313675071</td><td>Ornare Limited</td><td> Vehicles, Repair...</td></tr>\n",
       "<tr><td>38700038932</td><td>42009.531508133165</td><td>Etiam Bibendum In...</td><td> Vehicles, Repair...</td></tr>\n",
       "<tr><td>89726005175</td><td>40650.279509506676</td><td>Est Nunc Consulting</td><td> Vehicles, Repair...</td></tr>\n",
       "<tr><td>80551528183</td><td>32810.426156641195</td><td>Ac Ipsum LLC</td><td> Vehicles, Repair...</td></tr>\n",
       "<tr><td>49891706470</td><td>31071.28807610402</td><td>Non Vestibulum In...</td><td> Vehicles, Repair...</td></tr>\n",
       "<tr><td>90568944804</td><td>30239.136235740254</td><td>Diam Eu Dolor LLC</td><td> Vehicles, Repair...</td></tr>\n",
       "<tr><td>13514558491</td><td>30086.231840092238</td><td>Magna Praesent PC</td><td> Vehicles, Repair...</td></tr>\n",
       "<tr><td>75454398468</td><td>27520.90543913781</td><td>Tempus Non Lacini...</td><td> Vehicles, Repair...</td></tr>\n",
       "<tr><td>68559320474</td><td>25433.71596322629</td><td>Aliquam Auctor As...</td><td> Vehicles, Repair...</td></tr>\n",
       "<tr><td>49549583265</td><td>24951.07755094422</td><td>Luctus Et Incorpo...</td><td> Vehicles, Repair...</td></tr>\n",
       "<tr><td>87084550311</td><td>23844.00853856692</td><td>Vulputate Inc.</td><td> Vehicles, Repair...</td></tr>\n",
       "<tr><td>22033359776</td><td>22214.121289001414</td><td>Suspendisse Non L...</td><td> Vehicles, Repair...</td></tr>\n",
       "<tr><td>70033549200</td><td>20232.18822933047</td><td>Mus Proin LLP</td><td> Vehicles, Repair...</td></tr>\n",
       "<tr><td>21359184622</td><td>18255.382829993778</td><td>Sit Amet PC</td><td> Vehicles, Repair...</td></tr>\n",
       "<tr><td>85529538986</td><td>17393.561373679862</td><td>Sed Neque Associates</td><td> Vehicles, Repair...</td></tr>\n",
       "<tr><td>76819856970</td><td>17057.803263771148</td><td>Egestas Blandit Ltd</td><td> Vehicles, Repair...</td></tr>\n",
       "<tr><td>64203420245</td><td>16679.991930141197</td><td>Pede Nonummy Corp.</td><td> Vehicles, Repair...</td></tr>\n",
       "<tr><td>22227727512</td><td>15164.243363658474</td><td>Malesuada Integer...</td><td> Vehicles, Repair...</td></tr>\n",
       "<tr><td>52594457116</td><td>14259.080778852303</td><td>Vel Turpis Aliqua...</td><td> Vehicles, Repair...</td></tr>\n",
       "<tr><td>79633007926</td><td>7671.327895217782</td><td>Auctor Vitae Inc.</td><td> Vehicles, Repair...</td></tr>\n",
       "</table>\n"
      ],
      "text/plain": [
       "+------------+------------------+--------------------+--------------------+\n",
       "|merchant_abn| risk_adjusted_epv|                name|            segments|\n",
       "+------------+------------------+--------------------+--------------------+\n",
       "| 96680767841|   42428.313675071|      Ornare Limited| Vehicles, Repair...|\n",
       "| 38700038932|42009.531508133165|Etiam Bibendum In...| Vehicles, Repair...|\n",
       "| 89726005175|40650.279509506676| Est Nunc Consulting| Vehicles, Repair...|\n",
       "| 80551528183|32810.426156641195|        Ac Ipsum LLC| Vehicles, Repair...|\n",
       "| 49891706470| 31071.28807610402|Non Vestibulum In...| Vehicles, Repair...|\n",
       "| 90568944804|30239.136235740254|   Diam Eu Dolor LLC| Vehicles, Repair...|\n",
       "| 13514558491|30086.231840092238|   Magna Praesent PC| Vehicles, Repair...|\n",
       "| 75454398468| 27520.90543913781|Tempus Non Lacini...| Vehicles, Repair...|\n",
       "| 68559320474| 25433.71596322629|Aliquam Auctor As...| Vehicles, Repair...|\n",
       "| 49549583265| 24951.07755094422|Luctus Et Incorpo...| Vehicles, Repair...|\n",
       "| 87084550311| 23844.00853856692|      Vulputate Inc.| Vehicles, Repair...|\n",
       "| 22033359776|22214.121289001414|Suspendisse Non L...| Vehicles, Repair...|\n",
       "| 70033549200| 20232.18822933047|       Mus Proin LLP| Vehicles, Repair...|\n",
       "| 21359184622|18255.382829993778|         Sit Amet PC| Vehicles, Repair...|\n",
       "| 85529538986|17393.561373679862|Sed Neque Associates| Vehicles, Repair...|\n",
       "| 76819856970|17057.803263771148| Egestas Blandit Ltd| Vehicles, Repair...|\n",
       "| 64203420245|16679.991930141197|  Pede Nonummy Corp.| Vehicles, Repair...|\n",
       "| 22227727512|15164.243363658474|Malesuada Integer...| Vehicles, Repair...|\n",
       "| 52594457116|14259.080778852303|Vel Turpis Aliqua...| Vehicles, Repair...|\n",
       "| 79633007926| 7671.327895217782|   Auctor Vitae Inc.| Vehicles, Repair...|\n",
       "+------------+------------------+--------------------+--------------------+"
      ]
     },
     "execution_count": 44,
     "metadata": {},
     "output_type": "execute_result"
    }
   ],
   "source": [
    "seg5_ranking = complete_ranking.filter(F.col('segments') == segments[4])\n",
    "seg5_ranking = seg5_ranking.orderBy(\"risk_adjusted_epv\", ascending=False)\n",
    "seg5_ranking.write.parquet(f\"../data/curated/seg5_ranking.parquet\", mode='overwrite')\n",
    "seg5_ranking.limit(20)"
   ]
  }
 ],
 "metadata": {
  "kernelspec": {
   "display_name": "Python 3",
   "language": "python",
   "name": "python3"
  },
  "language_info": {
   "codemirror_mode": {
    "name": "ipython",
    "version": 3
   },
   "file_extension": ".py",
   "mimetype": "text/x-python",
   "name": "python",
   "nbconvert_exporter": "python",
   "pygments_lexer": "ipython3",
   "version": "3.8.10"
  }
 },
 "nbformat": 4,
 "nbformat_minor": 2
}

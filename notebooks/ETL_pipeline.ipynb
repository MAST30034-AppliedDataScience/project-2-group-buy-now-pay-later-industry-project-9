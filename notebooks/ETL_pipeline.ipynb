{
 "cells": [
  {
   "cell_type": "code",
   "execution_count": null,
   "metadata": {},
   "outputs": [],
   "source": [
    "# Loading library\n",
    "import os\n",
    "os.sys.path.append(\"../\")\n",
    "from scripts.etl_pipeline import *"
   ]
  },
  {
   "cell_type": "code",
   "execution_count": null,
   "metadata": {},
   "outputs": [
    {
     "name": "stderr",
     "output_type": "stream",
     "text": [
      "<<<<<<< local\n"
     ]
    },
    {
     "name": "stderr",
     "output_type": "stream",
     "text": [
      "24/09/10 14:36:02 WARN Utils: Your hostname, qinsitaodeMacBook-Air.local resolves to a loopback address: 127.0.0.1; using 10.13.18.159 instead (on interface en0)\n",
      "24/09/10 14:36:02 WARN Utils: Set SPARK_LOCAL_IP if you need to bind to another address\n",
      "Setting default log level to \"WARN\".\n",
      "To adjust logging level use sc.setLogLevel(newLevel). For SparkR, use setLogLevel(newLevel).\n",
      "24/09/10 14:36:06 WARN NativeCodeLoader: Unable to load native-hadoop library for your platform... using builtin-java classes where applicable\n",
      "24/09/10 14:36:09 WARN Utils: Service 'SparkUI' could not bind on port 4040. Attempting port 4041.\n"
     ]
    },
    {
     "name": "stderr",
     "output_type": "stream",
     "text": [
      "=======\n"
     ]
    },
    {
     "name": "stderr",
     "output_type": "stream",
     "text": [
      "your 131072x1 screen size is bogus. expect trouble\n",
      "24/09/11 11:33:38 WARN Utils: Your hostname, DESKTOP-H0CEB6G resolves to a loopback address: 127.0.1.1; using 172.29.253.151 instead (on interface eth0)\n",
      "24/09/11 11:33:38 WARN Utils: Set SPARK_LOCAL_IP if you need to bind to another address\n",
      "Setting default log level to \"WARN\".\n",
      "To adjust logging level use sc.setLogLevel(newLevel). For SparkR, use setLogLevel(newLevel).\n",
      "24/09/11 11:33:40 WARN NativeCodeLoader: Unable to load native-hadoop library for your platform... using builtin-java classes where applicable\n",
      "24/09/11 11:33:44 WARN Utils: Service 'SparkUI' could not bind on port 4040. Attempting port 4041.\n"
     ]
    },
    {
     "name": "stderr",
     "output_type": "stream",
     "text": [
      ">>>>>>> remote\n"
     ]
    }
   ],
   "source": [
    "# Create a Spark Session\n",
    "spark = (\n",
    "    SparkSession.builder.appName(\"ETL Pipeline\")\n",
    "    .config(\"spark.sql.repl.eagerEval.enabled\", True)\n",
    "    .config(\"spark.sql.parquet.cacheMetadata\", \"true\")\n",
    "    .config(\"spark.sql.session.timeZone\", \"Etc/UTC\")\n",
    "    .config(\"spark.driver.memory\", \"4g\")\n",
    "    .config(\"spark.executor.memory\", \"2g\")\n",
    "    .getOrCreate()\n",
    ")"
   ]
  },
  {
   "cell_type": "markdown",
   "metadata": {},
   "source": [
    "# Extract"
   ]
  },
  {
   "cell_type": "markdown",
   "metadata": {},
   "source": [
    "As we can't use `urlretrieve` to get the data from Canvas, please download it to your local machine and move it `data/tables`. Then run the code below to unzip the files"
   ]
  },
  {
   "cell_type": "code",
   "execution_count": null,
   "metadata": {},
   "outputs": [
    {
     "data": {
      "text/plain": [
       "'\\nfor file in os.listdir(f\"{raw_path}/tables\"):\\n    if file == \".gitkeep\":\\n        continue\\n    with zipfile.ZipFile(f\"{raw_path}/tables/{file}\", \"r\") as zip_ref:\\n        zip_ref.extractall(f\"{raw_path}/\")\\n    os.remove(f\"{raw_path}/tables/{file}\")\\n'"
      ]
     },
     "execution_count": null,
     "metadata": {},
     "output_type": "execute_result"
    }
   ],
   "source": [
    "# Assign data path\n",
    "raw_path = \"../data\"\n",
    "\n",
    "# Unzip files (Only run once)\n",
    "\"\"\"\n",
    "for file in os.listdir(f\"{raw_path}/tables\"):\n",
    "    if file == \".gitkeep\":\n",
    "        continue\n",
    "    with zipfile.ZipFile(f\"{raw_path}/tables/{file}\", \"r\") as zip_ref:\n",
    "        zip_ref.extractall(f\"{raw_path}/\")\n",
    "    os.remove(f\"{raw_path}/tables/{file}\")\n",
    "\"\"\""
   ]
  },
  {
   "cell_type": "markdown",
   "metadata": {},
   "source": [
    "# Transform\n",
    "\n",
    "The system use `user_id` as a key for identifying customer in transactions record and fraud probability tables. However, they also have a key-value map of `user_id` and `consumer_id`. We will use `consumer_id` as the only ID for customer. Thus, we will map `user_id` from each table to `consumer_id` and drop the former.\n"
   ]
  },
  {
   "cell_type": "code",
   "execution_count": null,
   "metadata": {},
   "outputs": [
    {
     "name": "stderr",
     "output_type": "stream",
     "text": [
      "<<<<<<< local\n"
     ]
    },
    {
     "name": "stderr",
     "output_type": "stream",
     "text": [
      "24/09/10 14:36:24 WARN GarbageCollectionMetrics: To enable non-built-in garbage collector(s) List(G1 Concurrent GC), users should configure it(them) to spark.eventLog.gcMetrics.youngGenerationGarbageCollectors or spark.eventLog.gcMetrics.oldGenerationGarbageCollectors\n"
     ]
    },
    {
     "name": "stderr",
     "output_type": "stream",
     "text": [
      "=======\n"
     ]
    },
    {
     "name": "stderr",
     "output_type": "stream",
     "text": [
      "                                                                                \r"
     ]
    },
    {
     "name": "stderr",
     "output_type": "stream",
     "text": [
      ">>>>>>> remote\n"
     ]
    },
    {
     "name": "stderr",
     "output_type": "stream",
     "text": [
      "<<<<<<< local <modified: ; unchanged: text/html, text/plain>\n"
     ]
    },
    {
     "data": {
      "text/html": [
       "<table border='1'>\n",
       "<tr><th>user_id</th><th>consumer_id</th></tr>\n",
       "<tr><td>1</td><td>1195503</td></tr>\n",
       "<tr><td>2</td><td>179208</td></tr>\n",
       "<tr><td>3</td><td>1194530</td></tr>\n",
       "<tr><td>4</td><td>154128</td></tr>\n",
       "<tr><td>5</td><td>712975</td></tr>\n",
       "</table>\n"
      ],
      "text/plain": [
       "+-------+-----------+\n",
       "|user_id|consumer_id|\n",
       "+-------+-----------+\n",
       "|      1|    1195503|\n",
       "|      2|     179208|\n",
       "|      3|    1194530|\n",
       "|      4|     154128|\n",
       "|      5|     712975|\n",
       "+-------+-----------+"
      ]
     },
     "execution_count": 4,
     "metadata": {},
     "output_type": "execute_result"
    },
    {
     "name": "stderr",
     "output_type": "stream",
     "text": [
      "=======\n"
     ]
    },
    {
     "data": {
      "text/html": [
       "<table border='1'>\n",
       "<tr><th>user_id</th><th>consumer_id</th></tr>\n",
       "<tr><td>1</td><td>1195503</td></tr>\n",
       "<tr><td>2</td><td>179208</td></tr>\n",
       "<tr><td>3</td><td>1194530</td></tr>\n",
       "<tr><td>4</td><td>154128</td></tr>\n",
       "<tr><td>5</td><td>712975</td></tr>\n",
       "</table>\n"
      ],
      "text/plain": [
       "+-------+-----------+\n",
       "|user_id|consumer_id|\n",
       "+-------+-----------+\n",
       "|      1|    1195503|\n",
       "|      2|     179208|\n",
       "|      3|    1194530|\n",
       "|      4|     154128|\n",
       "|      5|     712975|\n",
       "+-------+-----------+"
      ]
     },
     "execution_count": 5,
     "metadata": {},
     "output_type": "execute_result"
    },
    {
     "name": "stderr",
     "output_type": "stream",
     "text": [
      ">>>>>>> remote <modified: ; unchanged: text/html, text/plain>\n"
     ]
    }
   ],
   "source": [
    "# Load consumer user details -> a key:value map for user_id to consumer_id\n",
    "consumer_user_map = spark.read.parquet(f\"{raw_path}/tables/consumer_user_details.parquet\")\n",
    "consumer_user_map.limit(5) # Preview"
   ]
  },
  {
   "cell_type": "code",
   "execution_count": null,
   "metadata": {},
   "outputs": [
    {
     "name": "stderr",
     "output_type": "stream",
     "text": [
      "                                                                                \r"
     ]
    },
    {
     "name": "stdout",
     "output_type": "stream",
     "text": [
      "+-------+--------------+-----------------+\n",
      "|user_id|order_datetime|fraud_probability|\n",
      "+-------+--------------+-----------------+\n",
      "|   6228|    2021-12-19| 97.6298077657765|\n",
      "|  21419|    2021-12-10|99.24738020302328|\n",
      "|   5606|    2021-10-17|84.05825045251777|\n",
      "|   3101|    2021-04-17|91.42192091901347|\n",
      "|  22239|    2021-10-19|94.70342477508035|\n",
      "+-------+--------------+-----------------+\n",
      "only showing top 5 rows\n",
      "\n"
     ]
    },
    {
     "name": "stderr",
     "output_type": "stream",
     "text": [
      "                                                                                \r"
     ]
    },
    {
     "name": "stdout",
     "output_type": "stream",
     "text": [
      "The dataset count is  34864\n"
     ]
    },
    {
     "name": "stderr",
     "output_type": "stream",
     "text": [
      "                                                                                \r"
     ]
    },
    {
     "name": "stdout",
     "output_type": "stream",
     "text": [
      "+--------------+------------------+-----------+\n",
      "|order_datetime| fraud_probability|consumer_id|\n",
      "+--------------+------------------+-----------+\n",
      "|    2022-02-20| 9.805431136520959|    1195503|\n",
      "|    2021-08-30| 9.599513915425788|     179208|\n",
      "|    2021-09-25|10.069850934775245|     179208|\n",
      "|    2021-11-03| 8.300636455314633|    1194530|\n",
      "|    2021-10-09| 9.633302411090419|     154128|\n",
      "+--------------+------------------+-----------+\n",
      "only showing top 5 rows\n",
      "\n",
      "The dataset count is  34864\n"
     ]
    }
   ],
   "source": [
    "# Load consumer fraud rate dataset\n",
    "consumer_fraud_rate = spark.read.csv(f\"{raw_path}/tables/consumer_fraud_probability.csv\", header=True, inferSchema=True)\n",
    "consumer_fraud_rate.show(5)\n",
    "get_dataset_count(consumer_fraud_rate)\n",
    "\n",
    "# Replace all user_id with unique consumer_id\n",
    "consumer_fraud_rate = replace_id(consumer_user_map, consumer_fraud_rate)\n",
    "consumer_fraud_rate.show(5)\n",
    "\n",
    "# Check to make sure no rows were lost on the inner join\n",
    "get_dataset_count(consumer_fraud_rate)"
   ]
  },
  {
   "cell_type": "code",
   "execution_count": null,
   "metadata": {},
   "outputs": [
    {
     "name": "stderr",
     "output_type": "stream",
     "text": [
      "<<<<<<< local\n"
     ]
    },
    {
     "name": "stderr",
     "output_type": "stream",
     "text": [
      "                                                                                \r"
     ]
    },
    {
     "name": "stdout",
     "output_type": "stream",
     "text": [
      "The dataset count is  14195505\n"
     ]
    },
    {
     "name": "stderr",
     "output_type": "stream",
     "text": [
      "[Stage 25:===================================================>    (24 + 2) / 26]\r"
     ]
    },
    {
     "name": "stdout",
     "output_type": "stream",
     "text": [
      "The dataset count is  14195505\n"
     ]
    },
    {
     "name": "stderr",
     "output_type": "stream",
     "text": [
      "                                                                                \r"
     ]
    },
    {
     "name": "stderr",
     "output_type": "stream",
     "text": [
      "=======\n"
     ]
    },
    {
     "name": "stderr",
     "output_type": "stream",
     "text": [
      "                                                                                \r"
     ]
    },
    {
     "name": "stdout",
     "output_type": "stream",
     "text": [
      "+-------+------------+------------------+--------------------+--------------+\n",
      "|user_id|merchant_abn|      dollar_value|            order_id|order_datetime|\n",
      "+-------+------------+------------------+--------------------+--------------+\n",
      "|  18478| 62191208634|63.255848959735246|949a63c8-29f7-4ab...|    2021-08-20|\n",
      "|      2| 15549624934| 130.3505283105634|6a84c3cf-612a-457...|    2021-08-20|\n",
      "|  18479| 64403598239|120.15860593212783|b10dcc33-e53f-425...|    2021-08-20|\n",
      "|      3| 60956456424| 136.6785200286976|0f09c5a5-784e-447...|    2021-08-20|\n",
      "|  18479| 94493496784| 72.96316578355305|f6c78c1a-4600-4c5...|    2021-08-20|\n",
      "+-------+------------+------------------+--------------------+--------------+\n",
      "only showing top 5 rows\n",
      "\n"
     ]
    },
    {
     "name": "stderr",
     "output_type": "stream",
     "text": [
      "                                                                                \r"
     ]
    },
    {
     "name": "stdout",
     "output_type": "stream",
     "text": [
      "The dataset count is  14195505\n"
     ]
    },
    {
     "name": "stderr",
     "output_type": "stream",
     "text": [
      "                                                                                \r"
     ]
    },
    {
     "name": "stdout",
     "output_type": "stream",
     "text": [
      "+------------+------------------+--------------------+--------------+-----------+\n",
      "|merchant_abn|      dollar_value|            order_id|order_datetime|consumer_id|\n",
      "+------------+------------------+--------------------+--------------+-----------+\n",
      "| 62191208634|63.255848959735246|949a63c8-29f7-4ab...|    2021-08-20|     651338|\n",
      "| 15549624934| 130.3505283105634|6a84c3cf-612a-457...|    2021-08-20|     179208|\n",
      "| 64403598239|120.15860593212783|b10dcc33-e53f-425...|    2021-08-20|     467663|\n",
      "| 60956456424| 136.6785200286976|0f09c5a5-784e-447...|    2021-08-20|    1194530|\n",
      "| 94493496784| 72.96316578355305|f6c78c1a-4600-4c5...|    2021-08-20|     467663|\n",
      "+------------+------------------+--------------------+--------------+-----------+\n",
      "only showing top 5 rows\n",
      "\n"
     ]
    },
    {
     "name": "stderr",
     "output_type": "stream",
     "text": [
      "[Stage 28:===================================================>    (24 + 2) / 26]\r"
     ]
    },
    {
     "name": "stdout",
     "output_type": "stream",
     "text": [
      "The dataset count is  14195505\n"
     ]
    },
    {
     "name": "stderr",
     "output_type": "stream",
     "text": [
      "                                                                                \r"
     ]
    },
    {
     "name": "stderr",
     "output_type": "stream",
     "text": [
      ">>>>>>> remote\n"
     ]
    }
   ],
   "source": [
    "# Load all the transaction data \n",
    "transaction_p1 = spark.read.parquet(f\"{raw_path}/tables/transactions_20210228_20210827_snapshot\")\n",
    "transaction_p2 = spark.read.parquet(f\"{raw_path}/tables/transactions_20210828_20220227_snapshot\")\n",
    "transaction_p3 = spark.read.parquet(f\"{raw_path}/tables/transactions_20220228_20220828_snapshot\")\n",
    "\n",
    "# Combine the datasets\n",
    "transaction_records = reduce(DataFrame.unionAll, [transaction_p1, transaction_p2, transaction_p3])\n",
    "transaction_records.show(5)\n",
    "get_dataset_count(transaction_records)\n",
    "\n",
    "# Replace user_id with consumer_id after combining\n",
    "transaction_records = replace_id(consumer_user_map, transaction_records)\n",
    "transaction_records.show(5)\n",
    "\n",
    "# Check to make sure no rows were lost on the inner join\n",
    "get_dataset_count(transaction_records)"
   ]
  },
  {
   "cell_type": "markdown",
   "metadata": {},
   "source": [
    "Now that replacing `user_id` to `consumer_id` is done, load all other data and clean them"
   ]
  },
  {
   "cell_type": "code",
   "execution_count": 8,
   "metadata": {},
   "outputs": [],
   "source": [
    "# Load merchant fraud probability\n",
    "# merchant_fraud_rate = spark.read.csv(f\"{raw_path}/tables/merchant_fraud_probability.csv\", header=True, inferSchema=True)\n",
    "\n",
    "# date_pattern = r\"^\\d{4}-\\d{2}-\\d{2}$\"\n",
    "\n",
    "# test = merchant_fraud_rate.withColumn(\"is_valid_date\", F.regexp_extract(F.col(\"order_datetime\"), date_pattern, 0))\n",
    "# invalid_dates = test.filter(F.col(\"is_valid_date\") == \"\")\n",
    "# invalid_dates"
   ]
  },
  {
   "cell_type": "code",
   "execution_count": 9,
   "metadata": {},
   "outputs": [
    {
     "name": "stdout",
     "output_type": "stream",
     "text": [
      "+------------+--------------+------------------+\n",
      "|merchant_abn|order_datetime| fraud_probability|\n",
      "+------------+--------------+------------------+\n",
      "| 19492220327|    2021-11-28|44.403658647495355|\n",
      "| 31334588839|    2021-10-02| 42.75530083865367|\n",
      "| 19492220327|    2021-12-22|38.867790051131095|\n",
      "| 82999039227|    2021-12-19|  94.1347004808891|\n",
      "| 90918180829|    2021-09-02| 43.32551731714902|\n",
      "+------------+--------------+------------------+\n",
      "only showing top 5 rows\n",
      "\n",
      "The dataset count is  114\n"
     ]
    },
    {
     "name": "stderr",
     "output_type": "stream",
     "text": [
      "                                                                                \r"
     ]
    },
    {
     "name": "stdout",
     "output_type": "stream",
     "text": [
      "Total number of merchants: 4422\n",
      "Total number of merchants with fraudulent probability: 61\n"
     ]
    }
   ],
   "source": [
    "# Load consumer fraud rate dataset\n",
    "merchant_fraud_rate = spark.read.csv(f\"{raw_path}/tables/merchant_fraud_probability.csv\", header=True, inferSchema=True)\n",
    "merchant_fraud_rate.show(5)\n",
    "get_dataset_count(merchant_fraud_rate)\n",
    "\n",
    "# Display some info on the merchants\n",
    "print(f'Total number of merchants: {transaction_records.select(\"merchant_abn\").distinct().count()}')\n",
    "print(f'Total number of merchants with fraudulent probability: {merchant_fraud_rate.select(\"merchant_abn\").distinct().count()}')"
   ]
  },
  {
   "cell_type": "code",
   "execution_count": 10,
   "metadata": {},
   "outputs": [
    {
     "name": "stdout",
     "output_type": "stream",
     "text": [
      "+------------+-----+\n",
      "|merchant_abn|count|\n",
      "+------------+-----+\n",
      "| 99989036621|    1|\n",
      "| 90568944804|    3|\n",
      "| 29674997261|    1|\n",
      "| 27093785141|    3|\n",
      "| 19492220327|    8|\n",
      "| 76968105359|    1|\n",
      "| 97884414539|    1|\n",
      "| 82999039227|    1|\n",
      "| 83199298021|    6|\n",
      "| 93292821052|    1|\n",
      "| 43083074133|    1|\n",
      "| 15157368385|    1|\n",
      "| 76767266140|    1|\n",
      "| 96680767841|    1|\n",
      "| 35909341340|    1|\n",
      "| 72058040180|    1|\n",
      "| 19010030815|    3|\n",
      "| 39649557865|    1|\n",
      "| 48534649627|    3|\n",
      "| 85482742429|    1|\n",
      "+------------+-----+\n",
      "only showing top 20 rows\n",
      "\n"
     ]
    }
   ],
   "source": [
    "# Group by merchant_abn and count the number of entries for each merchant\n",
    "merchant_counts = merchant_fraud_rate.groupBy(\"merchant_abn\").count()\n",
    "\n",
    "# Show the result\n",
    "merchant_counts.show()"
   ]
  },
  {
   "cell_type": "code",
   "execution_count": 11,
   "metadata": {},
   "outputs": [
    {
     "name": "stdout",
     "output_type": "stream",
     "text": [
      "+------------+-------------------------+\n",
      "|merchant_abn|average_fraud_probability|\n",
      "+------------+-------------------------+\n",
      "| 99989036621|        18.21089142894488|\n",
      "| 90568944804|        30.72298492113958|\n",
      "| 29674997261|        44.43787807900268|\n",
      "| 27093785141|        28.88064813052203|\n",
      "| 19492220327|       31.958306675667547|\n",
      "| 76968105359|        68.27843632543912|\n",
      "| 97884414539|        89.79919971536573|\n",
      "| 82999039227|         94.1347004808891|\n",
      "| 83199298021|        31.93490297074105|\n",
      "| 93292821052|        66.58725735032715|\n",
      "| 43083074133|        48.66890735193894|\n",
      "| 15157368385|         64.2774131928303|\n",
      "| 76767266140|       29.539733207182703|\n",
      "| 96680767841|       29.555244690425017|\n",
      "| 35909341340|        29.13305311007307|\n",
      "| 72058040180|        33.71875978884334|\n",
      "| 19010030815|       51.033927919712056|\n",
      "| 39649557865|       28.690204286050616|\n",
      "| 48534649627|        28.56793296472796|\n",
      "| 85482742429|        70.88131110541714|\n",
      "+------------+-------------------------+\n",
      "only showing top 20 rows\n",
      "\n"
     ]
    }
   ],
   "source": [
    "from pyspark.sql.functions import avg\n",
    "\n",
    "average_fraud_probability = merchant_fraud_rate.groupBy(\"merchant_abn\").agg(avg(\"fraud_probability\").alias(\"average_fraud_probability\"))\n",
    "\n",
    "average_fraud_probability.show()"
   ]
  },
  {
   "cell_type": "markdown",
   "metadata": {},
   "source": [
    "Cleaning `tbl_merchants.parquet`. The feature `tags` is a string that represents either a tuple or a list, containing 3 elements:\n",
    "* Items that are being sold\n",
    "* Revenue levels\n",
    "* Commission rate\n",
    "\n",
    "Each elements either a list, a tuple, or a combination of both (e.g starts with `[` and ends with `)` and vice versa). These inconsistencies are mostly due to human errors. Thus, we need to take into account these consistent when splitting the values of the feature `tags` into separate columns"
   ]
  },
  {
   "cell_type": "code",
   "execution_count": 12,
   "metadata": {},
   "outputs": [
    {
     "name": "stdout",
     "output_type": "stream",
     "text": [
      "+------------------------------------+-----------------------------------------------------------------------------------------------------------------+------------+\n",
      "|name                                |tags                                                                                                             |merchant_abn|\n",
      "+------------------------------------+-----------------------------------------------------------------------------------------------------------------+------------+\n",
      "|Felis Limited                       |((furniture, home furnishings and equipment shops, and manufacturers, except appliances), (e), (take rate: 0.18))|10023283211 |\n",
      "|Arcu Ac Orci Corporation            |([cable, satellite, and otHer pay television and radio services], [b], [take rate: 4.22])                        |10142254217 |\n",
      "|Nunc Sed Company                    |([jewelry, watch, clock, and silverware shops], [b], [take rate: 4.40])                                          |10165489824 |\n",
      "|Ultricies Dignissim Lacus Foundation|([wAtch, clock, and jewelry repair shops], [b], [take rate: 3.29])                                               |10187291046 |\n",
      "|Enim Condimentum PC                 |([music shops - musical instruments, pianos, and sheet music], [a], [take rate: 6.33])                           |10192359162 |\n",
      "+------------------------------------+-----------------------------------------------------------------------------------------------------------------+------------+\n",
      "only showing top 5 rows\n",
      "\n",
      "Before: \n",
      "The dataset count is  4026\n",
      "After: \n"
     ]
    },
    {
     "name": "stderr",
     "output_type": "stream",
     "text": [
      "                                                                                \r"
     ]
    },
    {
     "name": "stdout",
     "output_type": "stream",
     "text": [
      "The dataset count is  4026\n",
      "+------------------------------------+------------+-------------------------------------------------------------------------------------+-------------+---------+\n",
      "|name                                |merchant_abn|category                                                                             |revenue_level|take_rate|\n",
      "+------------------------------------+------------+-------------------------------------------------------------------------------------+-------------+---------+\n",
      "|Felis Limited                       |10023283211 |furniture, home furnishings and equipment shops, and manufacturers, except appliances|e            |0.18     |\n",
      "|Arcu Ac Orci Corporation            |10142254217 |cable, satellite, and other pay television and radio services                        |b            |4.22     |\n",
      "|Nunc Sed Company                    |10165489824 |jewelry, watch, clock, and silverware shops                                          |b            |4.4      |\n",
      "|Ultricies Dignissim Lacus Foundation|10187291046 |watch, clock, and jewelry repair shops                                               |b            |3.29     |\n",
      "|Enim Condimentum PC                 |10192359162 |music shops - musical instruments, pianos, and sheet music                           |a            |6.33     |\n",
      "+------------------------------------+------------+-------------------------------------------------------------------------------------+-------------+---------+\n",
      "only showing top 5 rows\n",
      "\n"
     ]
    },
    {
     "name": "stderr",
     "output_type": "stream",
     "text": [
      "[Stage 65:>                                                         (0 + 1) / 1]\r"
     ]
    },
    {
     "name": "stdout",
     "output_type": "stream",
     "text": [
      "+--------+\n",
      "|category|\n",
      "+--------+\n",
      "+--------+\n",
      "\n"
     ]
    },
    {
     "name": "stderr",
     "output_type": "stream",
     "text": [
      "                                                                                \r"
     ]
    }
   ],
   "source": [
    "# Load merchant's info\n",
    "merchant_info = spark.read.parquet(f\"{raw_path}/tables/tbl_merchants.parquet\")\n",
    "merchant_info.show(5, truncate=False)\n",
    "\n",
    "# Clean the data\n",
    "merchant_info = clean_merchant_details(merchant_info)\n",
    "merchant_info.show(5, truncate=False)\n",
    "\n",
    "# Check if there are any remaining brackets\n",
    "merchant_info.select(\"category\").filter(\n",
    "    (F.col(\"category\").rlike(r\"^[\\(\\[\\{]\")) | \n",
    "    (F.col(\"category\").rlike(r\"[\\)\\]\\}]$\"))\n",
    ").show(truncate=False)\n",
    "\n",
    "# merchant_info.groupBy(F.col(\"revenue_level\")).agg(F.avg(F.col(\"take_rate\"))) # average commission rate of each revenue level"
   ]
  },
  {
   "cell_type": "code",
   "execution_count": 46,
   "metadata": {},
   "outputs": [
    {
     "name": "stdout",
     "output_type": "stream",
     "text": [
      "+------------------------------------+-----------------------------------------------------------------------------------------------------------------+------------+\n",
      "|name                                |tags                                                                                                             |merchant_abn|\n",
      "+------------------------------------+-----------------------------------------------------------------------------------------------------------------+------------+\n",
      "|Felis Limited                       |((furniture, home furnishings and equipment shops, and manufacturers, except appliances), (e), (take rate: 0.18))|10023283211 |\n",
      "|Arcu Ac Orci Corporation            |([cable, satellite, and otHer pay television and radio services], [b], [take rate: 4.22])                        |10142254217 |\n",
      "|Nunc Sed Company                    |([jewelry, watch, clock, and silverware shops], [b], [take rate: 4.40])                                          |10165489824 |\n",
      "|Ultricies Dignissim Lacus Foundation|([wAtch, clock, and jewelry repair shops], [b], [take rate: 3.29])                                               |10187291046 |\n",
      "|Enim Condimentum PC                 |([music shops - musical instruments, pianos, and sheet music], [a], [take rate: 6.33])                           |10192359162 |\n",
      "+------------------------------------+-----------------------------------------------------------------------------------------------------------------+------------+\n",
      "only showing top 5 rows\n",
      "\n",
      "Before: \n",
      "The dataset count is  4026\n",
      "After: \n",
      "The dataset count is  4026\n",
      "+------------------------------------+------------+-------------------------------------------------------------------------------------+-------------+---------+\n",
      "|name                                |merchant_abn|category                                                                             |revenue_level|take_rate|\n",
      "+------------------------------------+------------+-------------------------------------------------------------------------------------+-------------+---------+\n",
      "|Felis Limited                       |10023283211 |furniture, home furnishings and equipment shops, and manufacturers, except appliances|e            |0.18     |\n",
      "|Arcu Ac Orci Corporation            |10142254217 |cable, satellite, and other pay television and radio services                        |b            |4.22     |\n",
      "|Nunc Sed Company                    |10165489824 |jewelry, watch, clock, and silverware shops                                          |b            |4.4      |\n",
      "|Ultricies Dignissim Lacus Foundation|10187291046 |watch, clock, and jewelry repair shops                                               |b            |3.29     |\n",
      "|Enim Condimentum PC                 |10192359162 |music shops - musical instruments, pianos, and sheet music                           |a            |6.33     |\n",
      "+------------------------------------+------------+-------------------------------------------------------------------------------------+-------------+---------+\n",
      "only showing top 5 rows\n",
      "\n"
     ]
    }
   ],
   "source": [
    "# Load merchant's info\n",
    "merchant_info = spark.read.parquet(f\"{raw_path}/tables/tbl_merchants.parquet\")\n",
    "merchant_info.show(5, truncate=False)\n",
    "\n",
    "# Clean the data\n",
    "merchant_info = clean_merchant_details(merchant_info)\n",
    "merchant_info.show(5, truncate=False)"
   ]
  },
  {
   "cell_type": "code",
   "execution_count": null,
   "metadata": {},
   "outputs": [
    {
     "name": "stderr",
     "output_type": "stream",
     "text": [
      "                                                                                \r"
     ]
    },
    {
     "name": "stdout",
     "output_type": "stream",
     "text": [
      "+---------------------------------------------------------------------+\n",
      "|name|address|state|postcode|gender|consumer_id                       |\n",
      "+---------------------------------------------------------------------+\n",
      "|Yolanda Williams|413 Haney Gardens Apt. 742|WA|6935|Female|1195503   |\n",
      "|Mary Smith|3764 Amber Oval|NSW|2782|Female|179208                    |\n",
      "|Jill Jones MD|40693 Henry Greens|NT|862|Female|1194530               |\n",
      "|Lindsay Jimenez|00653 Davenport Crossroad|NSW|2780|Female|154128     |\n",
      "|Rebecca Blanchard|9271 Michael Manors Suite 651|WA|6355|Female|712975|\n",
      "+---------------------------------------------------------------------+\n",
      "only showing top 5 rows\n",
      "\n",
      "Before: \n",
      "The dataset count is  499999\n",
      "After: \n",
      "The dataset count is  499999\n",
      "+-----------------+-----------+------+-----+--------+\n",
      "|name             |consumer_id|gender|state|postcode|\n",
      "+-----------------+-----------+------+-----+--------+\n",
      "|Yolanda Williams |1195503    |Female|WA   |6935    |\n",
      "|Mary Smith       |179208     |Female|NSW  |2782    |\n",
      "|Jill Jones MD    |1194530    |Female|NT   |862     |\n",
      "|Lindsay Jimenez  |154128     |Female|NSW  |2780    |\n",
      "|Rebecca Blanchard|712975     |Female|WA   |6355    |\n",
      "+-----------------+-----------+------+-----+--------+\n",
      "only showing top 5 rows\n",
      "\n"
     ]
    }
   ],
   "source": [
    "# Load consumer info's\n",
    "consumer_info = spark.read.csv(f\"{raw_path}/tables/tbl_consumer.csv\", header=True, inferSchema=True)\n",
    "consumer_info.show(5, truncate=False)\n",
    "\n",
    "# Clean the data\n",
    "consumer_info = clean_consumer_details(consumer_info)\n",
    "consumer_info.show(5, truncate=False)\n",
    "\n",
    "# consumer_info.groupBy(\"gender\").count() # relatively same proportion of female and male customer, only a small percentage of did not provide their gender"
   ]
  },
  {
   "cell_type": "code",
   "execution_count": 48,
   "metadata": {},
   "outputs": [
    {
     "name": "stdout",
     "output_type": "stream",
     "text": [
      "Starting entries: 14195505 \n",
      "Final entries: 12561377\n",
      "Net change (%): 11.51 \n"
     ]
    }
   ],
   "source": [
    "transaction_records = ensure_datetime_range(transaction_records, \"2021-02-28\", \"2022-08-28\")"
   ]
  },
  {
   "cell_type": "code",
   "execution_count": null,
   "metadata": {},
   "outputs": [
    {
     "name": "stdout",
     "output_type": "stream",
     "text": [
      "+----------------------------+-------------------------------+-------------------------+\n",
      "|order_datetime_missing_count|fraud_probability_missing_count|consumer_id_missing_count|\n",
      "+----------------------------+-------------------------------+-------------------------+\n",
      "|                           0|                              0|                        0|\n",
      "+----------------------------+-------------------------------+-------------------------+\n",
      "\n",
      "+--------------------------+----------------------------+-------------------------------+\n",
      "|merchant_abn_missing_count|order_datetime_missing_count|fraud_probability_missing_count|\n",
      "+--------------------------+----------------------------+-------------------------------+\n",
      "|                         0|                           0|                              0|\n",
      "+--------------------------+----------------------------+-------------------------------+\n",
      "\n"
     ]
    },
    {
     "name": "stderr",
     "output_type": "stream",
     "text": [
      "                                                                                \r"
     ]
    },
    {
     "name": "stdout",
     "output_type": "stream",
     "text": [
      "+------------------+-------------------------+--------------------+-------------------+----------------------+\n",
      "|name_missing_count|consumer_id_missing_count|gender_missing_count|state_missing_count|postcode_missing_count|\n",
      "+------------------+-------------------------+--------------------+-------------------+----------------------+\n",
      "|                 0|                        0|                   0|                  0|                     0|\n",
      "+------------------+-------------------------+--------------------+-------------------+----------------------+\n",
      "\n",
      "+------------------+--------------------------+----------------------+---------------------------+-----------------------+\n",
      "|name_missing_count|merchant_abn_missing_count|category_missing_count|revenue_level_missing_count|take_rate_missing_count|\n",
      "+------------------+--------------------------+----------------------+---------------------------+-----------------------+\n",
      "|                 0|                         0|                     0|                          0|                      0|\n",
      "+------------------+--------------------------+----------------------+---------------------------+-----------------------+\n",
      "\n"
     ]
    },
    {
     "name": "stderr",
     "output_type": "stream",
     "text": [
      "<<<<<<< local <modified: >\n"
     ]
    },
    {
     "name": "stderr",
     "output_type": "stream",
     "text": [
      "[Stage 90:==============================================>         (20 + 4) / 24]\r"
     ]
    },
    {
     "name": "stderr",
     "output_type": "stream",
     "text": [
      "=======\n"
     ]
    },
    {
     "name": "stderr",
     "output_type": "stream",
     "text": [
      "[Stage 90:===================================================>    (24 + 2) / 26]\r"
     ]
    },
    {
     "name": "stderr",
     "output_type": "stream",
     "text": [
      ">>>>>>> remote <modified: >\n"
     ]
    },
    {
     "name": "stdout",
     "output_type": "stream",
     "text": [
      "+--------------------------+--------------------------+----------------------+----------------------------+-------------------------+\n",
      "|merchant_abn_missing_count|dollar_value_missing_count|order_id_missing_count|order_datetime_missing_count|consumer_id_missing_count|\n",
      "+--------------------------+--------------------------+----------------------+----------------------------+-------------------------+\n",
      "|                         0|                         0|                     0|                           0|                        0|\n",
      "+--------------------------+--------------------------+----------------------+----------------------------+-------------------------+\n",
      "\n"
     ]
    },
    {
     "name": "stderr",
     "output_type": "stream",
     "text": [
      "                                                                                \r"
     ]
    }
   ],
   "source": [
    "# Check for Missing values\n",
    "\n",
    "calculate_missing_values(consumer_fraud_rate)\n",
    "calculate_missing_values(merchant_fraud_rate)\n",
    "calculate_missing_values(consumer_info)\n",
    "calculate_missing_values(merchant_info)\n",
    "calculate_missing_values(transaction_records)"
   ]
  },
  {
   "cell_type": "code",
   "execution_count": 15,
   "metadata": {},
   "outputs": [
    {
     "name": "stdout",
     "output_type": "stream",
     "text": [
      "+-------+-----------------+-----------------+\n",
      "|summary|fraud_probability|      consumer_id|\n",
      "+-------+-----------------+-----------------+\n",
      "|  count|            34864|            34864|\n",
      "|   mean|15.12009064415455|751897.9451870124|\n",
      "| stddev| 9.94608484957805|435809.7294939078|\n",
      "|    min|8.287143531552802|               30|\n",
      "|    max|99.24738020302328|          1499861|\n",
      "+-------+-----------------+-----------------+\n",
      "\n",
      "+-------+--------------------+------------------+\n",
      "|summary|        merchant_abn| fraud_probability|\n",
      "+-------+--------------------+------------------+\n",
      "|  count|                 114|               114|\n",
      "|   mean|5.440738266214912...|40.419334695018094|\n",
      "| stddev|3.172677270243126E10|17.187744795432526|\n",
      "|    min|         11149063370| 18.21089142894488|\n",
      "|    max|         99989036621|  94.1347004808891|\n",
      "+-------+--------------------+------------------+\n",
      "\n"
     ]
    },
    {
     "name": "stderr",
     "output_type": "stream",
     "text": [
      "24/09/11 11:35:57 WARN SparkStringUtils: Truncated the string representation of a plan since it was too large. This behavior can be adjusted by setting 'spark.sql.debug.maxToStringFields'.\n",
      "                                                                                \r"
     ]
    },
    {
     "name": "stdout",
     "output_type": "stream",
     "text": [
      "+-------+-------------+-----------------+-----------+------+------------------+\n",
      "|summary|         name|      consumer_id|     gender| state|          postcode|\n",
      "+-------+-------------+-----------------+-----------+------+------------------+\n",
      "|  count|       499999|           499999|     499999|499999|            499999|\n",
      "|   mean|         NULL|750895.2123184246|       NULL|  NULL|4037.0854181708364|\n",
      "| stddev|         NULL|433100.4260141143|       NULL|  NULL|1791.0766391396735|\n",
      "|    min|Aaron Acevedo|                4|     Female|   ACT|               200|\n",
      "|    max|   Zoe Wright|          1499995|Undisclosed|    WA|              9999|\n",
      "+-------+-------------+-----------------+-----------+------+------------------+\n",
      "\n"
     ]
    },
    {
     "name": "stderr",
     "output_type": "stream",
     "text": [
      "                                                                                \r"
     ]
    },
    {
     "name": "stdout",
     "output_type": "stream",
     "text": [
      "+-------+--------------------+--------------------+--------------------+-------------+------------------+\n",
      "|summary|                name|        merchant_abn|            category|revenue_level|         take_rate|\n",
      "+-------+--------------------+--------------------+--------------------+-------------+------------------+\n",
      "|  count|                4026|                4026|                4026|         4026|              4026|\n",
      "|   mean|                NULL|5.446186755874988E10|                NULL|         NULL| 4.397575757575758|\n",
      "| stddev|                NULL|2.598938766039736E10|                NULL|         NULL|1.7825953679430884|\n",
      "|    min|       A Aliquet Ltd|         10023283211|antique shops -  ...|            a|               0.1|\n",
      "|    max|Vulputate Velit Inc.|         99990536339|watch, clock, and...|            e|               7.0|\n",
      "+-------+--------------------+--------------------+--------------------+-------------+------------------+\n",
      "\n"
     ]
    },
    {
     "name": "stderr",
     "output_type": "stream",
     "text": [
      "[Stage 107:====================================================>  (25 + 1) / 26]\r"
     ]
    },
    {
     "name": "stdout",
     "output_type": "stream",
     "text": [
      "+-------+--------------------+--------------------+--------------------+-----------------+\n",
      "|summary|        merchant_abn|        dollar_value|            order_id|      consumer_id|\n",
      "+-------+--------------------+--------------------+--------------------+-----------------+\n",
      "|  count|            14195505|            14195505|            14195505|         14195505|\n",
      "|   mean|5.542435612114305E10|  166.22895390891708|                NULL|753392.9631019115|\n",
      "| stddev|2.532810330437654...|    517.850560261278|                NULL|435520.7123553205|\n",
      "|    min|         10023283211|9.756658099412162E-8|000000d4-d252-4e2...|               30|\n",
      "|    max|         99990536339|  105193.88578925544|fffffca5-42ab-49d...|          1499867|\n",
      "+-------+--------------------+--------------------+--------------------+-----------------+\n",
      "\n"
     ]
    },
    {
     "name": "stderr",
     "output_type": "stream",
     "text": [
      "                                                                                \r"
     ]
    }
   ],
   "source": [
    "# Summary Statistics\n",
    "\n",
    "consumer_fraud_rate.describe().show()\n",
    "merchant_fraud_rate.describe().show()\n",
    "consumer_info.describe().show()\n",
    "merchant_info.describe().show()\n",
    "transaction_records.describe().show()"
   ]
  },
  {
   "cell_type": "code",
   "execution_count": 54,
   "metadata": {},
   "outputs": [
    {
     "name": "stdout",
     "output_type": "stream",
     "text": [
      "Summary statistic for consumer's fraud probability\n",
      "+-------+-----------------+\n",
      "|summary|fraud_probability|\n",
      "+-------+-----------------+\n",
      "|  count|            34864|\n",
      "|   mean|15.12009064415455|\n",
      "| stddev| 9.94608484957805|\n",
      "|    min|8.287143531552802|\n",
      "|    max|99.24738020302328|\n",
      "+-------+-----------------+\n",
      "\n",
      "Summary statistics for merchant's fraud probability\n",
      "+-------+------------------+\n",
      "|summary| fraud_probability|\n",
      "+-------+------------------+\n",
      "|  count|               114|\n",
      "|   mean|40.419334695018094|\n",
      "| stddev|17.187744795432526|\n",
      "|    min| 18.21089142894488|\n",
      "|    max|  94.1347004808891|\n",
      "+-------+------------------+\n",
      "\n",
      "Summary statistics for dollar value of transaction records\n",
      "+-------+--------------------+\n",
      "|summary|        dollar_value|\n",
      "+-------+--------------------+\n",
      "|  count|            12561377|\n",
      "|   mean|  166.33982036554573|\n",
      "| stddev|    520.362425451569|\n",
      "|    min|9.756658099412162E-8|\n",
      "|    max|  105193.88578925544|\n",
      "+-------+--------------------+\n",
      "\n"
     ]
    }
   ],
   "source": [
    "# Summary Statistics - This block should be move to preliminary analysis notebook\n",
    "print(f\"Summary statistic for consumer's fraud probability\")\n",
    "consumer_fraud_rate.select(F.col(\"fraud_probability\")).describe().show()\n",
    "\n",
    "print(f\"Summary statistics for merchant's fraud probability\")\n",
    "merchant_fraud_rate.select(F.col(\"fraud_probability\")).describe().show()\n",
    "\n",
    "print(f\"Summary statistics for dollar value of transaction records\")\n",
    "transaction_records.select(F.col(\"dollar_value\")).describe().show()"
   ]
  },
  {
   "cell_type": "markdown",
   "metadata": {},
   "source": [
    "In this section, we begin exploratory data analysis to gain a better understanding of the data and our variables"
   ]
  },
  {
   "cell_type": "code",
   "execution_count": 16,
   "metadata": {},
   "outputs": [
    {
     "name": "stderr",
     "output_type": "stream",
     "text": [
      "[Stage 105:====================================================>  (23 + 1) / 24]\r"
     ]
    },
    {
     "name": "stdout",
     "output_type": "stream",
     "text": [
      "+------------+-----------------+-------------------+------------+\n",
      "|merchant_abn|    total_revenue|average_order_value|total_orders|\n",
      "+------------+-----------------+-------------------+------------+\n",
      "| 39649557865|8712769.051186668|  449.1581117221707|       19398|\n",
      "| 27093785141|8695204.207713189| 377.16683472339673|       23054|\n",
      "| 96680767841|8679874.166938104| 315.16191013173466|       27541|\n",
      "| 79827781481|8657277.096810076| 2036.5271928511117|        4251|\n",
      "| 31334588839|8635672.313515192|  6368.489906722118|        1356|\n",
      "| 32709545238|8600526.478637582|  751.2689097342402|       11448|\n",
      "| 82368304209|8559519.374213614| 1865.6319473002645|        4588|\n",
      "| 50315283629|8513551.597928654| 322.37311514743664|       26409|\n",
      "| 90568944804|8510417.447779246|  898.9561051842448|        9467|\n",
      "| 38700038932|8482176.655705513| 1337.6717640286254|        6341|\n",
      "+------------+-----------------+-------------------+------------+\n",
      "only showing top 10 rows\n",
      "\n"
     ]
    },
    {
     "name": "stderr",
     "output_type": "stream",
     "text": [
      "                                                                                \r"
     ]
    }
   ],
   "source": [
    "from pyspark.sql import functions as F\n",
    "\n",
    "# Revenue analysis\n",
    "# Explore for each ABN, their total revenue, average order value and total number of orders\n",
    "merchant_performance = transaction_records.groupBy(\"merchant_abn\").agg(\n",
    "    F.sum(\"dollar_value\").alias(\"total_revenue\"),\n",
    "    F.avg(\"dollar_value\").alias(\"average_order_value\"),\n",
    "    F.count(\"dollar_value\").alias(\"total_orders\")\n",
    ")\n",
    "# Rank merchants by total revenue in descending order\n",
    "merchant_performance = merchant_performance.orderBy(F.col(\"total_revenue\").desc())\n",
    "merchant_performance.show(10)"
   ]
  },
  {
   "cell_type": "code",
   "execution_count": null,
   "metadata": {},
   "outputs": [
    {
     "name": "stderr",
     "output_type": "stream",
     "text": [
      "<<<<<<< local <removed>\n"
     ]
    },
    {
     "name": "stderr",
     "output_type": "stream",
     "text": [
      "=======\n"
     ]
    },
    {
     "name": "stderr",
     "output_type": "stream",
     "text": [
      "[Stage 118:==================================================>    (24 + 2) / 26]\r"
     ]
    },
    {
     "name": "stderr",
     "output_type": "stream",
     "text": [
      ">>>>>>> remote <modified: >\n"
     ]
    }
   ],
   "source": [
    "# Risk Analysis\n",
    "# Combine revenue analysis with fraud probabilities\n",
    "merchant_performance_risk = merchant_performance.join(average_fraud_probability, on=\"merchant_abn\", how=\"left\")\n",
    "\n",
    "# Rank merchants by fraud probability in descending order\n",
    "merchant_performance_risk = merchant_performance_risk.orderBy(F.col(\"average_fraud_probability\").desc())\n",
    "merchant_performance_risk.show(10)"
   ]
  },
  {
   "cell_type": "code",
   "execution_count": null,
   "metadata": {},
   "outputs": [
    {
     "name": "stderr",
     "output_type": "stream",
     "text": [
      "                                                                                \r"
     ]
    },
    {
     "name": "stdout",
     "output_type": "stream",
     "text": [
      "+------------+-----------------+-------------------+------------+-------------------------+--------------------+--------------------+-------------+---------+-----------------+\n",
      "|merchant_abn|    total_revenue|average_order_value|total_orders|average_fraud_probability|                name|            category|revenue_level|take_rate|      net_revenue|\n",
      "+------------+-----------------+-------------------+------------+-------------------------+--------------------+--------------------+-------------+---------+-----------------+\n",
      "| 79827781481|9734168.478418225| 2028.7970984614892|        4798|          29.735159306496|     Amet Risus Inc.|furniture, home f...|            a|     6.82| 663870.290228123|\n",
      "| 48534649627|9408958.320743632| 141.62226350894278|       66437|        28.56793296472796|Dignissim Maecena...|opticians, optica...|            a|     6.64|624754.8324973771|\n",
      "| 32361057556|9434452.552354382| 109.98429182040549|       85780|                     NULL|Orci In Consequat...|gift, card, novel...|            a|     6.61|623617.3137106247|\n",
      "| 86578477987| 9539822.77287039| 34.986184135159164|      272674|                     NULL|   Leo In Consulting|watch, clock, and...|            a|     6.43| 613410.604295566|\n",
      "| 38700038932|9546185.360697314|  1338.500471213869|        7132|                     NULL|Etiam Bibendum In...|tent and awning s...|            a|     6.31|602364.2962600004|\n",
      "| 45629217853|8395062.462198064|  36.77931463581549|      228255|                     NULL|    Lacus Consulting|gift, card, novel...|            a|     6.98|585975.3598614249|\n",
      "| 96680767841|9806731.153473798| 314.98461981993313|       31134|       29.555244690425017|      Ornare Limited|motor vehicle sup...|            a|     5.91|579577.8111703015|\n",
      "| 21439773999|9426656.544148417|  78.14909590254358|      120624|       28.504479048104585|Mauris Non Institute|cable, satellite,...|            a|      6.1|575026.0491930534|\n",
      "| 63123845164|8630515.159852486|  754.0201956886673|       11446|                     NULL|Odio Phasellus In...|artist supply and...|            a|     6.59|568750.9490342789|\n",
      "| 64403598239|8873434.486727161|  78.15180848087617|      113541|                     NULL|Lobortis Ultrices...|music shops - mus...|            a|     6.31|559913.7161124838|\n",
      "+------------+-----------------+-------------------+------------+-------------------------+--------------------+--------------------+-------------+---------+-----------------+\n",
      "only showing top 10 rows\n",
      "\n"
     ]
    },
    {
     "name": "stderr",
     "output_type": "stream",
     "text": [
      "[Stage 134:====================================================>  (25 + 1) / 26]\r"
     ]
    },
    {
     "name": "stdout",
     "output_type": "stream",
     "text": [
      "+------------+------------------+-------------------+------------+-------------------------+--------------------+--------------------+-------------+---------+------------------+\n",
      "|merchant_abn|     total_revenue|average_order_value|total_orders|average_fraud_probability|                name|            category|revenue_level|take_rate|       net_revenue|\n",
      "+------------+------------------+-------------------+------------+-------------------------+--------------------+--------------------+-------------+---------+------------------+\n",
      "| 55622580330|12313.488406755763|  373.1360123259322|          33|                     NULL|           Lacus LLP|books, periodical...|            e|      0.1|12.313488406755765|\n",
      "| 25019506172|24871.859282615744|  690.8849800726596|          36|                     NULL|      Proin Vel Inc.|stationery, offic...|            e|     0.16| 39.79497485218519|\n",
      "| 57079678065| 22761.92356039752|  33.87191006011536|         672|                     NULL|Hendrerit Donec L...|digital goods: bo...|            e|     0.18| 40.97146240871553|\n",
      "| 64196096120|18475.766163929682| 105.57580665102675|         175|                     NULL| Turpis Incorporated|gift, card, novel...|            e|     0.23| 42.49426217703827|\n",
      "| 46391946761| 15448.98584678279|  858.2769914879328|          18|                     NULL|Libero Nec Ligula...|stationery, offic...|            e|     0.37| 57.16124763309633|\n",
      "| 78080443264|22415.636674823174| 20.396393698656208|        1099|         69.0953172336121|Nullam Enim Sed I...|tent and awning s...|            e|     0.27|60.522219022022576|\n",
      "| 19995295153|27729.024877027412|  52.81719024195697|         525|                     NULL|Risus Nulla Insti...|bicycle shops - s...|            e|     0.22| 61.00385472946031|\n",
      "| 59358011432|25703.322178490565|    83.997784897028|         306|                     NULL|Lacinia Orci Asso...|digital goods: bo...|            e|     0.24| 61.68797322837736|\n",
      "| 79008028287| 20840.12245682246| 26.379901844079065|         790|                     NULL|Feugiat Nec Diam LLC|computers, comput...|            e|      0.3| 62.52036737046738|\n",
      "| 83004629651|11579.230422805998|  94.14008473826014|         123|                     NULL| Auctor Odio Company|cable, satellite,...|            d|     0.54|  62.5278442831524|\n",
      "+------------+------------------+-------------------+------------+-------------------------+--------------------+--------------------+-------------+---------+------------------+\n",
      "only showing top 10 rows\n",
      "\n"
     ]
    },
    {
     "name": "stderr",
     "output_type": "stream",
     "text": [
      "                                                                                \r"
     ]
    }
   ],
   "source": [
    "# Profitability analysis\n",
    "# Combine previous merchant_performance_risk with merchants_info to get take_rate and revenue_level\n",
    "merchant_profitability = merchant_performance_risk.join(merchant_info, on=\"merchant_abn\", how=\"inner\")\n",
    "\n",
    "# Calculate net revenue\n",
    "merchant_profitability = merchant_profitability.withColumn(\n",
    "    \"net_revenue\", F.col(\"total_revenue\") * F.col(\"take_rate\")/100\n",
    ")\n",
    "\n",
    "# Rank merchants by profitability in descending order\n",
    "merchant_profitability.orderBy(F.col(\"net_revenue\").desc()).show(10)\n",
    "\n",
    "\n",
    "# Rank merchants by profitability in ascending order\n",
    "merchant_profitability.orderBy(F.col(\"net_revenue\").asc()).show(10)\n"
   ]
  },
  {
   "cell_type": "code",
   "execution_count": 28,
   "metadata": {},
   "outputs": [
    {
     "name": "stderr",
     "output_type": "stream",
     "text": [
      "                                                                                \r"
     ]
    }
   ],
   "source": [
    "\n",
    "# Use an f-string to construct the full path, adding 'curated' separately\n",
    "output_path = f\"{raw_path}/curated/merchant_profitability.parquet\"\n",
    "\n",
    "# Save the merchant_profitability DataFrame in Parquet format\n",
    "merchant_profitability.write.mode(\"overwrite\").parquet(output_path)\n"
   ]
  },
  {
   "cell_type": "markdown",
   "metadata": {},
   "source": [
    "Make analysis on what's the average take rate for each revenue level -> how much money is the BNPL firm make from each revenue level (for example using the total revenue * average take rate)"
   ]
  },
  {
   "cell_type": "code",
   "execution_count": null,
   "metadata": {},
   "outputs": [
    {
     "data": {
      "text/html": [
       "<table border='1'>\n",
       "<tr><th>revenue_level</th><th>avg(take_rate)</th></tr>\n",
       "<tr><td>e</td><td>0.3147169811320755</td></tr>\n",
       "<tr><td>d</td><td>0.9912244897959185</td></tr>\n",
       "<tr><td>c</td><td>2.2512039045553167</td></tr>\n",
       "<tr><td>b</td><td>4.094056254626199</td></tr>\n",
       "<tr><td>a</td><td>6.232297128589269</td></tr>\n",
       "</table>\n"
      ],
      "text/plain": [
       "+-------------+------------------+\n",
       "|revenue_level|    avg(take_rate)|\n",
       "+-------------+------------------+\n",
       "|            e|0.3147169811320755|\n",
       "|            d|0.9912244897959185|\n",
       "|            c|2.2512039045553167|\n",
       "|            b| 4.094056254626199|\n",
       "|            a| 6.232297128589269|\n",
       "+-------------+------------------+"
      ]
     },
     "execution_count": null,
     "metadata": {},
     "output_type": "execute_result"
    }
   ],
   "source": [
    "merchant_info.groupBy(F.col(\"revenue_level\")).agg(F.avg(F.col(\"take_rate\"))) # average commission rate of each revenue level"
   ]
  },
  {
   "cell_type": "code",
   "execution_count": null,
   "metadata": {},
   "outputs": [
    {
     "ename": "NameError",
     "evalue": "name 'merchant_profitability' is not defined",
     "output_type": "error",
     "traceback": [
      "\u001b[0;31m---------------------------------------------------------------------------\u001b[0m",
      "\u001b[0;31mNameError\u001b[0m                                 Traceback (most recent call last)",
      "Cell \u001b[0;32mIn[18], line 1\u001b[0m\n\u001b[0;32m----> 1\u001b[0m net_revenue_level \u001b[38;5;241m=\u001b[39m \u001b[43mmerchant_profitability\u001b[49m\u001b[38;5;241m.\u001b[39mgroupBy(\u001b[38;5;124m'\u001b[39m\u001b[38;5;124mrevenue_level\u001b[39m\u001b[38;5;124m'\u001b[39m)\u001b[38;5;241m.\u001b[39msum(\u001b[38;5;124m'\u001b[39m\u001b[38;5;124mnet_revenue\u001b[39m\u001b[38;5;124m'\u001b[39m) \u001b[38;5;66;03m#sum up the net_revenue of BNPL firm for each level\u001b[39;00m\n\u001b[1;32m      2\u001b[0m net_revenue_level\n\u001b[1;32m      3\u001b[0m \u001b[38;5;66;03m#Data shows that make the most net_revenue from small \u001b[39;00m\n",
      "\u001b[0;31mNameError\u001b[0m: name 'merchant_profitability' is not defined"
     ]
    }
   ],
   "source": [
    "net_revenue_level = merchant_profitability.groupBy('revenue_level').sum('net_revenue') #sum up the net_revenue of BNPL firm for each level\n",
    "net_revenue_level\n",
    "#Data shows that make the most net_revenue from small "
   ]
  },
  {
   "cell_type": "code",
   "execution_count": null,
   "metadata": {},
   "outputs": [
    {
     "ename": "NameError",
     "evalue": "name 'merchant_profitability' is not defined",
     "output_type": "error",
     "traceback": [
      "\u001b[0;31m---------------------------------------------------------------------------\u001b[0m",
      "\u001b[0;31mNameError\u001b[0m                                 Traceback (most recent call last)",
      "Cell \u001b[0;32mIn[19], line 2\u001b[0m\n\u001b[1;32m      1\u001b[0m \u001b[38;5;66;03m# Count the occurrences of each revenue level\u001b[39;00m\n\u001b[0;32m----> 2\u001b[0m \u001b[43mmerchant_profitability\u001b[49m\u001b[38;5;241m.\u001b[39mgroupBy(\u001b[38;5;124m'\u001b[39m\u001b[38;5;124mrevenue_level\u001b[39m\u001b[38;5;124m'\u001b[39m)\u001b[38;5;241m.\u001b[39mcount()\n",
      "\u001b[0;31mNameError\u001b[0m: name 'merchant_profitability' is not defined"
     ]
    }
   ],
   "source": [
    "# Count the occurrences of each revenue level\n",
    "merchant_profitability.groupBy('revenue_level').count()"
   ]
  },
  {
   "cell_type": "code",
   "execution_count": null,
   "metadata": {},
   "outputs": [
    {
     "name": "stderr",
     "output_type": "stream",
     "text": [
      "                                                                                \r"
     ]
    },
    {
     "data": {
      "text/plain": [
       "48"
      ]
     },
     "execution_count": 23,
     "metadata": {},
     "output_type": "execute_result"
    }
   ],
   "source": [
    "# Count the number of merchants with a fraud probability\n",
    "fraudulent_merchants_count = merchant_profitability.filter(col(\"average_fraud_probability\").isNotNull()).select(\"merchant_abn\").distinct().count()\n",
    "\n",
    "fraudulent_merchants_count"
   ]
  },
  {
   "cell_type": "code",
   "execution_count": null,
   "metadata": {},
   "outputs": [
    {
     "name": "stderr",
     "output_type": "stream",
     "text": [
      "[Stage 211:====================================================>  (25 + 1) / 26]\r"
     ]
    },
    {
     "name": "stdout",
     "output_type": "stream",
     "text": [
      "+-------------+---------------------+\n",
      "|revenue_level|avg_fraud_probability|\n",
      "+-------------+---------------------+\n",
      "|            e|     69.0953172336121|\n",
      "|            d|    63.37734364737917|\n",
      "|            c|   47.598333195887776|\n",
      "|            b|    43.88868549450772|\n",
      "|            a|     44.5865773709124|\n",
      "+-------------+---------------------+\n",
      "\n"
     ]
    },
    {
     "name": "stderr",
     "output_type": "stream",
     "text": [
      "                                                                                \r"
     ]
    }
   ],
   "source": [
    "# # Compute the average fraud probability for each revenue level\n",
    "average_fraud_by_revenue_level = merchant_profitability.groupBy(F.col(\"revenue_level\")).agg(F.avg(F.col(\"average_fraud_probability\")).alias(\"avg_fraud_probability\"))\n",
    "\n",
    "# Show the results\n",
    "average_fraud_by_revenue_level.show()"
   ]
  },
  {
   "cell_type": "code",
   "execution_count": null,
   "metadata": {},
   "outputs": [
    {
     "name": "stderr",
     "output_type": "stream",
     "text": [
      "                                                                                \r"
     ]
    },
    {
     "name": "stdout",
     "output_type": "stream",
     "text": [
      "+-------------+------------+\n",
      "|revenue_level|total_orders|\n",
      "+-------------+------------+\n",
      "|            e|      120108|\n",
      "|            d|      136838|\n",
      "|            c|     3324800|\n",
      "|            b|     3921368|\n",
      "|            a|     6111561|\n",
      "+-------------+------------+\n",
      "\n"
     ]
    },
    {
     "name": "stderr",
     "output_type": "stream",
     "text": [
      "                                                                                \r"
     ]
    },
    {
     "data": {
      "text/html": [
       "<table border='1'>\n",
       "<tr><th>revenue_level</th><th>sum(net_revenue)</th><th>total_orders</th><th>avg_order_value</th></tr>\n",
       "<tr><td>e</td><td>70477.14753451252</td><td>120108.0</td><td>0.5867814594740777</td></tr>\n",
       "<tr><td>d</td><td>371231.6335187635</td><td>136838.0</td><td>2.7129279404753324</td></tr>\n",
       "<tr><td>c</td><td>1.0148181653801005E7</td><td>3324800.0</td><td>3.052268302995971</td></tr>\n",
       "<tr><td>b</td><td>3.167370164609193E7</td><td>3921368.0</td><td>8.077207149671219</td></tr>\n",
       "<tr><td>a</td><td>5.409203241463862E7</td><td>6111561.0</td><td>8.850771908296199</td></tr>\n",
       "</table>\n"
      ],
      "text/plain": [
       "+-------------+--------------------+------------+------------------+\n",
       "|revenue_level|    sum(net_revenue)|total_orders|   avg_order_value|\n",
       "+-------------+--------------------+------------+------------------+\n",
       "|            e|   70477.14753451252|    120108.0|0.5867814594740777|\n",
       "|            d|   371231.6335187635|    136838.0|2.7129279404753324|\n",
       "|            c|1.0148181653801005E7|   3324800.0| 3.052268302995971|\n",
       "|            b| 3.167370164609193E7|   3921368.0| 8.077207149671219|\n",
       "|            a| 5.409203241463862E7|   6111561.0| 8.850771908296199|\n",
       "+-------------+--------------------+------------+------------------+"
      ]
     },
     "execution_count": 25,
     "metadata": {},
     "output_type": "execute_result"
    }
   ],
   "source": [
    "# Compute the total number of orders for each revenue level\n",
    "total_orders_by_revenue_level = merchant_profitability.groupBy(F.col(\"revenue_level\")) \\\n",
    "    .agg(F.sum(F.col(\"total_orders\")).alias(\"total_orders\"))\n",
    "\n",
    "# Show the results\n",
    "total_orders_by_revenue_level.show()\n",
    "\n",
    "joined_df = net_revenue_level.join(\n",
    "    total_orders_by_revenue_level,\n",
    "    on=\"revenue_level\",\n",
    "    how=\"inner\"\n",
    ")\n",
    "joined_df = joined_df.withColumn(\"total_orders\", F.col(\"total_orders\").cast(DoubleType()))\n",
    "\n",
    "# Compute the average order value\n",
    "average_order_value = joined_df.withColumn(\n",
    "    \"avg_order_value\",\n",
    "    F.col(\"sum(net_revenue)\")/ F.col(\"total_orders\")\n",
    ")\n",
    "\n",
    "average_order_value\n"
   ]
  }
 ],
 "metadata": {
  "kernelspec": {
   "display_name": "Python 3",
   "language": "python",
   "name": "python3"
  },
  "language_info": {
   "codemirror_mode": {
    "name": "ipython",
    "version": 3
   },
   "file_extension": ".py",
   "mimetype": "text/x-python",
   "name": "python",
   "nbconvert_exporter": "python",
   "pygments_lexer": "ipython3",
   "version": "3.8.10"
  }
 },
 "nbformat": 4,
 "nbformat_minor": 2
}

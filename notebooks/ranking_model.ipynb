{
 "cells": [
  {
   "cell_type": "code",
   "execution_count": 2,
   "metadata": {},
   "outputs": [],
   "source": [
    "from pyspark.sql import functions as F, SparkSession, Window\n",
    "import pandas as pd"
   ]
  },
  {
   "cell_type": "code",
   "execution_count": 3,
   "metadata": {},
   "outputs": [
    {
     "name": "stderr",
     "output_type": "stream",
     "text": [
      "24/10/01 13:59:42 WARN Utils: Your hostname, Alistairs-MacBook-Air.local resolves to a loopback address: 127.0.0.1; using 10.13.39.131 instead (on interface en0)\n",
      "24/10/01 13:59:42 WARN Utils: Set SPARK_LOCAL_IP if you need to bind to another address\n",
      "Setting default log level to \"WARN\".\n",
      "To adjust logging level use sc.setLogLevel(newLevel). For SparkR, use setLogLevel(newLevel).\n",
      "24/10/01 13:59:42 WARN NativeCodeLoader: Unable to load native-hadoop library for your platform... using builtin-java classes where applicable\n"
     ]
    }
   ],
   "source": [
    "#  Create a Spark Session\n",
    "spark = (\n",
    "    SparkSession.builder.appName(\"Ranking Model\")\n",
    "    .config(\"spark.sql.repl.eagerEval.enabled\", True)\n",
    "    .config(\"spark.sql.parquet.cacheMetadata\", \"true\")\n",
    "    .config(\"spark.sql.session.timeZone\", \"Etc/UTC\")\n",
    "    .config(\"spark.driver.memory\", \"4g\")\n",
    "    .config(\"spark.executor.memory\", \"2g\")\n",
    "    .getOrCreate()\n",
    ")"
   ]
  },
  {
   "cell_type": "markdown",
   "metadata": {},
   "source": [
    "# Feature engineering"
   ]
  },
  {
   "cell_type": "code",
   "execution_count": 4,
   "metadata": {},
   "outputs": [
    {
     "name": "stderr",
     "output_type": "stream",
     "text": [
      "                                                                                \r"
     ]
    }
   ],
   "source": [
    "transactions = spark.read.parquet(f\"../data/curated/transactions.parquet\")\n",
    "transactions = transactions.withColumn(\"order_month\", F.date_format(F.col(\"order_datetime\"), \"yyyy-MM\"))"
   ]
  },
  {
   "cell_type": "code",
   "execution_count": 5,
   "metadata": {},
   "outputs": [
    {
     "name": "stderr",
     "output_type": "stream",
     "text": [
      "                                                                                \r"
     ]
    },
    {
     "data": {
      "text/html": [
       "<table border='1'>\n",
       "<tr><th>merchant_abn</th><th>dollar_value</th><th>order_id</th><th>order_datetime</th><th>consumer_id</th><th>order_month</th></tr>\n",
       "<tr><td>79417999332</td><td>136.06570809815838</td><td>23acbb7b-cf98-458...</td><td>2021-11-26</td><td>1059280</td><td>2021-11</td></tr>\n",
       "</table>\n"
      ],
      "text/plain": [
       "+------------+------------------+--------------------+--------------+-----------+-----------+\n",
       "|merchant_abn|      dollar_value|            order_id|order_datetime|consumer_id|order_month|\n",
       "+------------+------------------+--------------------+--------------+-----------+-----------+\n",
       "| 79417999332|136.06570809815838|23acbb7b-cf98-458...|    2021-11-26|    1059280|    2021-11|\n",
       "+------------+------------------+--------------------+--------------+-----------+-----------+"
      ]
     },
     "execution_count": 5,
     "metadata": {},
     "output_type": "execute_result"
    }
   ],
   "source": [
    "transactions.limit(1)"
   ]
  },
  {
   "cell_type": "markdown",
   "metadata": {},
   "source": [
    "We think that the forecasted revenue of each month for each merchant will be useful in determining if we should onboard the merchant to the BNPL firm as it's an indication of future growth. The growth in number of orders each month might also be important."
   ]
  },
  {
   "cell_type": "code",
   "execution_count": null,
   "metadata": {},
   "outputs": [],
   "source": [
    "\"\"\"\"\n",
    "# Aggregate the data into desired format\n",
    "agg_transactions = transactions.groupBy(\"merchant_abn\", \"order_month\", \"take_rate\").agg(\n",
    "    F.count(F.col(\"order_id\")).alias(\"num_orders\"),\n",
    "    F.round(F.sum('dollar_value'), 2).alias('revenue'),\n",
    "    F.round(F.mean(F.col(\"dollar_value\")),2).alias(\"revenue_per_order\")\n",
    ")\n",
    "agg_transactions = agg_transactions.orderBy([\"merchant_abn\", \"order_month\"], ascending = [False, True])\n",
    "\n",
    "# Partition the data based on merchant ABN and compute lag variables for each specific partition\n",
    "merchant_partition = Window.partitionBy(\"merchant_abn\").orderBy(\"order_month\")\n",
    "agg_transactions = agg_transactions.withColumns({\n",
    "    \"revenue_lag\": F.lag(\"revenue\").over(merchant_partition),\n",
    "    \"expected_profit\": F.round(F.col(\"revenue\") * F.col(\"take_rate\")/100,2)\n",
    "    })\n",
    "agg_transactions = agg_transactions.withColumn(\"revenue_growth\",\n",
    "                                               F.when(F.col(\"revenue_lag\").isNotNull(), F.round((F.col(\"revenue\") - F.col(\"revenue_lag\"))/F.col(\"revenue_lag\"), 2)).otherwise(None))\n",
    "\"\"\""
   ]
  },
  {
   "cell_type": "markdown",
   "metadata": {},
   "source": [
    "We originally planned to use features such as firm value's using the Discounted Cash Flow model - assuming revenue is cash flow - and the Internal Rate of Return model. However, some merchants don't have consistent sales periods i.e. some sales periods are missing for some merchants. This situation would make the features unreliable and the comparision between merchants harder. Thus, we decide to assume that the missing sales records for periods are totally due to the merchant unable to make any sales during those period and is not because of data entry errors. We understand that there might be some merchants that only do business during certain period but looking from a perspective of a business, it's better to have merchants that have consistent sales."
   ]
  },
  {
   "cell_type": "code",
   "execution_count": 6,
   "metadata": {},
   "outputs": [
    {
     "name": "stderr",
     "output_type": "stream",
     "text": [
      "24/09/30 22:03:34 WARN RowBasedKeyValueBatch: Calling spill() on RowBasedKeyValueBatch. Will not spill but return 0.\n",
      "24/09/30 22:03:34 WARN RowBasedKeyValueBatch: Calling spill() on RowBasedKeyValueBatch. Will not spill but return 0.\n",
      "24/09/30 22:03:34 WARN RowBasedKeyValueBatch: Calling spill() on RowBasedKeyValueBatch. Will not spill but return 0.\n",
      "                                                                                \r"
     ]
    },
    {
     "name": "stdout",
     "output_type": "stream",
     "text": [
      "Number of merchants with complete sales records: 3194\n"
     ]
    },
    {
     "name": "stderr",
     "output_type": "stream",
     "text": [
      "                                                                                \r"
     ]
    },
    {
     "name": "stdout",
     "output_type": "stream",
     "text": [
      "Number of entries before removing merchants with missing sales records: 67331\n"
     ]
    },
    {
     "name": "stderr",
     "output_type": "stream",
     "text": [
      "                                                                                \r"
     ]
    },
    {
     "name": "stdout",
     "output_type": "stream",
     "text": [
      "Number of entries after removing merchants with missing sales records: 51104\n"
     ]
    }
   ],
   "source": [
    "# Create a dataframe that store the valid date range of the data\n",
    "months = pd.date_range(start=\"2021-05-01\", end=\"2022-08-31\", freq='MS').strftime('%Y-%m').tolist()\n",
    "months_df = spark.createDataFrame([(month,) for month in months], [\"order_month\"])\n",
    "\n",
    "# Join with the transactions dataframe\n",
    "transactions_correct_months = transactions.join(months_df, on= ['order_month'], how = 'right')\n",
    "\n",
    "# Get the list of merchants with complete sales records\n",
    "complete_merchants = transactions_correct_months.groupBy(\"merchant_abn\").agg(F.countDistinct(\"order_month\")\\\n",
    "                                                                             .alias(\"month_count\")).filter(F.col(\"month_count\") == len(months)).select(\"merchant_abn\")\n",
    "print(f\"Number of merchants with complete sales records: {complete_merchants.count()}\")\n",
    "\n",
    "# Select the merchants with complete sales records from the aggregated sales \n",
    "print(f\"Number of entries before removing merchants with missing sales records: {agg_transactions.count()}\")\n",
    "agg_transactions = agg_transactions.join(complete_merchants, on='merchant_abn', how='inner')\n",
    "agg_transactions = agg_transactions.filter(\"2021-05\" <= F.col(\"order_month\")).orderBy(['merchant_abn', 'order_month'],\n",
    "                                                                                      ascending = [True, True])\n",
    "print(f\"Number of entries after removing merchants with missing sales records: {agg_transactions.count()}\")"
   ]
  },
  {
   "cell_type": "code",
   "execution_count": 7,
   "metadata": {},
   "outputs": [
    {
     "name": "stderr",
     "output_type": "stream",
     "text": [
      "24/09/30 22:04:04 WARN RowBasedKeyValueBatch: Calling spill() on RowBasedKeyValueBatch. Will not spill but return 0.\n",
      "24/09/30 22:04:04 WARN RowBasedKeyValueBatch: Calling spill() on RowBasedKeyValueBatch. Will not spill but return 0.\n",
      "24/09/30 22:04:04 WARN RowBasedKeyValueBatch: Calling spill() on RowBasedKeyValueBatch. Will not spill but return 0.\n",
      "24/09/30 22:04:17 WARN RowBasedKeyValueBatch: Calling spill() on RowBasedKeyValueBatch. Will not spill but return 0.\n",
      "24/09/30 22:04:17 WARN RowBasedKeyValueBatch: Calling spill() on RowBasedKeyValueBatch. Will not spill but return 0.\n",
      "24/09/30 22:04:17 WARN RowBasedKeyValueBatch: Calling spill() on RowBasedKeyValueBatch. Will not spill but return 0.\n",
      "                                                                                \r"
     ]
    },
    {
     "data": {
      "text/html": [
       "<table border='1'>\n",
       "<tr><th>merchant_abn</th><th>order_month</th><th>take_rate</th><th>num_orders</th><th>revenue</th><th>revenue_per_order</th><th>revenue_lag</th><th>expected_profit</th><th>revenue_growth</th></tr>\n",
       "<tr><td>10023283211</td><td>2021-05</td><td>0.18</td><td>144</td><td>30111.88</td><td>209.11</td><td>27622.34</td><td>54.2</td><td>0.09</td></tr>\n",
       "<tr><td>10023283211</td><td>2021-06</td><td>0.18</td><td>145</td><td>28790.43</td><td>198.55</td><td>30111.88</td><td>51.82</td><td>-0.04</td></tr>\n",
       "<tr><td>10023283211</td><td>2021-07</td><td>0.18</td><td>153</td><td>29430.73</td><td>192.36</td><td>28790.43</td><td>52.98</td><td>0.02</td></tr>\n",
       "<tr><td>10023283211</td><td>2021-08</td><td>0.18</td><td>146</td><td>32118.49</td><td>219.99</td><td>29430.73</td><td>57.81</td><td>0.09</td></tr>\n",
       "<tr><td>10023283211</td><td>2021-09</td><td>0.18</td><td>175</td><td>34755.78</td><td>198.6</td><td>32118.49</td><td>62.56</td><td>0.08</td></tr>\n",
       "<tr><td>10023283211</td><td>2021-10</td><td>0.18</td><td>169</td><td>39993.29</td><td>236.65</td><td>34755.78</td><td>71.99</td><td>0.15</td></tr>\n",
       "<tr><td>10023283211</td><td>2021-11</td><td>0.18</td><td>217</td><td>48435.09</td><td>223.2</td><td>39993.29</td><td>87.18</td><td>0.21</td></tr>\n",
       "<tr><td>10023283211</td><td>2021-12</td><td>0.18</td><td>211</td><td>45068.95</td><td>213.6</td><td>48435.09</td><td>81.12</td><td>-0.07</td></tr>\n",
       "<tr><td>10023283211</td><td>2022-01</td><td>0.18</td><td>128</td><td>29431.27</td><td>229.93</td><td>45068.95</td><td>52.98</td><td>-0.35</td></tr>\n",
       "<tr><td>10023283211</td><td>2022-02</td><td>0.18</td><td>134</td><td>31489.46</td><td>235.0</td><td>29431.27</td><td>56.68</td><td>0.07</td></tr>\n",
       "<tr><td>10023283211</td><td>2022-03</td><td>0.18</td><td>150</td><td>32456.53</td><td>216.38</td><td>31489.46</td><td>58.42</td><td>0.03</td></tr>\n",
       "<tr><td>10023283211</td><td>2022-04</td><td>0.18</td><td>168</td><td>36365.14</td><td>216.46</td><td>32456.53</td><td>65.46</td><td>0.12</td></tr>\n",
       "<tr><td>10023283211</td><td>2022-05</td><td>0.18</td><td>178</td><td>37305.41</td><td>209.58</td><td>36365.14</td><td>67.15</td><td>0.03</td></tr>\n",
       "<tr><td>10023283211</td><td>2022-06</td><td>0.18</td><td>161</td><td>35735.99</td><td>221.96</td><td>37305.41</td><td>64.32</td><td>-0.04</td></tr>\n",
       "<tr><td>10023283211</td><td>2022-07</td><td>0.18</td><td>193</td><td>40122.34</td><td>207.89</td><td>35735.99</td><td>72.22</td><td>0.12</td></tr>\n",
       "<tr><td>10023283211</td><td>2022-08</td><td>0.18</td><td>153</td><td>34724.53</td><td>226.96</td><td>40122.34</td><td>62.5</td><td>-0.13</td></tr>\n",
       "<tr><td>10142254217</td><td>2021-05</td><td>4.22</td><td>129</td><td>5649.34</td><td>43.79</td><td>4324.5</td><td>238.4</td><td>0.31</td></tr>\n",
       "<tr><td>10142254217</td><td>2021-06</td><td>4.22</td><td>135</td><td>5920.89</td><td>43.86</td><td>5649.34</td><td>249.86</td><td>0.05</td></tr>\n",
       "<tr><td>10142254217</td><td>2021-07</td><td>4.22</td><td>144</td><td>5753.95</td><td>39.96</td><td>5920.89</td><td>242.82</td><td>-0.03</td></tr>\n",
       "<tr><td>10142254217</td><td>2021-08</td><td>4.22</td><td>128</td><td>5137.62</td><td>40.14</td><td>5753.95</td><td>216.81</td><td>-0.11</td></tr>\n",
       "</table>\n",
       "only showing top 20 rows\n"
      ],
      "text/plain": [
       "+------------+-----------+---------+----------+--------+-----------------+-----------+---------------+--------------+\n",
       "|merchant_abn|order_month|take_rate|num_orders| revenue|revenue_per_order|revenue_lag|expected_profit|revenue_growth|\n",
       "+------------+-----------+---------+----------+--------+-----------------+-----------+---------------+--------------+\n",
       "| 10023283211|    2021-05|     0.18|       144|30111.88|           209.11|   27622.34|           54.2|          0.09|\n",
       "| 10023283211|    2021-06|     0.18|       145|28790.43|           198.55|   30111.88|          51.82|         -0.04|\n",
       "| 10023283211|    2021-07|     0.18|       153|29430.73|           192.36|   28790.43|          52.98|          0.02|\n",
       "| 10023283211|    2021-08|     0.18|       146|32118.49|           219.99|   29430.73|          57.81|          0.09|\n",
       "| 10023283211|    2021-09|     0.18|       175|34755.78|            198.6|   32118.49|          62.56|          0.08|\n",
       "| 10023283211|    2021-10|     0.18|       169|39993.29|           236.65|   34755.78|          71.99|          0.15|\n",
       "| 10023283211|    2021-11|     0.18|       217|48435.09|            223.2|   39993.29|          87.18|          0.21|\n",
       "| 10023283211|    2021-12|     0.18|       211|45068.95|            213.6|   48435.09|          81.12|         -0.07|\n",
       "| 10023283211|    2022-01|     0.18|       128|29431.27|           229.93|   45068.95|          52.98|         -0.35|\n",
       "| 10023283211|    2022-02|     0.18|       134|31489.46|            235.0|   29431.27|          56.68|          0.07|\n",
       "| 10023283211|    2022-03|     0.18|       150|32456.53|           216.38|   31489.46|          58.42|          0.03|\n",
       "| 10023283211|    2022-04|     0.18|       168|36365.14|           216.46|   32456.53|          65.46|          0.12|\n",
       "| 10023283211|    2022-05|     0.18|       178|37305.41|           209.58|   36365.14|          67.15|          0.03|\n",
       "| 10023283211|    2022-06|     0.18|       161|35735.99|           221.96|   37305.41|          64.32|         -0.04|\n",
       "| 10023283211|    2022-07|     0.18|       193|40122.34|           207.89|   35735.99|          72.22|          0.12|\n",
       "| 10023283211|    2022-08|     0.18|       153|34724.53|           226.96|   40122.34|           62.5|         -0.13|\n",
       "| 10142254217|    2021-05|     4.22|       129| 5649.34|            43.79|     4324.5|          238.4|          0.31|\n",
       "| 10142254217|    2021-06|     4.22|       135| 5920.89|            43.86|    5649.34|         249.86|          0.05|\n",
       "| 10142254217|    2021-07|     4.22|       144| 5753.95|            39.96|    5920.89|         242.82|         -0.03|\n",
       "| 10142254217|    2021-08|     4.22|       128| 5137.62|            40.14|    5753.95|         216.81|         -0.11|\n",
       "+------------+-----------+---------+----------+--------+-----------------+-----------+---------------+--------------+\n",
       "only showing top 20 rows"
      ]
     },
     "execution_count": 7,
     "metadata": {},
     "output_type": "execute_result"
    }
   ],
   "source": [
    "agg_transactions"
   ]
  },
  {
   "cell_type": "code",
   "execution_count": 10,
   "metadata": {},
   "outputs": [],
   "source": [
    "# Does the mean/average take into account some months may have nothing?\n",
    "\n",
    "merchant_avg_growth = agg_transactions.groupBy(\"merchant_abn\").agg(\n",
    "    F.round(F.mean(\"revenue_growth\"),2).alias(\"avg_growth\"),\n",
    "    F.round(F.mean(\"expected_profit\"), 2).alias('avg_monthly_expected_profit'),\n",
    "    F.round(F.mean(\"revenue_per_order\"),2).alias('avg_monthly_revenue_per_order'),\n",
    "    F.round(F.mean('num_orders'), 2).alias('avg_monthly_num_order')\n",
    ").orderBy(\"merchant_abn\", ascending=True)\n",
    "\n"
   ]
  },
  {
   "cell_type": "code",
   "execution_count": 11,
   "metadata": {},
   "outputs": [
    {
     "name": "stderr",
     "output_type": "stream",
     "text": [
      "24/09/30 22:07:41 WARN RowBasedKeyValueBatch: Calling spill() on RowBasedKeyValueBatch. Will not spill but return 0.\n",
      "24/09/30 22:07:41 WARN RowBasedKeyValueBatch: Calling spill() on RowBasedKeyValueBatch. Will not spill but return 0.\n",
      "24/09/30 22:07:41 WARN RowBasedKeyValueBatch: Calling spill() on RowBasedKeyValueBatch. Will not spill but return 0.\n",
      "                                                                                \r"
     ]
    },
    {
     "data": {
      "text/html": [
       "<table border='1'>\n",
       "<tr><th>merchant_abn</th><th>avg_growth</th><th>avg_monthly_expected_profit</th><th>avg_monthly_revenue_per_order</th><th>avg_monthly_num_order</th></tr>\n",
       "<tr><td>10023283211</td><td>0.02</td><td>63.71</td><td>216.01</td><td>164.06</td></tr>\n",
       "<tr><td>10142254217</td><td>0.05</td><td>248.76</td><td>40.01</td><td>147.56</td></tr>\n",
       "<tr><td>10187291046</td><td>0.05</td><td>64.28</td><td>120.95</td><td>16.38</td></tr>\n",
       "<tr><td>10192359162</td><td>0.19</td><td>534.56</td><td>444.36</td><td>18.88</td></tr>\n",
       "<tr><td>10206519221</td><td>0.03</td><td>1129.8</td><td>37.85</td><td>469.31</td></tr>\n",
       "<tr><td>10255988167</td><td>0.12</td><td>702.47</td><td>389.96</td><td>41.63</td></tr>\n",
       "<tr><td>10264435225</td><td>0.04</td><td>700.22</td><td>116.12</td><td>251.75</td></tr>\n",
       "<tr><td>10279061213</td><td>0.07</td><td>481.16</td><td>297.37</td><td>28.31</td></tr>\n",
       "<tr><td>10323485998</td><td>0.04</td><td>4453.99</td><td>128.58</td><td>524.13</td></tr>\n",
       "<tr><td>10342410215</td><td>0.02</td><td>1045.22</td><td>386.85</td><td>43.0</td></tr>\n",
       "<tr><td>10385163239</td><td>0.67</td><td>85.72</td><td>365.48</td><td>3.63</td></tr>\n",
       "<tr><td>10385250025</td><td>0.09</td><td>942.36</td><td>492.37</td><td>34.19</td></tr>\n",
       "<tr><td>10430380319</td><td>0.15</td><td>133.93</td><td>356.11</td><td>7.69</td></tr>\n",
       "<tr><td>10462560289</td><td>0.04</td><td>88.75</td><td>37.64</td><td>80.38</td></tr>\n",
       "<tr><td>10463252268</td><td>0.71</td><td>130.16</td><td>615.8</td><td>3.63</td></tr>\n",
       "<tr><td>10487253336</td><td>0.04</td><td>2200.12</td><td>445.87</td><td>125.94</td></tr>\n",
       "<tr><td>10530696903</td><td>0.12</td><td>961.41</td><td>424.78</td><td>35.0</td></tr>\n",
       "<tr><td>10545955006</td><td>0.1</td><td>636.98</td><td>454.63</td><td>22.81</td></tr>\n",
       "<tr><td>10553813474</td><td>0.03</td><td>522.2</td><td>294.63</td><td>41.25</td></tr>\n",
       "<tr><td>10596295795</td><td>0.29</td><td>4359.47</td><td>11298.48</td><td>5.75</td></tr>\n",
       "</table>\n",
       "only showing top 20 rows\n"
      ],
      "text/plain": [
       "+------------+----------+---------------------------+-----------------------------+---------------------+\n",
       "|merchant_abn|avg_growth|avg_monthly_expected_profit|avg_monthly_revenue_per_order|avg_monthly_num_order|\n",
       "+------------+----------+---------------------------+-----------------------------+---------------------+\n",
       "| 10023283211|      0.02|                      63.71|                       216.01|               164.06|\n",
       "| 10142254217|      0.05|                     248.76|                        40.01|               147.56|\n",
       "| 10187291046|      0.05|                      64.28|                       120.95|                16.38|\n",
       "| 10192359162|      0.19|                     534.56|                       444.36|                18.88|\n",
       "| 10206519221|      0.03|                     1129.8|                        37.85|               469.31|\n",
       "| 10255988167|      0.12|                     702.47|                       389.96|                41.63|\n",
       "| 10264435225|      0.04|                     700.22|                       116.12|               251.75|\n",
       "| 10279061213|      0.07|                     481.16|                       297.37|                28.31|\n",
       "| 10323485998|      0.04|                    4453.99|                       128.58|               524.13|\n",
       "| 10342410215|      0.02|                    1045.22|                       386.85|                 43.0|\n",
       "| 10385163239|      0.67|                      85.72|                       365.48|                 3.63|\n",
       "| 10385250025|      0.09|                     942.36|                       492.37|                34.19|\n",
       "| 10430380319|      0.15|                     133.93|                       356.11|                 7.69|\n",
       "| 10462560289|      0.04|                      88.75|                        37.64|                80.38|\n",
       "| 10463252268|      0.71|                     130.16|                        615.8|                 3.63|\n",
       "| 10487253336|      0.04|                    2200.12|                       445.87|               125.94|\n",
       "| 10530696903|      0.12|                     961.41|                       424.78|                 35.0|\n",
       "| 10545955006|       0.1|                     636.98|                       454.63|                22.81|\n",
       "| 10553813474|      0.03|                      522.2|                       294.63|                41.25|\n",
       "| 10596295795|      0.29|                    4359.47|                     11298.48|                 5.75|\n",
       "+------------+----------+---------------------------+-----------------------------+---------------------+\n",
       "only showing top 20 rows"
      ]
     },
     "execution_count": 11,
     "metadata": {},
     "output_type": "execute_result"
    }
   ],
   "source": [
    "merchant_avg_growth"
   ]
  },
  {
   "cell_type": "code",
   "execution_count": 11,
   "metadata": {},
   "outputs": [
    {
     "name": "stdout",
     "output_type": "stream",
     "text": [
      "+------------+------------------+--------------------+--------------+-----------+-----------+\n",
      "|merchant_abn|      dollar_value|            order_id|order_datetime|consumer_id|order_month|\n",
      "+------------+------------------+--------------------+--------------+-----------+-----------+\n",
      "| 79417999332|136.06570809815838|23acbb7b-cf98-458...|    2021-11-26|    1059280|    2021-11|\n",
      "| 46451548968| 72.61581642788431|76bab304-fa2d-400...|    2021-11-26|    1195503|    2021-11|\n",
      "| 89518629617|3.0783487174439297|a2ae446a-2959-41c...|    2021-11-26|     986886|    2021-11|\n",
      "| 49167531725| 51.58228625503599|7080c274-17f7-4cc...|    2021-11-26|    1195503|    2021-11|\n",
      "| 31101120643|25.228114942417797|8e301c0f-06ab-45c...|    2021-11-26|     986886|    2021-11|\n",
      "+------------+------------------+--------------------+--------------+-----------+-----------+\n",
      "only showing top 5 rows\n",
      "\n"
     ]
    }
   ],
   "source": [
    "transactions.show(5)"
   ]
  },
  {
   "cell_type": "code",
   "execution_count": 8,
   "metadata": {},
   "outputs": [],
   "source": [
    "predicted_merchant = spark.read.parquet(f\"../data/curated/predicted_merchant_fp.parquet\")\n",
    "predicted_consumer = spark.read.parquet(f\"../data/curated/predicted_consumer_fp.parquet\")"
   ]
  },
  {
   "cell_type": "code",
   "execution_count": 10,
   "metadata": {},
   "outputs": [
    {
     "name": "stdout",
     "output_type": "stream",
     "text": [
      "+------------+--------------+--------------------+------------------+\n",
      "|merchant_abn|order_datetime|            order_id|       merchant_fp|\n",
      "+------------+--------------+--------------------+------------------+\n",
      "| 10142254217|    2021-03-23|b4608467-70ce-484...| 38.71618853592903|\n",
      "| 10142254217|    2021-03-14|1f43bba4-61b9-4ab...|35.834193702349424|\n",
      "| 10142254217|    2021-03-03|ae0d4691-9903-487...|41.202888415759254|\n",
      "| 10142254217|    2021-03-19|425de612-7e74-4bd...| 38.20976428453193|\n",
      "| 10142254217|    2021-03-10|cf5c2ae7-0ef0-446...|41.202888415759254|\n",
      "| 10142254217|    2021-03-25|7b0ee883-758a-45b...|40.156302277471426|\n",
      "| 10142254217|    2021-03-20|e041a987-14ce-486...|39.847837391341116|\n",
      "| 10142254217|    2021-03-29|f5083c2c-5bce-497...| 38.50966065987536|\n",
      "| 10142254217|    2021-03-20|e4ea44af-7a00-408...| 36.35132544975467|\n",
      "| 10142254217|    2021-03-20|93649919-82a6-440...|39.847837391341116|\n",
      "+------------+--------------+--------------------+------------------+\n",
      "only showing top 10 rows\n",
      "\n",
      "+-----------+--------------+--------------------+------------------+\n",
      "|consumer_id|order_datetime|            order_id|       consumer_fp|\n",
      "+-----------+--------------+--------------------+------------------+\n",
      "|         30|    2022-06-09|eb560384-fbaa-45a...| 14.33252447385999|\n",
      "|         30|    2022-01-04|f3826e2e-3c86-4ff...|13.666689245394958|\n",
      "|         30|    2021-05-02|2f8461f4-4d32-4aa...| 13.25989150425849|\n",
      "|         30|    2022-05-29|a34f26b2-c4d4-4ab...| 14.33252447385999|\n",
      "|         30|    2022-06-17|5fac3246-e528-4c9...| 14.33252447385999|\n",
      "|         30|    2021-12-10|e4aa1c7c-74a0-46d...| 13.89293864408754|\n",
      "|         30|    2021-04-03|4e1c19dc-7fa6-40a...| 13.25989150425849|\n",
      "|         30|    2022-02-04|a78569cd-1469-48a...|12.932332100046162|\n",
      "|         30|    2021-12-07|21689c11-77dc-411...|13.950399366315551|\n",
      "|         30|    2021-10-09|81733de0-84d2-417...|13.950399366315551|\n",
      "+-----------+--------------+--------------------+------------------+\n",
      "only showing top 10 rows\n",
      "\n"
     ]
    }
   ],
   "source": [
    "predicted_merchant.show(10)\n",
    "predicted_consumer.show(10)"
   ]
  },
  {
   "cell_type": "code",
   "execution_count": 15,
   "metadata": {},
   "outputs": [
    {
     "name": "stdout",
     "output_type": "stream",
     "text": [
      "Number of entries before the merge: 34864\n",
      "Number of entries after the merge: 34864\n",
      "Number of entries before the merge: 114\n",
      "Number of entries after the merge: 95\n"
     ]
    }
   ],
   "source": [
    "path = \"../data/curated\"\n",
    "\n",
    "# Read cleaned consumer data in\n",
    "consumer_fp = spark.read.parquet(f\"{path}/consumer_fp.parquet\")\n",
    "consumer_info = spark.read.parquet(f\"{path}/consumer_info.parquet\")\n",
    "\n",
    "# Merge the dataset\n",
    "print(f\"Number of entries before the merge: {consumer_fp.count()}\")\n",
    "consumer_fp = consumer_fp.join(consumer_info, on = ['consumer_id'], how = 'inner').select('consumer_id', 'order_datetime', 'fraud_probability')\n",
    "print(f'Number of entries after the merge: {consumer_fp.count()}')\n",
    "\n",
    "\n",
    "# Read merchant datasets in\n",
    "merchant_info = spark.read.parquet(f\"{path}/merchant_info.parquet\")\n",
    "merchant_fp = spark.read.parquet(f\"{path}/merchant_fp.parquet\")\n",
    "\n",
    "# Merge the dataset\n",
    "print(f\"Number of entries before the merge: {merchant_fp.count()}\")\n",
    "merchant_fp = merchant_fp.join(merchant_info, on = ['merchant_abn'], how = 'inner').select('merchant_abn', 'order_datetime', 'fraud_probability')\n",
    "print(f'Number of entries after the merge: {merchant_fp.count()}')"
   ]
  },
  {
   "cell_type": "code",
   "execution_count": 21,
   "metadata": {},
   "outputs": [
    {
     "name": "stdout",
     "output_type": "stream",
     "text": [
      "+--------------------+-----------+------+-----+--------+\n",
      "|                name|consumer_id|gender|state|postcode|\n",
      "+--------------------+-----------+------+-----+--------+\n",
      "|     Courtney Mendez|     680810|Female|  QLD|    9013|\n",
      "|          John Garza|     531402|  Male|   SA|    5301|\n",
      "|          Adam Bowen|    1440589|  Male|   SA|    5201|\n",
      "|     Jeffrey Harding|     699376|  Male|  VIC|    8205|\n",
      "|Mr. Antonio Peterson|     829756|  Male|  QLD|    4075|\n",
      "+--------------------+-----------+------+-----+--------+\n",
      "only showing top 5 rows\n",
      "\n",
      "+--------------------+------------+--------------------+-------------+---------+\n",
      "|                name|merchant_abn|            category|revenue_level|take_rate|\n",
      "+--------------------+------------+--------------------+-------------+---------+\n",
      "|       Felis Limited| 10023283211|furniture, home f...|            e|     0.18|\n",
      "|Arcu Ac Orci Corp...| 10142254217|cable, satellite,...|            b|     4.22|\n",
      "|    Nunc Sed Company| 10165489824|jewelry, watch, c...|            b|      4.4|\n",
      "|Ultricies Digniss...| 10187291046|watch, clock, and...|            b|     3.29|\n",
      "| Enim Condimentum PC| 10192359162|music shops - mus...|            a|     6.33|\n",
      "+--------------------+------------+--------------------+-------------+---------+\n",
      "only showing top 5 rows\n",
      "\n"
     ]
    }
   ],
   "source": [
    "consumer_info.show(5)\n",
    "merchant_info.show(5)"
   ]
  },
  {
   "cell_type": "code",
   "execution_count": 20,
   "metadata": {},
   "outputs": [
    {
     "name": "stdout",
     "output_type": "stream",
     "text": [
      "+-----------+--------------+------------------+\n",
      "|consumer_id|order_datetime| fraud_probability|\n",
      "+-----------+--------------+------------------+\n",
      "|    1195503|    2022-02-20| 9.805431136520959|\n",
      "|     179208|    2021-09-25|10.069850934775245|\n",
      "|     179208|    2021-08-30| 9.599513915425788|\n",
      "|    1194530|    2021-11-03| 8.300636455314633|\n",
      "|     154128|    2021-10-09| 9.633302411090419|\n",
      "|     712975|    2022-01-11|27.496186536467164|\n",
      "|     712975|    2021-10-04|10.868364868449886|\n",
      "|     712975|    2022-02-08|  9.02022421158597|\n",
      "|     407340|    2021-12-12|10.459280127078758|\n",
      "|     650435|    2021-12-13| 10.58055311139687|\n",
      "+-----------+--------------+------------------+\n",
      "only showing top 10 rows\n",
      "\n",
      "+------------+--------------+------------------+\n",
      "|merchant_abn|order_datetime| fraud_probability|\n",
      "+------------+--------------+------------------+\n",
      "| 11149063370|    2022-02-25| 51.01538421455241|\n",
      "| 11149063370|    2021-11-14|52.407803322764764|\n",
      "| 11149063370|    2021-08-28| 56.43761254995139|\n",
      "| 11470993597|    2021-09-28| 63.37734364737917|\n",
      "| 11590404675|    2021-12-21|29.607818240092094|\n",
      "| 14530561097|    2021-09-15| 80.80054474543395|\n",
      "| 15043504837|    2021-10-08|25.054391991473924|\n",
      "| 15043504837|    2021-12-14| 26.12523097610844|\n",
      "| 15043504837|    2021-08-29| 59.77648897297805|\n",
      "| 15157368385|    2021-12-13|  64.2774131928303|\n",
      "+------------+--------------+------------------+\n",
      "only showing top 10 rows\n",
      "\n"
     ]
    }
   ],
   "source": [
    "consumer_fp.show(10)\n",
    "merchant_fp.show(10)"
   ]
  },
  {
   "cell_type": "code",
   "execution_count": 22,
   "metadata": {},
   "outputs": [
    {
     "name": "stdout",
     "output_type": "stream",
     "text": [
      "Number of rows before the merge: 12561377\n"
     ]
    },
    {
     "name": "stderr",
     "output_type": "stream",
     "text": [
      "                                                                                \r"
     ]
    },
    {
     "name": "stdout",
     "output_type": "stream",
     "text": [
      "Number of rows after the merge with consumer fraud probability: 12561589\n"
     ]
    },
    {
     "name": "stderr",
     "output_type": "stream",
     "text": [
      "                                                                                \r"
     ]
    },
    {
     "name": "stdout",
     "output_type": "stream",
     "text": [
      "Number of rows after the merge with merchant fraud probability: 12561589\n"
     ]
    },
    {
     "name": "stderr",
     "output_type": "stream",
     "text": [
      "[Stage 145:==================================================>      (8 + 1) / 9]\r"
     ]
    },
    {
     "name": "stdout",
     "output_type": "stream",
     "text": [
      "Number of rows after the merge with merchant information: 12047496\n"
     ]
    },
    {
     "name": "stderr",
     "output_type": "stream",
     "text": [
      "                                                                                \r"
     ]
    }
   ],
   "source": [
    "print(f'Number of rows before the merge: {transactions.count()}')\n",
    "\n",
    "# join with consumer fraud prob and rename the col\n",
    "transactions_df = transactions.join(consumer_fp, on = ['consumer_id', 'order_datetime'], how='left')\n",
    "transactions_df = transactions_df.withColumnRenamed(\"fraud_probability\", \"consumer_fp\")\n",
    "print(f'Number of rows after the merge with consumer fraud probability: {transactions_df.count()}')\n",
    "\n",
    "# Join with merchant fraud prob and rename the col\n",
    "transactions_df = transactions_df.join(merchant_fp, on = ['merchant_abn', 'order_datetime'], how='left')\n",
    "transactions_df = transactions_df.withColumnRenamed(\"fraud_probability\", \"merchant_fp\")\n",
    "print(f'Number of rows after the merge with merchant fraud probability: {transactions_df.count()}')\n",
    "\n",
    "transactions_df = transactions_df.join(merchant_info, on = ['merchant_abn'], how='inner')\n",
    "print(f'Number of rows after the merge with merchant information: {transactions_df.count()}')"
   ]
  },
  {
   "cell_type": "code",
   "execution_count": 23,
   "metadata": {},
   "outputs": [
    {
     "name": "stderr",
     "output_type": "stream",
     "text": [
      "                                                                                \r"
     ]
    },
    {
     "name": "stdout",
     "output_type": "stream",
     "text": [
      "+------------+--------------+-----------+------------------+--------------------+-----------+-----------+-----------+--------------------+--------------------+-------------+---------+\n",
      "|merchant_abn|order_datetime|consumer_id|      dollar_value|            order_id|order_month|consumer_fp|merchant_fp|                name|            category|revenue_level|take_rate|\n",
      "+------------+--------------+-----------+------------------+--------------------+-----------+-----------+-----------+--------------------+--------------------+-------------+---------+\n",
      "| 24015173965|    2021-11-26|     154128|             157.0|5b867ac9-d1e0-430...|    2021-11|       NULL|       NULL|      Lectus Limited|cable, satellite,...|            a|     6.79|\n",
      "| 98973094975|    2021-11-26|     289140|138.76652355027088|4a9b8513-91ef-4a1...|    2021-11|       NULL|       NULL|   Ornare Fusce Inc.|hobby, toy and ga...|            a|     5.98|\n",
      "| 56796971172|    2021-11-26|    1221456|238.56434228408926|f769a07a-88f2-43d...|    2021-11|       NULL|       NULL|Enim Non Nisi Cor...|          shoe shops|            a|     5.81|\n",
      "| 71538439295|    2021-11-26|    1221456| 92.36987316917296|88f8b446-6b50-4b0...|    2021-11|       NULL|       NULL| Morbi Metus Limited|music shops - mus...|            b|     3.71|\n",
      "| 33296649772|    2021-11-26|     868675| 64.97716064918198|067a3d00-0606-413...|    2021-11|       NULL|       NULL| Nullam Lobortis Ltd|          shoe shops|            c|      1.8|\n",
      "+------------+--------------+-----------+------------------+--------------------+-----------+-----------+-----------+--------------------+--------------------+-------------+---------+\n",
      "only showing top 5 rows\n",
      "\n"
     ]
    }
   ],
   "source": [
    "transactions_df.show(5)"
   ]
  },
  {
   "cell_type": "code",
   "execution_count": 30,
   "metadata": {},
   "outputs": [],
   "source": [
    "# Aggregate the data into desired format\n",
    "agg_transactions = transactions_df.groupBy(\"merchant_abn\", \"order_month\", \"take_rate\").agg(\n",
    "    F.count(F.col(\"order_id\")).alias(\"num_orders\"),\n",
    "    F.round(F.sum('dollar_value'), 2).alias('revenue'),\n",
    "    F.round(F.mean(F.col(\"dollar_value\")),2).alias(\"revenue_per_order\"),\n",
    "    F.first(F.col(\"merchant_fp\")).alias(\"merchant_fp\"),\n",
    "    F.first(F.col(\"consumer_fp\")).alias(\"consumer_fp\"),\n",
    "    F.first(F.col(\"order_id\")).alias(\"order_id\")\n",
    ")\n",
    "agg_transactions = agg_transactions.orderBy([\"merchant_abn\", \"order_month\"], ascending = [False, True])\n",
    "\n",
    "# Partition the data based on merchant ABN and compute lag variables for each specific partition\n",
    "merchant_partition = Window.partitionBy(\"merchant_abn\").orderBy(\"order_month\")\n",
    "agg_transactions = agg_transactions.withColumns({\n",
    "    \"revenue_lag\": F.lag(\"revenue\").over(merchant_partition),\n",
    "    \"expected_profit\": F.round(F.col(\"revenue\") * F.col(\"take_rate\")/100,2)\n",
    "    })\n",
    "agg_transactions = agg_transactions.withColumn(\"revenue_growth\",\n",
    "                                               F.when(F.col(\"revenue_lag\").isNotNull(), F.round((F.col(\"revenue\") - F.col(\"revenue_lag\"))/F.col(\"revenue_lag\"), 2)).otherwise(None))"
   ]
  },
  {
   "cell_type": "code",
   "execution_count": 29,
   "metadata": {},
   "outputs": [
    {
     "name": "stderr",
     "output_type": "stream",
     "text": [
      "                                                                                \r"
     ]
    },
    {
     "name": "stdout",
     "output_type": "stream",
     "text": [
      "+------------+-----------+---------+----------+--------+-----------------+-----------+-----------+-----------+---------------+--------------+\n",
      "|merchant_abn|order_month|take_rate|num_orders| revenue|revenue_per_order|merchant_fp|consumer_fp|revenue_lag|expected_profit|revenue_growth|\n",
      "+------------+-----------+---------+----------+--------+-----------------+-----------+-----------+-----------+---------------+--------------+\n",
      "| 10023283211|    2021-02|     0.18|         3|  701.57|           233.86|       NULL|       NULL|       NULL|           1.26|          NULL|\n",
      "| 10023283211|    2021-03|     0.18|       111|24634.35|           221.93|       NULL|       NULL|     701.57|          44.34|         34.11|\n",
      "| 10023283211|    2021-04|     0.18|       129|27622.34|           214.13|       NULL|       NULL|   24634.35|          49.72|          0.12|\n",
      "| 10023283211|    2021-05|     0.18|       144|30111.88|           209.11|       NULL|       NULL|   27622.34|           54.2|          0.09|\n",
      "| 10023283211|    2021-06|     0.18|       145|28790.43|           198.55|       NULL|       NULL|   30111.88|          51.82|         -0.04|\n",
      "+------------+-----------+---------+----------+--------+-----------------+-----------+-----------+-----------+---------------+--------------+\n",
      "only showing top 5 rows\n",
      "\n"
     ]
    }
   ],
   "source": [
    "agg_transactions.show(5)"
   ]
  },
  {
   "cell_type": "code",
   "execution_count": 35,
   "metadata": {},
   "outputs": [],
   "source": [
    "from pyspark.sql import functions as F\n",
    "\n",
    "\n",
    "# Select and rename columns in `predicted_merchant` before joining\n",
    "predicted_merchant = predicted_merchant.select(\n",
    "    \"order_id\", \n",
    "    F.col(\"merchant_fp\").alias(\"predicted_merchant_fp\")\n",
    ")\n",
    "\n",
    "# Select and rename columns in `predicted_consumer` before joining\n",
    "predicted_consumer = predicted_consumer.select(\n",
    "    \"order_id\", \n",
    "    F.col(\"consumer_fp\").alias(\"predicted_consumer_fp\")\n",
    ")\n",
    "\n",
    "\n",
    "# Join `agg_transactions` with `predicted_merchant` to get predicted merchant fraud probabilities\n",
    "agg_transactions_with_merchant_fp = agg_transactions.join(\n",
    "    predicted_merchant, \n",
    "    on=\"order_id\", \n",
    "    how=\"left\"\n",
    ")\n",
    "\n",
    "# Join `agg_transactions_with_merchant_fp` with `predicted_consumer` to get predicted consumer fraud probabilities\n",
    "agg_transactions_with_fp = agg_transactions_with_merchant_fp.join(\n",
    "    predicted_consumer, \n",
    "    on=\"order_id\", \n",
    "    how=\"left\"\n",
    ")\n"
   ]
  },
  {
   "cell_type": "code",
   "execution_count": 36,
   "metadata": {},
   "outputs": [
    {
     "name": "stderr",
     "output_type": "stream",
     "text": [
      "                                                                                \r"
     ]
    },
    {
     "name": "stdout",
     "output_type": "stream",
     "text": [
      "+--------------------+------------+-----------+---------+----------+--------+-----------------+-----------+-----------+-----------+---------------+--------------+---------------------+---------------------+\n",
      "|            order_id|merchant_abn|order_month|take_rate|num_orders| revenue|revenue_per_order|merchant_fp|consumer_fp|revenue_lag|expected_profit|revenue_growth|predicted_merchant_fp|predicted_consumer_fp|\n",
      "+--------------------+------------+-----------+---------+----------+--------+-----------------+-----------+-----------+-----------+---------------+--------------+---------------------+---------------------+\n",
      "|1e731bf4-131e-438...| 10023283211|    2021-06|     0.18|       145|28790.43|           198.55|       NULL|       NULL|   30111.88|          51.82|         -0.04|    53.87780562295093|   12.030415540578806|\n",
      "|64229c09-4d9d-4e5...| 10023283211|    2021-08|     0.18|       146|32118.49|           219.99|       NULL|       NULL|   29430.73|          57.81|          0.09|   57.603752036123375|   11.761239517477872|\n",
      "|8dd81a17-1391-4dd...| 10385011947|    2021-09|     3.17|         2| 1383.45|           691.73|       NULL|       NULL|     971.97|          43.86|          0.42|    48.12942116695931|    13.49231179727444|\n",
      "|d374c660-c632-433...| 10142254217|    2021-02|     4.22|         1|   10.89|            10.89|       NULL|       NULL|       NULL|           0.46|          NULL|                 NULL|                 NULL|\n",
      "|fb45bf1c-43a6-44d...| 10023283211|    2021-05|     0.18|       144|30111.88|           209.11|       NULL|       NULL|   27622.34|           54.2|          0.09|    53.31187725893212|   11.772885927045131|\n",
      "|1bccb994-41d2-4d0...| 10142254217|    2021-09|     4.22|       139| 5676.24|            40.84|       NULL|       NULL|    5139.12|         239.54|           0.1|    36.62943709540395|   11.669336173504052|\n",
      "|1e7ff636-933b-443...| 10187291046|    2021-08|     3.29|        15|  1666.0|           111.07|       NULL|       NULL|    1120.08|          54.81|          0.49|    53.52961872885148|   11.227165538628817|\n",
      "|47d13d40-215d-48d...| 10187291046|    2021-03|     3.29|        16| 1723.58|           107.72|       NULL|       NULL|       NULL|          56.71|          NULL|    48.91202783922883|   17.935572069342747|\n",
      "|aed88c04-6bed-4a3...| 10385011947|    2022-01|     3.17|         1|  201.26|           201.26|       NULL|       NULL|    3127.94|           6.38|         -0.94|   50.325894359433455|   13.860036154807043|\n",
      "|e7dc05e4-a271-424...| 10187291046|    2021-06|     3.29|        16| 1761.41|           110.09|       NULL|       NULL|    1329.19|          57.95|          0.33|    47.82665849807008|   16.620925663777268|\n",
      "+--------------------+------------+-----------+---------+----------+--------+-----------------+-----------+-----------+-----------+---------------+--------------+---------------------+---------------------+\n",
      "only showing top 10 rows\n",
      "\n"
     ]
    }
   ],
   "source": [
    "agg_transactions_with_fp.show(10)"
   ]
  },
  {
   "cell_type": "code",
   "execution_count": 37,
   "metadata": {},
   "outputs": [
    {
     "name": "stderr",
     "output_type": "stream",
     "text": [
      "[Stage 532:>                                                        (0 + 1) / 1]\r"
     ]
    },
    {
     "name": "stdout",
     "output_type": "stream",
     "text": [
      "+--------------------+------------+-----------+---------+----------+--------+-----------------+-----------------+------------------+-----------+---------------+--------------+\n",
      "|            order_id|merchant_abn|order_month|take_rate|num_orders| revenue|revenue_per_order|      merchant_fp|       consumer_fp|revenue_lag|expected_profit|revenue_growth|\n",
      "+--------------------+------------+-----------+---------+----------+--------+-----------------+-----------------+------------------+-----------+---------------+--------------+\n",
      "|1e731bf4-131e-438...| 10023283211|    2021-06|     0.18|       145|28790.43|           198.55|53.87780562295093|12.030415540578806|   30111.88|          51.82|         -0.04|\n",
      "|8dd81a17-1391-4dd...| 10385011947|    2021-09|     3.17|         2| 1383.45|           691.73|48.12942116695931| 13.49231179727444|     971.97|          43.86|          0.42|\n",
      "|d374c660-c632-433...| 10142254217|    2021-02|     4.22|         1|   10.89|            10.89|             NULL|              NULL|       NULL|           0.46|          NULL|\n",
      "|fb45bf1c-43a6-44d...| 10023283211|    2021-05|     0.18|       144|30111.88|           209.11|53.31187725893212|11.772885927045131|   27622.34|           54.2|          0.09|\n",
      "|1e7ff636-933b-443...| 10187291046|    2021-08|     3.29|        15|  1666.0|           111.07|53.52961872885148|11.227165538628817|    1120.08|          54.81|          0.49|\n",
      "+--------------------+------------+-----------+---------+----------+--------+-----------------+-----------------+------------------+-----------+---------------+--------------+\n",
      "only showing top 5 rows\n",
      "\n"
     ]
    },
    {
     "name": "stderr",
     "output_type": "stream",
     "text": [
      "                                                                                \r"
     ]
    }
   ],
   "source": [
    "\n",
    "# Impute `merchant_fp` with `predicted_merchant_fp` where `merchant_fp` is NULL\n",
    "agg_transactions_with_fp = agg_transactions_with_fp.withColumn(\n",
    "    \"merchant_fp\",\n",
    "    F.when(\n",
    "        F.col(\"merchant_fp\").isNull(),\n",
    "        F.col(\"predicted_merchant_fp\")\n",
    "    ).otherwise(F.col(\"merchant_fp\"))\n",
    ")\n",
    "\n",
    "# Impute `consumer_fp` with `predicted_consumer_fp` where `consumer_fp` is NULL\n",
    "agg_transactions_with_fp = agg_transactions_with_fp.withColumn(\n",
    "    \"consumer_fp\",\n",
    "    F.when(\n",
    "        F.col(\"consumer_fp\").isNull(),\n",
    "        F.col(\"predicted_consumer_fp\")\n",
    "    ).otherwise(F.col(\"consumer_fp\"))\n",
    ")\n",
    "\n",
    "# Drop the temporary columns used for joining if they are no longer needed\n",
    "agg_transactions_imputed = agg_transactions_with_fp.drop(\"predicted_merchant_fp\", \"predicted_consumer_fp\")\n",
    "\n",
    "# Display the resulting DataFrame\n",
    "agg_transactions_imputed.show(5)"
   ]
  },
  {
   "cell_type": "code",
   "execution_count": null,
   "metadata": {},
   "outputs": [],
   "source": []
  },
  {
   "cell_type": "code",
   "execution_count": null,
   "metadata": {},
   "outputs": [],
   "source": [
    "from pyspark.sql import functions as F\n",
    "\n",
    "# Weights for fraud probabilities\n",
    "alpha = 0.5  # Weight for merchant fraud probability\n",
    "beta = 0.5   # Weight for consumer fraud probability\n",
    "\n",
    "# Weights for final score components\n",
    "w1 = 0.4  # Weight for risk-adjusted profit (merchant)\n",
    "w2 = 0.4  # Weight for risk-adjusted profit (consumer)\n",
    "w3 = 0.1  # Weight for average order volume\n",
    "w4 = 0.1  # Weight for combined order volume and revenue growth rate\n",
    "\n",
    "# 1. Calculate Combined Fraud Probability (CFP)\n",
    "merchant_avg_growth = merchant_avg_growth.withColumn(\n",
    "    \"combined_fraud_probability\", \n",
    "    alpha * F.col(\"merchant_fraud_probability\") + beta * F.col(\"consumer_fraud_probability\")\n",
    ")\n",
    "\n",
    "# 2. Calculate Risk-Adjusted Profit for Merchant Fraud\n",
    "merchant_avg_growth = merchant_avg_growth.withColumn(\n",
    "    \"risk_adjusted_profit_merchant\", \n",
    "    F.col(\"avg_monthly_expected_profit\") * (1 - alpha * F.col(\"merchant_fraud_probability\"))\n",
    ")\n",
    "\n",
    "# 3. Calculate Risk-Adjusted Profit for Consumer Fraud\n",
    "merchant_avg_growth = merchant_avg_growth.withColumn(\n",
    "    \"risk_adjusted_profit_consumer\", \n",
    "    F.col(\"avg_monthly_expected_profit\") * (1 - beta * F.col(\"consumer_fraud_probability\"))\n",
    ")\n",
    "\n",
    "# 4. Calculate Combined Risk-Adjusted Profit\n",
    "merchant_avg_growth = merchant_avg_growth.withColumn(\n",
    "    \"combined_risk_adjusted_profit\", \n",
    "    F.col(\"avg_monthly_expected_profit\") * (1 - F.col(\"combined_fraud_probability\"))\n",
    ")\n",
    "\n",
    "# 5. Calculate Average Order Volume (Activeness Feature)\n",
    "# Assuming 'avg_monthly_num_order' is the average number of orders per month for each merchant\n",
    "\n",
    "# 6. Calculate Joint Feature for Order Volume & Revenue Growth Rate\n",
    "# A simple way to combine order volume and revenue growth could be to multiply the two\n",
    "merchant_avg_growth = merchant_avg_growth.withColumn(\n",
    "    \"joint_order_volume_revenue_growth\",\n",
    "    F.col(\"avg_monthly_num_order\") * F.col(\"avg_growth\")\n",
    ")\n",
    "\n",
    "# 7. Calculate Final Adjusted Score\n",
    "merchant_avg_growth = merchant_avg_growth.withColumn(\n",
    "    \"adjusted_score\",\n",
    "    w1 * F.col(\"risk_adjusted_profit_merchant\") + \n",
    "    w2 * F.col(\"risk_adjusted_profit_consumer\") + \n",
    "    w3 * F.col(\"avg_monthly_num_order\") +  # Weight for average order volume\n",
    "    w4 * F.col(\"joint_order_volume_revenue_growth\")  # Weight for combined order volume and revenue growth\n",
    ")\n",
    "\n",
    "# 8. Rank the merchants based on the final adjusted score\n",
    "merchant_avg_growth = merchant_avg_growth.orderBy(F.col(\"adjusted_score\").desc())\n",
    "\n",
    "# Display the final ranked DataFrame\n",
    "merchant_avg_growth.select(\"merchant_abn\", \"adjusted_score\").show(10)\n"
   ]
  }
 ],
 "metadata": {
  "kernelspec": {
   "display_name": "Python 3",
   "language": "python",
   "name": "python3"
  },
  "language_info": {
   "codemirror_mode": {
    "name": "ipython",
    "version": 3
   },
   "file_extension": ".py",
   "mimetype": "text/x-python",
   "name": "python",
   "nbconvert_exporter": "python",
   "pygments_lexer": "ipython3",
   "version": "3.8.10"
  }
 },
 "nbformat": 4,
 "nbformat_minor": 2
}

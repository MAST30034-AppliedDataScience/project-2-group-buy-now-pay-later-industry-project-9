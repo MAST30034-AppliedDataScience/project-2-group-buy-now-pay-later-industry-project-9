{
 "cells": [
  {
   "cell_type": "code",
   "execution_count": 1,
   "metadata": {},
   "outputs": [],
   "source": [
    "from pyspark.sql import functions as F, SparkSession, Window\n",
    "import pandas as pd"
   ]
  },
  {
   "cell_type": "code",
   "execution_count": 2,
   "metadata": {},
   "outputs": [
    {
     "name": "stderr",
     "output_type": "stream",
     "text": [
      "your 131072x1 screen size is bogus. expect trouble\n",
      "24/09/28 16:18:59 WARN Utils: Your hostname, Skye-Ngu resolves to a loopback address: 127.0.1.1; using 172.17.250.30 instead (on interface eth0)\n",
      "24/09/28 16:18:59 WARN Utils: Set SPARK_LOCAL_IP if you need to bind to another address\n",
      "Setting default log level to \"WARN\".\n",
      "To adjust logging level use sc.setLogLevel(newLevel). For SparkR, use setLogLevel(newLevel).\n",
      "24/09/28 16:19:01 WARN NativeCodeLoader: Unable to load native-hadoop library for your platform... using builtin-java classes where applicable\n"
     ]
    }
   ],
   "source": [
    "#  Create a Spark Session\n",
    "spark = (\n",
    "    SparkSession.builder.appName(\"Ranking Model\")\n",
    "    .config(\"spark.sql.repl.eagerEval.enabled\", True)\n",
    "    .config(\"spark.sql.parquet.cacheMetadata\", \"true\")\n",
    "    .config(\"spark.sql.session.timeZone\", \"Etc/UTC\")\n",
    "    .config(\"spark.driver.memory\", \"4g\")\n",
    "    .config(\"spark.executor.memory\", \"2g\")\n",
    "    .getOrCreate()\n",
    ")"
   ]
  },
  {
   "cell_type": "markdown",
   "metadata": {},
   "source": [
    "# Feature engineering"
   ]
  },
  {
   "cell_type": "code",
   "execution_count": 3,
   "metadata": {},
   "outputs": [
    {
     "name": "stderr",
     "output_type": "stream",
     "text": [
      "                                                                                \r"
     ]
    }
   ],
   "source": [
    "transactions = spark.read.parquet(f\"../data/curated/transactions.parquet\")\n",
    "transactions = transactions.withColumn(\"order_month\", F.date_format(F.col(\"order_datetime\"), \"yyyy-MM\"))"
   ]
  },
  {
   "cell_type": "code",
   "execution_count": 14,
   "metadata": {},
   "outputs": [
    {
     "data": {
      "text/html": [
       "<table border='1'>\n",
       "<tr><th>merchant_abn</th><th>order_datetime</th><th>consumer_id</th><th>dollar_value</th><th>order_id</th><th>consumer_fp</th><th>merchant_fp</th><th>name</th><th>category</th><th>revenue_level</th><th>take_rate</th><th>order_month</th></tr>\n",
       "<tr><td>68216911708</td><td>2021-08-20</td><td>148519</td><td>49.86466328799216</td><td>df791327-3a6f-40b...</td><td>NULL</td><td>NULL</td><td>Placerat Eget Ven...</td><td>computers, comput...</td><td>c</td><td>3.05</td><td>2021-08</td></tr>\n",
       "</table>\n"
      ],
      "text/plain": [
       "+------------+--------------+-----------+-----------------+--------------------+-----------+-----------+--------------------+--------------------+-------------+---------+-----------+\n",
       "|merchant_abn|order_datetime|consumer_id|     dollar_value|            order_id|consumer_fp|merchant_fp|                name|            category|revenue_level|take_rate|order_month|\n",
       "+------------+--------------+-----------+-----------------+--------------------+-----------+-----------+--------------------+--------------------+-------------+---------+-----------+\n",
       "| 68216911708|    2021-08-20|     148519|49.86466328799216|df791327-3a6f-40b...|       NULL|       NULL|Placerat Eget Ven...|computers, comput...|            c|     3.05|    2021-08|\n",
       "+------------+--------------+-----------+-----------------+--------------------+-----------+-----------+--------------------+--------------------+-------------+---------+-----------+"
      ]
     },
     "execution_count": 14,
     "metadata": {},
     "output_type": "execute_result"
    }
   ],
   "source": [
    "transactions.limit(1)"
   ]
  },
  {
   "cell_type": "markdown",
   "metadata": {},
   "source": [
    "We think that the forecasted revenue of each month for each merchant will be useful in determining if we should onboard the merchant to the BNPL firm as it's an indication of future growth. The growth in number of orders each month might also be important."
   ]
  },
  {
   "cell_type": "code",
   "execution_count": 24,
   "metadata": {},
   "outputs": [],
   "source": [
    "# Aggregate the data into desired format\n",
    "agg_transactions = transactions.groupBy(\"merchant_abn\", \"order_month\", \"take_rate\").agg(\n",
    "    F.count(F.col(\"order_id\")).alias(\"num_orders\"),\n",
    "    F.round(F.sum('dollar_value'), 2).alias('revenue'),\n",
    "    F.round(F.mean(F.col(\"dollar_value\")),2).alias(\"revenue_per_order\")\n",
    ")\n",
    "agg_transactions = agg_transactions.orderBy([\"merchant_abn\", \"order_month\"], ascending = [False, True])\n",
    "\n",
    "# Partition the data based on merchant ABN and compute lag variables for each specific partition\n",
    "merchant_partition = Window.partitionBy(\"merchant_abn\").orderBy(\"order_month\")\n",
    "agg_transactions = agg_transactions.withColumns({\n",
    "    \"revenue_lag\": F.lag(\"revenue\").over(merchant_partition),\n",
    "    \"expected_profit\": F.round(F.col(\"revenue\") * F.col(\"take_rate\")/100,2)\n",
    "    })\n",
    "agg_transactions = agg_transactions.withColumn(\"revenue_growth\",\n",
    "                                               F.when(F.col(\"revenue_lag\").isNotNull(), F.round((F.col(\"revenue\") - F.col(\"revenue_lag\"))/F.col(\"revenue_lag\"), 2)).otherwise(None))"
   ]
  },
  {
   "cell_type": "markdown",
   "metadata": {},
   "source": [
    "We originally planned to use features such as firm value's using the Discounted Cash Flow model - assuming revenue is cash flow - and the Internal Rate of Return model. However, some merchants don't have consistent sales periods i.e. some sales periods are missing for some merchants. This situation would make the features unreliable and the comparision between merchants harder. Thus, we decide to assume that the missing sales records for periods are totally due to the merchant unable to make any sales during those period and is not because of data entry errors. We understand that there might be some merchants that only do business during certain period but looking from a perspective of a business, it's better to have merchants that have consistent sales."
   ]
  },
  {
   "cell_type": "code",
   "execution_count": 26,
   "metadata": {},
   "outputs": [
    {
     "name": "stderr",
     "output_type": "stream",
     "text": [
      "24/09/28 17:23:48 WARN RowBasedKeyValueBatch: Calling spill() on RowBasedKeyValueBatch. Will not spill but return 0.\n",
      "24/09/28 17:23:48 WARN RowBasedKeyValueBatch: Calling spill() on RowBasedKeyValueBatch. Will not spill but return 0.\n",
      "24/09/28 17:23:48 WARN RowBasedKeyValueBatch: Calling spill() on RowBasedKeyValueBatch. Will not spill but return 0.\n",
      "                                                                                \r"
     ]
    },
    {
     "name": "stdout",
     "output_type": "stream",
     "text": [
      "Number of merchants with complete sales records: 3194\n"
     ]
    },
    {
     "name": "stderr",
     "output_type": "stream",
     "text": [
      "                                                                                \r"
     ]
    },
    {
     "name": "stdout",
     "output_type": "stream",
     "text": [
      "Number of entries before removing merchants with missing sales records: 67331\n"
     ]
    },
    {
     "name": "stderr",
     "output_type": "stream",
     "text": [
      "24/09/28 17:23:58 WARN RowBasedKeyValueBatch: Calling spill() on RowBasedKeyValueBatch. Will not spill but return 0.\n",
      "24/09/28 17:23:58 WARN RowBasedKeyValueBatch: Calling spill() on RowBasedKeyValueBatch. Will not spill but return 0.\n",
      "24/09/28 17:23:58 WARN RowBasedKeyValueBatch: Calling spill() on RowBasedKeyValueBatch. Will not spill but return 0.\n",
      "[Stage 573:===================================================>   (15 + 1) / 16]\r"
     ]
    },
    {
     "name": "stdout",
     "output_type": "stream",
     "text": [
      "Number of entries after removing merchants with missing sales records: 51104\n"
     ]
    },
    {
     "name": "stderr",
     "output_type": "stream",
     "text": [
      "                                                                                \r"
     ]
    }
   ],
   "source": [
    "# Create a dataframe that store the valid date range of the data\n",
    "months = pd.date_range(start=\"2021-05-01\", end=\"2022-08-31\", freq='MS').strftime('%Y-%m').tolist()\n",
    "months_df = spark.createDataFrame([(month,) for month in months], [\"order_month\"])\n",
    "\n",
    "# Join with the transactions dataframe\n",
    "transactions_correct_months = transactions.join(months_df, on= ['order_month'], how = 'right')\n",
    "\n",
    "# Get the list of merchants with complete sales records\n",
    "complete_merchants = transactions_correct_months.groupBy(\"merchant_abn\").agg(F.countDistinct(\"order_month\")\\\n",
    "                                                                             .alias(\"month_count\")).filter(F.col(\"month_count\") == len(months)).select(\"merchant_abn\")\n",
    "print(f\"Number of merchants with complete sales records: {complete_merchants.count()}\")\n",
    "\n",
    "# Select the merchants with complete sales records from the aggregated sales \n",
    "print(f\"Number of entries before removing merchants with missing sales records: {agg_transactions.count()}\")\n",
    "agg_transactions = agg_transactions.join(complete_merchants, on='merchant_abn', how='inner')\n",
    "agg_transactions = agg_transactions.filter(\"2021-05\" <= F.col(\"order_month\")).orderBy(['merchant_abn', 'order_month'],\n",
    "                                                                                      ascending = [True, True])\n",
    "print(f\"Number of entries after removing merchants with missing sales records: {agg_transactions.count()}\")"
   ]
  },
  {
   "cell_type": "code",
   "execution_count": 27,
   "metadata": {},
   "outputs": [
    {
     "name": "stderr",
     "output_type": "stream",
     "text": [
      "24/09/28 17:38:32 WARN RowBasedKeyValueBatch: Calling spill() on RowBasedKeyValueBatch. Will not spill but return 0.\n",
      "24/09/28 17:38:32 WARN RowBasedKeyValueBatch: Calling spill() on RowBasedKeyValueBatch. Will not spill but return 0.\n",
      "24/09/28 17:38:32 WARN RowBasedKeyValueBatch: Calling spill() on RowBasedKeyValueBatch. Will not spill but return 0.\n",
      "24/09/28 17:38:42 WARN RowBasedKeyValueBatch: Calling spill() on RowBasedKeyValueBatch. Will not spill but return 0.\n",
      "24/09/28 17:38:42 WARN RowBasedKeyValueBatch: Calling spill() on RowBasedKeyValueBatch. Will not spill but return 0.\n",
      "24/09/28 17:38:42 WARN RowBasedKeyValueBatch: Calling spill() on RowBasedKeyValueBatch. Will not spill but return 0.\n",
      "                                                                                \r"
     ]
    },
    {
     "data": {
      "text/html": [
       "<table border='1'>\n",
       "<tr><th>merchant_abn</th><th>order_month</th><th>take_rate</th><th>num_orders</th><th>revenue</th><th>revenue_per_order</th><th>revenue_lag</th><th>expected_profit</th><th>revenue_growth</th></tr>\n",
       "<tr><td>10023283211</td><td>2021-05</td><td>0.18</td><td>144</td><td>30111.88</td><td>209.11</td><td>27622.34</td><td>54.2</td><td>0.09</td></tr>\n",
       "<tr><td>10023283211</td><td>2021-06</td><td>0.18</td><td>145</td><td>28790.43</td><td>198.55</td><td>30111.88</td><td>51.82</td><td>-0.04</td></tr>\n",
       "<tr><td>10023283211</td><td>2021-07</td><td>0.18</td><td>153</td><td>29430.73</td><td>192.36</td><td>28790.43</td><td>52.98</td><td>0.02</td></tr>\n",
       "<tr><td>10023283211</td><td>2021-08</td><td>0.18</td><td>146</td><td>32118.49</td><td>219.99</td><td>29430.73</td><td>57.81</td><td>0.09</td></tr>\n",
       "<tr><td>10023283211</td><td>2021-09</td><td>0.18</td><td>175</td><td>34755.78</td><td>198.6</td><td>32118.49</td><td>62.56</td><td>0.08</td></tr>\n",
       "<tr><td>10023283211</td><td>2021-10</td><td>0.18</td><td>169</td><td>39993.29</td><td>236.65</td><td>34755.78</td><td>71.99</td><td>0.15</td></tr>\n",
       "<tr><td>10023283211</td><td>2021-11</td><td>0.18</td><td>217</td><td>48435.09</td><td>223.2</td><td>39993.29</td><td>87.18</td><td>0.21</td></tr>\n",
       "<tr><td>10023283211</td><td>2021-12</td><td>0.18</td><td>211</td><td>45068.95</td><td>213.6</td><td>48435.09</td><td>81.12</td><td>-0.07</td></tr>\n",
       "<tr><td>10023283211</td><td>2022-01</td><td>0.18</td><td>128</td><td>29431.27</td><td>229.93</td><td>45068.95</td><td>52.98</td><td>-0.35</td></tr>\n",
       "<tr><td>10023283211</td><td>2022-02</td><td>0.18</td><td>134</td><td>31489.46</td><td>235.0</td><td>29431.27</td><td>56.68</td><td>0.07</td></tr>\n",
       "<tr><td>10023283211</td><td>2022-03</td><td>0.18</td><td>150</td><td>32456.53</td><td>216.38</td><td>31489.46</td><td>58.42</td><td>0.03</td></tr>\n",
       "<tr><td>10023283211</td><td>2022-04</td><td>0.18</td><td>168</td><td>36365.14</td><td>216.46</td><td>32456.53</td><td>65.46</td><td>0.12</td></tr>\n",
       "<tr><td>10023283211</td><td>2022-05</td><td>0.18</td><td>178</td><td>37305.41</td><td>209.58</td><td>36365.14</td><td>67.15</td><td>0.03</td></tr>\n",
       "<tr><td>10023283211</td><td>2022-06</td><td>0.18</td><td>161</td><td>35735.99</td><td>221.96</td><td>37305.41</td><td>64.32</td><td>-0.04</td></tr>\n",
       "<tr><td>10023283211</td><td>2022-07</td><td>0.18</td><td>193</td><td>40122.34</td><td>207.89</td><td>35735.99</td><td>72.22</td><td>0.12</td></tr>\n",
       "<tr><td>10023283211</td><td>2022-08</td><td>0.18</td><td>153</td><td>34724.53</td><td>226.96</td><td>40122.34</td><td>62.5</td><td>-0.13</td></tr>\n",
       "<tr><td>10142254217</td><td>2021-05</td><td>4.22</td><td>129</td><td>5649.34</td><td>43.79</td><td>4324.5</td><td>238.4</td><td>0.31</td></tr>\n",
       "<tr><td>10142254217</td><td>2021-06</td><td>4.22</td><td>135</td><td>5920.89</td><td>43.86</td><td>5649.34</td><td>249.86</td><td>0.05</td></tr>\n",
       "<tr><td>10142254217</td><td>2021-07</td><td>4.22</td><td>144</td><td>5753.95</td><td>39.96</td><td>5920.89</td><td>242.82</td><td>-0.03</td></tr>\n",
       "<tr><td>10142254217</td><td>2021-08</td><td>4.22</td><td>128</td><td>5137.62</td><td>40.14</td><td>5753.95</td><td>216.81</td><td>-0.11</td></tr>\n",
       "</table>\n",
       "only showing top 20 rows\n"
      ],
      "text/plain": [
       "+------------+-----------+---------+----------+--------+-----------------+-----------+---------------+--------------+\n",
       "|merchant_abn|order_month|take_rate|num_orders| revenue|revenue_per_order|revenue_lag|expected_profit|revenue_growth|\n",
       "+------------+-----------+---------+----------+--------+-----------------+-----------+---------------+--------------+\n",
       "| 10023283211|    2021-05|     0.18|       144|30111.88|           209.11|   27622.34|           54.2|          0.09|\n",
       "| 10023283211|    2021-06|     0.18|       145|28790.43|           198.55|   30111.88|          51.82|         -0.04|\n",
       "| 10023283211|    2021-07|     0.18|       153|29430.73|           192.36|   28790.43|          52.98|          0.02|\n",
       "| 10023283211|    2021-08|     0.18|       146|32118.49|           219.99|   29430.73|          57.81|          0.09|\n",
       "| 10023283211|    2021-09|     0.18|       175|34755.78|            198.6|   32118.49|          62.56|          0.08|\n",
       "| 10023283211|    2021-10|     0.18|       169|39993.29|           236.65|   34755.78|          71.99|          0.15|\n",
       "| 10023283211|    2021-11|     0.18|       217|48435.09|            223.2|   39993.29|          87.18|          0.21|\n",
       "| 10023283211|    2021-12|     0.18|       211|45068.95|            213.6|   48435.09|          81.12|         -0.07|\n",
       "| 10023283211|    2022-01|     0.18|       128|29431.27|           229.93|   45068.95|          52.98|         -0.35|\n",
       "| 10023283211|    2022-02|     0.18|       134|31489.46|            235.0|   29431.27|          56.68|          0.07|\n",
       "| 10023283211|    2022-03|     0.18|       150|32456.53|           216.38|   31489.46|          58.42|          0.03|\n",
       "| 10023283211|    2022-04|     0.18|       168|36365.14|           216.46|   32456.53|          65.46|          0.12|\n",
       "| 10023283211|    2022-05|     0.18|       178|37305.41|           209.58|   36365.14|          67.15|          0.03|\n",
       "| 10023283211|    2022-06|     0.18|       161|35735.99|           221.96|   37305.41|          64.32|         -0.04|\n",
       "| 10023283211|    2022-07|     0.18|       193|40122.34|           207.89|   35735.99|          72.22|          0.12|\n",
       "| 10023283211|    2022-08|     0.18|       153|34724.53|           226.96|   40122.34|           62.5|         -0.13|\n",
       "| 10142254217|    2021-05|     4.22|       129| 5649.34|            43.79|     4324.5|          238.4|          0.31|\n",
       "| 10142254217|    2021-06|     4.22|       135| 5920.89|            43.86|    5649.34|         249.86|          0.05|\n",
       "| 10142254217|    2021-07|     4.22|       144| 5753.95|            39.96|    5920.89|         242.82|         -0.03|\n",
       "| 10142254217|    2021-08|     4.22|       128| 5137.62|            40.14|    5753.95|         216.81|         -0.11|\n",
       "+------------+-----------+---------+----------+--------+-----------------+-----------+---------------+--------------+\n",
       "only showing top 20 rows"
      ]
     },
     "execution_count": 27,
     "metadata": {},
     "output_type": "execute_result"
    }
   ],
   "source": [
    "agg_transactions"
   ]
  },
  {
   "cell_type": "code",
   "execution_count": 12,
   "metadata": {},
   "outputs": [],
   "source": [
    "merchant_avg_growth = agg_transactions.groupBy(\"merchant_abn\").agg(\n",
    "    F.round(F.mean(\"revenue_growth\"),2).alias(\"avg_growth\")\n",
    ").orderBy(\"merchant_abn\", ascending=True)"
   ]
  }
 ],
 "metadata": {
  "kernelspec": {
   "display_name": "Python 3",
   "language": "python",
   "name": "python3"
  },
  "language_info": {
   "codemirror_mode": {
    "name": "ipython",
    "version": 3
   },
   "file_extension": ".py",
   "mimetype": "text/x-python",
   "name": "python",
   "nbconvert_exporter": "python",
   "pygments_lexer": "ipython3",
   "version": "3.8.10"
  }
 },
 "nbformat": 4,
 "nbformat_minor": 2
}

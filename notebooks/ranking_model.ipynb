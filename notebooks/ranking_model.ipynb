{
 "cells": [
  {
   "cell_type": "code",
   "execution_count": 1,
   "metadata": {},
   "outputs": [],
   "source": [
    "from pyspark.sql import functions as F, SparkSession, Window\n",
    "import pandas as pd"
   ]
  },
  {
   "cell_type": "code",
   "execution_count": 2,
   "metadata": {},
   "outputs": [
    {
     "name": "stderr",
     "output_type": "stream",
     "text": [
      "24/09/30 22:03:19 WARN Utils: Your hostname, DESKTOP-H6V94HM resolves to a loopback address: 127.0.1.1; using 192.168.0.236 instead (on interface wifi0)\n",
      "24/09/30 22:03:19 WARN Utils: Set SPARK_LOCAL_IP if you need to bind to another address\n",
      "Setting default log level to \"WARN\".\n",
      "To adjust logging level use sc.setLogLevel(newLevel). For SparkR, use setLogLevel(newLevel).\n",
      "24/09/30 22:03:20 WARN NativeCodeLoader: Unable to load native-hadoop library for your platform... using builtin-java classes where applicable\n"
     ]
    }
   ],
   "source": [
    "#  Create a Spark Session\n",
    "spark = (\n",
    "    SparkSession.builder.appName(\"Ranking Model\")\n",
    "    .config(\"spark.sql.repl.eagerEval.enabled\", True)\n",
    "    .config(\"spark.sql.parquet.cacheMetadata\", \"true\")\n",
    "    .config(\"spark.sql.session.timeZone\", \"Etc/UTC\")\n",
    "    .config(\"spark.driver.memory\", \"4g\")\n",
    "    .config(\"spark.executor.memory\", \"2g\")\n",
    "    .getOrCreate()\n",
    ")"
   ]
  },
  {
   "cell_type": "markdown",
   "metadata": {},
   "source": [
    "# Feature engineering"
   ]
  },
  {
   "cell_type": "code",
   "execution_count": 3,
   "metadata": {},
   "outputs": [
    {
     "name": "stderr",
     "output_type": "stream",
     "text": [
      "                                                                                \r"
     ]
    }
   ],
   "source": [
    "transactions = spark.read.parquet(f\"../data/curated/transactions.parquet\")\n",
    "transactions = transactions.withColumn(\"order_month\", F.date_format(F.col(\"order_datetime\"), \"yyyy-MM\"))"
   ]
  },
  {
   "cell_type": "code",
   "execution_count": 4,
   "metadata": {},
   "outputs": [
    {
     "data": {
      "text/html": [
       "<table border='1'>\n",
       "<tr><th>merchant_abn</th><th>order_datetime</th><th>consumer_id</th><th>dollar_value</th><th>order_id</th><th>consumer_fp</th><th>merchant_fp</th><th>name</th><th>category</th><th>revenue_level</th><th>take_rate</th><th>order_month</th></tr>\n",
       "<tr><td>19854089605</td><td>2021-08-19</td><td>285333</td><td>244.11185528431417</td><td>ab5d50f5-cf77-47f...</td><td>NULL</td><td>NULL</td><td>Aenean Massa Indu...</td><td>gift, card, novel...</td><td>b</td><td>3.15</td><td>2021-08</td></tr>\n",
       "</table>\n"
      ],
      "text/plain": [
       "+------------+--------------+-----------+------------------+--------------------+-----------+-----------+--------------------+--------------------+-------------+---------+-----------+\n",
       "|merchant_abn|order_datetime|consumer_id|      dollar_value|            order_id|consumer_fp|merchant_fp|                name|            category|revenue_level|take_rate|order_month|\n",
       "+------------+--------------+-----------+------------------+--------------------+-----------+-----------+--------------------+--------------------+-------------+---------+-----------+\n",
       "| 19854089605|    2021-08-19|     285333|244.11185528431417|ab5d50f5-cf77-47f...|       NULL|       NULL|Aenean Massa Indu...|gift, card, novel...|            b|     3.15|    2021-08|\n",
       "+------------+--------------+-----------+------------------+--------------------+-----------+-----------+--------------------+--------------------+-------------+---------+-----------+"
      ]
     },
     "execution_count": 4,
     "metadata": {},
     "output_type": "execute_result"
    }
   ],
   "source": [
    "transactions.limit(1)"
   ]
  },
  {
   "cell_type": "code",
   "execution_count": null,
   "metadata": {},
   "outputs": [],
   "source": []
  },
  {
   "cell_type": "markdown",
   "metadata": {},
   "source": [
    "We think that the forecasted revenue of each month for each merchant will be useful in determining if we should onboard the merchant to the BNPL firm as it's an indication of future growth. The growth in number of orders each month might also be important."
   ]
  },
  {
   "cell_type": "code",
   "execution_count": 5,
   "metadata": {},
   "outputs": [],
   "source": [
    "# Aggregate the data into desired format\n",
    "agg_transactions = transactions.groupBy(\"merchant_abn\", \"order_month\", \"take_rate\").agg(\n",
    "    F.count(F.col(\"order_id\")).alias(\"num_orders\"),\n",
    "    F.round(F.sum('dollar_value'), 2).alias('revenue'),\n",
    "    F.round(F.mean(F.col(\"dollar_value\")),2).alias(\"revenue_per_order\")\n",
    ")\n",
    "agg_transactions = agg_transactions.orderBy([\"merchant_abn\", \"order_month\"], ascending = [False, True])\n",
    "\n",
    "# Partition the data based on merchant ABN and compute lag variables for each specific partition\n",
    "merchant_partition = Window.partitionBy(\"merchant_abn\").orderBy(\"order_month\")\n",
    "agg_transactions = agg_transactions.withColumns({\n",
    "    \"revenue_lag\": F.lag(\"revenue\").over(merchant_partition),\n",
    "    \"expected_profit\": F.round(F.col(\"revenue\") * F.col(\"take_rate\")/100,2)\n",
    "    })\n",
    "agg_transactions = agg_transactions.withColumn(\"revenue_growth\",\n",
    "                                               F.when(F.col(\"revenue_lag\").isNotNull(), F.round((F.col(\"revenue\") - F.col(\"revenue_lag\"))/F.col(\"revenue_lag\"), 2)).otherwise(None))"
   ]
  },
  {
   "cell_type": "markdown",
   "metadata": {},
   "source": [
    "We originally planned to use features such as firm value's using the Discounted Cash Flow model - assuming revenue is cash flow - and the Internal Rate of Return model. However, some merchants don't have consistent sales periods i.e. some sales periods are missing for some merchants. This situation would make the features unreliable and the comparision between merchants harder. Thus, we decide to assume that the missing sales records for periods are totally due to the merchant unable to make any sales during those period and is not because of data entry errors. We understand that there might be some merchants that only do business during certain period but looking from a perspective of a business, it's better to have merchants that have consistent sales."
   ]
  },
  {
   "cell_type": "code",
   "execution_count": 6,
   "metadata": {},
   "outputs": [
    {
     "name": "stderr",
     "output_type": "stream",
     "text": [
      "24/09/30 22:03:34 WARN RowBasedKeyValueBatch: Calling spill() on RowBasedKeyValueBatch. Will not spill but return 0.\n",
      "24/09/30 22:03:34 WARN RowBasedKeyValueBatch: Calling spill() on RowBasedKeyValueBatch. Will not spill but return 0.\n",
      "24/09/30 22:03:34 WARN RowBasedKeyValueBatch: Calling spill() on RowBasedKeyValueBatch. Will not spill but return 0.\n",
      "                                                                                \r"
     ]
    },
    {
     "name": "stdout",
     "output_type": "stream",
     "text": [
      "Number of merchants with complete sales records: 3194\n"
     ]
    },
    {
     "name": "stderr",
     "output_type": "stream",
     "text": [
      "                                                                                \r"
     ]
    },
    {
     "name": "stdout",
     "output_type": "stream",
     "text": [
      "Number of entries before removing merchants with missing sales records: 67331\n"
     ]
    },
    {
     "name": "stderr",
     "output_type": "stream",
     "text": [
      "                                                                                \r"
     ]
    },
    {
     "name": "stdout",
     "output_type": "stream",
     "text": [
      "Number of entries after removing merchants with missing sales records: 51104\n"
     ]
    }
   ],
   "source": [
    "# Create a dataframe that store the valid date range of the data\n",
    "months = pd.date_range(start=\"2021-05-01\", end=\"2022-08-31\", freq='MS').strftime('%Y-%m').tolist()\n",
    "months_df = spark.createDataFrame([(month,) for month in months], [\"order_month\"])\n",
    "\n",
    "# Join with the transactions dataframe\n",
    "transactions_correct_months = transactions.join(months_df, on= ['order_month'], how = 'right')\n",
    "\n",
    "# Get the list of merchants with complete sales records\n",
    "complete_merchants = transactions_correct_months.groupBy(\"merchant_abn\").agg(F.countDistinct(\"order_month\")\\\n",
    "                                                                             .alias(\"month_count\")).filter(F.col(\"month_count\") == len(months)).select(\"merchant_abn\")\n",
    "print(f\"Number of merchants with complete sales records: {complete_merchants.count()}\")\n",
    "\n",
    "# Select the merchants with complete sales records from the aggregated sales \n",
    "print(f\"Number of entries before removing merchants with missing sales records: {agg_transactions.count()}\")\n",
    "agg_transactions = agg_transactions.join(complete_merchants, on='merchant_abn', how='inner')\n",
    "agg_transactions = agg_transactions.filter(\"2021-05\" <= F.col(\"order_month\")).orderBy(['merchant_abn', 'order_month'],\n",
    "                                                                                      ascending = [True, True])\n",
    "print(f\"Number of entries after removing merchants with missing sales records: {agg_transactions.count()}\")"
   ]
  },
  {
   "cell_type": "code",
   "execution_count": 7,
   "metadata": {},
   "outputs": [
    {
     "name": "stderr",
     "output_type": "stream",
     "text": [
      "24/09/30 22:04:04 WARN RowBasedKeyValueBatch: Calling spill() on RowBasedKeyValueBatch. Will not spill but return 0.\n",
      "24/09/30 22:04:04 WARN RowBasedKeyValueBatch: Calling spill() on RowBasedKeyValueBatch. Will not spill but return 0.\n",
      "24/09/30 22:04:04 WARN RowBasedKeyValueBatch: Calling spill() on RowBasedKeyValueBatch. Will not spill but return 0.\n",
      "24/09/30 22:04:17 WARN RowBasedKeyValueBatch: Calling spill() on RowBasedKeyValueBatch. Will not spill but return 0.\n",
      "24/09/30 22:04:17 WARN RowBasedKeyValueBatch: Calling spill() on RowBasedKeyValueBatch. Will not spill but return 0.\n",
      "24/09/30 22:04:17 WARN RowBasedKeyValueBatch: Calling spill() on RowBasedKeyValueBatch. Will not spill but return 0.\n",
      "                                                                                \r"
     ]
    },
    {
     "data": {
      "text/html": [
       "<table border='1'>\n",
       "<tr><th>merchant_abn</th><th>order_month</th><th>take_rate</th><th>num_orders</th><th>revenue</th><th>revenue_per_order</th><th>revenue_lag</th><th>expected_profit</th><th>revenue_growth</th></tr>\n",
       "<tr><td>10023283211</td><td>2021-05</td><td>0.18</td><td>144</td><td>30111.88</td><td>209.11</td><td>27622.34</td><td>54.2</td><td>0.09</td></tr>\n",
       "<tr><td>10023283211</td><td>2021-06</td><td>0.18</td><td>145</td><td>28790.43</td><td>198.55</td><td>30111.88</td><td>51.82</td><td>-0.04</td></tr>\n",
       "<tr><td>10023283211</td><td>2021-07</td><td>0.18</td><td>153</td><td>29430.73</td><td>192.36</td><td>28790.43</td><td>52.98</td><td>0.02</td></tr>\n",
       "<tr><td>10023283211</td><td>2021-08</td><td>0.18</td><td>146</td><td>32118.49</td><td>219.99</td><td>29430.73</td><td>57.81</td><td>0.09</td></tr>\n",
       "<tr><td>10023283211</td><td>2021-09</td><td>0.18</td><td>175</td><td>34755.78</td><td>198.6</td><td>32118.49</td><td>62.56</td><td>0.08</td></tr>\n",
       "<tr><td>10023283211</td><td>2021-10</td><td>0.18</td><td>169</td><td>39993.29</td><td>236.65</td><td>34755.78</td><td>71.99</td><td>0.15</td></tr>\n",
       "<tr><td>10023283211</td><td>2021-11</td><td>0.18</td><td>217</td><td>48435.09</td><td>223.2</td><td>39993.29</td><td>87.18</td><td>0.21</td></tr>\n",
       "<tr><td>10023283211</td><td>2021-12</td><td>0.18</td><td>211</td><td>45068.95</td><td>213.6</td><td>48435.09</td><td>81.12</td><td>-0.07</td></tr>\n",
       "<tr><td>10023283211</td><td>2022-01</td><td>0.18</td><td>128</td><td>29431.27</td><td>229.93</td><td>45068.95</td><td>52.98</td><td>-0.35</td></tr>\n",
       "<tr><td>10023283211</td><td>2022-02</td><td>0.18</td><td>134</td><td>31489.46</td><td>235.0</td><td>29431.27</td><td>56.68</td><td>0.07</td></tr>\n",
       "<tr><td>10023283211</td><td>2022-03</td><td>0.18</td><td>150</td><td>32456.53</td><td>216.38</td><td>31489.46</td><td>58.42</td><td>0.03</td></tr>\n",
       "<tr><td>10023283211</td><td>2022-04</td><td>0.18</td><td>168</td><td>36365.14</td><td>216.46</td><td>32456.53</td><td>65.46</td><td>0.12</td></tr>\n",
       "<tr><td>10023283211</td><td>2022-05</td><td>0.18</td><td>178</td><td>37305.41</td><td>209.58</td><td>36365.14</td><td>67.15</td><td>0.03</td></tr>\n",
       "<tr><td>10023283211</td><td>2022-06</td><td>0.18</td><td>161</td><td>35735.99</td><td>221.96</td><td>37305.41</td><td>64.32</td><td>-0.04</td></tr>\n",
       "<tr><td>10023283211</td><td>2022-07</td><td>0.18</td><td>193</td><td>40122.34</td><td>207.89</td><td>35735.99</td><td>72.22</td><td>0.12</td></tr>\n",
       "<tr><td>10023283211</td><td>2022-08</td><td>0.18</td><td>153</td><td>34724.53</td><td>226.96</td><td>40122.34</td><td>62.5</td><td>-0.13</td></tr>\n",
       "<tr><td>10142254217</td><td>2021-05</td><td>4.22</td><td>129</td><td>5649.34</td><td>43.79</td><td>4324.5</td><td>238.4</td><td>0.31</td></tr>\n",
       "<tr><td>10142254217</td><td>2021-06</td><td>4.22</td><td>135</td><td>5920.89</td><td>43.86</td><td>5649.34</td><td>249.86</td><td>0.05</td></tr>\n",
       "<tr><td>10142254217</td><td>2021-07</td><td>4.22</td><td>144</td><td>5753.95</td><td>39.96</td><td>5920.89</td><td>242.82</td><td>-0.03</td></tr>\n",
       "<tr><td>10142254217</td><td>2021-08</td><td>4.22</td><td>128</td><td>5137.62</td><td>40.14</td><td>5753.95</td><td>216.81</td><td>-0.11</td></tr>\n",
       "</table>\n",
       "only showing top 20 rows\n"
      ],
      "text/plain": [
       "+------------+-----------+---------+----------+--------+-----------------+-----------+---------------+--------------+\n",
       "|merchant_abn|order_month|take_rate|num_orders| revenue|revenue_per_order|revenue_lag|expected_profit|revenue_growth|\n",
       "+------------+-----------+---------+----------+--------+-----------------+-----------+---------------+--------------+\n",
       "| 10023283211|    2021-05|     0.18|       144|30111.88|           209.11|   27622.34|           54.2|          0.09|\n",
       "| 10023283211|    2021-06|     0.18|       145|28790.43|           198.55|   30111.88|          51.82|         -0.04|\n",
       "| 10023283211|    2021-07|     0.18|       153|29430.73|           192.36|   28790.43|          52.98|          0.02|\n",
       "| 10023283211|    2021-08|     0.18|       146|32118.49|           219.99|   29430.73|          57.81|          0.09|\n",
       "| 10023283211|    2021-09|     0.18|       175|34755.78|            198.6|   32118.49|          62.56|          0.08|\n",
       "| 10023283211|    2021-10|     0.18|       169|39993.29|           236.65|   34755.78|          71.99|          0.15|\n",
       "| 10023283211|    2021-11|     0.18|       217|48435.09|            223.2|   39993.29|          87.18|          0.21|\n",
       "| 10023283211|    2021-12|     0.18|       211|45068.95|            213.6|   48435.09|          81.12|         -0.07|\n",
       "| 10023283211|    2022-01|     0.18|       128|29431.27|           229.93|   45068.95|          52.98|         -0.35|\n",
       "| 10023283211|    2022-02|     0.18|       134|31489.46|            235.0|   29431.27|          56.68|          0.07|\n",
       "| 10023283211|    2022-03|     0.18|       150|32456.53|           216.38|   31489.46|          58.42|          0.03|\n",
       "| 10023283211|    2022-04|     0.18|       168|36365.14|           216.46|   32456.53|          65.46|          0.12|\n",
       "| 10023283211|    2022-05|     0.18|       178|37305.41|           209.58|   36365.14|          67.15|          0.03|\n",
       "| 10023283211|    2022-06|     0.18|       161|35735.99|           221.96|   37305.41|          64.32|         -0.04|\n",
       "| 10023283211|    2022-07|     0.18|       193|40122.34|           207.89|   35735.99|          72.22|          0.12|\n",
       "| 10023283211|    2022-08|     0.18|       153|34724.53|           226.96|   40122.34|           62.5|         -0.13|\n",
       "| 10142254217|    2021-05|     4.22|       129| 5649.34|            43.79|     4324.5|          238.4|          0.31|\n",
       "| 10142254217|    2021-06|     4.22|       135| 5920.89|            43.86|    5649.34|         249.86|          0.05|\n",
       "| 10142254217|    2021-07|     4.22|       144| 5753.95|            39.96|    5920.89|         242.82|         -0.03|\n",
       "| 10142254217|    2021-08|     4.22|       128| 5137.62|            40.14|    5753.95|         216.81|         -0.11|\n",
       "+------------+-----------+---------+----------+--------+-----------------+-----------+---------------+--------------+\n",
       "only showing top 20 rows"
      ]
     },
     "execution_count": 7,
     "metadata": {},
     "output_type": "execute_result"
    }
   ],
   "source": [
    "agg_transactions"
   ]
  },
  {
   "cell_type": "code",
   "execution_count": 10,
   "metadata": {},
   "outputs": [],
   "source": [
    "merchant_avg_growth = agg_transactions.groupBy(\"merchant_abn\").agg(\n",
    "    F.round(F.mean(\"revenue_growth\"),2).alias(\"avg_growth\"),\n",
    "    F.round(F.mean(\"expected_profit\"), 2).alias('avg_monthly_expected_profit'),\n",
    "    F.round(F.mean(\"revenue_per_order\"),2).alias('avg_monthly_revenue_per_order'),\n",
    "    F.round(F.mean('num_orders'), 2).alias('avg_monthly_num_order')\n",
    ").orderBy(\"merchant_abn\", ascending=True)"
   ]
  },
  {
   "cell_type": "code",
   "execution_count": 11,
   "metadata": {},
   "outputs": [
    {
     "name": "stderr",
     "output_type": "stream",
     "text": [
      "24/09/30 22:07:41 WARN RowBasedKeyValueBatch: Calling spill() on RowBasedKeyValueBatch. Will not spill but return 0.\n",
      "24/09/30 22:07:41 WARN RowBasedKeyValueBatch: Calling spill() on RowBasedKeyValueBatch. Will not spill but return 0.\n",
      "24/09/30 22:07:41 WARN RowBasedKeyValueBatch: Calling spill() on RowBasedKeyValueBatch. Will not spill but return 0.\n",
      "                                                                                \r"
     ]
    },
    {
     "data": {
      "text/html": [
       "<table border='1'>\n",
       "<tr><th>merchant_abn</th><th>avg_growth</th><th>avg_monthly_expected_profit</th><th>avg_monthly_revenue_per_order</th><th>avg_monthly_num_order</th></tr>\n",
       "<tr><td>10023283211</td><td>0.02</td><td>63.71</td><td>216.01</td><td>164.06</td></tr>\n",
       "<tr><td>10142254217</td><td>0.05</td><td>248.76</td><td>40.01</td><td>147.56</td></tr>\n",
       "<tr><td>10187291046</td><td>0.05</td><td>64.28</td><td>120.95</td><td>16.38</td></tr>\n",
       "<tr><td>10192359162</td><td>0.19</td><td>534.56</td><td>444.36</td><td>18.88</td></tr>\n",
       "<tr><td>10206519221</td><td>0.03</td><td>1129.8</td><td>37.85</td><td>469.31</td></tr>\n",
       "<tr><td>10255988167</td><td>0.12</td><td>702.47</td><td>389.96</td><td>41.63</td></tr>\n",
       "<tr><td>10264435225</td><td>0.04</td><td>700.22</td><td>116.12</td><td>251.75</td></tr>\n",
       "<tr><td>10279061213</td><td>0.07</td><td>481.16</td><td>297.37</td><td>28.31</td></tr>\n",
       "<tr><td>10323485998</td><td>0.04</td><td>4453.99</td><td>128.58</td><td>524.13</td></tr>\n",
       "<tr><td>10342410215</td><td>0.02</td><td>1045.22</td><td>386.85</td><td>43.0</td></tr>\n",
       "<tr><td>10385163239</td><td>0.67</td><td>85.72</td><td>365.48</td><td>3.63</td></tr>\n",
       "<tr><td>10385250025</td><td>0.09</td><td>942.36</td><td>492.37</td><td>34.19</td></tr>\n",
       "<tr><td>10430380319</td><td>0.15</td><td>133.93</td><td>356.11</td><td>7.69</td></tr>\n",
       "<tr><td>10462560289</td><td>0.04</td><td>88.75</td><td>37.64</td><td>80.38</td></tr>\n",
       "<tr><td>10463252268</td><td>0.71</td><td>130.16</td><td>615.8</td><td>3.63</td></tr>\n",
       "<tr><td>10487253336</td><td>0.04</td><td>2200.12</td><td>445.87</td><td>125.94</td></tr>\n",
       "<tr><td>10530696903</td><td>0.12</td><td>961.41</td><td>424.78</td><td>35.0</td></tr>\n",
       "<tr><td>10545955006</td><td>0.1</td><td>636.98</td><td>454.63</td><td>22.81</td></tr>\n",
       "<tr><td>10553813474</td><td>0.03</td><td>522.2</td><td>294.63</td><td>41.25</td></tr>\n",
       "<tr><td>10596295795</td><td>0.29</td><td>4359.47</td><td>11298.48</td><td>5.75</td></tr>\n",
       "</table>\n",
       "only showing top 20 rows\n"
      ],
      "text/plain": [
       "+------------+----------+---------------------------+-----------------------------+---------------------+\n",
       "|merchant_abn|avg_growth|avg_monthly_expected_profit|avg_monthly_revenue_per_order|avg_monthly_num_order|\n",
       "+------------+----------+---------------------------+-----------------------------+---------------------+\n",
       "| 10023283211|      0.02|                      63.71|                       216.01|               164.06|\n",
       "| 10142254217|      0.05|                     248.76|                        40.01|               147.56|\n",
       "| 10187291046|      0.05|                      64.28|                       120.95|                16.38|\n",
       "| 10192359162|      0.19|                     534.56|                       444.36|                18.88|\n",
       "| 10206519221|      0.03|                     1129.8|                        37.85|               469.31|\n",
       "| 10255988167|      0.12|                     702.47|                       389.96|                41.63|\n",
       "| 10264435225|      0.04|                     700.22|                       116.12|               251.75|\n",
       "| 10279061213|      0.07|                     481.16|                       297.37|                28.31|\n",
       "| 10323485998|      0.04|                    4453.99|                       128.58|               524.13|\n",
       "| 10342410215|      0.02|                    1045.22|                       386.85|                 43.0|\n",
       "| 10385163239|      0.67|                      85.72|                       365.48|                 3.63|\n",
       "| 10385250025|      0.09|                     942.36|                       492.37|                34.19|\n",
       "| 10430380319|      0.15|                     133.93|                       356.11|                 7.69|\n",
       "| 10462560289|      0.04|                      88.75|                        37.64|                80.38|\n",
       "| 10463252268|      0.71|                     130.16|                        615.8|                 3.63|\n",
       "| 10487253336|      0.04|                    2200.12|                       445.87|               125.94|\n",
       "| 10530696903|      0.12|                     961.41|                       424.78|                 35.0|\n",
       "| 10545955006|       0.1|                     636.98|                       454.63|                22.81|\n",
       "| 10553813474|      0.03|                      522.2|                       294.63|                41.25|\n",
       "| 10596295795|      0.29|                    4359.47|                     11298.48|                 5.75|\n",
       "+------------+----------+---------------------------+-----------------------------+---------------------+\n",
       "only showing top 20 rows"
      ]
     },
     "execution_count": 11,
     "metadata": {},
     "output_type": "execute_result"
    }
   ],
   "source": [
    "merchant_avg_growth"
   ]
  }
 ],
 "metadata": {
  "kernelspec": {
   "display_name": "Python 3",
   "language": "python",
   "name": "python3"
  },
  "language_info": {
   "codemirror_mode": {
    "name": "ipython",
    "version": 3
   },
   "file_extension": ".py",
   "mimetype": "text/x-python",
   "name": "python",
   "nbconvert_exporter": "python",
   "pygments_lexer": "ipython3",
   "version": "3.8.10"
  }
 },
 "nbformat": 4,
 "nbformat_minor": 2
}

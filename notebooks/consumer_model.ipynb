{
 "cells": [
  {
   "cell_type": "code",
   "execution_count": 1,
   "metadata": {},
   "outputs": [],
   "source": [
    "from pyspark.sql import functions as F, SparkSession"
   ]
  },
  {
   "cell_type": "code",
   "execution_count": 2,
   "metadata": {},
   "outputs": [
    {
     "name": "stderr",
     "output_type": "stream",
     "text": [
      "24/09/08 09:39:07 WARN Utils: Your hostname, qinsitaodeMacBook-Air.local resolves to a loopback address: 127.0.0.1; using 100.92.15.134 instead (on interface en0)\n",
      "24/09/08 09:39:07 WARN Utils: Set SPARK_LOCAL_IP if you need to bind to another address\n",
      "Setting default log level to \"WARN\".\n",
      "To adjust logging level use sc.setLogLevel(newLevel). For SparkR, use setLogLevel(newLevel).\n",
      "24/09/08 09:39:08 WARN NativeCodeLoader: Unable to load native-hadoop library for your platform... using builtin-java classes where applicable\n"
     ]
    }
   ],
   "source": [
    "# Create a Spark Session\n",
    "spark = (\n",
    "    SparkSession.builder.appName(\"consumer model\")\n",
    "    .config(\"spark.sql.repl.eagerEval.enabled\", True)\n",
    "    .config(\"spark.sql.parquet.cacheMetadata\", \"true\")\n",
    "    .config(\"spark.sql.session.timeZone\", \"Etc/UTC\")\n",
    "    .config(\"spark.driver.memory\", \"4g\")\n",
    "    .config(\"spark.execturo.memory\", \"2g\")\n",
    "    .getOrCreate()\n",
    ")"
   ]
  },
  {
   "cell_type": "code",
   "execution_count": 21,
   "metadata": {},
   "outputs": [],
   "source": [
    "# Load data\n",
    "consumer_info = spark.read.parquet('../data/curated/consumer_info.parquet')\n",
    "transaction_records = spark.read.parquet('../data/curated/transaction_records.parquet')\n",
    "fraudulent_consumer_rate = spark.read.parquet('../data/curated/consumer_fraud_rate.parquet')"
   ]
  },
  {
   "cell_type": "code",
   "execution_count": 58,
   "metadata": {},
   "outputs": [],
   "source": [
    "fraudulent_consumer_with_info = consumer_info.join(fraudulent_consumer_rate, on=\"consumer_id\", how=\"inner\")\n"
   ]
  },
  {
   "cell_type": "code",
   "execution_count": 71,
   "metadata": {},
   "outputs": [],
   "source": [
    "# Average fraud probability in each postcode or state\n",
    "fraudulent_consumer_group_by_postcode = fraudulent_consumer_with_info.groupBy([\"postcode\"]).agg(F.avg(\"fraud_probability\").alias(\"average_fraud_prob_of_postcode\"))\n",
    "\n",
    "fraudulent_consumer_group_by_state = fraudulent_consumer_with_info.groupBy([\"state\"]).agg(F.avg(\"fraud_probability\").alias(\"average_fraud_prob_of_state\"))"
   ]
  },
  {
   "cell_type": "code",
   "execution_count": 22,
   "metadata": {},
   "outputs": [],
   "source": [
    "# Get average fraud prob for each consumer\n",
    "average_fraudulent_consumer_rate = fraudulent_consumer_rate.groupBy(\"consumer_id\").agg(F.avg(\"fraud_probability\").alias(\"average_fraud_probability\"))"
   ]
  },
  {
   "cell_type": "code",
   "execution_count": 35,
   "metadata": {},
   "outputs": [
    {
     "data": {
      "text/plain": [
       "34864"
      ]
     },
     "execution_count": 35,
     "metadata": {},
     "output_type": "execute_result"
    }
   ],
   "source": [
    "fraudulent_consumer_rate.count()"
   ]
  },
  {
   "cell_type": "code",
   "execution_count": 30,
   "metadata": {},
   "outputs": [
    {
     "data": {
      "text/plain": [
       "20128"
      ]
     },
     "execution_count": 30,
     "metadata": {},
     "output_type": "execute_result"
    }
   ],
   "source": [
    "# number of unique available fraudulent consumer\n",
    "average_fraudulent_consumer_rate.where(average_fraudulent_consumer_rate[\"average_fraud_probability\"]>0).count()"
   ]
  },
  {
   "cell_type": "code",
   "execution_count": 4,
   "metadata": {},
   "outputs": [],
   "source": [
    "# Add consumer info to transaction records\n",
    "consumer_transaction_records = transaction_records.join(consumer_info, on=\"consumer_id\", how=\"inner\")"
   ]
  },
  {
   "cell_type": "code",
   "execution_count": null,
   "metadata": {},
   "outputs": [],
   "source": [
    "# order has really high variance and value\n",
    "consumer_transaction_records.select(\"dollar_value\").summary()"
   ]
  },
  {
   "cell_type": "code",
   "execution_count": 48,
   "metadata": {},
   "outputs": [],
   "source": [
    "# analysis order value, consider the variance of order value and purchase frequency\n",
    "consumer_transaction_value_analysis =  consumer_transaction_records.groupBy(\"consumer_id\", \"state\", \"postcode\") \\\n",
    "                                        .agg(\n",
    "                                            F.avg(\"dollar_value\").alias(\"average_dollar_value\"),\n",
    "                                            F.min(\"dollar_value\").alias(\"min_dollar_value\"),\n",
    "                                            F.max(\"dollar_value\").alias(\"max_dollar_value\"),\n",
    "                                            F.count(\"dollar_value\").alias(\"transaction_count\"),\n",
    "                                            F.stddev(\"dollar_value\").alias(\"stddev_dollar_value\")\n",
    "                                        )"
   ]
  },
  {
   "cell_type": "code",
   "execution_count": 78,
   "metadata": {},
   "outputs": [],
   "source": [
    "# Prepare data frame for modelling\n",
    "fraudulent_consumer_summary = average_fraudulent_consumer_rate \\\n",
    "    .join(consumer_transaction_value_analysis, on=\"consumer_id\", how=\"left\") \\\n",
    "    .join(fraudulent_consumer_group_by_postcode, on=\"postcode\", how=\"inner\") \\\n",
    "    .join(fraudulent_consumer_group_by_state, on=\"state\", how=\"inner\")"
   ]
  },
  {
   "cell_type": "code",
   "execution_count": 79,
   "metadata": {},
   "outputs": [
    {
     "name": "stderr",
     "output_type": "stream",
     "text": [
      "                                                                                \r"
     ]
    },
    {
     "data": {
      "text/plain": [
       "20128"
      ]
     },
     "execution_count": 79,
     "metadata": {},
     "output_type": "execute_result"
    }
   ],
   "source": [
    "fraudulent_consumer_summary\n"
   ]
  },
  {
   "cell_type": "code",
   "execution_count": 12,
   "metadata": {},
   "outputs": [
    {
     "data": {
      "text/html": [
       "<table border='1'>\n",
       "<tr><th>consumer_id</th><th>merchant_abn</th><th>dollar_value</th><th>order_id</th><th>order_datetime</th><th>name</th><th>gender</th><th>state</th><th>postcode</th></tr>\n",
       "<tr><td>1059280</td><td>79417999332</td><td>136.06570809815838</td><td>23acbb7b-cf98-458...</td><td>2021-11-26</td><td>Cameron Adams</td><td>Male</td><td>QLD</td><td>4563</td></tr>\n",
       "<tr><td>1195503</td><td>46451548968</td><td>72.61581642788431</td><td>76bab304-fa2d-400...</td><td>2021-11-26</td><td>Yolanda Williams</td><td>Female</td><td>WA</td><td>6935</td></tr>\n",
       "<tr><td>986886</td><td>89518629617</td><td>3.0783487174439297</td><td>a2ae446a-2959-41c...</td><td>2021-11-26</td><td>Maria Riley</td><td>Female</td><td>SA</td><td>5157</td></tr>\n",
       "<tr><td>1195503</td><td>49167531725</td><td>51.58228625503599</td><td>7080c274-17f7-4cc...</td><td>2021-11-26</td><td>Yolanda Williams</td><td>Female</td><td>WA</td><td>6935</td></tr>\n",
       "<tr><td>986886</td><td>31101120643</td><td>25.228114942417797</td><td>8e301c0f-06ab-45c...</td><td>2021-11-26</td><td>Maria Riley</td><td>Female</td><td>SA</td><td>5157</td></tr>\n",
       "<tr><td>179208</td><td>67978471888</td><td>691.5028234458998</td><td>0380e9ad-b0e8-420...</td><td>2021-11-26</td><td>Mary Smith</td><td>Female</td><td>NSW</td><td>2782</td></tr>\n",
       "<tr><td>986886</td><td>60956456424</td><td>102.13952056640888</td><td>5ac3da9c-5147-452...</td><td>2021-11-26</td><td>Maria Riley</td><td>Female</td><td>SA</td><td>5157</td></tr>\n",
       "<tr><td>179208</td><td>47644196714</td><td>644.5220654863093</td><td>4e368e44-86f8-4de...</td><td>2021-11-26</td><td>Mary Smith</td><td>Female</td><td>NSW</td><td>2782</td></tr>\n",
       "<tr><td>267457</td><td>39649557865</td><td>209.12780951421405</td><td>4d78cd01-4bab-494...</td><td>2021-11-26</td><td>Jasmine Ford</td><td>Undisclosed</td><td>NSW</td><td>2625</td></tr>\n",
       "<tr><td>1194530</td><td>88402174457</td><td>141.0387993699113</td><td>c50c957d-ecfc-430...</td><td>2021-11-26</td><td>Jill Jones MD</td><td>Female</td><td>NT</td><td>862</td></tr>\n",
       "<tr><td>267457</td><td>32234779638</td><td>102.04090324888061</td><td>e94ff357-b036-493...</td><td>2021-11-26</td><td>Jasmine Ford</td><td>Undisclosed</td><td>NSW</td><td>2625</td></tr>\n",
       "<tr><td>154128</td><td>24015173965</td><td>157.0</td><td>5b867ac9-d1e0-430...</td><td>2021-11-26</td><td>Lindsay Jimenez</td><td>Female</td><td>NSW</td><td>2780</td></tr>\n",
       "<tr><td>764252</td><td>79830510987</td><td>246.13590152514766</td><td>666909ed-79c2-45b...</td><td>2021-11-26</td><td>Cassandra Myers</td><td>Female</td><td>VIC</td><td>3885</td></tr>\n",
       "<tr><td>712975</td><td>76646764782</td><td>35.463129852951695</td><td>0c855413-67fa-467...</td><td>2021-11-26</td><td>Rebecca Blanchard</td><td>Female</td><td>WA</td><td>6355</td></tr>\n",
       "<tr><td>764252</td><td>17324645993</td><td>24.108258533478818</td><td>40fd2f7f-a274-420...</td><td>2021-11-26</td><td>Cassandra Myers</td><td>Female</td><td>VIC</td><td>3885</td></tr>\n",
       "<tr><td>712975</td><td>71041015148</td><td>89.76800577775657</td><td>93255de9-c8fe-426...</td><td>2021-11-26</td><td>Rebecca Blanchard</td><td>Female</td><td>WA</td><td>6355</td></tr>\n",
       "<tr><td>764252</td><td>75089928159</td><td>14.806519329659501</td><td>2c5ba1f3-1c5a-4e5...</td><td>2021-11-26</td><td>Cassandra Myers</td><td>Female</td><td>VIC</td><td>3885</td></tr>\n",
       "<tr><td>712975</td><td>80324045558</td><td>62.79195913018835</td><td>564f81c8-c3c1-4f4...</td><td>2021-11-26</td><td>Rebecca Blanchard</td><td>Female</td><td>WA</td><td>6355</td></tr>\n",
       "<tr><td>764252</td><td>50315283629</td><td>575.3321071340728</td><td>026c6d3d-4f7c-4f4...</td><td>2021-11-26</td><td>Cassandra Myers</td><td>Female</td><td>VIC</td><td>3885</td></tr>\n",
       "<tr><td>407340</td><td>11566786699</td><td>15.856637357709419</td><td>0230e104-aef0-48f...</td><td>2021-11-26</td><td>Karen Chapman</td><td>Female</td><td>NSW</td><td>2033</td></tr>\n",
       "</table>\n",
       "only showing top 20 rows\n"
      ],
      "text/plain": [
       "DataFrame[consumer_id: bigint, merchant_abn: bigint, dollar_value: double, order_id: string, order_datetime: date, name: string, gender: string, state: string, postcode: int]"
      ]
     },
     "execution_count": 12,
     "metadata": {},
     "output_type": "execute_result"
    }
   ],
   "source": [
    "consumer_transaction_records"
   ]
  },
  {
   "cell_type": "markdown",
   "metadata": {},
   "source": [
    "# Idea\n",
    "1. Time Frequency feature: https://ieeexplore.ieee.org/document/9399421/"
   ]
  }
 ],
 "metadata": {
  "kernelspec": {
   "display_name": "Python 3",
   "language": "python",
   "name": "python3"
  },
  "language_info": {
   "codemirror_mode": {
    "name": "ipython",
    "version": 3
   },
   "file_extension": ".py",
   "mimetype": "text/x-python",
   "name": "python",
   "nbconvert_exporter": "python",
   "pygments_lexer": "ipython3",
   "version": "3.11.6"
  }
 },
 "nbformat": 4,
 "nbformat_minor": 2
}

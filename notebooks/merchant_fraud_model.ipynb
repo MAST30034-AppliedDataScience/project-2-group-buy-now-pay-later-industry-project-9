{
 "cells": [
  {
   "cell_type": "code",
   "execution_count": 1,
   "metadata": {},
   "outputs": [],
   "source": [
    "from pyspark.sql import functions as F, SparkSession\n",
    "from pyspark.sql.types import IntegerType, LongType, DoubleType, StringType, DoubleType\n",
    "from urllib.request import urlretrieve\n",
    "\n",
    "import os\n",
    "os.sys.path.append(\"../\")\n",
    "from scripts.preliminary_analysis import *\n"
   ]
  },
  {
   "cell_type": "code",
   "execution_count": 2,
   "metadata": {},
   "outputs": [
    {
     "name": "stderr",
     "output_type": "stream",
     "text": [
      "24/09/16 20:22:44 WARN Utils: Your hostname, Alistairs-MacBook-Air.local resolves to a loopback address: 127.0.0.1; using 172.20.10.4 instead (on interface en0)\n",
      "24/09/16 20:22:44 WARN Utils: Set SPARK_LOCAL_IP if you need to bind to another address\n",
      "Setting default log level to \"WARN\".\n",
      "To adjust logging level use sc.setLogLevel(newLevel). For SparkR, use setLogLevel(newLevel).\n",
      "24/09/16 20:22:45 WARN NativeCodeLoader: Unable to load native-hadoop library for your platform... using builtin-java classes where applicable\n"
     ]
    }
   ],
   "source": [
    "spark = (\n",
    "    SparkSession.builder.appName(\"Merchant Fraud Model\")\n",
    "    .config(\"spark.sql.repl.eagerEval.enabled\", True)\n",
    "    .config(\"spark.sql.parquet.cacheMetadata\", \"true\")\n",
    "    .config(\"spark.sql.session.timeZone\", \"Etc/UTC\")\n",
    "    .config(\"spark.driver.memory\", \"4g\")\n",
    "    .config(\"spark.executor.memory\", \"2g\")\n",
    "    .getOrCreate()\n",
    ")"
   ]
  },
  {
   "cell_type": "code",
   "execution_count": 3,
   "metadata": {},
   "outputs": [],
   "source": [
    "url = \"https://www.abs.gov.au/statistics/people/people-and-communities/snapshot-australia/2021/Snapshot%20of%20Australia%20data%20summary.xlsx\"\n",
    "\n",
    "\n",
    "# urlretrieve(url, \"test.xlsx\")"
   ]
  },
  {
   "cell_type": "code",
   "execution_count": 4,
   "metadata": {},
   "outputs": [],
   "source": [
    "import requests"
   ]
  },
  {
   "cell_type": "code",
   "execution_count": 5,
   "metadata": {},
   "outputs": [],
   "source": [
    "with open('data.csv', 'w') as f_out:\n",
    "    f_out.write(requests.get(url).text)"
   ]
  },
  {
   "cell_type": "code",
   "execution_count": 6,
   "metadata": {},
   "outputs": [],
   "source": [
    "# ad = spark.read.parquet()"
   ]
  },
  {
   "cell_type": "markdown",
   "metadata": {},
   "source": [
    "## Read in the necessary curated data"
   ]
  },
  {
   "cell_type": "code",
   "execution_count": 7,
   "metadata": {},
   "outputs": [
    {
     "name": "stderr",
     "output_type": "stream",
     "text": [
      "                                                                                \r"
     ]
    }
   ],
   "source": [
    "path = \"../data/curated\"\n",
    "\n",
    "# Read merchant datasets in\n",
    "merchant_info = spark.read.parquet(f\"{path}/merchant_info.parquet\")\n",
    "merchant_fp = spark.read.parquet(f\"{path}/merchant_fraud_prob.parquet\")\n",
    "\n",
    "# Read in transactions dataset\n",
    "transactions = spark.read.parquet(f\"{path}/transactions.parquet\")"
   ]
  },
  {
   "cell_type": "markdown",
   "metadata": {},
   "source": [
    "## Join the necessary datasets"
   ]
  },
  {
   "cell_type": "code",
   "execution_count": 8,
   "metadata": {},
   "outputs": [
    {
     "name": "stdout",
     "output_type": "stream",
     "text": [
      "Original dataset:\n",
      "The dataset count is  12561377\n",
      "\n",
      "\n",
      "After merchant_fp join:\n"
     ]
    },
    {
     "name": "stderr",
     "output_type": "stream",
     "text": [
      "                                                                                \r"
     ]
    },
    {
     "name": "stdout",
     "output_type": "stream",
     "text": [
      "The dataset count is  12561377\n",
      "+------------+--------------+------------------+--------------------+-----------+-----------------+\n",
      "|merchant_abn|order_datetime|      dollar_value|            order_id|consumer_id|fraud_probability|\n",
      "+------------+--------------+------------------+--------------------+-----------+-----------------+\n",
      "| 79417999332|    2021-11-26|136.06570809815838|23acbb7b-cf98-458...|    1059280|             NULL|\n",
      "| 46451548968|    2021-11-26| 72.61581642788431|76bab304-fa2d-400...|    1195503|             NULL|\n",
      "| 89518629617|    2021-11-26|3.0783487174439297|a2ae446a-2959-41c...|     986886|             NULL|\n",
      "| 49167531725|    2021-11-26| 51.58228625503599|7080c274-17f7-4cc...|    1195503|             NULL|\n",
      "| 31101120643|    2021-11-26|25.228114942417797|8e301c0f-06ab-45c...|     986886|             NULL|\n",
      "+------------+--------------+------------------+--------------------+-----------+-----------------+\n",
      "only showing top 5 rows\n",
      "\n"
     ]
    },
    {
     "name": "stderr",
     "output_type": "stream",
     "text": [
      "                                                                                \r"
     ]
    },
    {
     "name": "stdout",
     "output_type": "stream",
     "text": [
      "+--------------------------+----------------------------+--------------------------+----------------------+-------------------------+-------------------------------+\n",
      "|merchant_abn_missing_count|order_datetime_missing_count|dollar_value_missing_count|order_id_missing_count|consumer_id_missing_count|fraud_probability_missing_count|\n",
      "+--------------------------+----------------------------+--------------------------+----------------------+-------------------------+-------------------------------+\n",
      "|                         0|                           0|                         0|                     0|                        0|                       12557318|\n",
      "+--------------------------+----------------------------+--------------------------+----------------------+-------------------------+-------------------------------+\n",
      "\n",
      "After merchant_info join:\n"
     ]
    },
    {
     "name": "stderr",
     "output_type": "stream",
     "text": [
      "                                                                                \r"
     ]
    },
    {
     "name": "stdout",
     "output_type": "stream",
     "text": [
      "The dataset count is  12047317\n",
      "+------------+--------------+------------------+--------------------+-----------+-----------------+--------------------+--------------------+-------------+---------+\n",
      "|merchant_abn|order_datetime|      dollar_value|            order_id|consumer_id|fraud_probability|                name|            category|revenue_level|take_rate|\n",
      "+------------+--------------+------------------+--------------------+-----------+-----------------+--------------------+--------------------+-------------+---------+\n",
      "| 79417999332|    2021-11-26|136.06570809815838|23acbb7b-cf98-458...|    1059280|             NULL|Phasellus At Company|gift, card, novel...|            b|     4.95|\n",
      "| 46451548968|    2021-11-26| 72.61581642788431|76bab304-fa2d-400...|    1195503|             NULL|Tempus Eu Ligula ...|health and beauty...|            a|     6.04|\n",
      "| 89518629617|    2021-11-26|3.0783487174439297|a2ae446a-2959-41c...|     986886|             NULL|Vulputate Velit E...|tent  and awning ...|            c|     3.09|\n",
      "| 49167531725|    2021-11-26| 51.58228625503599|7080c274-17f7-4cc...|    1195503|             NULL|     Felis Institute|digital goods: bo...|            a|     6.42|\n",
      "| 31101120643|    2021-11-26|25.228114942417797|8e301c0f-06ab-45c...|     986886|             NULL|Commodo Hendrerit...|cable, satellite,...|            a|     6.37|\n",
      "+------------+--------------+------------------+--------------------+-----------+-----------------+--------------------+--------------------+-------------+---------+\n",
      "only showing top 5 rows\n",
      "\n"
     ]
    },
    {
     "name": "stderr",
     "output_type": "stream",
     "text": [
      "[Stage 26:===================================================>     (9 + 1) / 10]\r"
     ]
    },
    {
     "name": "stdout",
     "output_type": "stream",
     "text": [
      "+--------------------------+----------------------------+--------------------------+----------------------+-------------------------+-------------------------------+------------------+----------------------+---------------------------+-----------------------+\n",
      "|merchant_abn_missing_count|order_datetime_missing_count|dollar_value_missing_count|order_id_missing_count|consumer_id_missing_count|fraud_probability_missing_count|name_missing_count|category_missing_count|revenue_level_missing_count|take_rate_missing_count|\n",
      "+--------------------------+----------------------------+--------------------------+----------------------+-------------------------+-------------------------------+------------------+----------------------+---------------------------+-----------------------+\n",
      "|                         0|                           0|                         0|                     0|                        0|                       12043314|                 0|                     0|                          0|                      0|\n",
      "+--------------------------+----------------------------+--------------------------+----------------------+-------------------------+-------------------------------+------------------+----------------------+---------------------------+-----------------------+\n",
      "\n"
     ]
    },
    {
     "name": "stderr",
     "output_type": "stream",
     "text": [
      "                                                                                \r"
     ]
    }
   ],
   "source": [
    "# Check initial dataset size\n",
    "print(\"Original dataset:\")\n",
    "get_dataset_count(transactions)\n",
    "print(\"\\n\")\n",
    "\n",
    "# Join transaction records with merchant fraud data\n",
    "transaction_records_with_fraud = transactions.join(\n",
    "    merchant_fp, \n",
    "    on=[\"merchant_abn\", \"order_datetime\"], \n",
    "    how=\"left\"\n",
    ")\n",
    "\n",
    "print(\"After merchant_fp join:\")\n",
    "\n",
    "# See how the dataset size changes along the way\n",
    "get_dataset_count(transaction_records_with_fraud)\n",
    "\n",
    "# Preview\n",
    "transaction_records_with_fraud.show(5)\n",
    "\n",
    "# Check if the join led to any missing values.\n",
    "calculate_missing_values(transaction_records_with_fraud)\n",
    "\n",
    "# Join transaction records with merchant info\n",
    "transaction_records_final = transaction_records_with_fraud.join(\n",
    "    merchant_info, \n",
    "    on=\"merchant_abn\", \n",
    "    how=\"inner\"\n",
    ")\n",
    "\n",
    "print(\"After merchant_info join:\")\n",
    "\n",
    "# See how the dataset size changes along the way\n",
    "get_dataset_count(transaction_records_final)\n",
    "\n",
    "# Preview\n",
    "transaction_records_final.show(5)\n",
    "\n",
    "# See how the dataset size changes along the way\n",
    "# Check if the join led to any missing values.\n",
    "calculate_missing_values(transaction_records_final)"
   ]
  },
  {
   "cell_type": "markdown",
   "metadata": {},
   "source": [
    "## Feature engineering"
   ]
  },
  {
   "cell_type": "code",
   "execution_count": 9,
   "metadata": {},
   "outputs": [
    {
     "name": "stderr",
     "output_type": "stream",
     "text": [
      "[Stage 34:===================================================>     (9 + 1) / 10]\r"
     ]
    },
    {
     "name": "stdout",
     "output_type": "stream",
     "text": [
      "+------------+--------------+------------------+--------------------+-----------+-----------------+--------------------+--------------------+-------------+---------+------------------+-------------------+---------------------+\n",
      "|merchant_abn|order_datetime|      dollar_value|            order_id|consumer_id|fraud_probability|                name|            category|revenue_level|take_rate|  avg_dollar_value|stddev_dollar_value|std_diff_dollar_value|\n",
      "+------------+--------------+------------------+--------------------+-----------+-----------------+--------------------+--------------------+-------------+---------+------------------+-------------------+---------------------+\n",
      "| 31101120643|    2021-11-26|25.228114942417797|8e301c0f-06ab-45c...|     986886|             NULL|Commodo Hendrerit...|cable, satellite,...|            a|     6.37| 78.38360490200445|  55.36202620829845|  -0.9601435063014176|\n",
      "| 79417999332|    2021-11-26|136.06570809815838|23acbb7b-cf98-458...|    1059280|             NULL|Phasellus At Company|gift, card, novel...|            b|     4.95| 91.94615123070031|  57.96205554205335|    0.761179990165254|\n",
      "| 49167531725|    2021-11-26| 51.58228625503599|7080c274-17f7-4cc...|    1195503|             NULL|     Felis Institute|digital goods: bo...|            a|     6.42|52.229016840471424|  41.11036569449982| -0.01573156975156...|\n",
      "| 67978471888|    2021-11-26| 691.5028234458998|0380e9ad-b0e8-420...|     179208|             NULL|Magna Malesuada C...|artist supply and...|            a|     5.56| 648.7195503090927|  317.7786398373282|   0.1346323124760934|\n",
      "| 46451548968|    2021-11-26| 72.61581642788431|76bab304-fa2d-400...|    1195503|             NULL|Tempus Eu Ligula ...|health and beauty...|            a|     6.04| 65.50823507028606|  65.34027286192855|  0.10877795647742976|\n",
      "+------------+--------------+------------------+--------------------+-----------+-----------------+--------------------+--------------------+-------------+---------+------------------+-------------------+---------------------+\n",
      "only showing top 5 rows\n",
      "\n"
     ]
    },
    {
     "name": "stderr",
     "output_type": "stream",
     "text": [
      "                                                                                \r"
     ]
    }
   ],
   "source": [
    "# Flag unusual transactions that deviate greatly from a merchant's usual dollar value\n",
    "\n",
    "# Calculate average and standard deviation of dollar_value per merchant\n",
    "transaction_stats = transaction_records_final.groupBy(\"merchant_abn\").agg(\n",
    "    F.avg(\"dollar_value\").alias(\"avg_dollar_value\"),\n",
    "    F.stddev(\"dollar_value\").alias(\"stddev_dollar_value\")\n",
    ")\n",
    "\n",
    "# Join the stats back to the original dataset\n",
    "transaction_records_final = transaction_records_final.join(transaction_stats, on=\"merchant_abn\", how=\"left\")\n",
    "\n",
    "# Calculate how many standard deviations away each transaction is\n",
    "# May need extra caution to interpret this feature as it can be POSITIVE OR NEGATIVE\n",
    "transaction_records_final = transaction_records_final.withColumn(\n",
    "    \"std_diff_dollar_value\", \n",
    "    F.when(\n",
    "        F.col(\"stddev_dollar_value\").isNotNull() & (F.col(\"stddev_dollar_value\") != 0), \n",
    "        (F.col(\"dollar_value\") - F.col(\"avg_dollar_value\")) / F.col(\"stddev_dollar_value\")\n",
    "    ).otherwise(0) \n",
    ")\n",
    "\n",
    "transaction_records_final.show(5)"
   ]
  },
  {
   "cell_type": "markdown",
   "metadata": {},
   "source": [
    "The purpose of this feature is to take into account how much a transaction's dollar value deviates from what is usual for that merchant, in order to flag unusual transaction amounts.\n",
    "\n",
    "\"stddev_dollar_value\" -> Accounts for magnitude of difference of dollar value against the average, while also adjusted for each merchant's typical variability. \n",
    "This is important because for example, while a $100 difference may be normal for one merchant but very unusual for another merchant.\n",
    "\n",
    "Consideration: how it could be positive or negative values for this feature column"
   ]
  },
  {
   "cell_type": "code",
   "execution_count": 10,
   "metadata": {},
   "outputs": [
    {
     "name": "stderr",
     "output_type": "stream",
     "text": [
      "[Stage 46:===================================================>     (9 + 1) / 10]\r"
     ]
    },
    {
     "name": "stdout",
     "output_type": "stream",
     "text": [
      "+------------+-----------+--------------+------------------+--------------------+-----------+-----------------+--------------------+--------------------+-------------+---------+------------------+-------------------+---------------------+--------------------+------------------------+---------------------------+---------------------+\n",
      "|merchant_abn|order_month|order_datetime|      dollar_value|            order_id|consumer_id|fraud_probability|                name|            category|revenue_level|take_rate|  avg_dollar_value|stddev_dollar_value|std_diff_dollar_value|monthly_order_volume|avg_monthly_order_volume|stddev_monthly_order_volume|std_diff_order_volume|\n",
      "+------------+-----------+--------------+------------------+--------------------+-----------+-----------------+--------------------+--------------------+-------------+---------+------------------+-------------------+---------------------+--------------------+------------------------+---------------------------+---------------------+\n",
      "| 31101120643|    2021-11|    2021-11-26|25.228114942417797|8e301c0f-06ab-45c...|     986886|             NULL|Commodo Hendrerit...|cable, satellite,...|            a|     6.37| 78.38360490200445|  55.36202620829845|  -0.9601435063014176|                 760|       529.3684210526316|         155.72240633979848|   1.4810429941861563|\n",
      "| 79417999332|    2021-11|    2021-11-26|136.06570809815838|23acbb7b-cf98-458...|    1059280|             NULL|Phasellus At Company|gift, card, novel...|            b|     4.95| 91.94615123070031|  57.96205554205335|    0.761179990165254|                6987|       4626.578947368421|         1413.2071215575772|   1.6702583907375324|\n",
      "| 49167531725|    2021-11|    2021-11-26| 51.58228625503599|7080c274-17f7-4cc...|    1195503|             NULL|     Felis Institute|digital goods: bo...|            a|     6.42|52.229016840471424|  41.11036569449982| -0.01573156975156...|                 232|       140.1578947368421|          48.87428676137125|   1.8791497809794555|\n",
      "| 67978471888|    2021-11|    2021-11-26| 691.5028234458998|0380e9ad-b0e8-420...|     179208|             NULL|Magna Malesuada C...|artist supply and...|            a|     5.56| 648.7195503090927|  317.7786398373282|   0.1346323124760934|                 861|       580.1578947368421|           175.186016425048|   1.6031080048179192|\n",
      "| 46451548968|    2021-11|    2021-11-26| 72.61581642788431|76bab304-fa2d-400...|    1195503|             NULL|Tempus Eu Ligula ...|health and beauty...|            a|     6.04| 65.50823507028606|  65.34027286192855|  0.10877795647742976|                 968|       647.3684210526316|          196.6571213859617|   1.6304091948854116|\n",
      "+------------+-----------+--------------+------------------+--------------------+-----------+-----------------+--------------------+--------------------+-------------+---------+------------------+-------------------+---------------------+--------------------+------------------------+---------------------------+---------------------+\n",
      "only showing top 5 rows\n",
      "\n"
     ]
    },
    {
     "name": "stderr",
     "output_type": "stream",
     "text": [
      "                                                                                \r"
     ]
    }
   ],
   "source": [
    "# Flag unusual monthly transaction volumes that deviate from a merchant's usual monthly volume\n",
    "\n",
    "# Extract month and year from order_datetime\n",
    "transaction_records_final = transaction_records_final.withColumn(\"order_month\", F.date_format(F.col(\"order_datetime\"), \"yyyy-MM\"))\n",
    "\n",
    "# Calculate number of transactions per merchant per month\n",
    "transaction_records_monthly = transaction_records_final.groupBy(\"merchant_abn\", \"order_month\").agg(\n",
    "    F.count(\"order_id\").alias(\"monthly_order_volume\")\n",
    ")\n",
    "\n",
    "# Calculate the average standard deviation of monthly transactions per merchant\n",
    "transaction_stats = transaction_records_monthly.groupBy(\"merchant_abn\").agg(\n",
    "    F.avg(\"monthly_order_volume\").alias(\"avg_monthly_order_volume\"),\n",
    "    F.stddev(\"monthly_order_volume\").alias(\"stddev_monthly_order_volume\")\n",
    ")\n",
    "\n",
    "# Join the monthly volume feature back with the original dataset\n",
    "transaction_records_final = transaction_records_final.join(transaction_records_monthly, on=[\"merchant_abn\", \"order_month\"], how=\"left\"\n",
    ")\n",
    "\n",
    "# Join the transaction statistics back to the original dataset \n",
    "transaction_records_final = transaction_records_final.join(transaction_stats, on=\"merchant_abn\", how=\"left\")\n",
    "\n",
    "# Calculate how many standard deviations away each monthly volume is\n",
    "transaction_records_final = transaction_records_final.withColumn(\n",
    "    \"std_diff_order_volume\", \n",
    "    F.when(F.col(\"stddev_monthly_order_volume\").isNotNull() & (F.col(\"stddev_monthly_order_volume\") != 0),\n",
    "           (F.col(\"monthly_order_volume\") - F.col(\"avg_monthly_order_volume\")) / F.col(\"stddev_monthly_order_volume\"))\n",
    "    .otherwise(0)\n",
    ")\n",
    "\n",
    "transaction_records_final.show(5)"
   ]
  },
  {
   "cell_type": "code",
   "execution_count": 11,
   "metadata": {},
   "outputs": [
    {
     "name": "stderr",
     "output_type": "stream",
     "text": [
      "[Stage 76:=> (4 + 6) / 10][Stage 77:>  (0 + 2) / 10][Stage 79:>   (0 + 0) / 1]0]\r"
     ]
    }
   ],
   "source": [
    "from pyspark.ml.feature import StringIndexer, OneHotEncoder\n",
    "from pyspark.ml import Pipeline\n",
    "\n",
    "# Index the revenue_level column\n",
    "indexer = StringIndexer(inputCol=\"revenue_level\", outputCol=\"revenue_level_index\")\n",
    "\n",
    "# One-hot encode the indexed revenue_level\n",
    "encoder = OneHotEncoder(inputCol=\"revenue_level_index\", outputCol=\"revenue_level_vec\")\n",
    "\n",
    "# Create and fit the pipeline\n",
    "pipeline = Pipeline(stages=[indexer, encoder])\n",
    "transaction_records_final = pipeline.fit(transaction_records_final).transform(transaction_records_final)\n",
    "\n",
    "transaction_records_final.show()"
   ]
  }
 ],
 "metadata": {
  "kernelspec": {
   "display_name": "Python 3",
   "language": "python",
   "name": "python3"
  },
  "language_info": {
   "codemirror_mode": {
    "name": "ipython",
    "version": 3
   },
   "file_extension": ".py",
   "mimetype": "text/x-python",
   "name": "python",
   "nbconvert_exporter": "python",
   "pygments_lexer": "ipython3",
   "version": "3.11.7"
  }
 },
 "nbformat": 4,
 "nbformat_minor": 2
}

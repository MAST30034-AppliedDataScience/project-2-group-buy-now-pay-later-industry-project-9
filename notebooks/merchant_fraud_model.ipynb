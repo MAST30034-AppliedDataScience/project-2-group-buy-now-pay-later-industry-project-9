{
 "cells": [
  {
   "cell_type": "code",
   "execution_count": 1,
   "metadata": {},
   "outputs": [],
   "source": [
    "from pyspark.sql import functions as F, SparkSession\n",
    "from pyspark.sql.types import IntegerType, LongType, DoubleType, StringType, DoubleType\n",
    "from urllib.request import urlretrieve\n",
    "\n",
    "import os\n",
    "os.sys.path.append(\"../\")\n",
    "from scripts.preliminary_analysis import *\n"
   ]
  },
  {
   "cell_type": "code",
   "execution_count": 2,
   "metadata": {},
   "outputs": [
    {
     "name": "stderr",
     "output_type": "stream",
     "text": [
      "24/09/16 20:22:44 WARN Utils: Your hostname, Alistairs-MacBook-Air.local resolves to a loopback address: 127.0.0.1; using 172.20.10.4 instead (on interface en0)\n",
      "24/09/16 20:22:44 WARN Utils: Set SPARK_LOCAL_IP if you need to bind to another address\n",
      "Setting default log level to \"WARN\".\n",
      "To adjust logging level use sc.setLogLevel(newLevel). For SparkR, use setLogLevel(newLevel).\n",
      "24/09/16 20:22:45 WARN NativeCodeLoader: Unable to load native-hadoop library for your platform... using builtin-java classes where applicable\n"
     ]
    }
   ],
   "source": [
    "spark = (\n",
    "    SparkSession.builder.appName(\"Merchant Fraud Model\")\n",
    "    .config(\"spark.sql.repl.eagerEval.enabled\", True)\n",
    "    .config(\"spark.sql.parquet.cacheMetadata\", \"true\")\n",
    "    .config(\"spark.sql.session.timeZone\", \"Etc/UTC\")\n",
    "    .config(\"spark.driver.memory\", \"4g\")\n",
    "    .config(\"spark.executor.memory\", \"2g\")\n",
    "    .getOrCreate()\n",
    ")"
   ]
  },
  {
   "cell_type": "code",
   "execution_count": 3,
   "metadata": {},
   "outputs": [],
   "source": [
    "url = \"https://www.abs.gov.au/statistics/people/people-and-communities/snapshot-australia/2021/Snapshot%20of%20Australia%20data%20summary.xlsx\"\n",
    "\n",
    "\n",
    "# urlretrieve(url, \"test.xlsx\")"
   ]
  },
  {
   "cell_type": "code",
   "execution_count": 4,
   "metadata": {},
   "outputs": [],
   "source": [
    "import requests"
   ]
  },
  {
   "cell_type": "code",
   "execution_count": 5,
   "metadata": {},
   "outputs": [],
   "source": [
    "with open('data.csv', 'w') as f_out:\n",
    "    f_out.write(requests.get(url).text)"
   ]
  },
  {
   "cell_type": "code",
   "execution_count": 6,
   "metadata": {},
   "outputs": [],
   "source": [
    "# ad = spark.read.parquet()"
   ]
  },
  {
   "cell_type": "markdown",
   "metadata": {},
   "source": [
    "## Read in the necessary curated data"
   ]
  },
  {
   "cell_type": "code",
   "execution_count": 7,
   "metadata": {},
   "outputs": [
    {
     "name": "stderr",
     "output_type": "stream",
     "text": [
      "                                                                                \r"
     ]
    }
   ],
   "source": [
    "path = \"../data/curated\"\n",
    "\n",
    "# Read merchant datasets in\n",
    "merchant_info = spark.read.parquet(f\"{path}/merchant_info.parquet\")\n",
    "merchant_fp = spark.read.parquet(f\"{path}/merchant_fraud_prob.parquet\")\n",
    "\n",
    "# Read in transactions dataset\n",
    "transactions = spark.read.parquet(f\"{path}/transactions.parquet\")"
   ]
  },
  {
   "cell_type": "markdown",
   "metadata": {},
   "source": [
    "## Join the necessary datasets"
   ]
  },
  {
   "cell_type": "code",
   "execution_count": 8,
   "metadata": {},
   "outputs": [
    {
     "name": "stdout",
     "output_type": "stream",
     "text": [
      "Original dataset:\n",
      "The dataset count is  12561377\n",
      "\n",
      "\n",
      "After merchant_fp join:\n"
     ]
    },
    {
     "name": "stderr",
     "output_type": "stream",
     "text": [
      "                                                                                \r"
     ]
    },
    {
     "name": "stdout",
     "output_type": "stream",
     "text": [
      "The dataset count is  12561377\n",
      "+------------+--------------+------------------+--------------------+-----------+-----------------+\n",
      "|merchant_abn|order_datetime|      dollar_value|            order_id|consumer_id|fraud_probability|\n",
      "+------------+--------------+------------------+--------------------+-----------+-----------------+\n",
      "| 79417999332|    2021-11-26|136.06570809815838|23acbb7b-cf98-458...|    1059280|             NULL|\n",
      "| 46451548968|    2021-11-26| 72.61581642788431|76bab304-fa2d-400...|    1195503|             NULL|\n",
      "| 89518629617|    2021-11-26|3.0783487174439297|a2ae446a-2959-41c...|     986886|             NULL|\n",
      "| 49167531725|    2021-11-26| 51.58228625503599|7080c274-17f7-4cc...|    1195503|             NULL|\n",
      "| 31101120643|    2021-11-26|25.228114942417797|8e301c0f-06ab-45c...|     986886|             NULL|\n",
      "+------------+--------------+------------------+--------------------+-----------+-----------------+\n",
      "only showing top 5 rows\n",
      "\n"
     ]
    },
    {
     "name": "stderr",
     "output_type": "stream",
     "text": [
      "                                                                                \r"
     ]
    },
    {
     "name": "stdout",
     "output_type": "stream",
     "text": [
      "+--------------------------+----------------------------+--------------------------+----------------------+-------------------------+-------------------------------+\n",
      "|merchant_abn_missing_count|order_datetime_missing_count|dollar_value_missing_count|order_id_missing_count|consumer_id_missing_count|fraud_probability_missing_count|\n",
      "+--------------------------+----------------------------+--------------------------+----------------------+-------------------------+-------------------------------+\n",
      "|                         0|                           0|                         0|                     0|                        0|                       12557318|\n",
      "+--------------------------+----------------------------+--------------------------+----------------------+-------------------------+-------------------------------+\n",
      "\n",
      "After merchant_info join:\n"
     ]
    },
    {
     "name": "stderr",
     "output_type": "stream",
     "text": [
      "                                                                                \r"
     ]
    },
    {
     "name": "stdout",
     "output_type": "stream",
     "text": [
      "The dataset count is  12047317\n",
      "+------------+--------------+------------------+--------------------+-----------+-----------------+--------------------+--------------------+-------------+---------+\n",
      "|merchant_abn|order_datetime|      dollar_value|            order_id|consumer_id|fraud_probability|                name|            category|revenue_level|take_rate|\n",
      "+------------+--------------+------------------+--------------------+-----------+-----------------+--------------------+--------------------+-------------+---------+\n",
      "| 79417999332|    2021-11-26|136.06570809815838|23acbb7b-cf98-458...|    1059280|             NULL|Phasellus At Company|gift, card, novel...|            b|     4.95|\n",
      "| 46451548968|    2021-11-26| 72.61581642788431|76bab304-fa2d-400...|    1195503|             NULL|Tempus Eu Ligula ...|health and beauty...|            a|     6.04|\n",
      "| 89518629617|    2021-11-26|3.0783487174439297|a2ae446a-2959-41c...|     986886|             NULL|Vulputate Velit E...|tent  and awning ...|            c|     3.09|\n",
      "| 49167531725|    2021-11-26| 51.58228625503599|7080c274-17f7-4cc...|    1195503|             NULL|     Felis Institute|digital goods: bo...|            a|     6.42|\n",
      "| 31101120643|    2021-11-26|25.228114942417797|8e301c0f-06ab-45c...|     986886|             NULL|Commodo Hendrerit...|cable, satellite,...|            a|     6.37|\n",
      "+------------+--------------+------------------+--------------------+-----------+-----------------+--------------------+--------------------+-------------+---------+\n",
      "only showing top 5 rows\n",
      "\n"
     ]
    },
    {
     "name": "stderr",
     "output_type": "stream",
     "text": [
      "[Stage 26:===================================================>     (9 + 1) / 10]\r"
     ]
    },
    {
     "name": "stdout",
     "output_type": "stream",
     "text": [
      "+--------------------------+----------------------------+--------------------------+----------------------+-------------------------+-------------------------------+------------------+----------------------+---------------------------+-----------------------+\n",
      "|merchant_abn_missing_count|order_datetime_missing_count|dollar_value_missing_count|order_id_missing_count|consumer_id_missing_count|fraud_probability_missing_count|name_missing_count|category_missing_count|revenue_level_missing_count|take_rate_missing_count|\n",
      "+--------------------------+----------------------------+--------------------------+----------------------+-------------------------+-------------------------------+------------------+----------------------+---------------------------+-----------------------+\n",
      "|                         0|                           0|                         0|                     0|                        0|                       12043314|                 0|                     0|                          0|                      0|\n",
      "+--------------------------+----------------------------+--------------------------+----------------------+-------------------------+-------------------------------+------------------+----------------------+---------------------------+-----------------------+\n",
      "\n"
     ]
    },
    {
     "name": "stderr",
     "output_type": "stream",
     "text": [
      "                                                                                \r"
     ]
    }
   ],
   "source": [
    "# Check initial dataset size\n",
    "print(\"Original dataset:\")\n",
    "get_dataset_count(transactions)\n",
    "print(\"\\n\")\n",
    "\n",
    "# Join transaction records with merchant fraud data\n",
    "transaction_records_with_fraud = transactions.join(\n",
    "    merchant_fp, \n",
    "    on=[\"merchant_abn\", \"order_datetime\"], \n",
    "    how=\"left\"\n",
    ")\n",
    "\n",
    "print(\"After merchant_fp join:\")\n",
    "\n",
    "# See how the dataset size changes along the way\n",
    "get_dataset_count(transaction_records_with_fraud)\n",
    "\n",
    "# Preview\n",
    "transaction_records_with_fraud.show(5)\n",
    "\n",
    "# Check if the join led to any missing values.\n",
    "calculate_missing_values(transaction_records_with_fraud)\n",
    "\n",
    "# Join transaction records with merchant info\n",
    "transaction_records_final = transaction_records_with_fraud.join(\n",
    "    merchant_info, \n",
    "    on=\"merchant_abn\", \n",
    "    how=\"inner\"\n",
    ")\n",
    "\n",
    "print(\"After merchant_info join:\")\n",
    "\n",
    "# See how the dataset size changes along the way\n",
    "get_dataset_count(transaction_records_final)\n",
    "\n",
    "# Preview\n",
    "transaction_records_final.show(5)\n",
    "\n",
    "# See how the dataset size changes along the way\n",
    "# Check if the join led to any missing values.\n",
    "calculate_missing_values(transaction_records_final)"
   ]
  },
  {
   "cell_type": "markdown",
   "metadata": {},
   "source": [
    "## Feature engineering"
   ]
  },
  {
   "cell_type": "code",
   "execution_count": 9,
   "metadata": {},
   "outputs": [
    {
     "name": "stderr",
     "output_type": "stream",
     "text": [
      "[Stage 34:===================================================>     (9 + 1) / 10]\r"
     ]
    },
    {
     "name": "stdout",
     "output_type": "stream",
     "text": [
      "+------------+--------------+------------------+--------------------+-----------+-----------------+--------------------+--------------------+-------------+---------+------------------+-------------------+---------------------+\n",
      "|merchant_abn|order_datetime|      dollar_value|            order_id|consumer_id|fraud_probability|                name|            category|revenue_level|take_rate|  avg_dollar_value|stddev_dollar_value|std_diff_dollar_value|\n",
      "+------------+--------------+------------------+--------------------+-----------+-----------------+--------------------+--------------------+-------------+---------+------------------+-------------------+---------------------+\n",
      "| 31101120643|    2021-11-26|25.228114942417797|8e301c0f-06ab-45c...|     986886|             NULL|Commodo Hendrerit...|cable, satellite,...|            a|     6.37| 78.38360490200445|  55.36202620829845|  -0.9601435063014176|\n",
      "| 79417999332|    2021-11-26|136.06570809815838|23acbb7b-cf98-458...|    1059280|             NULL|Phasellus At Company|gift, card, novel...|            b|     4.95| 91.94615123070031|  57.96205554205335|    0.761179990165254|\n",
      "| 49167531725|    2021-11-26| 51.58228625503599|7080c274-17f7-4cc...|    1195503|             NULL|     Felis Institute|digital goods: bo...|            a|     6.42|52.229016840471424|  41.11036569449982| -0.01573156975156...|\n",
      "| 67978471888|    2021-11-26| 691.5028234458998|0380e9ad-b0e8-420...|     179208|             NULL|Magna Malesuada C...|artist supply and...|            a|     5.56| 648.7195503090927|  317.7786398373282|   0.1346323124760934|\n",
      "| 46451548968|    2021-11-26| 72.61581642788431|76bab304-fa2d-400...|    1195503|             NULL|Tempus Eu Ligula ...|health and beauty...|            a|     6.04| 65.50823507028606|  65.34027286192855|  0.10877795647742976|\n",
      "+------------+--------------+------------------+--------------------+-----------+-----------------+--------------------+--------------------+-------------+---------+------------------+-------------------+---------------------+\n",
      "only showing top 5 rows\n",
      "\n"
     ]
    },
    {
     "name": "stderr",
     "output_type": "stream",
     "text": [
      "                                                                                \r"
     ]
    }
   ],
   "source": [
    "# Flag unusual transactions that deviate greatly from a merchant's usual dollar value\n",
    "\n",
    "# Calculate average and standard deviation of dollar_value per merchant\n",
    "transaction_stats = transaction_records_final.groupBy(\"merchant_abn\").agg(\n",
    "    F.avg(\"dollar_value\").alias(\"avg_dollar_value\"),\n",
    "    F.stddev(\"dollar_value\").alias(\"stddev_dollar_value\")\n",
    ")\n",
    "\n",
    "# Join the stats back to the original dataset\n",
    "transaction_records_final = transaction_records_final.join(transaction_stats, on=\"merchant_abn\", how=\"left\")\n",
    "\n",
    "# Calculate how many standard deviations away each transaction is\n",
    "# May need extra caution to interpret this feature as it can be POSITIVE OR NEGATIVE\n",
    "transaction_records_final = transaction_records_final.withColumn(\n",
    "    \"std_diff_dollar_value\", \n",
    "    F.when(\n",
    "        F.col(\"stddev_dollar_value\").isNotNull() & (F.col(\"stddev_dollar_value\") != 0), \n",
    "        (F.col(\"dollar_value\") - F.col(\"avg_dollar_value\")) / F.col(\"stddev_dollar_value\")\n",
    "    ).otherwise(0) \n",
    ")\n",
    "\n",
    "transaction_records_final.show(5)"
   ]
  },
  {
   "cell_type": "markdown",
   "metadata": {},
   "source": [
    "The purpose of this feature is to take into account how much a transaction's dollar value deviates from what is usual for that merchant, in order to flag unusual transaction amounts.\n",
    "\n",
    "\"stddev_dollar_value\" -> Accounts for magnitude of difference of dollar value against the average, while also adjusted for each merchant's typical variability. \n",
    "This is important because for example, while a $100 difference may be normal for one merchant but very unusual for another merchant.\n",
    "\n",
    "Consideration: how it could be positive or negative values for this feature column"
   ]
  },
  {
   "cell_type": "code",
   "execution_count": 10,
   "metadata": {},
   "outputs": [
    {
     "name": "stderr",
     "output_type": "stream",
     "text": [
      "[Stage 46:===================================================>     (9 + 1) / 10]\r"
     ]
    },
    {
     "name": "stdout",
     "output_type": "stream",
     "text": [
      "+------------+-----------+--------------+------------------+--------------------+-----------+-----------------+--------------------+--------------------+-------------+---------+------------------+-------------------+---------------------+--------------------+------------------------+---------------------------+---------------------+\n",
      "|merchant_abn|order_month|order_datetime|      dollar_value|            order_id|consumer_id|fraud_probability|                name|            category|revenue_level|take_rate|  avg_dollar_value|stddev_dollar_value|std_diff_dollar_value|monthly_order_volume|avg_monthly_order_volume|stddev_monthly_order_volume|std_diff_order_volume|\n",
      "+------------+-----------+--------------+------------------+--------------------+-----------+-----------------+--------------------+--------------------+-------------+---------+------------------+-------------------+---------------------+--------------------+------------------------+---------------------------+---------------------+\n",
      "| 31101120643|    2021-11|    2021-11-26|25.228114942417797|8e301c0f-06ab-45c...|     986886|             NULL|Commodo Hendrerit...|cable, satellite,...|            a|     6.37| 78.38360490200445|  55.36202620829845|  -0.9601435063014176|                 760|       529.3684210526316|         155.72240633979848|   1.4810429941861563|\n",
      "| 79417999332|    2021-11|    2021-11-26|136.06570809815838|23acbb7b-cf98-458...|    1059280|             NULL|Phasellus At Company|gift, card, novel...|            b|     4.95| 91.94615123070031|  57.96205554205335|    0.761179990165254|                6987|       4626.578947368421|         1413.2071215575772|   1.6702583907375324|\n",
      "| 49167531725|    2021-11|    2021-11-26| 51.58228625503599|7080c274-17f7-4cc...|    1195503|             NULL|     Felis Institute|digital goods: bo...|            a|     6.42|52.229016840471424|  41.11036569449982| -0.01573156975156...|                 232|       140.1578947368421|          48.87428676137125|   1.8791497809794555|\n",
      "| 67978471888|    2021-11|    2021-11-26| 691.5028234458998|0380e9ad-b0e8-420...|     179208|             NULL|Magna Malesuada C...|artist supply and...|            a|     5.56| 648.7195503090927|  317.7786398373282|   0.1346323124760934|                 861|       580.1578947368421|           175.186016425048|   1.6031080048179192|\n",
      "| 46451548968|    2021-11|    2021-11-26| 72.61581642788431|76bab304-fa2d-400...|    1195503|             NULL|Tempus Eu Ligula ...|health and beauty...|            a|     6.04| 65.50823507028606|  65.34027286192855|  0.10877795647742976|                 968|       647.3684210526316|          196.6571213859617|   1.6304091948854116|\n",
      "+------------+-----------+--------------+------------------+--------------------+-----------+-----------------+--------------------+--------------------+-------------+---------+------------------+-------------------+---------------------+--------------------+------------------------+---------------------------+---------------------+\n",
      "only showing top 5 rows\n",
      "\n"
     ]
    },
    {
     "name": "stderr",
     "output_type": "stream",
     "text": [
      "                                                                                \r"
     ]
    }
   ],
   "source": [
    "# Flag unusual monthly transaction volumes that deviate from a merchant's usual monthly volume\n",
    "\n",
    "# Extract month and year from order_datetime\n",
    "transaction_records_final = transaction_records_final.withColumn(\"order_month\", F.date_format(F.col(\"order_datetime\"), \"yyyy-MM\"))\n",
    "\n",
    "# Calculate number of transactions per merchant per month\n",
    "transaction_records_monthly = transaction_records_final.groupBy(\"merchant_abn\", \"order_month\").agg(\n",
    "    F.count(\"order_id\").alias(\"monthly_order_volume\")\n",
    ")\n",
    "\n",
    "# Calculate the average standard deviation of monthly transactions per merchant\n",
    "transaction_stats = transaction_records_monthly.groupBy(\"merchant_abn\").agg(\n",
    "    F.avg(\"monthly_order_volume\").alias(\"avg_monthly_order_volume\"),\n",
    "    F.stddev(\"monthly_order_volume\").alias(\"stddev_monthly_order_volume\")\n",
    ")\n",
    "\n",
    "# Join the monthly volume feature back with the original dataset\n",
    "transaction_records_final = transaction_records_final.join(transaction_records_monthly, on=[\"merchant_abn\", \"order_month\"], how=\"left\"\n",
    ")\n",
    "\n",
    "# Join the transaction statistics back to the original dataset \n",
    "transaction_records_final = transaction_records_final.join(transaction_stats, on=\"merchant_abn\", how=\"left\")\n",
    "\n",
    "# Calculate how many standard deviations away each monthly volume is\n",
    "transaction_records_final = transaction_records_final.withColumn(\n",
    "    \"std_diff_order_volume\", \n",
    "    F.when(F.col(\"stddev_monthly_order_volume\").isNotNull() & (F.col(\"stddev_monthly_order_volume\") != 0),\n",
    "           (F.col(\"monthly_order_volume\") - F.col(\"avg_monthly_order_volume\")) / F.col(\"stddev_monthly_order_volume\"))\n",
    "    .otherwise(0)\n",
    ")\n",
    "\n",
    "transaction_records_final.show(5)"
   ]
  },
  {
   "cell_type": "code",
   "execution_count": 11,
   "metadata": {},
   "outputs": [
    {
     "name": "stderr",
     "output_type": "stream",
     "text": [
      "[Stage 77:===================================================>     (9 + 1) / 10]\r"
     ]
    },
    {
     "name": "stdout",
     "output_type": "stream",
     "text": [
      "+------------+-----------+--------------+------------------+--------------------+-----------+-----------------+--------------------+--------------------+-------------+---------+------------------+-------------------+---------------------+--------------------+------------------------+---------------------------+---------------------+-------------------+-----------------+\n",
      "|merchant_abn|order_month|order_datetime|      dollar_value|            order_id|consumer_id|fraud_probability|                name|            category|revenue_level|take_rate|  avg_dollar_value|stddev_dollar_value|std_diff_dollar_value|monthly_order_volume|avg_monthly_order_volume|stddev_monthly_order_volume|std_diff_order_volume|revenue_level_index|revenue_level_vec|\n",
      "+------------+-----------+--------------+------------------+--------------------+-----------+-----------------+--------------------+--------------------+-------------+---------+------------------+-------------------+---------------------+--------------------+------------------------+---------------------------+---------------------+-------------------+-----------------+\n",
      "| 83412691377|    2021-11|    2021-11-26|56.590290983073245|7509b9b7-48fb-4f8...|    1443334|             NULL|Suspendisse Sagit...|watch, clock, and...|            c|     2.94| 34.89639480666367| 24.288737121982624|   0.8931669056097372|                1000|       666.1052631578947|          199.8298984238684|   1.6708947934000637|                2.0|    (4,[2],[1.0])|\n",
      "| 38700038932|    2021-11|    2021-11-26|  4449.30910811421|776df727-49c6-427...|    1395241|             NULL|Etiam Bibendum In...|tent and awning s...|            a|     6.31|1337.6717640286251|  769.2773355139176|    4.044883685552556|                 484|       333.7368421052632|         100.45941253686217|   1.4957598705805677|                0.0|    (4,[0],[1.0])|\n",
      "| 35344855546|    2021-11|    2021-11-26| 37.25988746024652|38f599ea-03e0-425...|     512071|             NULL|Quis Tristique Ac...|watch, clock, and...|            c|     2.92| 87.08265327069314|  65.61095751697076|  -0.7593665402240106|                 103|       70.84210526315789|          22.19675441213757|   1.4487656231064852|                2.0|    (4,[2],[1.0])|\n",
      "| 83412691377|    2021-11|    2021-11-26|34.932453882390476|7cf7e22c-9697-466...|      10967|             NULL|Suspendisse Sagit...|watch, clock, and...|            c|     2.94| 34.89639480666367| 24.288737121982624| 0.001484600683259...|                1000|       666.1052631578947|          199.8298984238684|   1.6708947934000637|                2.0|    (4,[2],[1.0])|\n",
      "| 15613631617|    2021-11|    2021-11-26| 261.4190350038583|978f56be-48b0-46d...|     777839|             NULL|     Ante Industries|motor vehicle sup...|            e|     0.35| 303.7790532378814| 198.73948747863383|  -0.2131434410515783|                 120|       83.89473684210526|         24.919636917370347|   1.4488679460946479|                4.0|        (4,[],[])|\n",
      "| 83412691377|    2021-11|    2021-11-26| 45.27561467887718|e4e12a53-990d-4d3...|     757778|             NULL|Suspendisse Sagit...|watch, clock, and...|            c|     2.94| 34.89639480666367| 24.288737121982624|   0.4273264525894084|                1000|       666.1052631578947|          199.8298984238684|   1.6708947934000637|                2.0|    (4,[2],[1.0])|\n",
      "| 38700038932|    2021-11|    2021-11-26|1156.2560382854533|a036a1de-54f5-4d2...|     631628|             NULL|Etiam Bibendum In...|tent and awning s...|            a|     6.31|1337.6717640286251|  769.2773355139176|  -0.2358261674536097|                 484|       333.7368421052632|         100.45941253686217|   1.4957598705805677|                0.0|    (4,[0],[1.0])|\n",
      "| 83412691377|    2021-11|    2021-11-26| 90.85185840206398|f4b0899f-8ced-415...|      30312|             NULL|Suspendisse Sagit...|watch, clock, and...|            c|     2.94| 34.89639480666367| 24.288737121982624|   2.3037617523867713|                1000|       666.1052631578947|          199.8298984238684|   1.6708947934000637|                2.0|    (4,[2],[1.0])|\n",
      "| 83412691377|    2021-11|    2021-11-26| 45.45076400524644|0f0adf14-bff6-490...|     992670|             NULL|Suspendisse Sagit...|watch, clock, and...|            c|     2.94| 34.89639480666367| 24.288737121982624|  0.43453758610736876|                1000|       666.1052631578947|          199.8298984238684|   1.6708947934000637|                2.0|    (4,[2],[1.0])|\n",
      "| 83412691377|    2021-11|    2021-11-26| 8.490684954683232|f0784e04-f75f-4b6...|     979727|             NULL|Suspendisse Sagit...|watch, clock, and...|            c|     2.94| 34.89639480666367| 24.288737121982624|  -1.0871586167434717|                1000|       666.1052631578947|          199.8298984238684|   1.6708947934000637|                2.0|    (4,[2],[1.0])|\n",
      "| 83412691377|    2021-11|    2021-11-26| 8.791526531908849|4ef130c0-7be1-4dd...|     374783|             NULL|Suspendisse Sagit...|watch, clock, and...|            c|     2.94| 34.89639480666367| 24.288737121982624|  -1.0747725640757377|                1000|       666.1052631578947|          199.8298984238684|   1.6708947934000637|                2.0|    (4,[2],[1.0])|\n",
      "| 38700038932|    2021-11|    2021-11-26| 1298.545795852875|d0136834-c922-455...|     234865|             NULL|Etiam Bibendum In...|tent and awning s...|            a|     6.31|1337.6717640286251|  769.2773355139176| -0.05086067971781...|                 484|       333.7368421052632|         100.45941253686217|   1.4957598705805677|                0.0|    (4,[0],[1.0])|\n",
      "| 19839532017|    2021-11|    2021-11-26|             157.0|cf4f55cd-cca5-4e1...|     991366|             NULL|Pellentesque Habi...|cable, satellite,...|            b|     4.94|             157.0|                0.0|                  0.0|                  51|       35.31578947368421|         10.806647293725938|   1.4513484247257369|                1.0|    (4,[1],[1.0])|\n",
      "| 83412691377|    2021-11|    2021-11-26| 51.35817513881054|ec0acb06-d0df-41c...|    1310161|             NULL|Suspendisse Sagit...|watch, clock, and...|            c|     2.94| 34.89639480666367| 24.288737121982624|   0.6777536538632164|                1000|       666.1052631578947|          199.8298984238684|   1.6708947934000637|                2.0|    (4,[2],[1.0])|\n",
      "| 83412691377|    2021-11|    2021-11-26| 17.17560919872046|5e51a540-c0d7-43c...|     156709|             NULL|Suspendisse Sagit...|watch, clock, and...|            c|     2.94| 34.89639480666367| 24.288737121982624|  -0.7295885956913314|                1000|       666.1052631578947|          199.8298984238684|   1.6708947934000637|                2.0|    (4,[2],[1.0])|\n",
      "| 83412691377|    2021-11|    2021-11-26| 68.08238949045385|d9d7b1ab-e7d9-4e8...|     189439|             NULL|Suspendisse Sagit...|watch, clock, and...|            c|     2.94| 34.89639480666367| 24.288737121982624|   1.3663120695458082|                1000|       666.1052631578947|          199.8298984238684|   1.6708947934000637|                2.0|    (4,[2],[1.0])|\n",
      "| 38700038932|    2021-11|    2021-11-26|458.74556719040066|e2a0c71a-5fee-46c...|    1094937|             NULL|Etiam Bibendum In...|tent and awning s...|            a|     6.31|1337.6717640286251|  769.2773355139176|   -1.142534891205466|                 484|       333.7368421052632|         100.45941253686217|   1.4957598705805677|                0.0|    (4,[0],[1.0])|\n",
      "| 38700038932|    2021-11|    2021-11-26|  754.341063488565|1fb16390-f2c4-49d...|      47913|             NULL|Etiam Bibendum In...|tent and awning s...|            a|     6.31|1337.6717640286251|  769.2773355139176|  -0.7582840070939626|                 484|       333.7368421052632|         100.45941253686217|   1.4957598705805677|                0.0|    (4,[0],[1.0])|\n",
      "| 83412691377|    2021-11|    2021-11-26|  79.3052743989721|8160b5f2-2d3b-497...|    1170023|             NULL|Suspendisse Sagit...|watch, clock, and...|            c|     2.94| 34.89639480666367| 24.288737121982624|   1.8283733472546824|                1000|       666.1052631578947|          199.8298984238684|   1.6708947934000637|                2.0|    (4,[2],[1.0])|\n",
      "| 38700038932|    2021-11|    2021-11-26|  423.089489828158|8b202cc2-2a1c-45c...|    1137914|             NULL|Etiam Bibendum In...|tent and awning s...|            a|     6.31|1337.6717640286251|  769.2773355139176|  -1.1888849859192567|                 484|       333.7368421052632|         100.45941253686217|   1.4957598705805677|                0.0|    (4,[0],[1.0])|\n",
      "+------------+-----------+--------------+------------------+--------------------+-----------+-----------------+--------------------+--------------------+-------------+---------+------------------+-------------------+---------------------+--------------------+------------------------+---------------------------+---------------------+-------------------+-----------------+\n",
      "only showing top 20 rows\n",
      "\n"
     ]
    },
    {
     "name": "stderr",
     "output_type": "stream",
     "text": [
      "                                                                                \r"
     ]
    }
   ],
   "source": [
    "from pyspark.ml.feature import StringIndexer, OneHotEncoder\n",
    "from pyspark.ml import Pipeline\n",
    "\n",
    "# Index the revenue_level column\n",
    "indexer = StringIndexer(inputCol=\"revenue_level\", outputCol=\"revenue_level_index\")\n",
    "\n",
    "# One-hot encode the indexed revenue_level\n",
    "encoder = OneHotEncoder(inputCol=\"revenue_level_index\", outputCol=\"revenue_level_vec\")\n",
    "\n",
    "# Create and fit the pipeline\n",
    "pipeline = Pipeline(stages=[indexer, encoder])\n",
    "transaction_records_final = pipeline.fit(transaction_records_final).transform(transaction_records_final)\n",
    "\n",
    "transaction_records_final.show(5)"
   ]
  },
  {
   "cell_type": "code",
   "execution_count": 13,
   "metadata": {},
   "outputs": [
    {
     "name": "stderr",
     "output_type": "stream",
     "text": [
      "[Stage 112:============================================>           (8 + 2) / 10]\r"
     ]
    },
    {
     "name": "stdout",
     "output_type": "stream",
     "text": [
      "+------------+-----------+--------------+------------------+--------------------+-----------+-----------------+--------------------+--------------------+-------------+---------+------------------+-------------------+---------------------+--------------------+------------------------+---------------------------+---------------------+-------------------+-----------------+\n",
      "|merchant_abn|order_month|order_datetime|      dollar_value|            order_id|consumer_id|fraud_probability|                name|            category|revenue_level|take_rate|  avg_dollar_value|stddev_dollar_value|std_diff_dollar_value|monthly_order_volume|avg_monthly_order_volume|stddev_monthly_order_volume|std_diff_order_volume|revenue_level_index|revenue_level_vec|\n",
      "+------------+-----------+--------------+------------------+--------------------+-----------+-----------------+--------------------+--------------------+-------------+---------+------------------+-------------------+---------------------+--------------------+------------------------+---------------------------+---------------------+-------------------+-----------------+\n",
      "| 83412691377|    2021-11|    2021-11-26|56.590290983073245|7509b9b7-48fb-4f8...|    1443334|             NULL|Suspendisse Sagit...|watch, clock, and...|            c|     2.94| 34.89639480666367| 24.288737121982624|   0.8931669056097372|                1000|       666.1052631578947|          199.8298984238684|   1.6708947934000637|                2.0|    (4,[2],[1.0])|\n",
      "| 38700038932|    2021-11|    2021-11-26|  4449.30910811421|776df727-49c6-427...|    1395241|             NULL|Etiam Bibendum In...|tent and awning s...|            a|     6.31|1337.6717640286251|  769.2773355139176|    4.044883685552556|                 484|       333.7368421052632|         100.45941253686217|   1.4957598705805677|                0.0|    (4,[0],[1.0])|\n",
      "| 35344855546|    2021-11|    2021-11-26| 37.25988746024652|38f599ea-03e0-425...|     512071|             NULL|Quis Tristique Ac...|watch, clock, and...|            c|     2.92| 87.08265327069314|  65.61095751697076|  -0.7593665402240106|                 103|       70.84210526315789|          22.19675441213757|   1.4487656231064852|                2.0|    (4,[2],[1.0])|\n",
      "| 83412691377|    2021-11|    2021-11-26|34.932453882390476|7cf7e22c-9697-466...|      10967|             NULL|Suspendisse Sagit...|watch, clock, and...|            c|     2.94| 34.89639480666367| 24.288737121982624| 0.001484600683259...|                1000|       666.1052631578947|          199.8298984238684|   1.6708947934000637|                2.0|    (4,[2],[1.0])|\n",
      "| 15613631617|    2021-11|    2021-11-26| 261.4190350038583|978f56be-48b0-46d...|     777839|             NULL|     Ante Industries|motor vehicle sup...|            e|     0.35| 303.7790532378814| 198.73948747863383|  -0.2131434410515783|                 120|       83.89473684210526|         24.919636917370347|   1.4488679460946479|                4.0|        (4,[],[])|\n",
      "+------------+-----------+--------------+------------------+--------------------+-----------+-----------------+--------------------+--------------------+-------------+---------+------------------+-------------------+---------------------+--------------------+------------------------+---------------------------+---------------------+-------------------+-----------------+\n",
      "only showing top 5 rows\n",
      "\n"
     ]
    },
    {
     "name": "stderr",
     "output_type": "stream",
     "text": [
      "                                                                                \r"
     ]
    }
   ],
   "source": [
    "transaction_records_final.show(5)"
   ]
  },
  {
   "cell_type": "markdown",
   "metadata": {},
   "source": [
    "# Standardisation"
   ]
  },
  {
   "cell_type": "code",
   "execution_count": 15,
   "metadata": {},
   "outputs": [
    {
     "name": "stderr",
     "output_type": "stream",
     "text": [
      "                                                                                \r"
     ]
    }
   ],
   "source": [
    "from pyspark.ml.feature import StandardScaler, VectorAssembler\n",
    "\n",
    "# Assemble the features to scale\n",
    "numeric_features = [\"dollar_value\", \"monthly_order_volume\"]\n",
    "assembler = VectorAssembler(inputCols=numeric_features, outputCol=\"numeric_features_vec\")\n",
    "\n",
    "# Apply the assembler to combine the numeric features into a vector\n",
    "data_with_numeric_vec = assembler.transform(transaction_records_final)\n",
    "\n",
    "# Standardize the numeric features\n",
    "scaler = StandardScaler(inputCol=\"numeric_features_vec\", outputCol=\"scaled_numeric_features\", withMean=True, withStd=True)\n",
    "scaler_model = scaler.fit(data_with_numeric_vec)\n",
    "transaction_records_scaled = scaler_model.transform(data_with_numeric_vec)"
   ]
  },
  {
   "cell_type": "markdown",
   "metadata": {},
   "source": [
    "# Modelling"
   ]
  },
  {
   "cell_type": "code",
   "execution_count": null,
   "metadata": {},
   "outputs": [],
   "source": [
    "from pyspark.ml.feature import VectorAssembler\n",
    "\n",
    "# List of features to be used in the model\n",
    "features = [\n",
    "    \"scaled_numeric_features\",\n",
    "    \"monthly_order_volume\", \n",
    "    \"std_diff_order_volume\", \n",
    "    \"revenue_level_vec\"\n",
    "]\n",
    "\n",
    "# Select only the necessary columns: the features and the target column\n",
    "relevant_columns = features + [\"fraud_probability\"]\n",
    "\n",
    "# Filter the dataset to keep only the relevant columns and remove rows with NULL in fraud_probability\n",
    "transaction_records_filtered = transaction_records_scaled.select(relevant_columns).filter(F.col(\"fraud_probability\").isNotNull())\n",
    "\n",
    "# VectorAssembler to combine the features into a single vector\n",
    "assembler = VectorAssembler(inputCols=features, outputCol=\"features\")\n",
    "\n",
    "# Prepare the data\n",
    "data = assembler.transform(transaction_records_filtered)\n",
    "\n",
    "train_data, test_data = data.randomSplit([0.8, 0.2])\n",
    "\n",
    "# Preview\n",
    "train_data.select(\"features\").show(5)"
   ]
  },
  {
   "cell_type": "code",
   "execution_count": null,
   "metadata": {},
   "outputs": [],
   "source": [
    "from pyspark.ml.regression import DecisionTreeRegressor, RandomForestRegressor, LinearRegression\n",
    "\n",
    "# Define model regressor\n",
    "dt = DecisionTreeRegressor(labelCol=\"fraud_probability\", featuresCol=\"features\")\n",
    "\n",
    "rf = RandomForestRegressor(labelCol=\"fraud_probability\", featuresCol=\"features\")\n",
    "\n",
    "lr = LinearRegression(labelCol=\"fraud_probability\", featuresCol=\"features\")"
   ]
  },
  {
   "cell_type": "code",
   "execution_count": null,
   "metadata": {},
   "outputs": [],
   "source": [
    "from pyspark.ml.tuning import ParamGridBuilder, CrossValidator\n",
    "\n",
    "# Parameter grid\n",
    "dt_param_grid = ParamGridBuilder() \\\n",
    "    .addGrid(dt.maxDepth, [3, 5, 7]) \\\n",
    "    .addGrid(dt.maxBins, [32, 64]) \\\n",
    "    .build()\n",
    "\n",
    "rf_param_grid = ParamGridBuilder() \\\n",
    "    .addGrid(rf.numTrees, [10, 20]) \\\n",
    "    .addGrid(rf.maxDepth, [5, 7]) \\\n",
    "    .build()\n",
    "\n",
    "lr_param_grid = ParamGridBuilder() \\\n",
    "    .addGrid(lr.regParam, [0.01, 0.1, 1.0]) \\\n",
    "    .addGrid(lr.elasticNetParam, [0.0, 0.5, 1.0]) \\\n",
    "    .build()"
   ]
  },
  {
   "cell_type": "code",
   "execution_count": null,
   "metadata": {},
   "outputs": [],
   "source": [
    "from pyspark.ml.evaluation import RegressionEvaluator\n",
    "\n",
    "# Evaluator for regression models\n",
    "rmse_evaluator = RegressionEvaluator(\n",
    "    labelCol=\"fraud_probability\", \n",
    "    predictionCol=\"prediction\", \n",
    "    metricName=\"rmse\"  \n",
    ")\n",
    "\n",
    "r2_evaluator = RegressionEvaluator(\n",
    "    labelCol=\"fraud_probability\",\n",
    "    predictionCol=\"prediction\",\n",
    "    metricName=\"r2\" \n",
    ")\n",
    "\n",
    "# Cross-validation \n",
    "dt_cv = CrossValidator(\n",
    "    estimator=dt,\n",
    "    estimatorParamMaps=dt_param_grid,\n",
    "    evaluator=r2_evaluator,\n",
    "    numFolds=3\n",
    ")\n",
    "\n",
    "rf_cv = CrossValidator(\n",
    "    estimator=rf,\n",
    "    estimatorParamMaps=rf_param_grid,\n",
    "    evaluator=r2_evaluator,\n",
    "    numFolds=3\n",
    ")\n",
    "\n",
    "lr_cv = CrossValidator(\n",
    "    estimator=lr,\n",
    "    estimatorParamMaps=lr_param_grid,\n",
    "    evaluator=r2_evaluator,\n",
    "    numFolds=3\n",
    ")"
   ]
  },
  {
   "cell_type": "code",
   "execution_count": null,
   "metadata": {},
   "outputs": [],
   "source": [
    "# Pipeline \n",
    "dt_pipeline = Pipeline(stages=[dt_cv])\n",
    "\n",
    "rf_pipeline = Pipeline(stages=[rf_cv])\n",
    "\n",
    "lr_pipeline = Pipeline(stages=[lr_cv])"
   ]
  },
  {
   "cell_type": "code",
   "execution_count": null,
   "metadata": {},
   "outputs": [],
   "source": [
    "# Fit model\n",
    "\n",
    "# _ mins\n",
    "dt_model = dt_pipeline.fit(train_data)\n",
    "\n",
    "# _ mins\n",
    "rf_model = rf_pipeline.fit(train_data)\n",
    "\n",
    "# _ mins\n",
    "lr_model = lr_pipeline.fit(train_data)"
   ]
  },
  {
   "cell_type": "markdown",
   "metadata": {},
   "source": [
    "## Evaluation/Error Analysis"
   ]
  },
  {
   "cell_type": "code",
   "execution_count": null,
   "metadata": {},
   "outputs": [],
   "source": [
    "# Make predictions on the test data\n",
    "dt_predictions = dt_model.transform(test_data)\n",
    "rf_predictions = rf_model.transform(test_data)\n",
    "lr_predictions = lr_model.transform(test_data)\n",
    "\n",
    "\n",
    "dt_rmse = rmse_evaluator.evaluate(dt_predictions)\n",
    "dt_r2 = r2_evaluator.evaluate(dt_predictions)\n",
    "print(f\"Decision Tree RMSE: {dt_rmse}\")\n",
    "print(f\"Decision Tree R2: {dt_r2}\")          \n",
    "\n",
    "rf_rmse = rmse_evaluator.evaluate(rf_predictions)\n",
    "rf_r2 = r2_evaluator.evaluate(rf_predictions)\n",
    "print(f\"Random Forest RMSE: {rf_rmse}\")\n",
    "print(f\"Random Forest R2: {rf_r2}\")           \n",
    "\n",
    "lr_rmse = rmse_evaluator.evaluate(lr_predictions)\n",
    "lr_r2 = r2_evaluator.evaluate(lr_predictions)\n",
    "print(f\"Linear Regression RMSE: {lr_rmse}\")\n",
    "print(f\"Linear Regression R2: {lr_r2}\") "
   ]
  },
  {
   "cell_type": "code",
   "execution_count": null,
   "metadata": {},
   "outputs": [],
   "source": [
    "best_dt_model = dt_model.stages[-1].bestModel\n",
    "print(f\"Best Decision Tree maxDepth: {best_dt_model._java_obj.getMaxDepth()}\")\n",
    "print(f\"Best Decision Tree maxBins: {best_dt_model._java_obj.getMaxBins()}\")\n",
    "\n",
    "\n",
    "best_rf_model = rf_model.stages[-1].bestModel\n",
    "print(f\"Best Random Forest numTrees: {best_rf_model.getNumTrees}\")\n",
    "print(f\"Best Random Forest maxDepth: {best_rf_model.getMaxDepth()}\")"
   ]
  },
  {
   "cell_type": "markdown",
   "metadata": {},
   "source": [
    "## Feature importances"
   ]
  },
  {
   "cell_type": "code",
   "execution_count": null,
   "metadata": {},
   "outputs": [],
   "source": [
    "import pandas as pd\n",
    "\n",
    "# Get the feature names from the VectorAssembler\n",
    "feature_names = assembler.getInputCols()\n",
    "\n",
    "best_rf_model = rf_model.stages[0].bestModel\n",
    "best_dt_model = dt_model.stages[0].bestModel\n",
    "\n",
    "dt_feature_importances = best_dt_model.featureImportances\n",
    "rf_feature_importances = best_rf_model.featureImportances\n",
    "\n",
    "rf_importances_df = pd.DataFrame({\n",
    "    \"Feature\": feature_names,\n",
    "    \"Importance\": rf_feature_importances.toArray()\n",
    "}).sort_values(by=\"Importance\", ascending=False)\n",
    "\n",
    "dt_importances_df = pd.DataFrame({\n",
    "    \"Feature\": feature_names,\n",
    "    \"Importance\": dt_feature_importances.toArray()\n",
    "}).sort_values(by=\"Importance\", ascending=False)\n",
    "\n",
    "print(rf_importances_df)\n",
    "print()\n",
    "print(dt_importances_df)"
   ]
  },
  {
   "cell_type": "code",
   "execution_count": null,
   "metadata": {},
   "outputs": [],
   "source": [
    "# Get coefficients \n",
    "best_lr_model = lr_model.stages[0].bestModel\n",
    "coefficients = best_lr_model.coefficients\n",
    "\n",
    "# Get feature names from the VectorAssembler\n",
    "lr_importances_df = pd.DataFrame({\n",
    "    \"Feature\": feature_names,\n",
    "    \"Coefficient\": coefficients\n",
    "}).sort_values(by=\"Coefficient\", ascending=False)\n",
    "\n",
    "print(lr_importances_df)"
   ]
  }
 ],
 "metadata": {
  "kernelspec": {
   "display_name": "Python 3",
   "language": "python",
   "name": "python3"
  },
  "language_info": {
   "codemirror_mode": {
    "name": "ipython",
    "version": 3
   },
   "file_extension": ".py",
   "mimetype": "text/x-python",
   "name": "python",
   "nbconvert_exporter": "python",
   "pygments_lexer": "ipython3",
   "version": "3.11.7"
  }
 },
 "nbformat": 4,
 "nbformat_minor": 2
}
